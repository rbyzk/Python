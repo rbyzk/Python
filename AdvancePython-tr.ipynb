{
 "cells": [
  {
   "cell_type": "markdown",
   "metadata": {},
   "source": [
    "### Python Döngüler ve Fonksiyonlar"
   ]
  },
  {
   "cell_type": "markdown",
   "metadata": {},
   "source": [
    "#### Python - While Loop\n",
    "\n",
    "While döngüsü, belirli bir koşul doğru olduğu sürece tekrarlanır.\n",
    "Kullanım:"
   ]
  },
  {
   "cell_type": "markdown",
   "metadata": {},
   "source": [
    "- Koşul doğru olduğu sürece kod tekrar çalışır.\n",
    "- i += 1: i'nin her döngüde artırılması, döngünün bir sonu olması için gereklidir."
   ]
  },
  {
   "cell_type": "code",
   "execution_count": 1,
   "metadata": {},
   "outputs": [
    {
     "name": "stdout",
     "output_type": "stream",
     "text": [
      "1\n",
      "2\n",
      "3\n",
      "4\n",
      "5\n"
     ]
    }
   ],
   "source": [
    "# Örnek: 1'den 5'e kadar sayıları yazdırma\n",
    "i = 1\n",
    "while i <= 5:\n",
    "    print(i)\n",
    "    i += 1"
   ]
  },
  {
   "cell_type": "code",
   "execution_count": 7,
   "metadata": {},
   "outputs": [
    {
     "name": "stdout",
     "output_type": "stream",
     "text": [
      "num: 1\n",
      "num: 2\n",
      "num: 3\n",
      "num: 4\n",
      "num: 5\n"
     ]
    }
   ],
   "source": [
    "# Girintiler önemli, eger yanlis girinti yapilirsa IndentationError olusur. (Mülakat sorusu!)\n",
    "\n",
    "num = 0\n",
    "\n",
    "while num < 5:\n",
    "    num += 1\n",
    "    print(f\"num: {num}\")"
   ]
  },
  {
   "cell_type": "code",
   "execution_count": null,
   "metadata": {},
   "outputs": [],
   "source": [
    "# CALISTIRMA!\n",
    "\n",
    "# while 10 > 5:\n",
    "    print(\"Bu döngü sonsuza kadar calisir.\")"
   ]
  },
  {
   "cell_type": "code",
   "execution_count": 8,
   "metadata": {},
   "outputs": [
    {
     "name": "stdout",
     "output_type": "stream",
     "text": [
      "1\n",
      "2\n",
      "3\n",
      "4\n",
      "5\n",
      "6\n",
      "7\n",
      "8\n",
      "9\n"
     ]
    }
   ],
   "source": [
    "x = 1\n",
    "\n",
    "while 10 > x:\n",
    "    print(x)\n",
    "    x += 1"
   ]
  },
  {
   "cell_type": "code",
   "execution_count": 9,
   "metadata": {},
   "outputs": [
    {
     "name": "stdout",
     "output_type": "stream",
     "text": [
      "2\n",
      "3\n",
      "4\n",
      "5\n",
      "6\n",
      "7\n",
      "8\n",
      "9\n",
      "10\n"
     ]
    }
   ],
   "source": [
    "x = 1\n",
    "\n",
    "while 10 > x:\n",
    "    x += 1\n",
    "    print(x)"
   ]
  },
  {
   "cell_type": "code",
   "execution_count": null,
   "metadata": {},
   "outputs": [],
   "source": [
    "# CALISTIRMA!\n",
    "\n",
    "x = 1\n",
    "\n",
    "# while x < 10:\n",
    "    print('Bu döngü sonsuza kadar calisir.')\n",
    "    \n",
    "x += 1"
   ]
  },
  {
   "cell_type": "code",
   "execution_count": null,
   "metadata": {},
   "outputs": [],
   "source": [
    "# Bu döngü calismaz.\n",
    "\n",
    "while False:\n",
    "    print(\"Burasi calisir mi?\")"
   ]
  },
  {
   "cell_type": "code",
   "execution_count": null,
   "metadata": {},
   "outputs": [],
   "source": [
    "# CALISTIRMA!\n",
    "\n",
    "x = 1\n",
    "\n",
    "while True:\n",
    "    print(x, \"sonsuza gider\")\n",
    "    x += 1"
   ]
  },
  {
   "cell_type": "code",
   "execution_count": 11,
   "metadata": {},
   "outputs": [
    {
     "name": "stdout",
     "output_type": "stream",
     "text": [
      "While döngüsü condition False olana kadar calisir yani bir kere.\n"
     ]
    }
   ],
   "source": [
    "y = True\n",
    "\n",
    "while y:\n",
    "    print(\"While döngüsü condition False olana kadar calisir yani bir kere.\")\n",
    "    y = False"
   ]
  },
  {
   "cell_type": "code",
   "execution_count": 10,
   "metadata": {},
   "outputs": [
    {
     "name": "stdout",
     "output_type": "stream",
     "text": [
      "deneme: 1\n",
      "deneme: 2\n",
      "deneme: 3\n",
      "3 deneme hakkin bitti!\n"
     ]
    }
   ],
   "source": [
    "x = 1\n",
    "\n",
    "while x <= 3:\n",
    "    print(f\"deneme: {x}\")\n",
    "    x += 1\n",
    "    \n",
    "print(\"3 deneme hakkin bitti!\")"
   ]
  },
  {
   "cell_type": "code",
   "execution_count": 12,
   "metadata": {},
   "outputs": [
    {
     "name": "stdout",
     "output_type": "stream",
     "text": [
      "1\n",
      "9\n",
      "36\n",
      "64\n",
      "121\n",
      "225\n"
     ]
    }
   ],
   "source": [
    "# Verilen listenin elamanlarinin karesini döndüren kodu yaziniz. (While ile çözülecek!)\n",
    "\n",
    "sayilar_listesi = [1, 3, 6, 8, 11, 15]\n",
    "\n",
    "x = 0\n",
    "\n",
    "while x < len(sayilar_listesi):\n",
    "    print(sayilar_listesi[x] ** 2)\n",
    "    x += 1"
   ]
  },
  {
   "cell_type": "code",
   "execution_count": 13,
   "metadata": {},
   "outputs": [
    {
     "name": "stdout",
     "output_type": "stream",
     "text": [
      "[1, 9, 36, 64, 121, 225]\n"
     ]
    }
   ],
   "source": [
    "# Verilen listenin elamanlarinin karesini baska bir liste icinde döndüren kodu yaziniz. (While ile çözülecek!)\n",
    "\n",
    "sayilar_listesi = [1, 3, 6, 8, 11, 15]\n",
    "\n",
    "x = 0\n",
    "\n",
    "liste = []\n",
    "\n",
    "while x < len(sayilar_listesi):\n",
    "    liste.append(sayilar_listesi[x] ** 2)\n",
    "    x += 1\n",
    "    \n",
    "print(liste)"
   ]
  },
  {
   "cell_type": "code",
   "execution_count": 14,
   "metadata": {},
   "outputs": [],
   "source": [
    "# Kullanicidan input ile alinan degeri kontrol eden ve 50'den büyük sayi girisi yapmasi durumunda \n",
    "# kullaniciya dogru sayi girilmedigini belirten bir ifade yazilsin.\n",
    "# 50'den kücük bir deger girildiginde döngü sona ersin ve bununla ilgili\n",
    "# kullaniciya olumlu dönüt versin. \n",
    "# Döngü dogru deger girilene kadar kulanicidan input ile deger alsin."
   ]
  },
  {
   "cell_type": "code",
   "execution_count": 15,
   "metadata": {},
   "outputs": [
    {
     "name": "stdout",
     "output_type": "stream",
     "text": [
      "Bravo!\n"
     ]
    }
   ],
   "source": [
    "sayi = int(input('1 ile 100 arasinda bir sayi giriniz:'))\n",
    "\n",
    "while sayi > 50:\n",
    "    print('Dogru giris gerceklestiremedin, tekrar dene:')\n",
    "    sayi = int(input('Lütfen 1 ile 100 arasinda bir deger giriniz:'))\n",
    "\n",
    "print ('Bravo!')"
   ]
  },
  {
   "cell_type": "code",
   "execution_count": 16,
   "metadata": {},
   "outputs": [
    {
     "name": "stdout",
     "output_type": "stream",
     "text": [
      "Tek sayilar listesi: [1, 15, 5, 89, 45, 71, 45, 95, 61]\n",
      "Çift sayilar listesi: [2, 36, 62, 52, 30, 56, 48]\n"
     ]
    }
   ],
   "source": [
    "# Bu listedeki sayilardan tekleri bir listeye, ciftleri diger bir listeye ekleyip ciktilarini verelim.\n",
    "\n",
    "sayilar_listesi = [1, 15, 2, 36, 5, 89, 45, 62, 52, 71, 30, 56, 45, 95, 61, 48]\n",
    "\n",
    "odds = []\n",
    "evens = []\n",
    "\n",
    "x = 0\n",
    "\n",
    "while x < len(sayilar_listesi):\n",
    "    \n",
    "    if sayilar_listesi[x] % 2 == 0:\n",
    "        evens.append(sayilar_listesi[x])\n",
    "    else:\n",
    "        odds.append(sayilar_listesi[x])\n",
    "        \n",
    "    x += 1\n",
    "    \n",
    "print(f\"Tek sayilar listesi: {odds}\")\n",
    "print(f\"Çift sayilar listesi: {evens}\")"
   ]
  },
  {
   "cell_type": "markdown",
   "metadata": {},
   "source": [
    "### break"
   ]
  },
  {
   "cell_type": "code",
   "execution_count": 17,
   "metadata": {},
   "outputs": [
    {
     "name": "stdout",
     "output_type": "stream",
     "text": [
      "num: 1\n",
      "num: 2\n",
      "num: 3\n"
     ]
    }
   ],
   "source": [
    "num = 0\n",
    "\n",
    "while num < 5:\n",
    "    num += 1\n",
    "    print(f\"num: {num}\")\n",
    "    \n",
    "    if num == 3:\n",
    "        break"
   ]
  },
  {
   "cell_type": "code",
   "execution_count": 60,
   "metadata": {},
   "outputs": [
    {
     "name": "stdout",
     "output_type": "stream",
     "text": [
      "10\n"
     ]
    }
   ],
   "source": [
    "# Sirayla int degerleri toplayin. Str ifadeye denk gelince kod sonlansin.\n",
    "\n",
    "\n",
    "liste = [1, 2, 3, 4, \"Hello\", 5, 6, 7]\n",
    "\n",
    "x = 0\n",
    "\n",
    "toplam = 0\n",
    "\n",
    "while x < len(liste):\n",
    "    \n",
    "    if type(liste[x]) == int:\n",
    "        toplam += liste[x]\n",
    "        \n",
    "    elif type(liste[x]) == str:\n",
    "        break\n",
    "    \n",
    "    x += 1\n",
    "    \n",
    "print(toplam)"
   ]
  },
  {
   "cell_type": "markdown",
   "metadata": {},
   "source": [
    "### continue"
   ]
  },
  {
   "cell_type": "code",
   "execution_count": 19,
   "metadata": {},
   "outputs": [
    {
     "name": "stdout",
     "output_type": "stream",
     "text": [
      "num: 1\n",
      "num: 2\n",
      "num: 3\n"
     ]
    }
   ],
   "source": [
    "# continue -> Gec devam et, bekleme yapma ticari!\n",
    "# continue'den sonraki ifade okunmaz döngü baslar.\n",
    "\n",
    "num = 0\n",
    "\n",
    "while num < 5:\n",
    "    num += 1\n",
    "    \n",
    "    if num > 3:\n",
    "        continue\n",
    "    \n",
    "    print(f\"num: {num}\")"
   ]
  },
  {
   "cell_type": "code",
   "execution_count": 62,
   "metadata": {},
   "outputs": [
    {
     "name": "stdout",
     "output_type": "stream",
     "text": [
      "28\n"
     ]
    }
   ],
   "source": [
    "# Sirayla int degerleri toplayin. Str ifadeye denk gelince o ifedayi atlayin ve devam edin.\n",
    "\n",
    "\n",
    "liste = [1, \"veli\", 2, 3, 4, \"Hello\", 5, 6, 7, \"ali\"] \n",
    "\n",
    "x = 0\n",
    "\n",
    "toplam = 0\n",
    "\n",
    "while x < len(liste):\n",
    "    \n",
    "    if type(liste[x]) == int:\n",
    "        toplam += liste[x]\n",
    "        \n",
    "    elif type(liste[x]) == str:\n",
    "        x += 1\n",
    "        continue\n",
    "        \n",
    "    x += 1\n",
    "    \n",
    "    \n",
    "print(toplam)"
   ]
  },
  {
   "cell_type": "code",
   "execution_count": 21,
   "metadata": {},
   "outputs": [
    {
     "name": "stdout",
     "output_type": "stream",
     "text": [
      "5! = 120\n"
     ]
    }
   ],
   "source": [
    "# Kullanicidan bir sayi al ve o sayinin faktöriyelini hesapla.\n",
    "\n",
    "num = int(input(\"Faktöriyeli hesaplanacak sayiyi giriniz:\"))\n",
    "\n",
    "factorial = 1\n",
    "i = 1\n",
    "\n",
    "while i <= num:\n",
    "    factorial *= i # factorial = factorial * i\n",
    "    i += 1\n",
    "    \n",
    "print(f\"{num}! = {factorial}\")"
   ]
  },
  {
   "cell_type": "code",
   "execution_count": 22,
   "metadata": {},
   "outputs": [
    {
     "name": "stdout",
     "output_type": "stream",
     "text": [
      "Ters cevrilmis sayi: 2\n"
     ]
    }
   ],
   "source": [
    "# Kullanicidan bir sayi al ve bu sayiyi tersine cevir.\n",
    "\n",
    "num = int(input(\"Bir sayi giriniz:\"))\n",
    "reversed_num = 0\n",
    "\n",
    "while num > 0:\n",
    "    digit = num % 10\n",
    "    \n",
    "    reversed_num = reversed_num * 10 + digit\n",
    "    \n",
    "    num //= 10\n",
    "    \n",
    "print(f\"Ters cevrilmis sayi: {reversed_num}\")"
   ]
  },
  {
   "cell_type": "code",
   "execution_count": 23,
   "metadata": {},
   "outputs": [
    {
     "name": "stdout",
     "output_type": "stream",
     "text": [
      "Girmis oldugunuz sayi: 5, tersi: 5. Sayiniz bir palindrom!\n"
     ]
    }
   ],
   "source": [
    "# Bastan sona algoritmasini benim kurdugum cevap (Yukaridaki soru icin):\n",
    "\n",
    "sayi = input('Lütfen palindrom olup olmadigini tespit etmek istediginiz sayiyi giriniz:')\n",
    "liste = []\n",
    "y = True\n",
    "\n",
    "if sayi.isnumeric():\n",
    "    sayi = int(sayi)\n",
    "    cikti_sayisi = sayi\n",
    "\n",
    "    while y:\n",
    "    \n",
    "        liste.append(sayi % 10)\n",
    "        sayi //= 10  \n",
    "\n",
    "        if sayi == 0:\n",
    "            y = False\n",
    "\n",
    "    str_liste = list(map(str, liste))\n",
    "\n",
    "    ters_sayi = ''.join(str_liste)\n",
    "\n",
    "    if int(ters_sayi) == cikti_sayisi:\n",
    "        print(f'Girmis oldugunuz sayi: {cikti_sayisi}, tersi: {ters_sayi}. Sayiniz bir palindrom!')\n",
    "\n",
    "    else:\n",
    "        print(f'Girmis oldugunuz sayi: {cikti_sayisi}, tersi: {ters_sayi}. Sayiniz bir palindrom degildir!')\n",
    "\n",
    "else:\n",
    "    print('Lütfen sayi formatinda bir giris gerceklestirin.')"
   ]
  },
  {
   "cell_type": "markdown",
   "metadata": {},
   "source": [
    "## else\n",
    "\n",
    "**else** blogu, while döngüsünü takip edebilir ve else blogu, döngü herhangi bir break ifadesi ile kesilmediginde, yani döngü dogal olarak sonlandiginda (boolean ifadesi False oldugunda) yürütülür. Eger döngü bir **break** ifadesi ile sonlandirilirsa, else bloğu çalışmaz."
   ]
  },
  {
   "cell_type": "code",
   "execution_count": 24,
   "metadata": {},
   "outputs": [
    {
     "name": "stdout",
     "output_type": "stream",
     "text": [
      "1\n",
      "2\n",
      "3\n",
      "4\n",
      "5\n",
      "Döngü dogal olarak sonlandi.\n"
     ]
    }
   ],
   "source": [
    "i = 1\n",
    "\n",
    "while i <= 5:\n",
    "    print(i)\n",
    "    i += 1\n",
    "\n",
    "else:\n",
    "    print(\"Döngü dogal olarak sonlandi.\")"
   ]
  },
  {
   "cell_type": "code",
   "execution_count": 25,
   "metadata": {},
   "outputs": [
    {
     "name": "stdout",
     "output_type": "stream",
     "text": [
      "1\n",
      "2\n"
     ]
    }
   ],
   "source": [
    "i = 1\n",
    "\n",
    "while i <= 5:\n",
    "    if i == 3:\n",
    "        break\n",
    "    print(i)\n",
    "    i += 1\n",
    "\n",
    "else:\n",
    "    print(\"Döngü dogal olarak sonlanmadi.\")"
   ]
  },
  {
   "cell_type": "code",
   "execution_count": 27,
   "metadata": {},
   "outputs": [
    {
     "name": "stdout",
     "output_type": "stream",
     "text": [
      "Ana menüye yönlendiriliyorsunuz...\n"
     ]
    }
   ],
   "source": [
    "# Bankamatik sifre girme isleminin kodlarini yazin.\n",
    "\n",
    "kayitli_sifre = \"1234\"\n",
    "\n",
    "y = True\n",
    "\n",
    "while y:\n",
    "    \n",
    "    kullanici_girisi = input(\"Lütfen kart sifrenizi giriniz:\")\n",
    "    \n",
    "    if kayitli_sifre == kullanici_girisi:\n",
    "        print(\"Ana menüye yönlendiriliyorsunuz...\")\n",
    "        y = False\n",
    "        \n",
    "    else:\n",
    "        print(\"Girdiginiz sifre yanlis, lütfen tekrar giriniz.\")"
   ]
  },
  {
   "cell_type": "markdown",
   "metadata": {},
   "source": [
    "## Random Modülü"
   ]
  },
  {
   "cell_type": "markdown",
   "metadata": {},
   "source": [
    "Python'da random modülü, rastgele sayılar üretmek ve rastgele seçimler yapmak için kullanılır. Bu modül, oyunlar, simülasyonlar, güvenlik testleri gibi birçok alanda faydalıdır.\n",
    "\n",
    "random Modülünü Kullanmak\n",
    "Öncelikle, bu modülü kullanabilmek için içeri aktarmanız gerekmektedir:\n"
   ]
  },
  {
   "cell_type": "code",
   "execution_count": 32,
   "metadata": {},
   "outputs": [],
   "source": [
    "import random"
   ]
  },
  {
   "cell_type": "markdown",
   "metadata": {},
   "source": [
    "**random()** 0.0 ile 1.0 arasinda rastgele bir float sayi döndürür."
   ]
  },
  {
   "cell_type": "code",
   "execution_count": 33,
   "metadata": {},
   "outputs": [
    {
     "name": "stdout",
     "output_type": "stream",
     "text": [
      "0.41406869200781415\n"
     ]
    }
   ],
   "source": [
    "# 0 ile 1 arasında rastgele bir sayı üretir\n",
    "rastgele_sayi = random.random()\n",
    "print(rastgele_sayi)\n"
   ]
  },
  {
   "cell_type": "markdown",
   "metadata": {},
   "source": [
    "**random.randint(a, b)**\n",
    "Belirtilen a ve b aralığında (her iki değer dahil) rastgele bir tam sayı üretir."
   ]
  },
  {
   "cell_type": "code",
   "execution_count": 34,
   "metadata": {},
   "outputs": [
    {
     "name": "stdout",
     "output_type": "stream",
     "text": [
      "9\n"
     ]
    }
   ],
   "source": [
    "# 1 ile 10 arasında rastgele bir tam sayı üretir\n",
    "rastgele_sayi = random.randint(1, 10)\n",
    "print(rastgele_sayi)"
   ]
  },
  {
   "cell_type": "markdown",
   "metadata": {},
   "source": [
    "**random.uniform(a, b)**\n",
    "Bu fonksiyon, belirtilen a ve b arasında rastgele bir kayan noktalı sayı üretir."
   ]
  },
  {
   "cell_type": "code",
   "execution_count": 35,
   "metadata": {},
   "outputs": [
    {
     "name": "stdout",
     "output_type": "stream",
     "text": [
      "9.555866218945233\n"
     ]
    }
   ],
   "source": [
    "# 1.0 ile 10.0 arasında rastgele bir kayan noktalı sayı üretir\n",
    "rastgele_sayi = random.uniform(1.0, 10.0)\n",
    "print(rastgele_sayi)"
   ]
  },
  {
   "cell_type": "markdown",
   "metadata": {},
   "source": [
    "**random.choice(sequence)**\n",
    "Verilen bir liste, demet veya string gibi sıralı (iterable) veri yapısından rastgele bir öğe seçer."
   ]
  },
  {
   "cell_type": "code",
   "execution_count": 36,
   "metadata": {},
   "outputs": [
    {
     "name": "stdout",
     "output_type": "stream",
     "text": [
      "armut\n"
     ]
    }
   ],
   "source": [
    "# Liste içinden rastgele bir öğe seçer\n",
    "meyveler = [\"elma\", \"armut\", \"muz\", \"çilek\"]\n",
    "secim = random.choice(meyveler)\n",
    "print(secim)"
   ]
  },
  {
   "cell_type": "markdown",
   "metadata": {},
   "source": [
    "**random.shuffle(sequence)**\n",
    "Bu fonksiyon, verilen sıralı veri yapısındaki öğeleri rastgele karıştırır. Bu işlem, orijinal veri yapısını değiştirdiği için, sıralı veri yapısını doğrudan kullanamazsınız, ancak değişiklik sonrasında veriyi tekrar kullanabilirsiniz."
   ]
  },
  {
   "cell_type": "code",
   "execution_count": 37,
   "metadata": {},
   "outputs": [
    {
     "name": "stdout",
     "output_type": "stream",
     "text": [
      "['elma', 'çilek', 'armut', 'muz']\n"
     ]
    }
   ],
   "source": [
    "# Listeyi rastgele karıştırır\n",
    "meyveler = [\"elma\", \"armut\", \"muz\", \"çilek\"]\n",
    "random.shuffle(meyveler)\n",
    "print(meyveler)"
   ]
  },
  {
   "cell_type": "markdown",
   "metadata": {},
   "source": [
    "**random.sample(sequence, k)**\n",
    "Belirtilen sıralı veri yapısından belirtilen k sayıda öğe seçer (ve seçilen öğeleri tekrar etmez)."
   ]
  },
  {
   "cell_type": "code",
   "execution_count": 38,
   "metadata": {},
   "outputs": [
    {
     "name": "stdout",
     "output_type": "stream",
     "text": [
      "['çilek', 'armut']\n"
     ]
    }
   ],
   "source": [
    "\n",
    "# Listeden 2 rastgele öğe seçer (tekrar etmez)\n",
    "meyveler = [\"elma\", \"armut\", \"muz\", \"çilek\"]\n",
    "secimler = random.sample(meyveler, 2)\n",
    "print(secimler)"
   ]
  },
  {
   "cell_type": "markdown",
   "metadata": {},
   "source": [
    "**random.randrange(start, stop, step)**\n",
    "Bu fonksiyon, start ve stop arasında, step adımla bir rastgele sayı üretir."
   ]
  },
  {
   "cell_type": "code",
   "execution_count": 39,
   "metadata": {},
   "outputs": [
    {
     "name": "stdout",
     "output_type": "stream",
     "text": [
      "0\n"
     ]
    }
   ],
   "source": [
    "# 0 ile 10 arasında 2'şer adımla rastgele bir sayı seçer\n",
    "rastgele_sayi = random.randrange(0, 10, 2)\n",
    "print(rastgele_sayi)"
   ]
  },
  {
   "cell_type": "markdown",
   "metadata": {},
   "source": [
    "**random.seed(a=None)**\n",
    "Bu fonksiyon, rastgele sayıların tekrarlanabilir olmasını sağlar. Eğer aynı seed değeri verildiyse, her çalıştırmada aynı rastgele sayılar üretilir."
   ]
  },
  {
   "cell_type": "code",
   "execution_count": 40,
   "metadata": {},
   "outputs": [
    {
     "name": "stdout",
     "output_type": "stream",
     "text": [
      "82\n"
     ]
    }
   ],
   "source": [
    "\n",
    "random.seed(42)  # Aynı seed ile her çalıştırmada aynı sayılar\n",
    "print(random.randint(1, 100))  # Her seferinde aynı sayıyı alır"
   ]
  },
  {
   "cell_type": "code",
   "execution_count": 2,
   "metadata": {},
   "outputs": [
    {
     "name": "stdout",
     "output_type": "stream",
     "text": [
      "Girdiginiz sayi 10. Tahmini artir\n",
      "Girdiginiz sayi 20. Tahmini artir\n",
      "Girdiginiz sayi 50. Tahmini artir\n",
      "Girdiginiz sayi 70. Tahmini artir\n",
      "Girdiginiz sayi 45. Tahmini artir\n",
      "Girdiginiz sayi 65. Tahmini artir\n",
      "Girdiginiz sayi 75. Tahmini artir\n",
      "7 hakkin bitti. Aklimdaki sayi 77 idi.\n"
     ]
    }
   ],
   "source": [
    "# Bilgisayar 1 ile 100 arasinda rastgele bir sayi secer.\n",
    "# Kullanicidan bu sayiyi tahmin etmesi istenir.\n",
    "# Kullanici tahminde bulunur ve bilgisayar, kullanicinin tahminini degerlendirerek su geri bildirimlerden birini verir:\n",
    "# Tahmin edilen sayi dogruysa:\n",
    "# \"Girdiginiz sayi dogru. X kerede bildiniz. Tebrikler.\"\n",
    "# Tahmin edilen sayi  büyükse:\n",
    "# \"Girdiginiz sayi X. tahminini azalt.\"\n",
    "# Tahmin edilen sayi kücükse:\n",
    "# \"Girdiğiniz sayi X. tahminini arttir.\"\n",
    "# Kullaniciya toplamda 7 tahmin hakki verilir.\n",
    "# Kullanici 7 tahmin hakkini da kullanir ve dogru tahminde bulunamazsa:\n",
    "# \"7 hakkin bitti. Aklimdaki sayi X'idi\" mesaji gösterilir ve oyun sona erer.\n",
    "# Oyunun basinda 2 saniyelik bir bekleme süresi vardır.\n",
    "\n",
    "import random\n",
    "import time\n",
    "\n",
    "aklimdaki_sayi = random.randint(1, 100)\n",
    "\n",
    "sayac = 0\n",
    "time.sleep(2)\n",
    "\n",
    "while True:\n",
    "    sayac += 1\n",
    "    \n",
    "    tahmin = int(input(\"Aklimdaki sayiyi tahmin et:\"))\n",
    "    \n",
    "    if aklimdaki_sayi < tahmin:\n",
    "        print(f\"Girdiginiz sayi {tahmin}. Tahmini azalt\")\n",
    "        \n",
    "    elif aklimdaki_sayi > tahmin:\n",
    "        print(f\"Girdiginiz sayi {tahmin}. Tahmini artir\")\n",
    "        \n",
    "    else:\n",
    "        print(f\"Girdiginiz sayi {tahmin}. {sayac} kerede bildiniz. Tebrikler.\")\n",
    "        break\n",
    "    \n",
    "    if sayac == 7:\n",
    "        print(f\"7 hakkin bitti. Aklimdaki sayi {aklimdaki_sayi} idi.\")\n",
    "        break"
   ]
  },
  {
   "cell_type": "code",
   "execution_count": 47,
   "metadata": {},
   "outputs": [
    {
     "name": "stdout",
     "output_type": "stream",
     "text": [
      "Lütfen tahminini arttir!\n",
      "Lütfen tahminini arttir!\n",
      "Lütfen tahminini arttir!\n",
      "Lütfen tahminini arttir!\n",
      "Lütfen tahminini arttir!\n",
      "Lütfen tahminini arttir!\n",
      "Size verilen 7 deneme hakkinda aklimdaki sayiyi bulamadiniz :(\n"
     ]
    }
   ],
   "source": [
    "# Diger cözümüm:\n",
    "\n",
    "import time\n",
    "import random\n",
    "\n",
    "bilgisayar_sayi = random.randint(1, 100)\n",
    "\n",
    "\n",
    "sayac = 0\n",
    "time.sleep(2)\n",
    "\n",
    "while True:\n",
    "    kullanici_sayisi = int(input('Aklimdaki sayiyi tahmin et :)'))\n",
    "    \n",
    "    sayac += 1\n",
    "\n",
    "    if sayac == 7:\n",
    "        print('Size verilen 7 deneme hakkinda aklimdaki sayiyi bulamadiniz :(')\n",
    "        break\n",
    "\n",
    "    if bilgisayar_sayi > kullanici_sayisi:\n",
    "        print('Lütfen tahminini arttir!')\n",
    "        \n",
    "    elif bilgisayar_sayi < kullanici_sayisi:\n",
    "        print('Lütfen tahminini azalt!')\n",
    "        \n",
    "    elif bilgisayar_sayi == kullanici_sayisi:\n",
    "        print(f'Tebrikler! {sayac} kerede bildiniz! Aklimdaki sayi {bilgisayar_sayi}\\'di.')\n",
    "        break"
   ]
  },
  {
   "cell_type": "markdown",
   "metadata": {},
   "source": [
    "#### Python For Loops\n",
    "\n",
    "For döngüsü, bir koleksiyon veya dizinin elemanlarını sırayla döner.\n",
    "\n",
    "Python'da for döngüsü list, tuple, set, range, vb. gibi dizi türleri üzerinde yineleme yapmak için kullanilir.\n",
    "\n",
    "for döngüsünün gövdesi, dizideki her üye eleman icin yürütülür. Bu nedenle, döngüyü kontrol eden bir boolean ifadesinin (while döngüsünde oldugu gibi) acik bir sekilde dogrulanmasini gerektirmez."
   ]
  },
  {
   "cell_type": "code",
   "execution_count": 32,
   "metadata": {},
   "outputs": [
    {
     "name": "stdout",
     "output_type": "stream",
     "text": [
      "elma\n",
      "armut\n",
      "çilek\n"
     ]
    }
   ],
   "source": [
    "# Örnek: Bir liste üzerindeki elemanları yazdırma\n",
    "meyveler = [\"elma\", \"armut\", \"çilek\"]\n",
    "for meyve in meyveler:\n",
    "    print(meyve)\n"
   ]
  },
  {
   "cell_type": "code",
   "execution_count": 48,
   "metadata": {},
   "outputs": [
    {
     "data": {
      "text/plain": [
       "{'name': 'Eda', 'surname': 'Kesekagidi', 'age': 26}"
      ]
     },
     "execution_count": 48,
     "metadata": {},
     "output_type": "execute_result"
    }
   ],
   "source": [
    "dict1 = {\"name\": \"Eda\", \"surname\": \"Kesekagidi\", \"age\": 26}\n",
    "dict1"
   ]
  },
  {
   "cell_type": "code",
   "execution_count": 49,
   "metadata": {},
   "outputs": [
    {
     "name": "stdout",
     "output_type": "stream",
     "text": [
      "name\n",
      "surname\n",
      "age\n"
     ]
    }
   ],
   "source": [
    "# Default olarak keyleri cagirir.\n",
    "\n",
    "for i in dict1:\n",
    "    print(i)"
   ]
  },
  {
   "cell_type": "code",
   "execution_count": 50,
   "metadata": {},
   "outputs": [
    {
     "name": "stdout",
     "output_type": "stream",
     "text": [
      "Eda\n",
      "Kesekagidi\n",
      "26\n"
     ]
    }
   ],
   "source": [
    "for i in dict1.values():\n",
    "    print(i)"
   ]
  },
  {
   "cell_type": "code",
   "execution_count": 51,
   "metadata": {},
   "outputs": [
    {
     "name": "stdout",
     "output_type": "stream",
     "text": [
      "('name', 'Eda')\n",
      "('surname', 'Kesekagidi')\n",
      "('age', 26)\n"
     ]
    }
   ],
   "source": [
    "for i in dict1.items():\n",
    "    print(i)"
   ]
  },
  {
   "cell_type": "code",
   "execution_count": 52,
   "metadata": {},
   "outputs": [
    {
     "name": "stdout",
     "output_type": "stream",
     "text": [
      "key: name, value: Eda\n",
      "key: surname, value: Kesekagidi\n",
      "key: age, value: 26\n"
     ]
    }
   ],
   "source": [
    "for i, j in dict1.items():\n",
    "    print(f\"key: {i}, value: {j}\")"
   ]
  },
  {
   "cell_type": "code",
   "execution_count": 53,
   "metadata": {},
   "outputs": [
    {
     "name": "stdout",
     "output_type": "stream",
     "text": [
      "key: name      , value: Eda\n",
      "key: surname   , value: Kesekagidi\n",
      "key: age       , value: 26\n"
     ]
    }
   ],
   "source": [
    "for key, value in dict1.items():\n",
    "    print(f\"key: {key:<10}, value: {value}\")"
   ]
  },
  {
   "cell_type": "code",
   "execution_count": 54,
   "metadata": {},
   "outputs": [
    {
     "name": "stdout",
     "output_type": "stream",
     "text": [
      "key:       name, value: Eda\n",
      "key:    surname, value: Kesekagidi\n",
      "key:        age, value: 26\n"
     ]
    }
   ],
   "source": [
    "for i, j in dict1.items():\n",
    "    print(f\"key: {i:>10}, value: {j}\")"
   ]
  },
  {
   "cell_type": "code",
   "execution_count": 55,
   "metadata": {},
   "outputs": [
    {
     "name": "stdout",
     "output_type": "stream",
     "text": [
      "key:    name   , value: Eda\n",
      "key:  surname  , value: Kesekagidi\n",
      "key:    age    , value: 26\n"
     ]
    }
   ],
   "source": [
    "for i, j in dict1.items():\n",
    "    print(f\"key: {i:^10}, value: {j}\")"
   ]
  },
  {
   "cell_type": "markdown",
   "metadata": {},
   "source": [
    "#### Range\n",
    "\n",
    "range(start, stop, step) -> step varsayilan 1'dir.\n",
    "\n",
    "Range fonksiyonu, döngülerle birlikte sayı aralıklarını oluşturmak için kullanılır.\n"
   ]
  },
  {
   "cell_type": "markdown",
   "metadata": {},
   "source": [
    "range() fonksiyonu, belirli bir araliktaki sayilar arasinda gezinmeyi saglayan bir fonksiyondur. Genellikle döngülerde (for döngüsü gibi) kullanilir. Bu fonksiyon, belirli bir baslangic, bitis ve adim (step) degeriyle araliktaki sayilar üzerinde iterasyon (tekrarlama) yapmani saglar.\n",
    "\n",
    "list() fonksiyonu, iterable olan range() nesnesini alip, onun icindeki tüm sayilari bir listeye dönüstürür. Liste, tüm sayilari bellekte saklayan bir veri yapisidir. Bu sayede, sayilari görebilmek icin range() nesnesini bir listeye dönüstürmemiz gerekir."
   ]
  },
  {
   "cell_type": "code",
   "execution_count": 1,
   "metadata": {},
   "outputs": [
    {
     "name": "stdout",
     "output_type": "stream",
     "text": [
      "0\n",
      "1\n",
      "2\n",
      "3\n",
      "4\n"
     ]
    }
   ],
   "source": [
    "# Örnek: 0'dan 4'e kadar sayıları yazdırma\n",
    "for i in range(5):\n",
    "    print(i)"
   ]
  },
  {
   "cell_type": "code",
   "execution_count": 2,
   "metadata": {},
   "outputs": [
    {
     "name": "stdout",
     "output_type": "stream",
     "text": [
      "2\n",
      "4\n",
      "6\n",
      "8\n",
      "10\n"
     ]
    }
   ],
   "source": [
    "# Örnek: 2'den 10'a kadar (2'şer) yazdırma\n",
    "for i in range(2, 11, 2):\n",
    "    print(i)"
   ]
  },
  {
   "cell_type": "code",
   "execution_count": 56,
   "metadata": {},
   "outputs": [
    {
     "name": "stdout",
     "output_type": "stream",
     "text": [
      "5 x 1 = 5\n",
      "5 x 2 = 10\n",
      "5 x 3 = 15\n",
      "5 x 4 = 20\n",
      "5 x 5 = 25\n",
      "5 x 6 = 30\n",
      "5 x 7 = 35\n",
      "5 x 8 = 40\n",
      "5 x 9 = 45\n",
      "5 x 10 = 50\n"
     ]
    }
   ],
   "source": [
    "# Kullanicidan 1-9 arasinda bir rakam isteyin. O sayiya ait çarpim tablosunu olusturun.\n",
    "\n",
    "number = int(input(\"1 ile 9 arasinda bir sayi giriniz(1 ve 9 dahil):\"))\n",
    "\n",
    "if 1 <= number <= 9:\n",
    "    for i in range(1, 11):\n",
    "        print(f\"{number} x {i} = {number * i}\")\n",
    "        \n",
    "else:\n",
    "    print(\"1 ile 9 arasinda bir sayi girmediniz.\")"
   ]
  },
  {
   "cell_type": "code",
   "execution_count": 57,
   "metadata": {},
   "outputs": [
    {
     "name": "stdout",
     "output_type": "stream",
     "text": [
      "u\n",
      "u\n"
     ]
    }
   ],
   "source": [
    "text = input(\"Bir metin giriniz:\")\n",
    "vowels = \"aeıioöuüAEIİOÖUÜ\"\n",
    "\n",
    "for char in text:\n",
    "    if char in vowels:\n",
    "        print(char)"
   ]
  },
  {
   "cell_type": "code",
   "execution_count": 58,
   "metadata": {},
   "outputs": [
    {
     "name": "stdout",
     "output_type": "stream",
     "text": [
      "21 asal sayi degildir.\n"
     ]
    }
   ],
   "source": [
    "# Kullanicidan bir sayi alin ve bu sayinin asal olup olmadigini kontrol edin.\n",
    "\n",
    "num = int(input(\"Bir sayi giriniz:\")) \n",
    "\n",
    "if num > 1:\n",
    "    for i in range(2, num):\n",
    "        if num % i == 0:\n",
    "            print(f\"{num} asal sayi degildir.\")\n",
    "            break\n",
    "    else:\n",
    "        print(f\"{num} asal sayidir.\")\n",
    "else:\n",
    "    print(f\"{num} asal sayi değildir.\")"
   ]
  },
  {
   "cell_type": "code",
   "execution_count": 59,
   "metadata": {},
   "outputs": [],
   "source": [
    "# Bir sayinin basamaklarinin toplamini bulma\n",
    "# Kullanicidan bir sayi alin ve bu sayinin basamaklarinin toplamini bulan bir Python programi yazin."
   ]
  },
  {
   "cell_type": "code",
   "execution_count": 60,
   "metadata": {},
   "outputs": [
    {
     "name": "stdout",
     "output_type": "stream",
     "text": [
      "Girdiginiz sayi: 2 basamaklari toplami 2\n"
     ]
    }
   ],
   "source": [
    "# 1. CÖZÜM METHODU:\n",
    "\n",
    "num = input('Lütfen bir sayi girin')\n",
    "total = 0\n",
    "\n",
    "if num.isnumeric():\n",
    "    \n",
    "    for i in num: #'345'\n",
    "        total += int(i)\n",
    "    \n",
    "    print(f'Girdiginiz sayi: {num} basamaklari toplami {total}') \n",
    "\n",
    "else:\n",
    "    print('Verdiginiz deger numeric olmalidir.') "
   ]
  },
  {
   "cell_type": "code",
   "execution_count": 61,
   "metadata": {},
   "outputs": [
    {
     "name": "stdout",
     "output_type": "stream",
     "text": [
      "num: 21 total: 3\n"
     ]
    }
   ],
   "source": [
    "# 2. CÖZÜM METHODU:\n",
    "\n",
    "num = input('Lütfen bir sayi girin')\n",
    "total = 0\n",
    "x = 0 # x'i index olarak kullaniyoruz.\n",
    "\n",
    "if num.isnumeric():\n",
    "    \n",
    "    while x < len(num):\n",
    "        total += int(num[x])\n",
    "        x += 1\n",
    "    \n",
    "    print(f'num: {num} total: {total}')    \n",
    "\n",
    "else:\n",
    "    print('Verdiginiz deger numeric olmalidir.')   "
   ]
  },
  {
   "cell_type": "code",
   "execution_count": 64,
   "metadata": {},
   "outputs": [
    {
     "name": "stdout",
     "output_type": "stream",
     "text": [
      "num: 55 total: 10\n"
     ]
    }
   ],
   "source": [
    "# 3. CÖZÜM METHODU:\n",
    "\n",
    "num = input('Lütfen bir sayi girin')\n",
    "total = 0\n",
    "nums = []\n",
    "x = 0 # x'i index olarak kullaniyoruz.\n",
    "\n",
    "if num.isnumeric():\n",
    "\n",
    "    while x < len(num):\n",
    "        nums.append(int(num[x])) # Elemanlari integera cevirip listeye teker teker ekledik.\n",
    "        x += 1\n",
    "\n",
    "    total = sum(nums)  # sum fonksiyonu listenin elemanlarini toplar ve döndürür.  \n",
    "\n",
    "    print(f'num: {num} total: {total}')    \n",
    "\n",
    "else:\n",
    "    print('Verdiginiz deger numeric olmalidir.')   "
   ]
  },
  {
   "cell_type": "code",
   "execution_count": 65,
   "metadata": {},
   "outputs": [
    {
     "data": {
      "text/plain": [
       "242"
      ]
     },
     "execution_count": 65,
     "metadata": {},
     "output_type": "execute_result"
    }
   ],
   "source": [
    "# Elemanlarin toplamini döndürür. \n",
    "\n",
    "a = [2, 3, 4, 5, 6, 8, 45, 12, 68, 89]\n",
    "sum(a) "
   ]
  },
  {
   "cell_type": "code",
   "execution_count": 66,
   "metadata": {},
   "outputs": [
    {
     "name": "stdout",
     "output_type": "stream",
     "text": [
      "total 6\n"
     ]
    }
   ],
   "source": [
    "# 4. CÖZÜM METHODU:\n",
    "\n",
    "num = input('Lütfen bir sayi girin')\n",
    "total = 0\n",
    "\n",
    "if num.isnumeric():\n",
    "    num = int(num)\n",
    "    \n",
    "    while num > 0:\n",
    "        total += num % 10\n",
    "        num //= 10 # Sonucu integer alabilmek icin // kullandik.\n",
    "    \n",
    "    print(f'total {total}')    \n",
    "    \n",
    "else:\n",
    "    print('Verdiginiz deger numeric olmalidir.')"
   ]
  },
  {
   "cell_type": "code",
   "execution_count": 68,
   "metadata": {},
   "outputs": [
    {
     "data": {
      "text/plain": [
       "{'Elma': 5}"
      ]
     },
     "execution_count": 68,
     "metadata": {},
     "output_type": "execute_result"
    }
   ],
   "source": [
    "# Asagidaki soruyu daha iyi anlamak icin, dict'lerin eleman eklemedeki su özelligini bilmemiz lazim:\n",
    "\n",
    "meyveler = {}\n",
    "\n",
    "meyveler['Elma'] = 5\n",
    "\n",
    "meyveler"
   ]
  },
  {
   "cell_type": "code",
   "execution_count": 69,
   "metadata": {},
   "outputs": [
    {
     "name": "stdout",
     "output_type": "stream",
     "text": [
      "Deniz ismi: Akdeniz             , sicakligi:    18, durumu:        Durgun       \n",
      "Deniz ismi: Ege Denizi          , sicakligi:    17, durumu:        Durgun       \n",
      "Deniz ismi: Karadeniz           , sicakligi:    13, durumu:      Firtinali      \n",
      "Deniz ismi: Marmara Denizi      , sicakligi:    27, durumu:        Durgun       \n",
      "Deniz ismi: Adriyatik Denizi    , sicakligi:    28, durumu:       Dalgali       \n"
     ]
    }
   ],
   "source": [
    "# Denizlerin Sicaklik Tahmini\n",
    "# Bir deniz listesi olusturun.\n",
    "# denizler = ['Akdeniz', 'Ege Denizi', 'Karadeniz', 'Marmara Denizi', 'Adriyatik Denizi']\n",
    "# durumlar = ['Durgun', 'Dalgali', 'Firtinali']\n",
    "# Her deniz icin rastgele bir sicaklik degeri (10°C ile 30°C arasinda) ve durumu (durgun, dalgali, firtinali) secin.\n",
    "# Sicakliklari ve denizin durumunu bir sözlükte saklayin. Genislikleri göze hos gelecek sekilde ayarlayin.\n",
    "# {akdeniz = {sicaklik = 25, durum = durgun}, karadeniz = {}}\n",
    "\n",
    "import random\n",
    "sea_list = ['Akdeniz', 'Ege Denizi', 'Karadeniz', 'Marmara Denizi', 'Adriyatik Denizi']\n",
    "forecast = ['Durgun', 'Dalgali', 'Firtinali']\n",
    "\n",
    "sea_dict = {} # dict\n",
    "\n",
    "for sea in sea_list:\n",
    "\n",
    "    sea_dict[sea] = {'sicaklik': random.randint(10, 30), 'durum' : random.choice(forecast) } # nested oldugu icin\n",
    "\n",
    "for sea, bilgi in sea_dict.items():\n",
    "\n",
    "    print(f\"Deniz ismi: {sea:<20}, sicakligi: {bilgi['sicaklik']:>5}, durumu: {bilgi['durum']:^20}\")\n",
    "\n",
    "\n",
    "    # :< sola hizala\n",
    "    # :> saga hizala \n",
    "    # :^ ortala"
   ]
  },
  {
   "cell_type": "code",
   "execution_count": 70,
   "metadata": {},
   "outputs": [
    {
     "name": "stdout",
     "output_type": "stream",
     "text": [
      "Deniz:     Akdeniz        |   durum:  Durgun     |   sicaklik:  10  \n",
      "Deniz:    Ege Denizi      |   durum:  Durgun     |   sicaklik:  16  \n",
      "Deniz:    Karadeniz       |   durum:  Durgun     |   sicaklik:  26  \n",
      "Deniz:  Marmara Denizi    |   durum: Firtinali   |   sicaklik:  10  \n",
      "Deniz: Adriyatik Denizi   |   durum: Firtinali   |   sicaklik:  16  \n"
     ]
    }
   ],
   "source": [
    "# 2.Yol\n",
    "\n",
    "import random\n",
    "\n",
    "denizler = ['Akdeniz', 'Ege Denizi', 'Karadeniz', 'Marmara Denizi', 'Adriyatik Denizi']\n",
    "durumlar = ['Durgun', 'Dalgali', 'Firtinali']\n",
    "\n",
    "hava_durumu = {}\n",
    "\n",
    "# Denizi rastgele sectiremeyiz cünkü acikta deniz kalabilir.\n",
    "\n",
    "for deniz in denizler:\n",
    "    hava_durumu[deniz] = {'durumlar':random.choice(durumlar), 'sicaklik': random.randint(10, 30)}\n",
    "\n",
    "# Yukaridaki ciktiyi düzeltmek icin bunu yapalim:\n",
    "# sep parametresi, yalnizca print() fonksiyonuna birden fazla argüman verildiginde\n",
    "# her bir argüman arasina ayrac koymak icin kullanilir.\n",
    "# sep, f-string icinde dogrudan kullanıldıgında calismaz, cünkü f-string zaten tek bir argüman olarak print() fonksiyonuna verilmektedir.\n",
    "\n",
    "for i, j in hava_durumu.items():\n",
    "    print(f'Deniz: {i:^16}', f'durum: {j[\"durumlar\"]:^9}', f'sicaklik: {j[\"sicaklik\"]:^5}', sep = \"   |   \")"
   ]
  },
  {
   "cell_type": "code",
   "execution_count": 3,
   "metadata": {},
   "outputs": [
    {
     "name": "stdout",
     "output_type": "stream",
     "text": [
      "Dogru bildiniz Yunanistan, Atina\n"
     ]
    }
   ],
   "source": [
    "# Baskent Bilme Oyunu \n",
    "# ülke random gelsin, baskenti biz yazalim, dogru ise bildiniz degilse tekrar deneyiniz desin ve bu loop ile devam etsin.\n",
    "\n",
    "country_capitals = {\n",
    "    'Türkiye': 'Ankara',\n",
    "    'Fransa': 'Paris',\n",
    "    'Almanya': 'Berlin',\n",
    "    'İtalya': 'Roma',\n",
    "    'İspanya': 'Madrid',\n",
    "    'Portekiz': 'Lizbon',\n",
    "    'Hollanda': 'Amsterdam',\n",
    "    'Belcika': 'Brüksel',\n",
    "    'İsvicre': 'Bern',\n",
    "    'Avusturya': 'Viyana',\n",
    "    'Yunanistan': 'Atina',\n",
    "    'İngiltere': 'Londra',\n",
    "    'İsvec': 'Stockholm',\n",
    "    'Norvec': 'Oslo',\n",
    "    'Danimarka': 'Kopenhag',\n",
    "    'Finlandiya': 'Helsinki',\n",
    "    'Rusya': 'Moskova',\n",
    "    'Cin': 'Pekin',\n",
    "    'Japonya': 'Tokyo',\n",
    "    'Hindistan': 'Yeni Delhi'\n",
    "}\n",
    "\n",
    "import random\n",
    "\n",
    "while True:\n",
    "    country, capital = random.choice(list(country_capitals.items()))\n",
    "    capital_guess = input(f'{country} ülkesinin baskentini giriniz, cikmak icin e ye basiniz').strip()\n",
    "\n",
    "    if capital == capital_guess.title():\n",
    "        print(f'Dogru bildiniz {country}, {capital}')\n",
    "        break\n",
    "    elif capital_guess.lower() == 'e':\n",
    "        print('Cikis yapiliyor...')\n",
    "        break\n",
    "    else:\n",
    "        print('Tekrar deneyiniz.')"
   ]
  },
  {
   "cell_type": "code",
   "execution_count": 73,
   "metadata": {},
   "outputs": [
    {
     "name": "stdout",
     "output_type": "stream",
     "text": [
      "0 1 1 2 3 5 8 13 21 34 55 89 144 233 377 "
     ]
    }
   ],
   "source": [
    "# Kullanicidan bir sayi alin ve o kadar sayida Fibonacci serisi üretin.\n",
    "\n",
    "n = int(input(\"Kac terimlik Fibonacci serisi istiyorsunuz?:\"))\n",
    "a, b = 0, 1\n",
    "\n",
    "for i in range(n):\n",
    "    print(a , end=\" \")\n",
    "    a, b = b, a + b"
   ]
  },
  {
   "cell_type": "code",
   "execution_count": 74,
   "metadata": {},
   "outputs": [
    {
     "name": "stdout",
     "output_type": "stream",
     "text": [
      "21 sayisinin tersi: 12\n"
     ]
    }
   ],
   "source": [
    "# Kullanicidan bir sayi alin ve sayiyi ters cevirin.\n",
    "\n",
    "num = input(\"Bir sayi giriniz:\")\n",
    "reversed_num = \"\"\n",
    "\n",
    "for digit in num:\n",
    "    reversed_num = digit + reversed_num\n",
    "    \n",
    "print(f\"{num} sayisinin tersi: {reversed_num}\")"
   ]
  },
  {
   "cell_type": "markdown",
   "metadata": {},
   "source": [
    "#### Break ve Continue\n",
    "\n",
    "Break: Döngüyü tamamen durdurur.\n",
    "Continue: O anki döngüyü atlar ve bir sonraki adıma geçer."
   ]
  },
  {
   "cell_type": "code",
   "execution_count": 3,
   "metadata": {},
   "outputs": [
    {
     "name": "stdout",
     "output_type": "stream",
     "text": [
      "1\n",
      "2\n",
      "4\n",
      "5\n"
     ]
    }
   ],
   "source": [
    "# Örnek: 3'ü atlayarak diğerlerini yazdırma\n",
    "for i in range(1, 6):\n",
    "    if i == 3:\n",
    "        continue\n",
    "    print(i)"
   ]
  },
  {
   "cell_type": "markdown",
   "metadata": {},
   "source": [
    "#### Else (Döngülerde Kullanımı)\n",
    "\n",
    "Else bloğu, döngü tamamen çalıştığında devreye girer. Eğer break ile döngü kesilirse, else çalışmaz."
   ]
  },
  {
   "cell_type": "code",
   "execution_count": 35,
   "metadata": {},
   "outputs": [
    {
     "name": "stdout",
     "output_type": "stream",
     "text": [
      "1\n",
      "2\n",
      "3\n",
      "4\n",
      "5\n",
      "Döngü tamamlandı!\n"
     ]
    }
   ],
   "source": [
    "# Örnek: 5'e kadar sayıları yazdır ve döngü bittiğinde mesaj ver\n",
    "for i in range(1, 6):\n",
    "    print(i)\n",
    "else:\n",
    "    print(\"Döngü tamamlandı!\")"
   ]
  },
  {
   "cell_type": "markdown",
   "metadata": {},
   "source": [
    "#### Nested for Loop\n",
    "\n",
    "İç içe döngüler, bir döngünün içinde başka bir döngü çalıştırmayı sağlar. Genelde tablolar veya çok boyutlu işlemler için kullanılır.\n",
    "\n",
    "Bir döngü (for döngüsü veya while döngüsü) gövde blogunda başka bir döngü iceriyorsa, iki döngünün ic ice oldugunu söyleriz. Dis döngü m yineleme ve iç döngü n tekrarlama gerceklestirecek sekilde tasarlanmissa, ic döngünün gövde blogu m x n kez yürütülecektir."
   ]
  },
  {
   "cell_type": "code",
   "execution_count": 75,
   "metadata": {},
   "outputs": [
    {
     "name": "stdout",
     "output_type": "stream",
     "text": [
      "(1, 1) (1, 2) (1, 3) \n",
      "(2, 1) (2, 2) (2, 3) \n",
      "(3, 1) (3, 2) (3, 3) \n"
     ]
    }
   ],
   "source": [
    "# Örnek: 2 boyutlu tablo oluşturma\n",
    "for i in range(1, 4):  # Satırlar\n",
    "    for j in range(1, 4):  # Sütunlar\n",
    "        print(f\"({i}, {j})\", end=\" \")\n",
    "    print()  # Her satırdan sonra yeni bir satır başlat"
   ]
  },
  {
   "cell_type": "code",
   "execution_count": null,
   "metadata": {},
   "outputs": [],
   "source": [
    "for x in range(1, 5):\n",
    "    for y in range(1, 4):\n",
    "        print(f\"x: {x}, y: {y}\")"
   ]
  },
  {
   "cell_type": "code",
   "execution_count": 76,
   "metadata": {},
   "outputs": [
    {
     "name": "stdout",
     "output_type": "stream",
     "text": [
      "1  x  1 = 1 \n",
      "1  x  2 = 2 \n",
      "1  x  3 = 3 \n",
      "1  x  4 = 4 \n",
      "1  x  5 = 5 \n",
      "1  x  6 = 6 \n",
      "1  x  7 = 7 \n",
      "1  x  8 = 8 \n",
      "1  x  9 = 9 \n",
      "1  x 10 = 10\n",
      "\n",
      "2  x  1 = 2 \n",
      "2  x  2 = 4 \n",
      "2  x  3 = 6 \n",
      "2  x  4 = 8 \n",
      "2  x  5 = 10\n",
      "2  x  6 = 12\n",
      "2  x  7 = 14\n",
      "2  x  8 = 16\n",
      "2  x  9 = 18\n",
      "2  x 10 = 20\n",
      "\n",
      "3  x  1 = 3 \n",
      "3  x  2 = 6 \n",
      "3  x  3 = 9 \n",
      "3  x  4 = 12\n",
      "3  x  5 = 15\n",
      "3  x  6 = 18\n",
      "3  x  7 = 21\n",
      "3  x  8 = 24\n",
      "3  x  9 = 27\n",
      "3  x 10 = 30\n",
      "\n",
      "4  x  1 = 4 \n",
      "4  x  2 = 8 \n",
      "4  x  3 = 12\n",
      "4  x  4 = 16\n",
      "4  x  5 = 20\n",
      "4  x  6 = 24\n",
      "4  x  7 = 28\n",
      "4  x  8 = 32\n",
      "4  x  9 = 36\n",
      "4  x 10 = 40\n",
      "\n",
      "5  x  1 = 5 \n",
      "5  x  2 = 10\n",
      "5  x  3 = 15\n",
      "5  x  4 = 20\n",
      "5  x  5 = 25\n",
      "5  x  6 = 30\n",
      "5  x  7 = 35\n",
      "5  x  8 = 40\n",
      "5  x  9 = 45\n",
      "5  x 10 = 50\n",
      "\n",
      "6  x  1 = 6 \n",
      "6  x  2 = 12\n",
      "6  x  3 = 18\n",
      "6  x  4 = 24\n",
      "6  x  5 = 30\n",
      "6  x  6 = 36\n",
      "6  x  7 = 42\n",
      "6  x  8 = 48\n",
      "6  x  9 = 54\n",
      "6  x 10 = 60\n",
      "\n",
      "7  x  1 = 7 \n",
      "7  x  2 = 14\n",
      "7  x  3 = 21\n",
      "7  x  4 = 28\n",
      "7  x  5 = 35\n",
      "7  x  6 = 42\n",
      "7  x  7 = 49\n",
      "7  x  8 = 56\n",
      "7  x  9 = 63\n",
      "7  x 10 = 70\n",
      "\n",
      "8  x  1 = 8 \n",
      "8  x  2 = 16\n",
      "8  x  3 = 24\n",
      "8  x  4 = 32\n",
      "8  x  5 = 40\n",
      "8  x  6 = 48\n",
      "8  x  7 = 56\n",
      "8  x  8 = 64\n",
      "8  x  9 = 72\n",
      "8  x 10 = 80\n",
      "\n",
      "9  x  1 = 9 \n",
      "9  x  2 = 18\n",
      "9  x  3 = 27\n",
      "9  x  4 = 36\n",
      "9  x  5 = 45\n",
      "9  x  6 = 54\n",
      "9  x  7 = 63\n",
      "9  x  8 = 72\n",
      "9  x  9 = 81\n",
      "9  x 10 = 90\n",
      "\n",
      "10 x  1 = 10\n",
      "10 x  2 = 20\n",
      "10 x  3 = 30\n",
      "10 x  4 = 40\n",
      "10 x  5 = 50\n",
      "10 x  6 = 60\n",
      "10 x  7 = 70\n",
      "10 x  8 = 80\n",
      "10 x  9 = 90\n",
      "10 x 10 = 100\n",
      "\n"
     ]
    }
   ],
   "source": [
    "# Bir carpim tablosu olusturmak istiyorsunuz.\n",
    "# Carpım tablosu 1'den 10'a kadar olan sayilarin carpimlarini icermelidir.\n",
    "\n",
    "for i in range(1, 11):\n",
    "    for j in range(1, 11):\n",
    "        print(f\"{i:<2} x {j:>2} = {i * j:<2}\")\n",
    "    print()"
   ]
  },
  {
   "cell_type": "code",
   "execution_count": 77,
   "metadata": {},
   "outputs": [
    {
     "name": "stdout",
     "output_type": "stream",
     "text": [
      "* * * * * \n",
      "* * * * * \n",
      "* * * * * \n",
      "* * * * * \n",
      "* * * * * \n"
     ]
    }
   ],
   "source": [
    "# Bir kare desen (pattern) olusturmak istiyoruz.\n",
    "\n",
    "boyut = int(input(\"Kare deseni icin boyut giriniz:\"))\n",
    "\n",
    "for i in range(boyut):\n",
    "    for j in range(boyut):\n",
    "        print(\"*\", end=\" \")\n",
    "    print()"
   ]
  },
  {
   "cell_type": "code",
   "execution_count": 78,
   "metadata": {},
   "outputs": [
    {
     "name": "stdout",
     "output_type": "stream",
     "text": [
      "* \n",
      "* * \n",
      "* * * \n",
      "* * * * \n",
      "* * * * * \n"
     ]
    }
   ],
   "source": [
    "# Ücgen icin de yapalim:\n",
    "\n",
    "yükseklik = int(input(\"Üçgen deseni icin yükseklik giriniz:\"))\n",
    "\n",
    "for i in range(1, yükseklik + 1):\n",
    "    for j in range(i):\n",
    "        print(\"*\", end=\" \")\n",
    "    print()"
   ]
  },
  {
   "cell_type": "markdown",
   "metadata": {},
   "source": [
    "Özet:\n",
    "\n",
    "- **While Loop:** Belirli bir koşula bağlı olarak çalışır.\n",
    "- **For Loop:** Belirli bir koleksiyondaki elemanları sırayla döner.\n",
    "- **Range:** Sayısal aralıklar oluşturur.\n",
    "- **Break:** Döngüyü durdurur.\n",
    "- **Continue:** Döngünün o anki adımını atlar.\n",
    "- **Else:** Döngü tamamen çalıştığında devreye girer.\n",
    "- **Nested Loops:** Döngüler içinde döngü çalıştırmayı sağlar."
   ]
  },
  {
   "cell_type": "markdown",
   "metadata": {},
   "source": [
    "### Python - Functions (Temel ve Parametreler)\n",
    "\n",
    "Fonksiyonlar, kodunuzu tekrar kullanılabilir hale getirmenizi sağlar. Python'da bir fonksiyon def anahtar kelimesi ile tanımlanır.Ayrica, kodun tekrarlanmasini önler ve hata yapma olasiligini azaltir.\n",
    "\n",
    "Fonksiyonların Olusturulmasi ve İlgili Terminoloji\n",
    "\n",
    "    Fonksiyon Tanimi (Definition): Bir fonksiyon tanimlamak icin def anahtar kelimesi kullanilir.\n",
    "    Fonksiyon Adi (Function Name): Fonksiyonu cagirmak icin kullanilan isimdir.\n",
    "    Parametreler (Parameters): Fonksiyonun aldigi girdilerdir. Parantez icinde belirtilirler.\n",
    "    Fonksiyon Gövdesi (Function Body): Fonksiyonun calistirdigi kod blogudur. Girintili olarak yazilir.\n",
    "    Geri Dönüs Degeri (Return Value): Fonksiyonun sonuc olarak döndürdügü degerdir, return anahtar kelimesi ile belirtilir.\n",
    "\n"
   ]
  },
  {
   "cell_type": "code",
   "execution_count": 1,
   "metadata": {},
   "outputs": [
    {
     "name": "stdout",
     "output_type": "stream",
     "text": [
      "Merhaba!\n"
     ]
    }
   ],
   "source": [
    "def fonksiyon():\n",
    "    print(\"Merhaba!\")\n",
    "    \n",
    "fonksiyon()  # Çıktı: Merhaba!\n"
   ]
  },
  {
   "cell_type": "code",
   "execution_count": 2,
   "metadata": {},
   "outputs": [],
   "source": [
    "def kare_hesapla(sayi):\n",
    "    \"\"\" docstring yazıyoruz fonksiyon tanımı için\n",
    "    Bu fonksiyon verilen sayının karesini hesaplar.\n",
    "    \n",
    "    Parametreler:\n",
    "    sayi (int, float): Karesi hesaplanacak sayı.\n",
    "    \n",
    "    Geri Dönüş:\n",
    "    int, float: Sayının karesi.\n",
    "    \"\"\"\n",
    "    # indentation girintidir fonksiyonun çalışması için gerekli\n",
    "    kare = sayi ** 2  # fonsiyonun gövdesi\n",
    "    return kare # return(geridönüş değeri) değer üretiyor "
   ]
  },
  {
   "cell_type": "code",
   "execution_count": 3,
   "metadata": {},
   "outputs": [
    {
     "data": {
      "text/plain": [
       "49"
      ]
     },
     "execution_count": 3,
     "metadata": {},
     "output_type": "execute_result"
    }
   ],
   "source": [
    "# fonksiyonu çağıracağız\n",
    "\n",
    "kare_hesapla(7) # (sayi: Any) -> Any sayi (int, float): Karesi hesaplanacak sayı.Bu fonksiyon verilen sayının karesini hesaplar.Parametreler: sayi (int, float): Karesi hesaplanacak sayı.Geri Dönüş: int, float: Sayının karesi."
   ]
  },
  {
   "cell_type": "code",
   "execution_count": 4,
   "metadata": {},
   "outputs": [],
   "source": [
    "def greet():\n",
    "    \"\"\"This function displays'Hello World!'\"\"\" ## Bir fonsiyonun ne işe yaradığını nasıl kullanılması gerektiğini açıklayan yardım cümleleridir.\n",
    "    print(\"Hello World!\")"
   ]
  },
  {
   "cell_type": "code",
   "execution_count": 5,
   "metadata": {},
   "outputs": [
    {
     "name": "stdout",
     "output_type": "stream",
     "text": [
      "Hello World!\n"
     ]
    }
   ],
   "source": [
    "greet() # tanımlı olduğu için direk geldi. yukarında print tanımladık"
   ]
  },
  {
   "cell_type": "code",
   "execution_count": 6,
   "metadata": {},
   "outputs": [
    {
     "name": "stdout",
     "output_type": "stream",
     "text": [
      "Hello World!\n",
      "None\n"
     ]
    }
   ],
   "source": [
    "# fonksiyon içinde return değeri tanumlanmazsa none değeri döndürür\n",
    "print(greet())  # bir fonk. tanımlar ve return kullanılmazsa none değeri dönderir. kod hatalı değildir.\n"
   ]
  },
  {
   "cell_type": "code",
   "execution_count": 5,
   "metadata": {},
   "outputs": [],
   "source": [
    "def kareler_toplamı(x, y):\n",
    "    print(x ** 2 + y ** 2)"
   ]
  },
  {
   "cell_type": "code",
   "execution_count": 6,
   "metadata": {},
   "outputs": [
    {
     "name": "stdout",
     "output_type": "stream",
     "text": [
      "25\n"
     ]
    }
   ],
   "source": [
    "kareler_toplamı(3,4)"
   ]
  },
  {
   "cell_type": "code",
   "execution_count": 7,
   "metadata": {},
   "outputs": [
    {
     "name": "stdout",
     "output_type": "stream",
     "text": [
      "25\n",
      "None\n"
     ]
    }
   ],
   "source": [
    "print(kareler_toplamı(3,4)) # return tanımlanmadığı için none çıktı"
   ]
  },
  {
   "cell_type": "code",
   "execution_count": 8,
   "metadata": {},
   "outputs": [
    {
     "data": {
      "text/plain": [
       "<function print(*args, sep=' ', end='\\n', file=None, flush=False)>"
      ]
     },
     "execution_count": 8,
     "metadata": {},
     "output_type": "execute_result"
    }
   ],
   "source": [
    "print"
   ]
  },
  {
   "cell_type": "code",
   "execution_count": 9,
   "metadata": {},
   "outputs": [
    {
     "data": {
      "text/plain": [
       "<function __main__.kareler_toplamı(x, y)>"
      ]
     },
     "execution_count": 9,
     "metadata": {},
     "output_type": "execute_result"
    }
   ],
   "source": [
    "kareler_toplamı"
   ]
  },
  {
   "cell_type": "code",
   "execution_count": 11,
   "metadata": {},
   "outputs": [
    {
     "name": "stdout",
     "output_type": "stream",
     "text": [
      "29\n"
     ]
    }
   ],
   "source": [
    "kareler_toplamı(5,2) # fonksiyondaki 2. değeri tanımlamadık"
   ]
  },
  {
   "cell_type": "code",
   "execution_count": 13,
   "metadata": {},
   "outputs": [],
   "source": [
    "def kareler_toplamı2(x, y):\n",
    "    \n",
    "    \"\"\"Bu fonksiyon iki tane sayının karesini alır ve toplar\"\"\"\n",
    "    \n",
    "    print(x ** 2 + y ** 2)"
   ]
  },
  {
   "cell_type": "code",
   "execution_count": 14,
   "metadata": {},
   "outputs": [
    {
     "name": "stdout",
     "output_type": "stream",
     "text": [
      "Help on function kareler_toplamı2 in module __main__:\n",
      "\n",
      "kareler_toplamı2(x, y)\n",
      "    Bu fonksiyon iki tane sayının karesini alır ve toplar\n",
      "\n"
     ]
    }
   ],
   "source": [
    "help(kareler_toplamı2)"
   ]
  },
  {
   "cell_type": "code",
   "execution_count": 15,
   "metadata": {},
   "outputs": [
    {
     "name": "stdout",
     "output_type": "stream",
     "text": [
      "Help on built-in function print in module builtins:\n",
      "\n",
      "print(*args, sep=' ', end='\\n', file=None, flush=False)\n",
      "    Prints the values to a stream, or to sys.stdout by default.\n",
      "\n",
      "    sep\n",
      "      string inserted between values, default a space.\n",
      "    end\n",
      "      string appended after the last value, default a newline.\n",
      "    file\n",
      "      a file-like object (stream); defaults to the current sys.stdout.\n",
      "    flush\n",
      "      whether to forcibly flush the stream.\n",
      "\n"
     ]
    }
   ],
   "source": [
    "help(print)"
   ]
  },
  {
   "cell_type": "code",
   "execution_count": 16,
   "metadata": {},
   "outputs": [],
   "source": [
    "def kareler_toplamı3(x, y):\n",
    "\n",
    "    \n",
    "    print(x ** 2 + y ** 2)\n",
    "\n",
    "    \"\"\"Bu fonksiyon iki tane sayının karesini alır ve toplar\"\"\""
   ]
  },
  {
   "cell_type": "code",
   "execution_count": 17,
   "metadata": {},
   "outputs": [
    {
     "name": "stdout",
     "output_type": "stream",
     "text": [
      "Help on function kareler_toplamı3 in module __main__:\n",
      "\n",
      "kareler_toplamı3(x, y)\n",
      "\n"
     ]
    }
   ],
   "source": [
    "help(kareler_toplamı3) # docstring altta yazıldığı için help gelmez"
   ]
  },
  {
   "cell_type": "code",
   "execution_count": 18,
   "metadata": {},
   "outputs": [
    {
     "name": "stdout",
     "output_type": "stream",
     "text": [
      "41\n"
     ]
    }
   ],
   "source": [
    "kareler_toplamı2(4,5) #sadece sonuç gösterir return gibi bir değer olmadığı için, print tek seferlik sonuç verir"
   ]
  },
  {
   "cell_type": "code",
   "execution_count": 19,
   "metadata": {},
   "outputs": [
    {
     "name": "stdout",
     "output_type": "stream",
     "text": [
      "41\n"
     ]
    },
    {
     "ename": "TypeError",
     "evalue": "unsupported operand type(s) for +: 'int' and 'NoneType'",
     "output_type": "error",
     "traceback": [
      "\u001b[1;31m---------------------------------------------------------------------------\u001b[0m",
      "\u001b[1;31mTypeError\u001b[0m                                 Traceback (most recent call last)",
      "Cell \u001b[1;32mIn[19], line 1\u001b[0m\n\u001b[1;32m----> 1\u001b[0m \u001b[38;5;241;43m5\u001b[39;49m\u001b[43m \u001b[49m\u001b[38;5;241;43m+\u001b[39;49m\u001b[43m \u001b[49m\u001b[43mkareler_toplamı2\u001b[49m\u001b[43m(\u001b[49m\u001b[38;5;241;43m4\u001b[39;49m\u001b[43m,\u001b[49m\u001b[38;5;241;43m5\u001b[39;49m\u001b[43m)\u001b[49m \u001b[38;5;66;03m# none değer üretiliyor return değer yok\u001b[39;00m\n\u001b[0;32m      2\u001b[0m \u001b[38;5;66;03m#fonksiyon sadece sonuç yazdırıyorsa(print) bu print sonucunu bir işlemde kullanamayız. fonsiyında return değeri olura eğer işlemde kullanabiliriz\u001b[39;00m\n",
      "\u001b[1;31mTypeError\u001b[0m: unsupported operand type(s) for +: 'int' and 'NoneType'"
     ]
    }
   ],
   "source": [
    "5 + kareler_toplamı2(4,5) # none değer üretiliyor return değer yok\n",
    "#fonksiyon sadece sonuç yazdırıyorsa(print) bu print sonucunu bir işlemde kullanamayız. fonsiyında return değeri olura eğer işlemde kullanabiliriz"
   ]
  },
  {
   "cell_type": "code",
   "execution_count": 20,
   "metadata": {},
   "outputs": [],
   "source": [
    "def kareler_toplamı4(x, y):\n",
    "    \n",
    "    \"\"\"Bu fonksiyon iki tane sayının karesini alır ve toplar\"\"\"\n",
    "    \n",
    "    return(x ** 2 + y ** 2)"
   ]
  },
  {
   "cell_type": "code",
   "execution_count": 22,
   "metadata": {},
   "outputs": [
    {
     "data": {
      "text/plain": [
       "25"
      ]
     },
     "execution_count": 22,
     "metadata": {},
     "output_type": "execute_result"
    }
   ],
   "source": [
    "kareler_toplamı4(3,4) # sonuç gösterir"
   ]
  },
  {
   "cell_type": "code",
   "execution_count": 23,
   "metadata": {},
   "outputs": [
    {
     "name": "stdout",
     "output_type": "stream",
     "text": [
      "25\n"
     ]
    }
   ],
   "source": [
    "print(kareler_toplamı4(3,4)) #none dönmedi çünkü return değeri var"
   ]
  },
  {
   "cell_type": "code",
   "execution_count": 24,
   "metadata": {},
   "outputs": [
    {
     "data": {
      "text/plain": [
       "30"
      ]
     },
     "execution_count": 24,
     "metadata": {},
     "output_type": "execute_result"
    }
   ],
   "source": [
    "5 + kareler_toplamı4(3,4) # burda kareler toplamı değer üretiyor o sebeple baştaki int değerle toplanıyor"
   ]
  },
  {
   "cell_type": "code",
   "execution_count": 22,
   "metadata": {},
   "outputs": [],
   "source": [
    "def calculator(num1, opr, num2): # burda sadece sonuç görmek istiyoruz\n",
    "    if opr == \"+\":\n",
    "        print(num1 + num2)\n",
    "        \n",
    "    elif opr == \"-\":\n",
    "        print(num1 - num2)\n",
    "        \n",
    "    elif opr == \"x\":\n",
    "        print(num1 * num2)\n",
    "        \n",
    "    elif opr == \"/\":\n",
    "        print(num1 / num2)\n",
    "        \n",
    "    else:\n",
    "        print(\"Hatalı operatör girişi.\")"
   ]
  },
  {
   "cell_type": "code",
   "execution_count": 23,
   "metadata": {},
   "outputs": [
    {
     "name": "stdout",
     "output_type": "stream",
     "text": [
      "20\n"
     ]
    }
   ],
   "source": [
    "calculator(5, \"x\", 4)"
   ]
  },
  {
   "cell_type": "code",
   "execution_count": 24,
   "metadata": {},
   "outputs": [
    {
     "name": "stdout",
     "output_type": "stream",
     "text": [
      "4.0\n"
     ]
    }
   ],
   "source": [
    "calculator(8, \"/\", 2)"
   ]
  },
  {
   "cell_type": "code",
   "execution_count": 65,
   "metadata": {},
   "outputs": [
    {
     "name": "stdout",
     "output_type": "stream",
     "text": [
      "HelloWorld\n"
     ]
    }
   ],
   "source": [
    "calculator(\"Hello\", \"+\", \"World\")"
   ]
  },
  {
   "cell_type": "code",
   "execution_count": 66,
   "metadata": {},
   "outputs": [
    {
     "ename": "TypeError",
     "evalue": "unsupported operand type(s) for -: 'str' and 'str'",
     "output_type": "error",
     "traceback": [
      "\u001b[1;31m---------------------------------------------------------------------------\u001b[0m",
      "\u001b[1;31mTypeError\u001b[0m                                 Traceback (most recent call last)",
      "Cell \u001b[1;32mIn[66], line 1\u001b[0m\n\u001b[1;32m----> 1\u001b[0m \u001b[43mcalculator\u001b[49m\u001b[43m(\u001b[49m\u001b[38;5;124;43m\"\u001b[39;49m\u001b[38;5;124;43mHello\u001b[39;49m\u001b[38;5;124;43m\"\u001b[39;49m\u001b[43m,\u001b[49m\u001b[43m \u001b[49m\u001b[38;5;124;43m\"\u001b[39;49m\u001b[38;5;124;43m-\u001b[39;49m\u001b[38;5;124;43m\"\u001b[39;49m\u001b[43m,\u001b[49m\u001b[43m \u001b[49m\u001b[38;5;124;43m\"\u001b[39;49m\u001b[38;5;124;43mWorld\u001b[39;49m\u001b[38;5;124;43m\"\u001b[39;49m\u001b[43m)\u001b[49m\n",
      "Cell \u001b[1;32mIn[22], line 6\u001b[0m, in \u001b[0;36mcalculator\u001b[1;34m(num1, opr, num2)\u001b[0m\n\u001b[0;32m      3\u001b[0m     \u001b[38;5;28mprint\u001b[39m(num1 \u001b[38;5;241m+\u001b[39m num2)\n\u001b[0;32m      5\u001b[0m \u001b[38;5;28;01melif\u001b[39;00m opr \u001b[38;5;241m==\u001b[39m \u001b[38;5;124m\"\u001b[39m\u001b[38;5;124m-\u001b[39m\u001b[38;5;124m\"\u001b[39m:\n\u001b[1;32m----> 6\u001b[0m     \u001b[38;5;28mprint\u001b[39m(\u001b[43mnum1\u001b[49m\u001b[43m \u001b[49m\u001b[38;5;241;43m-\u001b[39;49m\u001b[43m \u001b[49m\u001b[43mnum2\u001b[49m)\n\u001b[0;32m      8\u001b[0m \u001b[38;5;28;01melif\u001b[39;00m opr \u001b[38;5;241m==\u001b[39m \u001b[38;5;124m\"\u001b[39m\u001b[38;5;124mx\u001b[39m\u001b[38;5;124m\"\u001b[39m:\n\u001b[0;32m      9\u001b[0m     \u001b[38;5;28mprint\u001b[39m(num1 \u001b[38;5;241m*\u001b[39m num2)\n",
      "\u001b[1;31mTypeError\u001b[0m: unsupported operand type(s) for -: 'str' and 'str'"
     ]
    }
   ],
   "source": [
    "calculator(\"Hello\", \"-\", \"World\")"
   ]
  },
  {
   "cell_type": "code",
   "execution_count": 30,
   "metadata": {},
   "outputs": [
    {
     "data": {
      "text/plain": [
       "<function len(obj, /)>"
      ]
     },
     "execution_count": 30,
     "metadata": {},
     "output_type": "execute_result"
    }
   ],
   "source": [
    "len"
   ]
  },
  {
   "cell_type": "code",
   "execution_count": 27,
   "metadata": {},
   "outputs": [],
   "source": [
    "def my_len(x):\n",
    "    \n",
    "    \"\"\"len fonksiyonunu beğenmediğim için kendi fonksiyonumu yazıyorum.\n",
    "    Bu fonksiyon bir iterable ın uzunluğunu verir\"\"\"\n",
    "    \n",
    "    sayac = 0\n",
    "    \n",
    "    for i in x:\n",
    "        sayac += 1\n",
    "        \n",
    "    print(sayac)"
   ]
  },
  {
   "cell_type": "code",
   "execution_count": 28,
   "metadata": {},
   "outputs": [
    {
     "ename": "TypeError",
     "evalue": "'int' object is not iterable",
     "output_type": "error",
     "traceback": [
      "\u001b[1;31m---------------------------------------------------------------------------\u001b[0m",
      "\u001b[1;31mTypeError\u001b[0m                                 Traceback (most recent call last)",
      "Cell \u001b[1;32mIn[28], line 1\u001b[0m\n\u001b[1;32m----> 1\u001b[0m \u001b[43mmy_len\u001b[49m\u001b[43m(\u001b[49m\u001b[38;5;241;43m125\u001b[39;49m\u001b[43m)\u001b[49m \u001b[38;5;66;03m#parantez içi 'int' nesnesi yinelenebilir(iterable) değil\u001b[39;00m\n",
      "Cell \u001b[1;32mIn[27], line 8\u001b[0m, in \u001b[0;36mmy_len\u001b[1;34m(x)\u001b[0m\n\u001b[0;32m      3\u001b[0m \u001b[38;5;250m\u001b[39m\u001b[38;5;124;03m\"\"\"len fonksiyonunu beğenmediğim için kendi fonksiyonumu yazıyorum.\u001b[39;00m\n\u001b[0;32m      4\u001b[0m \u001b[38;5;124;03mBu fonksiyon bir iterable ın uzunluğunu verir\"\"\"\u001b[39;00m\n\u001b[0;32m      6\u001b[0m sayac \u001b[38;5;241m=\u001b[39m \u001b[38;5;241m0\u001b[39m\n\u001b[1;32m----> 8\u001b[0m \u001b[43m\u001b[49m\u001b[38;5;28;43;01mfor\u001b[39;49;00m\u001b[43m \u001b[49m\u001b[43mi\u001b[49m\u001b[43m \u001b[49m\u001b[38;5;129;43;01min\u001b[39;49;00m\u001b[43m \u001b[49m\u001b[43mx\u001b[49m\u001b[43m:\u001b[49m\n\u001b[0;32m      9\u001b[0m \u001b[43m    \u001b[49m\u001b[43msayac\u001b[49m\u001b[43m \u001b[49m\u001b[38;5;241;43m+\u001b[39;49m\u001b[38;5;241;43m=\u001b[39;49m\u001b[43m \u001b[49m\u001b[38;5;241;43m1\u001b[39;49m\n\u001b[0;32m     11\u001b[0m \u001b[38;5;28mprint\u001b[39m(sayac)\n",
      "\u001b[1;31mTypeError\u001b[0m: 'int' object is not iterable"
     ]
    }
   ],
   "source": [
    "my_len(125) #parantez içi 'int' nesnesi yinelenebilir(iterable) değil"
   ]
  },
  {
   "cell_type": "code",
   "execution_count": 33,
   "metadata": {},
   "outputs": [
    {
     "name": "stdout",
     "output_type": "stream",
     "text": [
      "7\n"
     ]
    }
   ],
   "source": [
    "my_len(\"merhaba\")"
   ]
  },
  {
   "cell_type": "code",
   "execution_count": 34,
   "metadata": {},
   "outputs": [
    {
     "name": "stdout",
     "output_type": "stream",
     "text": [
      "5\n"
     ]
    }
   ],
   "source": [
    "my_len([1, 2, 3, 4, 5])"
   ]
  },
  {
   "cell_type": "markdown",
   "metadata": {},
   "source": [
    "### Python Fonksiyon Parametreleri\n",
    "\n",
    "Python'da fonksiyonlar aşağıdaki parametre türlerini destekler:\n",
    "\n",
    "- Pozisyonel Parametreler (Positional Arguments)\n",
    "- Anahtar Kelime Parametreleri (Keyword Arguments)\n",
    "- Varsayılan Değerli Parametreler (Default Arguments)\n",
    "- Keyfi Sayıda Pozisyonel Argümanlar (*args)\n",
    "- Keyfi Sayıda Anahtar Kelime Argümanlar (**kwargs)\n",
    "- Yalnızca Pozisyonel Parametreler (/)\n",
    "- Yalnızca Anahtar Kelime Parametreler (*)"
   ]
  },
  {
   "cell_type": "markdown",
   "metadata": {},
   "source": [
    "#### Python'da Fonksiyon Parametreleri\n",
    "\n",
    "Parametreler, bir fonksiyon tanımlandığında parantez içinde belirtilen değişkenlerdir. Bu değişkenler, fonksiyon çağrıldığında aldığı girdileri temsil eder. Argümanlar ise fonksiyon çağrıldığında bu parametrelere geçirilen gerçek değerlerdir.\n",
    "\n",
    "**Parametreler ve Argümanlar Arasındaki Fark**\n",
    "\n",
    "* Parametreler: Fonksiyonun tanımında belirtilen değişkenlerdir.\n",
    "* Argümanlar: Fonksiyon çağrıldığında bu parametrelere verilen değerlerdir."
   ]
  },
  {
   "cell_type": "code",
   "execution_count": 36,
   "metadata": {},
   "outputs": [
    {
     "name": "stdout",
     "output_type": "stream",
     "text": [
      "8\n"
     ]
    }
   ],
   "source": [
    "def toplama(a,b): #a ve b birer parametredir\n",
    "    return a + b\n",
    "sonuc = toplama(3,5) # 3 ve 5 birer argümandır\n",
    "print(sonuc)"
   ]
  },
  {
   "cell_type": "markdown",
   "metadata": {},
   "source": [
    "### Parametre Türleri\n",
    "\n",
    "1. Konumsal Parametreler (Positional Arguments): \n",
    "\n",
    "Konumsal argümanlar, bir fonksiyona geçerken sırasına göre değerlendirilen argümanlardır. Yani, argümanlar, fonksiyon tanımında belirtilen parametrelerin sırasına göre yerleştirilir."
   ]
  },
  {
   "cell_type": "code",
   "execution_count": 29,
   "metadata": {},
   "outputs": [],
   "source": [
    "def merhaba(isim, yas):\n",
    "    print(f\"Merhaba {isim}, {yas} yaşındasınız.\")"
   ]
  },
  {
   "cell_type": "code",
   "execution_count": 30,
   "metadata": {},
   "outputs": [
    {
     "name": "stdout",
     "output_type": "stream",
     "text": [
      "Merhaba Rose, 29 yaşındasınız.\n"
     ]
    }
   ],
   "source": [
    "merhaba(\"Rose\", \"29\")"
   ]
  },
  {
   "cell_type": "code",
   "execution_count": 31,
   "metadata": {},
   "outputs": [
    {
     "name": "stdout",
     "output_type": "stream",
     "text": [
      "Merhaba 29, Rose yaşındasınız.\n"
     ]
    }
   ],
   "source": [
    "merhaba(29, \"Rose\") # parametleler hangi sıradaysa değerleri de o sıraya göre vereceğiz"
   ]
  },
  {
   "cell_type": "code",
   "execution_count": 32,
   "metadata": {},
   "outputs": [],
   "source": [
    "def merhaba(isim=\"Ziyaretçi\"):\n",
    "    print(f\"Merhaba {isim}!\")"
   ]
  },
  {
   "cell_type": "code",
   "execution_count": 33,
   "metadata": {},
   "outputs": [
    {
     "name": "stdout",
     "output_type": "stream",
     "text": [
      "Merhaba Ziyaretçi!\n"
     ]
    }
   ],
   "source": [
    "merhaba() #parametre yazmadan geldi"
   ]
  },
  {
   "cell_type": "code",
   "execution_count": 34,
   "metadata": {},
   "outputs": [
    {
     "name": "stdout",
     "output_type": "stream",
     "text": [
      "Merhaba Rose!\n"
     ]
    }
   ],
   "source": [
    "merhaba(\"Rose\")"
   ]
  },
  {
   "cell_type": "markdown",
   "metadata": {},
   "source": [
    "3. Anahtar Kelime Parametreler:\n",
    "\n",
    "Anahtar kelime argümanlar, bir fonksiyona geçerken parametre adları belirtilerek değerlendirilen argümanlardır. Bu sayede, argümanların sırası önemli olmaksızın, hangi değerin hangi parametreye karşılık geldiği açıkça belirtilir.\n",
    "\n",
    "- Parametrelerin sırasını karıştırabilirsiniz.\n",
    "- Daha okunabilir kod sağlar."
   ]
  },
  {
   "cell_type": "code",
   "execution_count": 35,
   "metadata": {},
   "outputs": [],
   "source": [
    "def merhaba(isim, yas):\n",
    "    print(f\"Merhaba {isim}, {yas} yaşındasınız\")"
   ]
  },
  {
   "cell_type": "code",
   "execution_count": 36,
   "metadata": {},
   "outputs": [
    {
     "name": "stdout",
     "output_type": "stream",
     "text": [
      "Merhaba Rose, 29 yaşındasınız\n"
     ]
    }
   ],
   "source": [
    "merhaba(yas=29, isim=\"Rose\") # sıra önemsiz her bir değeri istediğimiz gibi tanımladık"
   ]
  },
  {
   "cell_type": "code",
   "execution_count": 49,
   "metadata": {},
   "outputs": [],
   "source": [
    "def islem(a, b, c, d, e):\n",
    "    return a * b + (c / d) - e"
   ]
  },
  {
   "cell_type": "code",
   "execution_count": 50,
   "metadata": {},
   "outputs": [
    {
     "data": {
      "text/plain": [
       "2380.76"
      ]
     },
     "execution_count": 50,
     "metadata": {},
     "output_type": "execute_result"
    }
   ],
   "source": [
    "islem(e=20 , c=19, a=60, d=25, b=40)"
   ]
  },
  {
   "cell_type": "code",
   "execution_count": 37,
   "metadata": {},
   "outputs": [
    {
     "name": "stdout",
     "output_type": "stream",
     "text": [
      "Merhaba, Rose!\n"
     ]
    }
   ],
   "source": [
    "def selamla(isim, mesaj):\n",
    "    \"\"\"Belirtilen kişiye mesaj gönderir.\"\"\"\n",
    "    return f\"{mesaj}, {isim}!\"\n",
    "\n",
    "# Çağrı\n",
    "print(selamla(mesaj=\"Merhaba\", isim=\"Rose\"))  # Çıktı: Merhaba, Ahmet!"
   ]
  },
  {
   "cell_type": "markdown",
   "metadata": {},
   "source": [
    "* iki kenar bilgisi bilinen dik üçgenin hipotenüsünü bulan fonk yazın.\n",
    "* Daha sonra üçgenin çevresini hesaplayın"
   ]
  },
  {
   "cell_type": "code",
   "execution_count": 51,
   "metadata": {},
   "outputs": [],
   "source": [
    "def hypo(x, y):\n",
    "    \n",
    "    print((x ** 2 + y ** 2) ** 0.5)"
   ]
  },
  {
   "cell_type": "code",
   "execution_count": 52,
   "metadata": {},
   "outputs": [
    {
     "name": "stdout",
     "output_type": "stream",
     "text": [
      "5.0\n"
     ]
    }
   ],
   "source": [
    "hypo(3,4)"
   ]
  },
  {
   "cell_type": "markdown",
   "metadata": {},
   "source": [
    "3. Varsayılan Değerli Parametreler\n",
    "Varsayılan değerli parametreler, değer atanmadığında varsayılan bir değer kullanır.\n",
    "\n",
    "- Varsayılan parametreler, zorunlu parametrelerden sonra tanımlanmalıdır"
   ]
  },
  {
   "cell_type": "code",
   "execution_count": 5,
   "metadata": {},
   "outputs": [
    {
     "name": "stdout",
     "output_type": "stream",
     "text": [
      "Merhaba, Ayşe!\n",
      "Selam, Ayşe!\n"
     ]
    }
   ],
   "source": [
    "def selamla(isim, mesaj=\"Merhaba\"):\n",
    "    \"\"\"Varsayılan mesaj ile selamlama yapar.\"\"\"\n",
    "    return f\"{mesaj}, {isim}!\"\n",
    "\n",
    "# Çağrı\n",
    "print(selamla(\"Ayşe\"))           # Çıktı: Merhaba, Ayşe!\n",
    "print(selamla(\"Ayşe\", \"Selam\"))  # Çıktı: Selam, Ayşe!"
   ]
  },
  {
   "cell_type": "markdown",
   "metadata": {},
   "source": [
    "4. Keyfi Sayıda Pozisyonel Argümanlar (*args)\n",
    "Bir fonksiyon, keyfi sayıda pozisyonel argüman alabilir.\n",
    "\n",
    "- Parametre adı genellikle *args olarak adlandırılır.\n",
    "Bir tuple döner."
   ]
  },
  {
   "cell_type": "code",
   "execution_count": 8,
   "metadata": {},
   "outputs": [
    {
     "name": "stdout",
     "output_type": "stream",
     "text": [
      "10\n"
     ]
    }
   ],
   "source": [
    "def topla(*args):\n",
    "    \"\"\"Sınırsız sayıda sayıyı toplar.\"\"\"\n",
    "    return sum(args)\n",
    "\n",
    "print(topla(1, 2, 3, 4))  # Çıktı: 10"
   ]
  },
  {
   "cell_type": "markdown",
   "metadata": {},
   "source": [
    "5. Keyfi Sayıda Anahtar Kelime Argümanlar (**kwargs)\n",
    "Bir fonksiyon, keyfi sayıda anahtar kelime argümanı alabilir.\n",
    "\n",
    "- Parametre adı genellikle **kwargs olarak adlandırılır.\n",
    "Bir dictionary döner."
   ]
  },
  {
   "cell_type": "code",
   "execution_count": 38,
   "metadata": {},
   "outputs": [
    {
     "name": "stdout",
     "output_type": "stream",
     "text": [
      "isim: Alice\n",
      "yas: 25\n",
      "sehir: İstanbul\n"
     ]
    }
   ],
   "source": [
    "def bilgiler(**kwargs):\n",
    "    \"\"\"Kullanıcı bilgilerini ekrana yazdırır.\"\"\"\n",
    "    for anahtar, deger in kwargs.items():\n",
    "        print(f\"{anahtar}: {deger}\")\n",
    "\n",
    "\n",
    "bilgiler(isim=\"Alice\", yas=25, sehir=\"İstanbul\")"
   ]
  },
  {
   "cell_type": "markdown",
   "metadata": {},
   "source": [
    "6. Yalnızca Pozisyonel Parametreler (/)\n",
    "/ ile belirtilen parametreler, yalnızca pozisyonel olarak çağrılabilir.\n",
    "\n",
    "- Python 3.8 ile tanıtıldı.\n",
    "- Anahtar kelime ile atanamaz."
   ]
  },
  {
   "cell_type": "code",
   "execution_count": 9,
   "metadata": {},
   "outputs": [
    {
     "name": "stdout",
     "output_type": "stream",
     "text": [
      "5.0\n"
     ]
    }
   ],
   "source": [
    "def bol(a, b, /):\n",
    "    \"\"\"İki sayıyı böler.\"\"\"\n",
    "    return a / b\n",
    "\n",
    "# Geçerli\n",
    "print(bol(10, 2))  # Çıktı: 5.0\n",
    "\n",
    "# Geçersiz\n",
    "# print(bol(a=10, b=2))  # Hata: 'a' parametresi yalnızca pozisyonel"
   ]
  },
  {
   "cell_type": "markdown",
   "metadata": {},
   "source": [
    "7. Yalnızca Anahtar Kelime Parametreler (*)\n",
    "* işaretinden sonra gelen parametreler, yalnızca anahtar kelime ile çağrılabilir.\n",
    "\n",
    "- Daha okunabilir çağrılar sağlar."
   ]
  },
  {
   "cell_type": "code",
   "execution_count": 39,
   "metadata": {},
   "outputs": [
    {
     "name": "stdout",
     "output_type": "stream",
     "text": [
      "Alice adlı kullanıcı başarıyla kaydedildi.\n"
     ]
    }
   ],
   "source": [
    "def kayit_ol(isim, *, sifre):\n",
    "    \"\"\"Kullanıcı kaydı yapar.\"\"\"\n",
    "    return f\"{isim} adlı kullanıcı başarıyla kaydedildi.\"\n",
    "\n",
    "# Geçerli\n",
    "print(kayit_ol(\"Alice\", sifre=\"12345\"))  # Çıktı: Ali adlı kullanıcı başarıyla kaydedildi.\n",
    "\n",
    "# Geçersiz\n",
    "# print(kayit_ol(\"Ali\", \"12345\"))  # Hata: 'sifre' anahtar kelime ile çağrılmalı"
   ]
  },
  {
   "cell_type": "markdown",
   "metadata": {},
   "source": [
    "8. Karma Kullanımlar\n",
    "Tüm parametre türlerini birleştirerek kullanabilirsiniz."
   ]
  },
  {
   "cell_type": "code",
   "execution_count": 11,
   "metadata": {},
   "outputs": [
    {
     "name": "stdout",
     "output_type": "stream",
     "text": [
      "71\n"
     ]
    }
   ],
   "source": [
    "def fonksiyon(a, b=10, /, c=20, *, d, e=30):\n",
    "    \"\"\"Tüm parametre türlerini gösterir.\"\"\"\n",
    "    return a + b + c + d + e\n",
    "\n",
    "\n",
    "print(fonksiyon(1, 5, d=15))  # Çıktı: 71"
   ]
  },
  {
   "cell_type": "code",
   "execution_count": 13,
   "metadata": {},
   "outputs": [
    {
     "name": "stdout",
     "output_type": "stream",
     "text": [
      "+-------------------------+-------------+--------------------------------------------------+\n",
      "| Parametre Türü          | Semboller   | Kullanım Tipi                                    |\n",
      "+=========================+=============+==================================================+\n",
      "| Pozisyonel              | `a, b`      | Sıralı ve zorunlu                                |\n",
      "+-------------------------+-------------+--------------------------------------------------+\n",
      "| Anahtar Kelime          | `a=1, b=2`  | İsimle eşleştirilmiş                             |\n",
      "+-------------------------+-------------+--------------------------------------------------+\n",
      "| Varsayılan Değerli      | `a=10`      | Varsayılan değer atanır                          |\n",
      "+-------------------------+-------------+--------------------------------------------------+\n",
      "| Keyfi Pozisyonel        | `*args`     | Tuple olarak sınırsız pozisyonel argüman alır    |\n",
      "+-------------------------+-------------+--------------------------------------------------+\n",
      "| Keyfi Anahtar Kelime    | `**kwargs`  | Dict olarak sınırsız anahtar kelime argüman alır |\n",
      "+-------------------------+-------------+--------------------------------------------------+\n",
      "| Yalnızca Pozisyonel     | `/`         | Pozisyonla çağrılmalı                            |\n",
      "+-------------------------+-------------+--------------------------------------------------+\n",
      "| Yalnızca Anahtar Kelime | `*`         | Anahtar kelimeyle çağrılmalı                     |\n",
      "+-------------------------+-------------+--------------------------------------------------+\n"
     ]
    }
   ],
   "source": [
    "from tabulate import tabulate\n",
    "\n",
    "# Tablo verileri\n",
    "veriler = [\n",
    "    [\"Pozisyonel\", \"`a, b`\", \"Sıralı ve zorunlu\"],\n",
    "    [\"Anahtar Kelime\", \"`a=1, b=2`\", \"İsimle eşleştirilmiş\"],\n",
    "    [\"Varsayılan Değerli\", \"`a=10`\", \"Varsayılan değer atanır\"],\n",
    "    [\"Keyfi Pozisyonel\", \"`*args`\", \"Tuple olarak sınırsız pozisyonel argüman alır\"],\n",
    "    [\"Keyfi Anahtar Kelime\", \"`**kwargs`\", \"Dict olarak sınırsız anahtar kelime argüman alır\"],\n",
    "    [\"Yalnızca Pozisyonel\", \"`/`\", \"Pozisyonla çağrılmalı\"],\n",
    "    [\"Yalnızca Anahtar Kelime\", \"`*`\", \"Anahtar kelimeyle çağrılmalı\"],\n",
    "]\n",
    "\n",
    "# Tablo başlıkları\n",
    "basliklar = [\"Parametre Türü\", \"Semboller\", \"Kullanım Tipi\"]\n",
    "\n",
    "# Tabloyu oluştur ve yazdır\n",
    "print(tabulate(veriler, headers=basliklar, tablefmt=\"grid\"))\n"
   ]
  },
  {
   "cell_type": "markdown",
   "metadata": {},
   "source": [
    "Anlamı, \"lambda fonksiyonu\" olarak adlandırılan bu yapı, genellikle bir fonksiyona ihtiyaç duyulduğunda, fakat fonksiyonun isminin olmaması gerektiğinde kullanılır. lambda, diğer fonksiyonlardan farklı olarak tanımlama işlemi yapmadan doğrudan kullanılabilir.\n",
    "\n",
    "Tek atımlık fonksiyondur"
   ]
  },
  {
   "cell_type": "code",
   "execution_count": 86,
   "metadata": {},
   "outputs": [
    {
     "name": "stdout",
     "output_type": "stream",
     "text": [
      "16\n"
     ]
    }
   ],
   "source": [
    "kare_al = lambda x: x ** 2\n",
    "print(kare_al(4))  # Çıktı: 16"
   ]
  },
  {
   "cell_type": "markdown",
   "metadata": {},
   "source": [
    "##### Lambda İçinde Filtreleme"
   ]
  },
  {
   "cell_type": "code",
   "execution_count": 15,
   "metadata": {},
   "outputs": [
    {
     "name": "stdout",
     "output_type": "stream",
     "text": [
      "[1, 3, 5]\n"
     ]
    }
   ],
   "source": [
    "sayilar = [1, 2, 3, 4, 5, 6]\n",
    "tek_sayilar = list(filter(lambda x: x % 2 == 1, sayilar))\n",
    "print(tek_sayilar)  # Çıktı: [1, 3, 5]"
   ]
  },
  {
   "cell_type": "markdown",
   "metadata": {},
   "source": [
    "'**args' ve '**kwargs' Nedir ve Ne İşe Yarar? Detaylı\n",
    "\n",
    "\n",
    "Python'da fonksiyonları tanımlarken ve çağırırken esneklik sağlamak için *args ve **keywordwargs kullanılır. Bu iki kavram, bir fonksiyonun değişken sayıda argüman almasına olanak tanır.\n",
    "\n",
    "**args Nedir?**\n",
    "\n",
    "*args, bir fonksiyona değişken sayıda konumsal (positional) argüman geçirmeyi sağlar. *args kullanarak, kaç tane argüman geçireceğinizi önceden bilmeniz gerekmez. Fonksiyon, bu argümanları bir tuple (demet) olarak alır.\n",
    "\n",
    "**Kullanım Alanı**\n",
    "\n",
    "Bir fonksiyona birden fazla konumsal argüman geçirmeniz gerektiğinde, ancak bu argümanların sayısını önceden bilmediğinizde *args kullanışlıdır."
   ]
  },
  {
   "cell_type": "markdown",
   "metadata": {},
   "source": [
    "****kwargs Nedir?**\n",
    "\n",
    "**kwargs, bir fonksiyona değişken sayıda anahtar kelime (keyword) argümanı geçirmeyi sağlar. **kwargs kullanarak, kaç tane anahtar kelime argümanı geçireceğinizi önceden bilmeniz gerekmez. Fonksiyon, bu argümanları bir sözlük (dictionary) olarak alır.\n",
    "\n",
    "**Kullanım Alanı**\n",
    "\n",
    "Bir fonksiyona birden fazla anahtar kelime argüman geçirmeniz gerektiğinde, ancak bu argümanların sayısını ve isimlerini önceden bilmediğinizde **kwargs kullanışlıdır."
   ]
  },
  {
   "cell_type": "markdown",
   "metadata": {},
   "source": [
    "Özet:\n",
    "\n",
    "- *args: Belirsiz sayıda pozisyonel argüman alır.\n",
    "- **kwargs: Belirsiz sayıda anahtar-değer çifti alır."
   ]
  },
  {
   "cell_type": "markdown",
   "metadata": {},
   "source": [
    "Args Kullanımı"
   ]
  },
  {
   "cell_type": "code",
   "execution_count": 99,
   "metadata": {},
   "outputs": [
    {
     "name": "stdout",
     "output_type": "stream",
     "text": [
      "10\n"
     ]
    }
   ],
   "source": [
    "def toplam(*args):\n",
    "    return sum(args)\n",
    "\n",
    "print(toplam(1, 2, 3, 4))"
   ]
  },
  {
   "cell_type": "markdown",
   "metadata": {},
   "source": [
    "Kwargs Kullanımı"
   ]
  },
  {
   "cell_type": "code",
   "execution_count": 100,
   "metadata": {},
   "outputs": [
    {
     "name": "stdout",
     "output_type": "stream",
     "text": [
      "ad: Ebru\n",
      "yas: 30\n",
      "sehir: İstanbul\n"
     ]
    }
   ],
   "source": [
    "def bilgiler(**kwargs):\n",
    "    for key, value in kwargs.items():\n",
    "        print(f\"{key}: {value}\")\n",
    "\n",
    "bilgiler(ad=\"Ebru\", yas=30, sehir=\"İstanbul\")"
   ]
  },
  {
   "cell_type": "markdown",
   "metadata": {},
   "source": [
    "Args ve Kwargs Birlikte Kullanımı"
   ]
  },
  {
   "cell_type": "code",
   "execution_count": 67,
   "metadata": {},
   "outputs": [
    {
     "name": "stdout",
     "output_type": "stream",
     "text": [
      "İsim: Ayşe\n",
      "Args: (10, 20)\n",
      "Kwargs: {'yas': 30, 'sehir': 'Ankara'}\n"
     ]
    }
   ],
   "source": [
    "def fonksiyon(isim, *args, **kwargs):\n",
    "    print(f\"İsim: {isim}\")\n",
    "    print(f\"Args: {args}\")\n",
    "    print(f\"Kwargs: {kwargs}\")\n",
    "\n",
    "fonksiyon(\"Ayşe\", 10, 20, yas=30, sehir=\"Ankara\")"
   ]
  },
  {
   "cell_type": "markdown",
   "metadata": {},
   "source": [
    "Python'da * ve ** sembollerinin önemi ve anlamı, fonksiyonlarda konumsal ve anahtar kelime argümanları esnek bir şekilde işlemek için kullanılır. İşte bu sembollerin anlamı ve neden kullanıldığı:\n",
    "\n",
    "***args ve **kwargs Sembollerinin Anlamı**\n",
    "\n",
    "***args**\n",
    "\n",
    "*args, fonksiyonun herhangi bir sayıda konumsal (positional) argüman alabilmesini sağlar. * sembolü, fonksiyona geçirilen argümanların bir tuple olarak toplanacağını belirtir.\n",
    "\n",
    "Tek Yıldız (*): Fonksiyona geçirilecek bir dizi konumsal argümanı yakalamak için kullanılır. Argümanlar tuple olarak toplanır.\n",
    "\n",
    "**kwargs\n",
    "\n",
    "**kwargs, fonksiyonun herhangi bir sayıda anahtar kelime (keyword) argümanı alabilmesini sağlar. ** sembolü, fonksiyona geçirilen anahtar kelime argümanlarının bir sözlük (dictionary) olarak toplanacağını belirtir.\n",
    "\n",
    "Çift Yıldız (**): Fonksiyona geçirilecek bir dizi anahtar kelime argümanı yakalamak için kullanılır. Argümanlar sözlük olarak toplanır.\n",
    "\n",
    "'*' ve ** Sembolünün Diğer Kullanımları\n",
    "\n",
    "* '*' ve ** sembollerinin fonksiyon tanımlarının dışında da kullanımları vardır:\n",
    " * \n",
    "**Listeleri ve Sözlükleri Açma**\n",
    "\n",
    "Listeleri Açma (*): Bir liste veya tuple'ı açarak elemanlarını ayrı ayrı argümanlar olarak geçirme."
   ]
  },
  {
   "cell_type": "markdown",
   "metadata": {},
   "source": [
    "Sözlükleri Açma (**): Bir sözlüğü açarak anahtar kelime argümanları olarak geçirme."
   ]
  },
  {
   "cell_type": "code",
   "execution_count": 102,
   "metadata": {},
   "outputs": [
    {
     "name": "stdout",
     "output_type": "stream",
     "text": [
      "Ad: Ali, Yaş: 25, Şehir: İstanbul\n"
     ]
    }
   ],
   "source": [
    "def bilgiler(ad, yas, sehir):\n",
    "    print(f\"Ad: {ad}, Yaş: {yas}, Şehir: {sehir}\")\n",
    "    \n",
    "    \n",
    "kisi = {\"ad\": \"Ali\", \"yas\": 25, \"sehir\": \"İstanbul\"}\n",
    "\n",
    "bilgiler(**kisi)"
   ]
  },
  {
   "cell_type": "code",
   "execution_count": 103,
   "metadata": {},
   "outputs": [
    {
     "name": "stdout",
     "output_type": "stream",
     "text": [
      "a: 1\n",
      "b: 2\n",
      "args: (3, 4)\n",
      "c: 10\n",
      "kwargs: {'d': 5, 'e': 6}\n"
     ]
    }
   ],
   "source": [
    "def karma_fonksiyon(a, b, *args, c=10, **kwargs):\n",
    "    print(f\"a: {a}\")\n",
    "    print(f\"b: {b}\")\n",
    "    print(f\"args: {args}\")\n",
    "    print(f\"c: {c}\")\n",
    "    print(f\"kwargs: {kwargs}\")\n",
    "    \n",
    "karma_fonksiyon(1, 2, 3, 4, d=5, e=6)"
   ]
  },
  {
   "cell_type": "code",
   "execution_count": 46,
   "metadata": {},
   "outputs": [],
   "source": [
    "def tek_sayilar(*sayilar):\n",
    "    odds = []\n",
    "    \n",
    "    for i in sayilar:\n",
    "        if i % 2:\n",
    "            odds.append(i)\n",
    "            \n",
    "    return odds"
   ]
  },
  {
   "cell_type": "code",
   "execution_count": 47,
   "metadata": {},
   "outputs": [
    {
     "data": {
      "text/plain": [
       "[25, 15, 17]"
      ]
     },
     "execution_count": 47,
     "metadata": {},
     "output_type": "execute_result"
    }
   ],
   "source": [
    "tek_sayilar(4, 25, 36, 15, 17)"
   ]
  },
  {
   "cell_type": "code",
   "execution_count": 48,
   "metadata": {},
   "outputs": [
    {
     "data": {
      "text/plain": [
       "[25, 15, 17, 19]"
      ]
     },
     "execution_count": 48,
     "metadata": {},
     "output_type": "execute_result"
    }
   ],
   "source": [
    "tek_sayilar(4, 25, 36, 15, 17, 2 , 6, 4, 19, 18)"
   ]
  },
  {
   "cell_type": "code",
   "execution_count": 49,
   "metadata": {},
   "outputs": [
    {
     "data": {
      "text/plain": [
       "[]"
      ]
     },
     "execution_count": 49,
     "metadata": {},
     "output_type": "execute_result"
    }
   ],
   "source": [
    "tek_sayilar()"
   ]
  },
  {
   "cell_type": "markdown",
   "metadata": {},
   "source": [
    "Kendisine verilen sayı dizisinin, tek olanların karesini ve çift olanların ise 2 katını alıp başka bir listeye ekleyen fonksiyonu yazınız."
   ]
  },
  {
   "cell_type": "code",
   "execution_count": 50,
   "metadata": {},
   "outputs": [],
   "source": [
    "def transform_numbers(numbers):\n",
    "    yeni_liste = []\n",
    "    \n",
    "    for num in numbers:\n",
    "        if num % 2 == 0:  # Eğer sayı çift ise\n",
    "            yeni_liste.append(num * 2)\n",
    "        else:  # Eğer sayı tek ise\n",
    "            yeni_liste.append(num ** 2)\n",
    "    \n",
    "    return yeni_liste"
   ]
  },
  {
   "cell_type": "code",
   "execution_count": 51,
   "metadata": {},
   "outputs": [
    {
     "name": "stdout",
     "output_type": "stream",
     "text": [
      "[1, 4, 9, 8, 25, 12, 49, 16, 81]\n"
     ]
    }
   ],
   "source": [
    "sayi_dizisi = [1, 2, 3, 4, 5, 6, 7, 8, 9]\n",
    "sonuc = transform_numbers(sayi_dizisi)\n",
    "print(sonuc)"
   ]
  },
  {
   "cell_type": "code",
   "execution_count": 52,
   "metadata": {},
   "outputs": [],
   "source": [
    "def tek_cift(*sayilar):\n",
    "    result = []\n",
    "    \n",
    "    for i in sayilar:\n",
    "        if i % 2:\n",
    "            result.append(i ** 2)\n",
    "        else:\n",
    "            result.append(i * 2)\n",
    "            \n",
    "            \n",
    "    return result"
   ]
  },
  {
   "cell_type": "code",
   "execution_count": 53,
   "metadata": {},
   "outputs": [
    {
     "data": {
      "text/plain": [
       "[1, 4, 9, 8, 25, 12, 49, 16, 81, 20]"
      ]
     },
     "execution_count": 53,
     "metadata": {},
     "output_type": "execute_result"
    }
   ],
   "source": [
    "tek_cift(1, 2, 3, 4, 5, 6, 7, 8, 9, 10)"
   ]
  },
  {
   "cell_type": "code",
   "execution_count": 54,
   "metadata": {},
   "outputs": [],
   "source": [
    "def tek_cift3(*sayilar):\n",
    "    return [i ** 2 if i % 2 else i * 2 for i in sayilar]"
   ]
  },
  {
   "cell_type": "code",
   "execution_count": 55,
   "metadata": {},
   "outputs": [
    {
     "data": {
      "text/plain": [
       "[1, 4, 9, 8, 25, 12, 49, 16, 81]"
      ]
     },
     "execution_count": 55,
     "metadata": {},
     "output_type": "execute_result"
    }
   ],
   "source": [
    "tek_cift3(*range(1, 10))"
   ]
  },
  {
   "cell_type": "code",
   "execution_count": 56,
   "metadata": {},
   "outputs": [
    {
     "name": "stdout",
     "output_type": "stream",
     "text": [
      "m e r h a b a\n"
     ]
    }
   ],
   "source": [
    "print(*\"merhaba\")"
   ]
  },
  {
   "cell_type": "code",
   "execution_count": 57,
   "metadata": {},
   "outputs": [
    {
     "ename": "TypeError",
     "evalue": "__main__.tek_cift() argument after * must be an iterable, not int",
     "output_type": "error",
     "traceback": [
      "\u001b[1;31m---------------------------------------------------------------------------\u001b[0m",
      "\u001b[1;31mTypeError\u001b[0m                                 Traceback (most recent call last)",
      "Cell \u001b[1;32mIn[57], line 2\u001b[0m\n\u001b[0;32m      1\u001b[0m \u001b[38;5;28;01mimport\u001b[39;00m \u001b[38;5;21;01mrandom\u001b[39;00m\n\u001b[1;32m----> 2\u001b[0m \u001b[43mtek_cift\u001b[49m\u001b[43m(\u001b[49m\u001b[38;5;241;43m*\u001b[39;49m\u001b[43mrandom\u001b[49m\u001b[38;5;241;43m.\u001b[39;49m\u001b[43mrandint\u001b[49m\u001b[43m(\u001b[49m\u001b[38;5;241;43m1\u001b[39;49m\u001b[43m,\u001b[49m\u001b[38;5;241;43m10\u001b[39;49m\u001b[43m)\u001b[49m\u001b[43m)\u001b[49m\n",
      "\u001b[1;31mTypeError\u001b[0m: __main__.tek_cift() argument after * must be an iterable, not int"
     ]
    }
   ],
   "source": [
    "import random\n",
    "tek_cift(*random.randint(1,10))"
   ]
  },
  {
   "cell_type": "code",
   "execution_count": 59,
   "metadata": {},
   "outputs": [
    {
     "data": {
      "text/plain": [
       "[12]"
      ]
     },
     "execution_count": 59,
     "metadata": {},
     "output_type": "execute_result"
    }
   ],
   "source": [
    "import random\n",
    "tek_cift(random.randrange(1,10))"
   ]
  },
  {
   "cell_type": "code",
   "execution_count": 117,
   "metadata": {},
   "outputs": [
    {
     "data": {
      "text/plain": [
       "{'name1': 'Şükrü', 'name2': 'Kadir', 'name3': 'Hanife'}"
      ]
     },
     "execution_count": 117,
     "metadata": {},
     "output_type": "execute_result"
    }
   ],
   "source": [
    "dict1 = {\"name1\": \"Şükrü\", \"name2\": \"Kadir\", \"name3\": \"Hanife\"}\n",
    "dict1"
   ]
  },
  {
   "cell_type": "code",
   "execution_count": 118,
   "metadata": {},
   "outputs": [],
   "source": [
    "def kwargs_function(**kwargs):\n",
    "    for i, j in kwargs.items():\n",
    "        print(f\"key: {i}, value: {j}\")"
   ]
  },
  {
   "cell_type": "code",
   "execution_count": 119,
   "metadata": {},
   "outputs": [
    {
     "name": "stdout",
     "output_type": "stream",
     "text": [
      "key: name1, value: Şükrü\n",
      "key: name2, value: Kadir\n",
      "key: name3, value: Hanife\n"
     ]
    }
   ],
   "source": [
    "kwargs_function(**dict1)"
   ]
  },
  {
   "cell_type": "markdown",
   "metadata": {},
   "source": [
    "**lambda Fonksiyonları**\n",
    "\n",
    "lambda, Python'da tek satırlık anonim (isimsiz) fonksiyonlar tanımlamak için kullanılır. Genelde kısa süreli işlemler için kullanılır ve def anahtar kelimesine ihtiyaç duymaz."
   ]
  },
  {
   "cell_type": "markdown",
   "metadata": {},
   "source": [
    "lambda arg1, arg2, ... : ifade"
   ]
  },
  {
   "cell_type": "code",
   "execution_count": 17,
   "metadata": {},
   "outputs": [
    {
     "name": "stdout",
     "output_type": "stream",
     "text": [
      "10\n",
      "7\n"
     ]
    }
   ],
   "source": [
    "# Bir sayıyı ikiyle çarpan lambda fonksiyonu\n",
    "carp = lambda x: x * 2\n",
    "print(carp(5))  # Çıktı: 10\n",
    "\n",
    "# İki sayıyı toplayan lambda fonksiyonu\n",
    "topla = lambda a, b: a + b\n",
    "print(topla(3, 4))  # Çıktı: 7"
   ]
  },
  {
   "cell_type": "markdown",
   "metadata": {},
   "source": [
    "**filter Fonksiyonu**\n",
    "\n",
    "filter, bir veri kümesinde belirli bir koşulu sağlayan elemanları filtrelemek için kullanılır. Koşul, bir fonksiyonla tanımlanır."
   ]
  },
  {
   "cell_type": "markdown",
   "metadata": {},
   "source": [
    "filter(fonksiyon, iterable)"
   ]
  },
  {
   "cell_type": "markdown",
   "metadata": {},
   "source": [
    "fonksiyon: Her bir elemanı değerlendirir ve True dönerse eleman tutulur.\n",
    "\n",
    "iterable: Liste, tuple, set vb."
   ]
  },
  {
   "cell_type": "code",
   "execution_count": 19,
   "metadata": {},
   "outputs": [
    {
     "name": "stdout",
     "output_type": "stream",
     "text": [
      "[1, 2, 3]\n"
     ]
    }
   ],
   "source": [
    "# Pozitif sayıları filtreleyen fonksiyon\n",
    "sayilar = [-2, -1, 0, 1, 2, 3]\n",
    "pozitifler = filter(lambda x: x > 0, sayilar)\n",
    "print(list(pozitifler))  # Çıktı: [1, 2, 3]"
   ]
  },
  {
   "cell_type": "markdown",
   "metadata": {},
   "source": [
    "**map Fonksiyonu**\n",
    "\n",
    "- map, bir fonksiyonu bir iterable'ın (ör. liste) her elemanına uygular ve sonuçları döner.\n",
    "\n",
    "- fonksiyon: Her bir elemanı dönüştürmek için uygulanır.\n",
    "- iterable: Liste, tuple, set vb."
   ]
  },
  {
   "cell_type": "code",
   "execution_count": null,
   "metadata": {},
   "outputs": [],
   "source": [
    "map(fonksiyon, iterable)"
   ]
  },
  {
   "cell_type": "code",
   "execution_count": 20,
   "metadata": {},
   "outputs": [
    {
     "name": "stdout",
     "output_type": "stream",
     "text": [
      "[2, 4, 6, 8]\n"
     ]
    }
   ],
   "source": [
    "# Bir listenin her elemanını ikiyle çarpan örnek\n",
    "sayilar = [1, 2, 3, 4]\n",
    "carpim = map(lambda x: x * 2, sayilar)\n",
    "print(list(carpim))  # Çıktı: [2, 4, 6, 8]"
   ]
  },
  {
   "cell_type": "markdown",
   "metadata": {},
   "source": [
    "Tüm Kavramları Birlikte Kullanma:\n",
    "Aşağıdaki örnekte lambda, filter, map ve enumerate bir arada kullanılıyor."
   ]
  },
  {
   "cell_type": "code",
   "execution_count": 21,
   "metadata": {},
   "outputs": [
    {
     "name": "stdout",
     "output_type": "stream",
     "text": [
      "1. Sonuç: 2\n",
      "2. Sonuç: 4\n",
      "3. Sonuç: 6\n"
     ]
    }
   ],
   "source": [
    "# Sayılar listesi\n",
    "sayilar = [-3, -2, -1, 0, 1, 2, 3]\n",
    "\n",
    "# 1. Pozitif sayıları filtrele\n",
    "pozitifler = filter(lambda x: x > 0, sayilar)\n",
    "\n",
    "# 2. Pozitif sayıları ikiyle çarp\n",
    "carpim = map(lambda x: x * 2, pozitifler)\n",
    "\n",
    "# 3. Sonuçları indeksleriyle yazdır\n",
    "for index, sonuc in enumerate(carpim, start=1):\n",
    "    print(f\"{index}. Sonuç: {sonuc}\")\n",
    "# Çıktı:\n",
    "# 1. Sonuç: 2\n",
    "# 2. Sonuç: 4\n",
    "# 3. Sonuç: 6"
   ]
  },
  {
   "cell_type": "markdown",
   "metadata": {},
   "source": [
    "| Fonksiyon   | Amaç                                             | Kullanım Örneği                                        |\n",
    "|-------------|--------------------------------------------------|--------------------------------------------------------|\n",
    "| lambda      | Tek satırlık anonim fonksiyon tanımlamak         | `lambda x: x * 2`                                      |\n",
    "| filter      | Belirli bir koşulu sağlayan elemanları filtrelemek| `filter(lambda x: x > 0, [-2, -1, 0, 1])`             |\n",
    "| map         | Bir fonksiyonu tüm elemanlara uygulamak          | `map(lambda x: x * 2, [1, 2, 3])`                     |\n",
    "| enumerate   | Bir iterable'ın elemanlarını indeksleriyle birlikte döndürmek | `enumerate(['elma', 'armut'], start=1)`              |\n"
   ]
  },
  {
   "cell_type": "markdown",
   "metadata": {},
   "source": [
    "**enumerate Fonksiyonu**\n",
    "\n",
    "enumerate, bir iterable (ör. liste, tuple) üzerindeki elemanları indeksleriyle birlikte döndürür. Bu, özellikle bir döngü sırasında indekslere erişim gerektiğinde çok kullanışlıdır.\n",
    "\n"
   ]
  },
  {
   "cell_type": "code",
   "execution_count": null,
   "metadata": {},
   "outputs": [],
   "source": [
    "enumerate(iterable, start=0)"
   ]
  },
  {
   "cell_type": "markdown",
   "metadata": {},
   "source": [
    "- iterable: Liste, tuple, set gibi bir koleksiyon.\n",
    "- start: Dönen indekslerin başlangıç değeri (varsayılan: 0)."
   ]
  },
  {
   "cell_type": "code",
   "execution_count": 22,
   "metadata": {},
   "outputs": [
    {
     "name": "stdout",
     "output_type": "stream",
     "text": [
      "0: elma\n",
      "1: armut\n",
      "2: muz\n"
     ]
    }
   ],
   "source": [
    "#Listeyi indexlerle yazdırma\n",
    "\n",
    "meyveler = ['elma', 'armut', 'muz']\n",
    "\n",
    "for index, meyve in enumerate(meyveler):\n",
    "    print(f\"{index}: {meyve}\")\n",
    "\n",
    "# Çıktı:\n",
    "# 0: elma\n",
    "# 1: armut\n",
    "# 2: muz"
   ]
  },
  {
   "cell_type": "code",
   "execution_count": 23,
   "metadata": {},
   "outputs": [
    {
     "name": "stdout",
     "output_type": "stream",
     "text": [
      "1: elma\n",
      "2: armut\n",
      "3: muz\n"
     ]
    }
   ],
   "source": [
    "# İndeksleri Farklı Bir Değerden Başlatma\n",
    "\n",
    "meyveler = ['elma', 'armut', 'muz']\n",
    "\n",
    "for index, meyve in enumerate(meyveler, start=1):\n",
    "    print(f\"{index}: {meyve}\")\n",
    "\n",
    "# Çıktı:\n",
    "# 1: elma\n",
    "# 2: armut\n",
    "# 3: muz"
   ]
  },
  {
   "cell_type": "code",
   "execution_count": 24,
   "metadata": {},
   "outputs": [
    {
     "name": "stdout",
     "output_type": "stream",
     "text": [
      "[(0, 'elma'), (1, 'armut'), (2, 'muz')]\n"
     ]
    }
   ],
   "source": [
    "# İndeks ve Değeri Listede Tutma\n",
    "\n",
    "meyveler = ['elma', 'armut', 'muz']\n",
    "\n",
    "# enumerate çıktısını listeye dönüştürme\n",
    "liste = list(enumerate(meyveler))\n",
    "print(liste)\n",
    "\n",
    "# Çıktı: [(0, 'elma'), (1, 'armut'), (2, 'muz')]\n"
   ]
  },
  {
   "cell_type": "code",
   "execution_count": 25,
   "metadata": {},
   "outputs": [
    {
     "name": "stdout",
     "output_type": "stream",
     "text": [
      "['ELMA', 'ARMUT', 'MUZ']\n"
     ]
    }
   ],
   "source": [
    "# Liste Elemanlarının Değiştirilmesi\n",
    "\n",
    "meyveler = ['elma', 'armut', 'muz']\n",
    "for index, meyve in enumerate(meyveler):\n",
    "    meyveler[index] = meyve.upper()\n",
    "\n",
    "print(meyveler)\n",
    "# Çıktı: ['ELMA', 'ARMUT', 'MUZ']"
   ]
  },
  {
   "cell_type": "markdown",
   "metadata": {},
   "source": [
    "### Zip Fonksiyonu\n",
    "\n",
    "zip, birden fazla iterable'ın elemanlarını eşleştirerek bir tuple oluşturur. Elemanlar sırayla eşleştirilir ve en kısa iterable kadar işlem yapılır."
   ]
  },
  {
   "cell_type": "code",
   "execution_count": null,
   "metadata": {},
   "outputs": [],
   "source": [
    "zip(iterable1, iterable2, ...)"
   ]
  },
  {
   "cell_type": "markdown",
   "metadata": {},
   "source": [
    "iterable1, iterable2, ...: Liste, tuple, string gibi birden fazla iterable."
   ]
  },
  {
   "cell_type": "code",
   "execution_count": 26,
   "metadata": {},
   "outputs": [
    {
     "name": "stdout",
     "output_type": "stream",
     "text": [
      "[('Ali', 25), ('Ayşe', 30), ('Mehmet', 35)]\n"
     ]
    }
   ],
   "source": [
    "# İki Listenin Elemanlarını Birleştirme\n",
    "\n",
    "isimler = ['Ali', 'Ayşe', 'Mehmet']\n",
    "yaslar = [25, 30, 35]\n",
    "\n",
    "birlesim = zip(isimler, yaslar)\n",
    "print(list(birlesim))\n",
    "\n",
    "# Çıktı: [('Ali', 25), ('Ayşe', 30), ('Mehmet', 35)]"
   ]
  },
  {
   "cell_type": "code",
   "execution_count": 27,
   "metadata": {},
   "outputs": [
    {
     "name": "stdout",
     "output_type": "stream",
     "text": [
      "{'isim': 'Ahmet', 'yas': 28, 'sehir': 'Ankara'}\n"
     ]
    }
   ],
   "source": [
    "# Listelerin Elemanlarını Eşleştirerek Sözlük Oluşturma\n",
    "\n",
    "anahtarlar = ['isim', 'yas', 'sehir']\n",
    "degerler = ['Ahmet', 28, 'Ankara']\n",
    "\n",
    "sozluk = dict(zip(anahtarlar, degerler))\n",
    "print(sozluk)\n",
    "\n",
    "# Çıktı: {'isim': 'Ahmet', 'yas': 28, 'sehir': 'Ankara'}"
   ]
  },
  {
   "cell_type": "code",
   "execution_count": 28,
   "metadata": {},
   "outputs": [
    {
     "name": "stdout",
     "output_type": "stream",
     "text": [
      "[(1, 'a'), (2, 'b')]\n"
     ]
    }
   ],
   "source": [
    "# Farklı Uzunluktaki Listeler\n",
    "\n",
    "liste1 = [1, 2, 3]\n",
    "liste2 = ['a', 'b']\n",
    "\n",
    "sonuc = list(zip(liste1, liste2))\n",
    "print(sonuc)\n",
    "\n",
    "# Çıktı: [(1, 'a'), (2, 'b')]"
   ]
  },
  {
   "cell_type": "code",
   "execution_count": 29,
   "metadata": {},
   "outputs": [
    {
     "name": "stdout",
     "output_type": "stream",
     "text": [
      "Ali adlı öğrencinin notu: 85\n",
      "Ayşe adlı öğrencinin notu: 90\n",
      "Mehmet adlı öğrencinin notu: 95\n"
     ]
    }
   ],
   "source": [
    "# zip ile Döngü Kullanımı\n",
    "\n",
    "ogrenciler = ['Ali', 'Ayşe', 'Mehmet']\n",
    "notlar = [85, 90, 95]\n",
    "\n",
    "for ogrenci, notu in zip(ogrenciler, notlar):\n",
    "    print(f\"{ogrenci} adlı öğrencinin notu: {notu}\")\n",
    "\n",
    "# Çıktı:\n",
    "# Ali adlı öğrencinin notu: 85\n",
    "# Ayşe adlı öğrencinin notu: 90\n",
    "# Mehmet adlı öğrencinin notu: 95"
   ]
  },
  {
   "cell_type": "code",
   "execution_count": 30,
   "metadata": {},
   "outputs": [
    {
     "name": "stdout",
     "output_type": "stream",
     "text": [
      "[(1, 4, 7), (2, 5, 8), (3, 6, 9)]\n"
     ]
    }
   ],
   "source": [
    "# zip ile Transpoz Oluşturma\n",
    "\n",
    "matris = [\n",
    "    [1, 2, 3],\n",
    "    [4, 5, 6],\n",
    "    [7, 8, 9]\n",
    "]\n",
    "\n",
    "transpoz = list(zip(*matris))\n",
    "print(transpoz)\n",
    "\n",
    "# Çıktı: [(1, 4, 7), (2, 5, 8), (3, 6, 9)]"
   ]
  },
  {
   "cell_type": "code",
   "execution_count": 31,
   "metadata": {},
   "outputs": [
    {
     "name": "stdout",
     "output_type": "stream",
     "text": [
      "1. Ali adlı öğrencinin notu: 85\n",
      "2. Ayşe adlı öğrencinin notu: 90\n",
      "3. Mehmet adlı öğrencinin notu: 95\n"
     ]
    }
   ],
   "source": [
    "# enumerate ve zip Birlikte Kullanımı\n",
    "\n",
    "ogrenciler = ['Ali', 'Ayşe', 'Mehmet']\n",
    "notlar = [85, 90, 95]\n",
    "\n",
    "for index, (ogrenci, notu) in enumerate(zip(ogrenciler, notlar), start=1):\n",
    "    print(f\"{index}. {ogrenci} adlı öğrencinin notu: {notu}\")\n",
    "\n",
    "# Çıktı:\n",
    "# 1. Ali adlı öğrencinin notu: 85\n",
    "# 2. Ayşe adlı öğrencinin notu: 90\n",
    "# 3. Mehmet adlı öğrencinin notu: 95"
   ]
  },
  {
   "cell_type": "markdown",
   "metadata": {},
   "source": [
    "### Özet Tablosu\n",
    "\n",
    "| **Fonksiyon** | **Amaç**                                         | **Örnek Kullanım**                      |\n",
    "|---------------|--------------------------------------------------|------------------------------------------|\n",
    "| `enumerate`   | Iterable'ı indeksleriyle birlikte döner          | `enumerate(['elma', 'armut'])`           |\n",
    "| `zip`         | Birden fazla iterable'ın elemanlarını eşleştirerek tuple döner | `zip(['Ali'], [25])`                    |"
   ]
  },
  {
   "cell_type": "markdown",
   "metadata": {},
   "source": [
    "### Python'da Değişken Kapsam (Variable Scope) Türleri (LEGB Kuralı)\n",
    "Python'da LEGB (Local, Enclosing, Global, Built-in) kuralı, değişkenin hangi kapsamdan erişileceğini belirler:\n",
    "\n",
    "- Local (Yerel Kapsam):\n",
    "Bir fonksiyon veya blok içinde tanımlanan değişkenlerdir.\n",
    "Sadece o fonksiyon veya blok içinde erişilebilir.\n",
    "- Enclosing (İç İçe Kapsam):\n",
    "\n",
    "Bir iç içe fonksiyon yapısında, iç fonksiyondan dış (kapsayan) fonksiyona ait değişkenlere erişilebilir.\n",
    "İç içe fonksiyonlarda bir kademe yukarıya bakılır.\n",
    "\n",
    "- Global (Genel Kapsam):\n",
    "Fonksiyonlar veya sınıflar dışında tanımlanan değişkenlerdir.\n",
    "Tüm kodda erişilebilir, ancak bir fonksiyon içinde global anahtar kelimesi olmadan değiştirilemez.\n",
    "\n",
    "- Built-in (Yerleşik Kapsam):\n",
    "Python tarafından sağlanan, tüm programda her yerden erişilebilen yerleşik fonksiyonlar ve anahtar kelimelerdir (örneğin, print, len, range)."
   ]
  },
  {
   "cell_type": "markdown",
   "metadata": {},
   "source": [
    "1. Local Scope (Yerel Kapsam)\n",
    "Bir değişken bir fonksiyonun içinde tanımlanırsa, yerel kapsamda olur. Fonksiyon dışında erişilemez."
   ]
  },
  {
   "cell_type": "code",
   "execution_count": null,
   "metadata": {},
   "outputs": [],
   "source": [
    "def fonksiyon():\n",
    "    x = 10  # Yerel değişken\n",
    "    print(x)\n",
    "\n",
    "fonksiyon()  # Çıktı: 10\n",
    "print(x)     # Hata: NameError: name 'x' is not defined"
   ]
  },
  {
   "cell_type": "markdown",
   "metadata": {},
   "source": [
    "2. Enclosing Scope (Kapsayan Kapsam)\n",
    "Bir iç içe fonksiyonda, iç fonksiyon dış fonksiyonun değişkenlerine erişebilir. Ancak iç fonksiyon değişkenleri sadece o fonksiyonda geçerlidir."
   ]
  },
  {
   "cell_type": "code",
   "execution_count": null,
   "metadata": {},
   "outputs": [],
   "source": [
    "def dis_fonksiyon():\n",
    "    y = \"Dış Değişken\"\n",
    "\n",
    "    def ic_fonksiyon():\n",
    "        print(y)  # Dış fonksiyonun değişkenine erişim\n",
    "    \n",
    "    ic_fonksiyon()\n",
    "\n",
    "dis_fonksiyon()  # Çıktı: Dış Değişken"
   ]
  },
  {
   "cell_type": "markdown",
   "metadata": {},
   "source": [
    "Not:\n",
    "Dış fonksiyondaki bir değişkeni iç fonksiyonda değiştirmek isterseniz, nonlocal anahtar kelimesini kullanmanız gerekir."
   ]
  },
  {
   "cell_type": "code",
   "execution_count": 42,
   "metadata": {},
   "outputs": [
    {
     "name": "stdout",
     "output_type": "stream",
     "text": [
      "15\n"
     ]
    }
   ],
   "source": [
    "# nonlocal Örnek:\n",
    "\n",
    "def dis_fonksiyon():\n",
    "    y = 10\n",
    "\n",
    "    def ic_fonksiyon():\n",
    "        nonlocal y\n",
    "        y += 5\n",
    "\n",
    "    ic_fonksiyon()\n",
    "    print(y)  # Çıktı: 15\n",
    "\n",
    "dis_fonksiyon()"
   ]
  },
  {
   "cell_type": "markdown",
   "metadata": {},
   "source": [
    "3. Global Scope (Genel Kapsam)\n",
    "Bir değişken fonksiyon dışında tanımlanırsa, globaldir. Tüm kodda erişilebilir."
   ]
  },
  {
   "cell_type": "code",
   "execution_count": 43,
   "metadata": {},
   "outputs": [
    {
     "name": "stdout",
     "output_type": "stream",
     "text": [
      "100\n"
     ]
    }
   ],
   "source": [
    "x = 100  # Global değişken\n",
    "\n",
    "def fonksiyon():\n",
    "    print(x)  # Global değişkene erişim\n",
    "\n",
    "fonksiyon()  # Çıktı: 100"
   ]
  },
  {
   "cell_type": "markdown",
   "metadata": {},
   "source": [
    "Global Değişkeni Fonksiyon İçinde Değiştirme:\n",
    "Global bir değişkeni fonksiyon içinde değiştirmek için global anahtar kelimesi kullanılır."
   ]
  },
  {
   "cell_type": "code",
   "execution_count": 44,
   "metadata": {},
   "outputs": [
    {
     "name": "stdout",
     "output_type": "stream",
     "text": [
      "15\n"
     ]
    }
   ],
   "source": [
    "x = 10\n",
    "\n",
    "def degistir():\n",
    "    global x\n",
    "    x += 5\n",
    "\n",
    "degistir()\n",
    "print(x)  # Çıktı: 15"
   ]
  },
  {
   "cell_type": "markdown",
   "metadata": {},
   "source": [
    "4. Built-in Scope (Yerleşik Kapsam)\n",
    "Python, yerleşik bazı fonksiyonları ve değişkenleri varsayılan olarak sağlar. Örneğin: print, len, max, min."
   ]
  },
  {
   "cell_type": "code",
   "execution_count": 45,
   "metadata": {},
   "outputs": [
    {
     "name": "stdout",
     "output_type": "stream",
     "text": [
      "3\n"
     ]
    }
   ],
   "source": [
    "# Yerleşik bir fonksiyon olan `len` kullanımı\n",
    "liste = [1, 2, 3]\n",
    "print(len(liste))  # Çıktı: 3"
   ]
  },
  {
   "cell_type": "markdown",
   "metadata": {},
   "source": [
    "Yerleşik Fonksiyonu Gölgeleme:\n",
    "Kendi değişken veya fonksiyonunuz, yerleşik isimlerle çakışabilir. Bu tür durumlarda dikkatli olunmalıdır."
   ]
  },
  {
   "cell_type": "code",
   "execution_count": 46,
   "metadata": {},
   "outputs": [
    {
     "name": "stdout",
     "output_type": "stream",
     "text": [
      "10\n"
     ]
    }
   ],
   "source": [
    "len = 10  # Yerleşik `len` fonksiyonu artık kullanılamaz\n",
    "print(len)  # Çıktı: 10\n",
    "# print(len([1, 2, 3]))  # Hata: TypeError: 'int' object is not callable"
   ]
  },
  {
   "cell_type": "markdown",
   "metadata": {},
   "source": [
    "**Örnek: LEGB Kuralını Gösterme**"
   ]
  },
  {
   "cell_type": "code",
   "execution_count": 47,
   "metadata": {},
   "outputs": [
    {
     "name": "stdout",
     "output_type": "stream",
     "text": [
      "local x\n",
      "enclosing x\n",
      "global x\n"
     ]
    }
   ],
   "source": [
    "x = \"global x\"  # Global kapsam\n",
    "\n",
    "def dis_fonksiyon():\n",
    "    x = \"enclosing x\"  # Enclosing kapsam\n",
    "\n",
    "    def ic_fonksiyon():\n",
    "        x = \"local x\"  # Local kapsam\n",
    "        print(x)  # Local kapsamdan x\n",
    "\n",
    "    ic_fonksiyon()\n",
    "    print(x)  # Enclosing kapsamdan x\n",
    "\n",
    "dis_fonksiyon()\n",
    "print(x)  # Global kapsamdan x"
   ]
  },
  {
   "cell_type": "code",
   "execution_count": null,
   "metadata": {
    "vscode": {
     "languageId": "sql"
    }
   },
   "outputs": [],
   "source": [
    "local x\n",
    "enclosing x\n",
    "global x"
   ]
  },
  {
   "cell_type": "markdown",
   "metadata": {},
   "source": [
    "## Variable Scope'u Anlamanın Önemi\n",
    "Variable scope'u anlamak, özellikle hataları önlemek ve kodun doğru çalışmasını sağlamak açısından kritiktir. Yanlış değişken erişimi, beklenmeyen sonuçlara ve hata mesajlarına yol açabilir."
   ]
  },
  {
   "cell_type": "code",
   "execution_count": 49,
   "metadata": {},
   "outputs": [
    {
     "name": "stdout",
     "output_type": "stream",
     "text": [
      "10\n",
      "20\n"
     ]
    }
   ],
   "source": [
    "sayi4 = 10  # Global değişken 'sayi4', değeri 10 olarak tanımlandı.\n",
    "\n",
    "def modify_global():  # 'modify_global' adında bir fonksiyon tanımlanıyor.\n",
    "    global sayi4  # Fonksiyon içinde global 'sayi4' değişkenine erişim sağlanıyor.\n",
    "    sayi4 = 20  # Global 'sayi4' değişkeninin değeri 20 olarak güncelleniyor.\n",
    "    \n",
    "    \n",
    "print(sayi4)  # Fonksiyon çağrılmadan önce 'sayi4' değişkeni ekrana yazdırılıyor. Çıktı: 10\n",
    "modify_global() # 'modify_global' fonksiyonu çağrılıyor. Bu, 'sayi4' değerini global olarak 20'ye değiştirir.\n",
    "print(sayi4)  # Fonksiyon çağrıldıktan sonra güncellenen 'sayi4' değeri ekrana yazdırılıyor. Çıktı: 20\n",
    "\n",
    "# bu kodda global anahtar kelimesi kullanılarak, global bir değişken fonksiyonun dışındaki kapsamda da değiştirilmiş oldu."
   ]
  },
  {
   "cell_type": "markdown",
   "metadata": {},
   "source": [
    "### Kapsam Özet Tablosu\n",
    "\n",
    "| **Kapsam Türü**  | **Tanım**                                                                 | **Erişim Alanı**                                  |\n",
    "|-------------------|--------------------------------------------------------------------------|--------------------------------------------------|\n",
    "| **Local**         | Fonksiyon içinde tanımlanan değişkenler                                  | Sadece o fonksiyon                               |\n",
    "| **Enclosing**     | İç içe fonksiyonlarda, dış (kapsayan) fonksiyonun değişkenleri          | Sadece iç fonksiyondan okunabilir                |\n",
    "| **Global**        | Fonksiyon veya sınıf dışında tanımlanan değişkenler                     | Tüm kod boyunca erişilebilir                     |\n",
    "| **Built-in**      | Python tarafından sağlanan yerleşik değişkenler ve fonksiyonlar         | Her yerden erişilebilir                          |"
   ]
  },
  {
   "cell_type": "markdown",
   "metadata": {},
   "source": [
    "**dict():**\n",
    "\n",
    "Tanım: dict() Python'da bir sözlük (dictionary) oluşturmak için kullanılan yerleşik bir fonksiyondur.\n",
    "\n",
    "Kullanım: dict() fonksiyonu, anahtar-değer çiftlerinden oluşan bir sözlük oluşturmanıza olanak tanır."
   ]
  },
  {
   "cell_type": "code",
   "execution_count": 64,
   "metadata": {},
   "outputs": [
    {
     "name": "stdout",
     "output_type": "stream",
     "text": [
      "{}\n",
      "{'name': 'Ali', 'age': 30}\n"
     ]
    }
   ],
   "source": [
    "# Boş bir sözlük oluşturma\n",
    "my_dict = dict()\n",
    "print(my_dict)  # {}\n",
    "\n",
    "# Anahtar-değer çiftleri ile sözlük oluşturma\n",
    "my_dict = dict(name=\"Ali\", age=30)\n",
    "print(my_dict)  # {'name': 'Ali', 'age': 30}"
   ]
  },
  {
   "cell_type": "markdown",
   "metadata": {},
   "source": [
    "**get():**\n",
    "\n",
    "Tanım: get() metodu, bir sözlükte belirtilen anahtara karşılık gelen değeri döndüren bir metottur. Eğer anahtar sözlükte bulunmazsa, hata yerine None döner veya belirli bir varsayılan değeri döndürebilir.\n",
    "\n",
    "Kullanım: Bu metot, anahtarın olup olmadığını kontrol etmek için kullanışlıdır. Eğer anahtar mevcut değilse, hata almazsınız; yerine bir varsayılan değer dönebilir."
   ]
  },
  {
   "cell_type": "code",
   "execution_count": 65,
   "metadata": {},
   "outputs": [
    {
     "name": "stdout",
     "output_type": "stream",
     "text": [
      "Ali\n",
      "None\n",
      "Bilinmiyor\n"
     ]
    }
   ],
   "source": [
    "my_dict = {\"name\": \"Ali\", \"age\": 30}\n",
    "\n",
    "# Anahtar varsa, değeri döndürür\n",
    "print(my_dict.get(\"name\"))  # 'Ali'\n",
    "\n",
    "# Anahtar yoksa, None döner\n",
    "print(my_dict.get(\"address\"))  # None\n",
    "\n",
    "# Anahtar yoksa, belirtilen varsayılan değeri döndürür\n",
    "print(my_dict.get(\"address\", \"Bilinmiyor\"))  # 'Bilinmiyor'"
   ]
  },
  {
   "cell_type": "markdown",
   "metadata": {},
   "source": [
    "`dict()`, boş veya verilen anahtar-değer çiftleriyle yeni bir sözlük oluşturur.\n",
    "\n",
    "`get()`, belirtilen anahtarın değerini döndürür ve anahtar yoksa varsayılan bir değer döndürebilir veya None döner."
   ]
  },
  {
   "cell_type": "markdown",
   "metadata": {},
   "source": [
    "### **Try and Except Blocks - Hata Yönetimi**\n",
    "\n",
    "Python'da hata yönetimi, programın çalışma sırasında meydana gelebilecek hataların (exceptions) kontrol edilmesini sağlar. Hata yönetimi için Python'da try ve except blokları kullanılır. Bu yapı, hataların programın çökmesine neden olmadan düzgün bir şekilde ele alınmasını sağlar.\n",
    "\n",
    "Hatalar, bir programın çalışmasını beklenmedik bir şekilde durdurabilir. Örneğin:\n",
    "\n",
    "- Bir dosya bulunamadığında.\n",
    "- Bir sayıyı sıfıra böldüğünüzde.\n",
    "- Geçersiz bir giriş aldığınızda.\n",
    "\n",
    "Python, bu tür hataları istisna (exception) olarak ifade eder. Hataları önlemek için:\n",
    "\n",
    "- Hata türünü kontrol edebilirsiniz.\n",
    "- Programın belirli bir işlemi yapmaya devam etmesini sağlayabilirsiniz.\n"
   ]
  },
  {
   "cell_type": "markdown",
   "metadata": {},
   "source": [
    "#### try ve except Blokları\n",
    "\n",
    "try bloğu, hataların meydana gelebileceği kodları içerir. Eğer bir hata oluşursa, except bloğuna geçilir ve hata ele alınır."
   ]
  },
  {
   "cell_type": "code",
   "execution_count": null,
   "metadata": {},
   "outputs": [],
   "source": [
    "try:\n",
    "    # Hata oluşturabilecek kod\n",
    "    risky_code()\n",
    "except ExceptionType:\n",
    "    # Hata durumunda çalışacak kod\n",
    "    handle_error()"
   ]
  },
  {
   "cell_type": "code",
   "execution_count": 50,
   "metadata": {},
   "outputs": [
    {
     "name": "stdout",
     "output_type": "stream",
     "text": [
      "Sonuç: 0.5\n"
     ]
    }
   ],
   "source": [
    "# Örnek 1: Hata Yönetimi ile Basit Bölme İşlemi\n",
    "\n",
    "try:\n",
    "    x = int(input(\"Bir sayı girin: \"))\n",
    "    y = int(input(\"Bir sayı daha girin: \"))\n",
    "    sonuc = x / y\n",
    "    print(\"Sonuç:\", sonuc)\n",
    "except ZeroDivisionError:\n",
    "    print(\"Hata: Bir sayıyı sıfıra bölemezsiniz!\")\n",
    "except ValueError:\n",
    "    print(\"Hata: Lütfen sadece sayıları girin.\")"
   ]
  },
  {
   "cell_type": "markdown",
   "metadata": {},
   "source": [
    "**Genel Bir Hata Yakalama**\n",
    "\n",
    "Eğer hatanın türünü bilmiyorsanız, genel olarak tüm hataları Exception ile yakalayabilirsiniz."
   ]
  },
  {
   "cell_type": "code",
   "execution_count": 52,
   "metadata": {},
   "outputs": [
    {
     "name": "stdout",
     "output_type": "stream",
     "text": [
      "Bir hata oluştu: list index out of range\n"
     ]
    }
   ],
   "source": [
    "try:\n",
    "    sayilar = [1, 2, 3]\n",
    "    print(sayilar[5])  # Liste sınırlarının dışında bir indeks\n",
    "except Exception as e:\n",
    "    print(f\"Bir hata oluştu: {e}\")"
   ]
  },
  {
   "cell_type": "markdown",
   "metadata": {},
   "source": [
    "**else Bloğu**\n",
    "\n",
    "else bloğu, eğer try bloğunda herhangi bir hata oluşmazsa çalışır."
   ]
  },
  {
   "cell_type": "code",
   "execution_count": 53,
   "metadata": {},
   "outputs": [
    {
     "name": "stdout",
     "output_type": "stream",
     "text": [
      "Sonuç: 5.0\n"
     ]
    }
   ],
   "source": [
    "try:\n",
    "    x = 10\n",
    "    y = 2\n",
    "    sonuc = x / y\n",
    "except ZeroDivisionError:\n",
    "    print(\"Sıfıra bölme hatası!\")\n",
    "else:\n",
    "    print(\"Sonuç:\", sonuc)"
   ]
  },
  {
   "cell_type": "markdown",
   "metadata": {},
   "source": [
    "**finally Bloğu**\n",
    "\n",
    "finally bloğu, hata oluşsa da oluşmasa da her durumda çalışır. Genelde kaynak temizleme işlemleri için kullanılır."
   ]
  },
  {
   "cell_type": "code",
   "execution_count": 54,
   "metadata": {},
   "outputs": [
    {
     "name": "stdout",
     "output_type": "stream",
     "text": [
      "Hata: Dosya bulunamadı.\n",
      "İşlem tamamlandı.\n"
     ]
    }
   ],
   "source": [
    "try:\n",
    "    dosya = open(\"veri.txt\", \"r\")\n",
    "    print(dosya.read())\n",
    "except FileNotFoundError:\n",
    "    print(\"Hata: Dosya bulunamadı.\")\n",
    "finally:\n",
    "    print(\"İşlem tamamlandı.\")"
   ]
  },
  {
   "cell_type": "markdown",
   "metadata": {},
   "source": [
    "**Birden Fazla Hata Türünü Yakalama**\n",
    "\n",
    "Birden fazla hata türünü tek bir except bloğunda listeleyebilirsiniz."
   ]
  },
  {
   "cell_type": "code",
   "execution_count": 55,
   "metadata": {},
   "outputs": [
    {
     "name": "stdout",
     "output_type": "stream",
     "text": [
      "Hata oluştu: division by zero\n"
     ]
    }
   ],
   "source": [
    "try:\n",
    "    x = int(input(\"Bir sayı girin: \"))\n",
    "    y = int(input(\"Bir sayı daha girin: \"))\n",
    "    sonuc = x / y\n",
    "    print(\"Sonuç:\", sonuc)\n",
    "except (ZeroDivisionError, ValueError) as e:\n",
    "    print(f\"Hata oluştu: {e}\")"
   ]
  },
  {
   "cell_type": "markdown",
   "metadata": {},
   "source": [
    "**Özel Hatalar Tanımlama**\n",
    "\n",
    "Kendi hata türlerinizi tanımlamak için özel hata sınıfları oluşturabilirsiniz."
   ]
  },
  {
   "cell_type": "code",
   "execution_count": 56,
   "metadata": {},
   "outputs": [
    {
     "name": "stdout",
     "output_type": "stream",
     "text": [
      "Özel hata yakalandı: Negatif sayılar geçersiz!\n"
     ]
    }
   ],
   "source": [
    "class Hata(Exception):\n",
    "    \"\"\"Özel bir hata türü.\"\"\"\n",
    "    pass\n",
    "\n",
    "def kontrol_et(sayi):\n",
    "    if sayi < 0:\n",
    "        raise Hata(\"Negatif sayılar geçersiz!\")\n",
    "\n",
    "try:\n",
    "    kontrol_et(-1)\n",
    "except Hata as e:\n",
    "    print(f\"Özel hata yakalandı: {e}\")"
   ]
  },
  {
   "cell_type": "markdown",
   "metadata": {},
   "source": [
    "**Sık Kullanılan Hata Türleri**\n",
    "Python'da sıkça karşılaşılan bazı hata türleri:\n",
    "\n",
    "- ValueError: Geçersiz bir değerle işlem yapılmaya çalışıldığında.\n",
    "- TypeError: Yanlış türde bir işlem yapıldığında.\n",
    "- ZeroDivisionError: Sıfıra bölme işlemi yapıldığında.\n",
    "- IndexError: Liste veya dizinin sınırları dışında bir indeks kullanıldığında.\n",
    "- KeyError: Sözlükte var olmayan bir anahtar kullanıldığında.\n",
    "- FileNotFoundError: Bir dosya bulunamadığında"
   ]
  },
  {
   "cell_type": "markdown",
   "metadata": {},
   "source": [
    "**assert Nedir?**\n",
    "\n",
    "assert, bir koşulu test etmek ve koşul sağlanmazsa AssertionError fırlatmak için kullanılır. Genellikle hata ayıklama (debugging) ve programın beklenen şekilde çalıştığını doğrulamak için kullanılır.\n"
   ]
  },
  {
   "cell_type": "code",
   "execution_count": 58,
   "metadata": {},
   "outputs": [],
   "source": [
    "x = 10\n",
    "assert x > 5, \"x 5'ten büyük olmalıdır!\"  # Bu hata vermez"
   ]
  },
  {
   "cell_type": "code",
   "execution_count": 59,
   "metadata": {},
   "outputs": [
    {
     "ename": "AssertionError",
     "evalue": "x 5'ten küçük olmalıdır!",
     "output_type": "error",
     "traceback": [
      "\u001b[1;31m---------------------------------------------------------------------------\u001b[0m",
      "\u001b[1;31mAssertionError\u001b[0m                            Traceback (most recent call last)",
      "Cell \u001b[1;32mIn[59], line 1\u001b[0m\n\u001b[1;32m----> 1\u001b[0m \u001b[38;5;28;01massert\u001b[39;00m x \u001b[38;5;241m<\u001b[39m \u001b[38;5;241m5\u001b[39m, \u001b[38;5;124m\"\u001b[39m\u001b[38;5;124mx 5\u001b[39m\u001b[38;5;124m'\u001b[39m\u001b[38;5;124mten küçük olmalıdır!\u001b[39m\u001b[38;5;124m\"\u001b[39m  \u001b[38;5;66;03m# Bu hata verir\u001b[39;00m\n",
      "\u001b[1;31mAssertionError\u001b[0m: x 5'ten küçük olmalıdır!"
     ]
    }
   ],
   "source": [
    "assert x < 5, \"x 5'ten küçük olmalıdır!\"  # Bu hata verir"
   ]
  },
  {
   "cell_type": "markdown",
   "metadata": {},
   "source": [
    "- assert, genellikle testler veya bir programın belirli bir durumda olup olmadığını kontrol etmek için kullanılır.\n",
    "\n",
    "- Eğer assert başarısız olursa (koşul yanlışsa), program bir AssertionError ile durur."
   ]
  },
  {
   "cell_type": "markdown",
   "metadata": {},
   "source": [
    "**raise Nedir?**\n",
    "\n",
    "raise, Python'da bir hatayı manuel olarak fırlatmak için kullanılır. Bu, belirli koşullarda özel bir hata oluşturmak veya mevcut bir hatayı yeniden fırlatmak için kullanılır."
   ]
  },
  {
   "cell_type": "code",
   "execution_count": null,
   "metadata": {},
   "outputs": [],
   "source": [
    "raise ExceptionType(\"Hata mesajı\")"
   ]
  },
  {
   "cell_type": "markdown",
   "metadata": {},
   "source": [
    "- ExceptionType: Fırlatılacak hata türü (ör. ValueError, TypeError veya kendi özel hata sınıfınız).\n",
    "- Hata Mesajı: Fırlatılan hatanın mesajıdır (isteğe bağlıdır)."
   ]
  },
  {
   "cell_type": "code",
   "execution_count": 61,
   "metadata": {},
   "outputs": [
    {
     "name": "stdout",
     "output_type": "stream",
     "text": [
      "Hata oluştu: Sayı negatif olamaz!\n"
     ]
    }
   ],
   "source": [
    "#: Belirli Bir Koşulda Hata Fırlatma\n",
    "\n",
    "def pozitif_sayi_kontrol(sayi):\n",
    "    if sayi < 0:\n",
    "        raise ValueError(\"Sayı negatif olamaz!\")\n",
    "    return sayi\n",
    "\n",
    "# Kullanım\n",
    "try:\n",
    "    pozitif_sayi_kontrol(-5)\n",
    "except ValueError as e:\n",
    "    print(f\"Hata oluştu: {e}\")\n",
    "\n",
    "# Çıktı:\n",
    "# Hata oluştu: Sayı negatif olamaz!"
   ]
  },
  {
   "cell_type": "code",
   "execution_count": 62,
   "metadata": {},
   "outputs": [
    {
     "name": "stdout",
     "output_type": "stream",
     "text": [
      "Özel hata yakalandı: Negatif değer tespit edildi!\n"
     ]
    }
   ],
   "source": [
    "# Özel Hata Fırlatma\n",
    "# Kendi hata sınıfınızı tanımlayıp, özel hata fırlatabilirsiniz.\n",
    "\n",
    "class OzelHata(Exception):\n",
    "    \"\"\"Özel bir hata türü.\"\"\"\n",
    "    pass\n",
    "\n",
    "def kontrol(sayi):\n",
    "    if sayi < 0:\n",
    "        raise OzelHata(\"Negatif değer tespit edildi!\")\n",
    "\n",
    "try:\n",
    "    kontrol(-1)\n",
    "except OzelHata as e:\n",
    "    print(f\"Özel hata yakalandı: {e}\")\n",
    "\n",
    "# Çıktı:\n",
    "# Özel hata yakalandı: Negatif değer tespit edildi!"
   ]
  },
  {
   "cell_type": "code",
   "execution_count": 63,
   "metadata": {},
   "outputs": [
    {
     "name": "stdout",
     "output_type": "stream",
     "text": [
      "Hata yakalandı: invalid literal for int() with base 10: 'abc'\n"
     ]
    },
    {
     "ename": "ValueError",
     "evalue": "invalid literal for int() with base 10: 'abc'",
     "output_type": "error",
     "traceback": [
      "\u001b[1;31m---------------------------------------------------------------------------\u001b[0m",
      "\u001b[1;31mValueError\u001b[0m                                Traceback (most recent call last)",
      "Cell \u001b[1;32mIn[63], line 5\u001b[0m\n\u001b[0;32m      1\u001b[0m \u001b[38;5;66;03m# Hata Yeniden Fırlatma\u001b[39;00m\n\u001b[0;32m      2\u001b[0m \u001b[38;5;66;03m# Bir except bloğunda yakalanan hatayı yeniden fırlatabilirsiniz.\u001b[39;00m\n\u001b[0;32m      4\u001b[0m \u001b[38;5;28;01mtry\u001b[39;00m:\n\u001b[1;32m----> 5\u001b[0m     x \u001b[38;5;241m=\u001b[39m \u001b[38;5;28;43mint\u001b[39;49m\u001b[43m(\u001b[49m\u001b[38;5;124;43m\"\u001b[39;49m\u001b[38;5;124;43mabc\u001b[39;49m\u001b[38;5;124;43m\"\u001b[39;49m\u001b[43m)\u001b[49m  \u001b[38;5;66;03m# Hata oluşturur\u001b[39;00m\n\u001b[0;32m      6\u001b[0m \u001b[38;5;28;01mexcept\u001b[39;00m \u001b[38;5;167;01mValueError\u001b[39;00m \u001b[38;5;28;01mas\u001b[39;00m e:\n\u001b[0;32m      7\u001b[0m     \u001b[38;5;28mprint\u001b[39m(\u001b[38;5;124mf\u001b[39m\u001b[38;5;124m\"\u001b[39m\u001b[38;5;124mHata yakalandı: \u001b[39m\u001b[38;5;132;01m{\u001b[39;00me\u001b[38;5;132;01m}\u001b[39;00m\u001b[38;5;124m\"\u001b[39m)\n",
      "\u001b[1;31mValueError\u001b[0m: invalid literal for int() with base 10: 'abc'"
     ]
    }
   ],
   "source": [
    "# Hata Yeniden Fırlatma\n",
    "# Bir except bloğunda yakalanan hatayı yeniden fırlatabilirsiniz.\n",
    "\n",
    "try:\n",
    "    x = int(\"abc\")  # Hata oluşturur\n",
    "except ValueError as e:\n",
    "    print(f\"Hata yakalandı: {e}\")\n",
    "    raise  # Hata yeniden fırlatılır"
   ]
  },
  {
   "cell_type": "markdown",
   "metadata": {},
   "source": [
    "### Hata Yönetimi Özet Tablosu\n",
    "\n",
    "| **Blok**    | **Amaç**                                                                 | **Ne Zaman Çalışır?**                              |\n",
    "|-------------|--------------------------------------------------------------------------|---------------------------------------------------|\n",
    "| `try`       | Hata oluşturabilecek kodları yazarız                                     | Hata oluşursa veya oluşmazsa                      |\n",
    "| `except`    | Oluşan hataları yakalar ve işler                                         | `try` bloğunda hata oluşursa                      |\n",
    "| `else`      | Eğer `try` bloğunda hata oluşmazsa çalışır                               | Hata olmaması durumunda                           |\n",
    "| `finally`   | Her durumda çalışır (hata oluşsa da oluşmasa da)                         | Kaynak temizleme gibi işlemler için kullanılır    |\n",
    "| `assert`    | Belirtilen bir koşulun doğru olduğunu test eder, yanlışsa `AssertionError` fırlatır | Koşul yanlış olduğunda çalışır (debug için ideal) |\n",
    "| `raise`     | Belirli bir hata fırlatır veya mevcut hatayı yeniden fırlatır            | Manuel olarak hata oluşturmak gerektiğinde        |"
   ]
  },
  {
   "cell_type": "markdown",
   "metadata": {},
   "source": [
    "| assert | raise |\n",
    "|--------|-------|\n",
    "| Koşul doğru değilse otomatik olarak `AssertionError` fırlatır. | İstenen bir hata türü ve mesaj manuel olarak belirtilir. |\n",
    "| Genellikle hata ayıklama (debug) sırasında kullanılır. | Herhangi bir yerde hata fırlatmak için kullanılabilir. |\n"
   ]
  },
  {
   "cell_type": "markdown",
   "metadata": {},
   "source": [
    "# 🐍 **Python Cheatsheet – Tüm Temel ve İleri Düzey Konular**\n",
    "\n",
    "| **Konu**                          | **Açıklama ve Örnek Kodlar**                                                                                                  |\n",
    "|-----------------------------------|-------------------------------------------------------------------------------------------------------------------------------|\n",
    "| **Python Kurulumu ve Çalıştırma** | `python --version` – Python sürümünü kontrol et<br>`pip install <package>` – Kütüphane yükleme                                |\n",
    "**İlk Kodlar (print, input)**     | `print(\"Merhaba!\")` – Ekrana yazdırır<br>`ad = input(\"Adınız: \")` – Kullanıcıdan veri alır                                                                           |\n",
    "| **Python’un Avantajları**         | Basit sözdizimi, çok yönlü kullanım, veri bilimi, web, otomasyon vb.                                                                                                      |\n",
    "| **Değişken Tanımlama**            | `x = 5` – Sayısal değişken<br>`name = \"John\"` – String<br>`is_valid = True` – Boolean                                         |\n",
    "| **Veri Türleri**                  | `int`, `float`, `str`, `bool`, `list`, `tuple`, `dict`, `set`                                                                 |\n",
    "| **Veri Tipi Kontrolü**            | `type(x)` – Değişkenin türünü öğrenir<br>`isinstance(x, int)` – Belirtilen türe ait mi kontrol eder                           |\n",
    "| **Matematiksel Operatörler**      | `+`, `-`, `*`, `/`, `//` (tam bölme), `%` (modül), `**` (üs alma)                                                            |\n",
    "| **Karşılaştırma Operatörleri**    | `==`, `!=`, `<`, `>`, `<=`, `>=`                                                                                             |\n",
    "| **Mantıksal Operatörler**         | `and`, `or`, `not`                                                                                                           |\n",
    "| **Koşul İfadeleri**               | ```python<br>if x > 0:<br>    print(\"Pozitif\")<br>elif x == 0:<br>    print(\"Sıfır\")<br>else:<br>    print(\"Negatif\")<br>```  |\n",
    "| **Döngüler**                      | ```python<br>for i in range(5):<br>    print(i)<br>```<br>`while x > 0:` – Şart sağlandıkça tekrar eder                      |\n",
    "| **break / continue / pass**       | `break` – döngüyü durdurur<br>`continue` – sonraki adıma geç<br>`pass` – boş geç                                                                                          |\n",
    "| **Listeler (Lists)**              | `my_list = [1, 2, 3]`<br>`my_list.append(4)` – Eleman ekler<br>`my_list.pop()` – Son elemanı çıkarır                         |\n",
    "| **Tuple (Demet)**                 | `my_tuple = (1, 2, 3)`<br>`my_tuple[1]` – İkinci elemana erişim                                                               |\n",
    "| **Sözlükler (Dictionaries)**      | ```python<br>my_dict = {\"key\": \"value\"}<br>my_dict[\"key\"] = \"new_value\"<br>```                                                |\n",
    "| **Kümeler (Sets)**                | `my_set = {1, 2, 3}`<br>`my_set.add(4)` – Eleman ekler<br>`my_set.remove(3)` – Eleman çıkarır                                |\n",
    "| **String İşlemleri**              | `name.upper()`, `name.lower()` – Büyük/küçük harfe çevir<br>`name.split()` – Boşluklara göre böl<br>`name.strip()` – Boşlukları kırp |\n",
    "| **Fonksiyonlar**                  | ```python<br>def my_function(x):<br>    return x * 2<br>```<br>`my_function(5)` – Çıktı: 10                                   |\n",
    "| **Lambda Fonksiyonları**          | `double = lambda x: x * 2` – Tek satırlık anonim fonksiyon                                                                   |\n",
    "| **args / kwargs**                 | `*args` – çoklu pozisyonel argüman<br>`**kwargs` – çoklu anahtar-değer argümanı                                                                                          |\n",
    "| **List Comprehensions**           | ```python<br>[x ** 2 for x in range(5) if x % 2 == 0]<br>``` – [0, 4, 16]                                                    |\n",
    "| **Hata Yakalama (try-except)**    | ```python<br>try:<br>    result = 10 / 0<br>except ZeroDivisionError:<br>    print(\"Hata: Bölme hatası!\")<br>```             |\n",
    "| **Dosya İşlemleri**               | ```python<br>with open(\"file.txt\", \"r\") as f:<br>    content = f.read()<br>```                                               |\n",
    "| **Modüller**                      | `import math` – Matematik modülü<br>`math.sqrt(16)` – Kare kök<br>`from random import randint` – random modülünden randint    |\n",
    "| **Zaman İşlemleri**               | ```python<br>import time<br>time.sleep(2)<br>print(\"2 saniye sonra!\")<br>```                                                 |\n",
    "| **Sınıflar (Classes)**            | ```python<br>class MyClass:<br>    def __init__(self, name):<br>        self.name = name<br>my_obj = MyClass(\"Python\")<br>``` |\n",
    "| **Inheritance (Miras Alma)**      | ```python<br>class Parent:<br>    def greet(self):<br>        print(\"Hello!\")<br>class Child(Parent):<br>    pass<br>```      |\n",
    "| **Iteratorlar**                   | ```python<br>my_iter = iter([1, 2, 3])<br>next(my_iter)<br>```                                                               |\n",
    "| **Generatorlar**                  | ```python<br>def my_gen():<br>    yield 1<br>    yield 2<br>```                                                              |\n",
    "| **Dekoratörler**                  | ```python<br>def decorator(func):<br>    def wrapper():<br>        print(\"Before\")<br>        func()<br>        print(\"After\")<br>    return wrapper<br>``` |\n",
    "| **Regular Expressions**           | ```python<br>import re<br>re.match(r\"\\d+\", \"123\")<br>```                                                                     |\n",
    "| **Argümanlar ve Parametreler**    | ```python<br>def greet(name=\"Guest\"):<br>    print(f\"Hello, {name}!\")<br>```                                                 |\n",
    "| **Python ile HTTP İstekleri**     | ```python<br>import requests<br>response = requests.get(\"https://api.github.com\")<br>```                                      |\n",
    "\n",
    "---"
   ]
  }
 ],
 "metadata": {
  "kernelspec": {
   "display_name": "Python 3",
   "language": "python",
   "name": "python3"
  },
  "language_info": {
   "codemirror_mode": {
    "name": "ipython",
    "version": 3
   },
   "file_extension": ".py",
   "mimetype": "text/x-python",
   "name": "python",
   "nbconvert_exporter": "python",
   "pygments_lexer": "ipython3",
   "version": "3.13.3"
  }
 },
 "nbformat": 4,
 "nbformat_minor": 2
}
