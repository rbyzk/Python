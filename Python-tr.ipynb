{
 "cells": [
  {
   "cell_type": "markdown",
   "metadata": {},
   "source": [
    "#  Python Nedir?\n",
    "\n",
    "Python Nedir?\n",
    "\n",
    "Python, Guido van Rossum tarafından 1991'de geliştirilmiş, güçlü, açık kaynaklı ve kolay öğrenilebilir bir programlama dilidir. Hem başlangıç seviyesindeki kullanıcılar hem de profesyoneller için uygundur. Python, okunabilirlik ve kullanım kolaylığı ile öne çıkar.\n",
    "\n",
    "Neden Python?\n",
    "\n",
    "- Basit ve Kolay Öğrenilir: Python'un sade sözdizimi, yeni başlayanlar için idealdir.\n",
    "- Çapraz Platform Desteği: Windows, macOS ve Linux üzerinde çalışabilir.\n",
    "- Zengin Kütüphane Desteği: Veri bilimi, makine öğrenimi, web geliştirme ve daha fazlası için güçlü kütüphaneler sunar.\n",
    "- Aktif Topluluk: Büyük bir kullanıcı topluluğuna sahiptir, bu da öğrenmeyi ve sorunları çözmeyi kolaylaştırır."
   ]
  },
  {
   "cell_type": "markdown",
   "metadata": {},
   "source": [
    "Python Nasıl Kurulur?\n",
    "\n",
    "Python’un resmi web sitesi olan python.org adresine gidin.\n",
    "\n",
    "İşletim sisteminize uygun sürümü indirin ve yükleyin.\n",
    "\n",
    "Kurulum sırasında \"Add Python to PATH\" seçeneğini işaretlemeyi unutmayın.\n",
    "\n",
    "Kurulum sonrası terminalde veya komut satırında aşağıdaki komutu çalıştırarak \n",
    "\n",
    "Python'un yüklendiğini kontrol edebilirsiniz:\n",
    "\n",
    "python --version  # Veya macOS/Linux için: python3 --version"
   ]
  },
  {
   "cell_type": "markdown",
   "metadata": {},
   "source": [
    "## Python Avantajları\n",
    "\n",
    "Python’un Avantajları ve Kullanım Alanları\n",
    "Avantajları:\n",
    "\n",
    "Okunabilirlik: Python kodu neredeyse doğal dil gibidir.\n",
    "\n",
    "Kapsamlı Uygulama Alanı: Veri analizi, yapay zeka, web geliştirme, oyun geliştirme gibi birçok alanda kullanılır.\n",
    "\n",
    "Topluluk ve Destek: Python hakkında çok sayıda kaynak ve dökümantasyon bulunur.\n",
    "\n",
    "Dinamik Tür Sistemi: Veri tiplerini belirtmek zorunda değilsiniz, Python bunu otomatik olarak yapar.\n",
    "\n",
    "Kullanım Alanları:\n",
    "\n",
    "Veri Bilimi ve Makine Öğrenimi: Pandas, NumPy, Scikit-learn gibi kütüphaneler ile analiz ve modelleme yapılır.\n",
    "\n",
    "Web Geliştirme: Flask, Django gibi çerçevelerle dinamik web siteleri oluşturulur.\n",
    "\n",
    "Oyun Geliştirme: Pygame kütüphanesi kullanılarak oyunlar yapılabilir.\n",
    "Sistem Otomasyonu ve Scripting: Tekrarlayan görevleri otomatikleştirmek için kullanılır.\n"
   ]
  },
  {
   "cell_type": "markdown",
   "metadata": {},
   "source": [
    "## Python Araçları ve Çerçeveleri\n",
    "\n",
    "Aşağıda, farklı türde Python uygulamaları geliştirmek için önemli araçlar ve çerçeveler listelenmektedir:\n",
    "\n",
    "- Web Development: Django, Pyramid, Bottle, Tornado, Flask, web2py\n",
    "\n",
    "- GUI Development: tkInter, PyGObject, PyQt, PySide, Kivy, wxPython\n",
    "\n",
    "- Scientific and Numeric: SciPy, Pandas, IPython\n",
    "\n",
    "- Software Development: Buildbot, Trac, Roundup\n",
    "\n",
    "- System Administration: Ansible, Salt, OpenStack"
   ]
  },
  {
   "cell_type": "markdown",
   "metadata": {},
   "source": [
    "## Python Sürüm Geçmişi\n",
    "\n",
    "- Piyasada iki çeşit Python sürümü vardır. Eğer bir Python\n",
    "sürümü 2 ile başlıyorsa (2.7.11 gibi) Python 2.x, şayet 3\n",
    "ile başlıyorsa (3.6.2 gibi) Python 3.x serisine aittir.\n",
    "- Python3, Python2’ye göre daha güçlüdür ve hatalardan\n",
    "arınmıştır.\n",
    "- Python2 ile yazılmış bir program Python3’te çalışmaz.\n",
    "- Aynı şekilde Python3 ile yazdığınız bir program\n",
    "Python2’de çalışmaz."
   ]
  },
  {
   "cell_type": "markdown",
   "metadata": {},
   "source": [
    "Python İle İlk Kod: print() ve input()\n",
    "Python’da ilk kodumuzu yazarak başlayabiliriz. Geleneksel olarak, yeni bir programlama dilini öğrenirken \"Hello, World!\" mesajı ekrana yazdırılır.\n",
    "\n",
    "**print() Fonksiyonu:**\n",
    "Ekrana çıktı vermek için kullanılır."
   ]
  },
  {
   "cell_type": "code",
   "execution_count": 1,
   "metadata": {},
   "outputs": [
    {
     "name": "stdout",
     "output_type": "stream",
     "text": [
      "Hello, World!\n"
     ]
    }
   ],
   "source": [
    "print(\"Hello, World!\")  # Çıktı: Hello, World!"
   ]
  },
  {
   "cell_type": "markdown",
   "metadata": {},
   "source": [
    "**Python Söz Dizimi ve Çalışma Mantığı**\n",
    "\n",
    "Python Söz Dizimi (Syntax):\n",
    "\n",
    "Python’un sade ve okunabilir bir sözdizimi vardır. Anahtar kurallar:\n",
    "\n",
    "Girintileme (Indentation): Python’da kod blokları girintilerle tanımlanır. \n",
    "\n",
    "Süslü parantez ({}) yerine boşluklar kullanılır."
   ]
  },
  {
   "cell_type": "code",
   "execution_count": 77,
   "metadata": {},
   "outputs": [
    {
     "name": "stdout",
     "output_type": "stream",
     "text": [
      "10, 5'ten büyüktür\n"
     ]
    }
   ],
   "source": [
    "if 10 > 5:\n",
    "    print(\"10, 5'ten büyüktür\")  # Doğru girinti"
   ]
  },
  {
   "cell_type": "markdown",
   "metadata": {},
   "source": [
    "**Satır Sonu:** Bir komut genelde bir satırda biter, ancak çok uzun komutları \\ ile bölebilirsiniz."
   ]
  },
  {
   "cell_type": "code",
   "execution_count": 78,
   "metadata": {},
   "outputs": [],
   "source": [
    "toplam = 10 + 20 + \\\n",
    "         30 + 40"
   ]
  },
  {
   "cell_type": "markdown",
   "metadata": {},
   "source": [
    "**Python Çalışma Mantığı:**\n",
    "\n",
    "**Yorumlayıcı (Interpreter):** Python kodu doğrudan satır satır çalıştırır (compile işlemi gerekmez).\n",
    "\n",
    "**Dinamik Tip Atama:** Değişkenlerin türünü belirtmek zorunda değilsiniz. Örnek:"
   ]
  },
  {
   "cell_type": "code",
   "execution_count": 79,
   "metadata": {},
   "outputs": [],
   "source": [
    "x = 10      # int\n",
    "y = \"Hello\" # str"
   ]
  },
  {
   "cell_type": "markdown",
   "metadata": {},
   "source": [
    "**Yorum Satırları:**\n",
    "Kodun anlaşılmasını kolaylaştırmak için yorum ekleyebilirsiniz:"
   ]
  },
  {
   "cell_type": "code",
   "execution_count": 80,
   "metadata": {},
   "outputs": [
    {
     "name": "stdout",
     "output_type": "stream",
     "text": [
      "Bu kod çalışır\n"
     ]
    }
   ],
   "source": [
    "# Bu bir yorum satırıdır\n",
    "print(\"Bu kod çalışır\")"
   ]
  },
  {
   "cell_type": "markdown",
   "metadata": {},
   "source": [
    "### Temel Veri Türleri ve Operatörler\n",
    "\n"
   ]
  },
  {
   "cell_type": "markdown",
   "metadata": {},
   "source": [
    "**Metin tipleri** : str\n",
    "\n",
    "**Sayısal tipler**: int , float , complex\n",
    "\n",
    "**Dizi tipleri**:  list , tuple , range\n",
    "\n",
    "**Adresleme tipleri**: dict\n",
    "\n",
    "**Küme tipleri**: set , frozenset\n",
    "\n",
    "**Mantıksal tipler**: bool\n",
    "\n",
    "**Binary tipler**: bytes , bytearray , memoryview"
   ]
  },
  {
   "cell_type": "markdown",
   "metadata": {},
   "source": [
    "**int (Tamsayı)**\n",
    "Tam sayıları ifade eder. Negatif, pozitif veya sıfır olabilir."
   ]
  },
  {
   "cell_type": "markdown",
   "metadata": {},
   "source": [
    "| Veri Tipi   | Örnek                          |\n",
    "|-------------|--------------------------------|\n",
    "| **int**     | 42, -7, 0                     |\n",
    "| **float**   | 3.14, -0.1, 2.0               |\n",
    "| **complex** | 1+2j, 3-4j                    |\n",
    "| **str**     | 'hello', 'Python'             |\n",
    "| **bool**    | True, False                   |\n",
    "| **list**    | [1, 2, 3], ['a', 'b']         |\n",
    "| **tuple**   | (10, 20, 30)                  |\n",
    "| **set**     | {1, 2, 3}                     |\n",
    "| **frozenset** | frozenset([1, 2, 3])       |\n",
    "| **dict**    | {'key': 'value', 'x': 10}     |\n",
    "| **NoneType** | None                         |\n"
   ]
  },
  {
   "cell_type": "markdown",
   "metadata": {},
   "source": [
    "**Sayısal (Skaler) Veri Türleri: int, float, complex**"
   ]
  },
  {
   "cell_type": "markdown",
   "metadata": {},
   "source": [
    "**int** Pozitif veya negatif tam sayılardır. (kesirli kısmı olmayan)"
   ]
  },
  {
   "cell_type": "code",
   "execution_count": 81,
   "metadata": {},
   "outputs": [],
   "source": [
    "a = 10       # int\n",
    "b = -5       # int\n",
    "c = 0        # int"
   ]
  },
  {
   "cell_type": "markdown",
   "metadata": {},
   "source": [
    "**float (Ondalıklı Sayılar)**\n",
    "Ondalık nokta içeren sayıları temsil eder."
   ]
  },
  {
   "cell_type": "code",
   "execution_count": 82,
   "metadata": {},
   "outputs": [],
   "source": [
    "pi = 3.14    # float\n",
    "negative = -7.2  # float"
   ]
  },
  {
   "cell_type": "markdown",
   "metadata": {},
   "source": [
    "**complex (Karmaşık Sayılar)**\n",
    "Karmaşık sayılar, bir gerçel (real) ve bir sanal (imaginary) kısımdan oluşur."
   ]
  },
  {
   "cell_type": "code",
   "execution_count": 83,
   "metadata": {},
   "outputs": [
    {
     "name": "stdout",
     "output_type": "stream",
     "text": [
      "3.0\n",
      "4.0\n"
     ]
    }
   ],
   "source": [
    "z = 3 + 4j   # complex\n",
    "print(z.real)  # 3.0\n",
    "print(z.imag)  # 4.0"
   ]
  },
  {
   "cell_type": "markdown",
   "metadata": {},
   "source": [
    "**Metin Türleri: str ve String İşlemleri**"
   ]
  },
  {
   "cell_type": "markdown",
   "metadata": {},
   "source": [
    "**str (String)**\n",
    "Metinsel verileri ifade eder. Çift veya tek tırnak arasında yazılır."
   ]
  },
  {
   "cell_type": "code",
   "execution_count": 84,
   "metadata": {},
   "outputs": [],
   "source": [
    "greeting = \"Hello, World!\"  # str\n",
    "name = 'Rose'              # str"
   ]
  },
  {
   "cell_type": "markdown",
   "metadata": {},
   "source": [
    "**String İşlemleri:**"
   ]
  },
  {
   "cell_type": "code",
   "execution_count": 2,
   "metadata": {},
   "outputs": [
    {
     "name": "stdout",
     "output_type": "stream",
     "text": [
      "Hello World\n"
     ]
    }
   ],
   "source": [
    "# Birleştirme:\n",
    "\n",
    "first = \"Hello\"\n",
    "second = \"World\"\n",
    "combined = first + \" \" + second\n",
    "print(combined)  # \"Hello World\""
   ]
  },
  {
   "cell_type": "code",
   "execution_count": 3,
   "metadata": {},
   "outputs": [
    {
     "name": "stdout",
     "output_type": "stream",
     "text": [
      "Python Python Python Python \n"
     ]
    }
   ],
   "source": [
    "# Tekrar:\n",
    "\n",
    "print(\"Python \" * 4)  # \"Python Python Python\""
   ]
  },
  {
   "cell_type": "code",
   "execution_count": 87,
   "metadata": {},
   "outputs": [
    {
     "name": "stdout",
     "output_type": "stream",
     "text": [
      "7\n"
     ]
    }
   ],
   "source": [
    "## Uzunluk Bulma:\n",
    "\n",
    "message = \"Merhaba\"\n",
    "print(len(message))  # 7"
   ]
  },
  {
   "cell_type": "code",
   "execution_count": 88,
   "metadata": {},
   "outputs": [
    {
     "name": "stdout",
     "output_type": "stream",
     "text": [
      "P\n",
      "n\n",
      "Pyt\n"
     ]
    }
   ],
   "source": [
    "# Alt Dize Erişimi:\n",
    "\n",
    "text = \"Python\"\n",
    "print(text[0])  # \"P\"\n",
    "print(text[-1]) # \"n\"\n",
    "print(text[0:3]) # \"Pyt\" (0'dan 3'e kadar)"
   ]
  },
  {
   "cell_type": "markdown",
   "metadata": {},
   "source": [
    "**Mantıksal Veri Türleri: bool**\n",
    "Mantıksal değerler, yalnızca iki durum alır: True ve False."
   ]
  },
  {
   "cell_type": "code",
   "execution_count": 89,
   "metadata": {},
   "outputs": [],
   "source": [
    "is_active = True\n",
    "is_logged_in = False"
   ]
  },
  {
   "cell_type": "code",
   "execution_count": 90,
   "metadata": {},
   "outputs": [
    {
     "name": "stdout",
     "output_type": "stream",
     "text": [
      "True\n",
      "False\n"
     ]
    }
   ],
   "source": [
    "# Mantıksal Operasyonlar:\n",
    "\n",
    "a = 5\n",
    "b = 10\n",
    "print(a < b)  # True\n",
    "print(a == b) # False"
   ]
  },
  {
   "cell_type": "markdown",
   "metadata": {},
   "source": [
    "**None:** None Python'da null nesnesini temsil eder. None, açıkça bir değer döndürmeyen fonksiyonlar tarafından döndürülür."
   ]
  },
  {
   "cell_type": "markdown",
   "metadata": {},
   "source": [
    "**Değişken Tanımlama ve Dinamik Tipler** Python’da değişken tanımlamak için sadece bir isim ve değer ataması yapmanız yeterlidir. Değişkenin türünü önceden belirtmeniz gerekmez.\n",
    "\n"
   ]
  },
  {
   "cell_type": "code",
   "execution_count": 95,
   "metadata": {},
   "outputs": [],
   "source": [
    "age = 25         # int\n",
    "name = \"Alice\"   # str\n",
    "pi = 3.14        # float\n",
    "is_active = True # bool"
   ]
  },
  {
   "cell_type": "markdown",
   "metadata": {},
   "source": [
    "**Dinamik Tip Atama:** Bir değişkenin tipi, atanan değere bağlı olarak otomatik belirlenir. Türler arasında geçiş de mümkündür."
   ]
  },
  {
   "cell_type": "code",
   "execution_count": 96,
   "metadata": {},
   "outputs": [],
   "source": [
    "x = 21       # int\n",
    "x = \"Hello\"  # str (Tür değiştirdi)\n"
   ]
  },
  {
   "cell_type": "markdown",
   "metadata": {},
   "source": [
    "**Tür Dönüşümleri:**\n",
    "Bazı durumlarda tür dönüşümüne ihtiyaç duyabiliriz."
   ]
  },
  {
   "cell_type": "code",
   "execution_count": 97,
   "metadata": {},
   "outputs": [
    {
     "name": "stdout",
     "output_type": "stream",
     "text": [
      "42\n",
      "3.14\n"
     ]
    }
   ],
   "source": [
    "# int -> str\n",
    "number = 42\n",
    "text = str(number)\n",
    "print(text)  # \"42\"\n",
    "\n",
    "# str -> float\n",
    "value = \"3.14\"\n",
    "number = float(value)\n",
    "print(number)  # 3.14"
   ]
  },
  {
   "cell_type": "markdown",
   "metadata": {},
   "source": [
    "#### PEP 8 (Python Enhancement Proposal 8) \n",
    "\n",
    "Python programlama dilinde kod yazarken uyulması önerilen stil rehberidir. Bu rehber, kodun okunabilirliğini artırmak ve Python topluluğu için tutarlı bir kod yazım standardı sağlamak amacıyla oluşturulmuştur. İşte PEP 8'in temel kuralları:"
   ]
  },
  {
   "cell_type": "markdown",
   "metadata": {},
   "source": [
    "**Kod Düzeni ve Girintileme**\n",
    "Girintiler: Kod bloklarını belirtmek için 4 boşluk kullanın (tab değil)."
   ]
  },
  {
   "cell_type": "code",
   "execution_count": 101,
   "metadata": {},
   "outputs": [
    {
     "name": "stdout",
     "output_type": "stream",
     "text": [
      "Girinti örneği\n"
     ]
    }
   ],
   "source": [
    "if True:\n",
    "    print(\"Girinti örneği\")"
   ]
  },
  {
   "cell_type": "markdown",
   "metadata": {},
   "source": [
    "**Boşluk Kullanımı**\n",
    "\n",
    "Operatörler ve Virgüller: Aritmetik ve karşılaştırma operatörlerinden önce ve sonra bir boşluk bırakın."
   ]
  },
  {
   "cell_type": "code",
   "execution_count": 103,
   "metadata": {},
   "outputs": [],
   "source": [
    "x = 5 + 3\n",
    "y = (x * 2) / 4"
   ]
  },
  {
   "cell_type": "markdown",
   "metadata": {},
   "source": [
    "Fonksiyon Parametreleri: Parantez içindeki parametrelerle operatörler arasında boşluk bırakmayın."
   ]
  },
  {
   "cell_type": "code",
   "execution_count": 104,
   "metadata": {},
   "outputs": [],
   "source": [
    "def my_function(functiion1, function2):\n",
    "    pass"
   ]
  },
  {
   "cell_type": "markdown",
   "metadata": {},
   "source": [
    "**Boş Satırlar:**\n",
    "\n",
    "Fonksiyonlar ve sınıflar arasında iki boş satır bırakın.\n",
    "Bir fonksiyon içinde bölümleri ayırmak için bir boş satır kullanabilirsiniz."
   ]
  },
  {
   "cell_type": "code",
   "execution_count": 102,
   "metadata": {},
   "outputs": [],
   "source": [
    "def my_function_one():\n",
    "    # Bölüm 1\n",
    "    pass\n",
    "\n",
    "    # Bölüm 2\n",
    "    pass\n",
    "\n",
    "\n",
    "def my_function_two():\n",
    "    # Bölüm 1\n",
    "    pass\n",
    "\n",
    "    # Bölüm 2\n",
    "    pass"
   ]
  },
  {
   "cell_type": "markdown",
   "metadata": {},
   "source": [
    "**Liste ve Sözlüklerde:** Parantezlerin içiyle elemanlar arasında boşluk bırakmayın."
   ]
  },
  {
   "cell_type": "code",
   "execution_count": 105,
   "metadata": {},
   "outputs": [],
   "source": [
    "my_list = [1, 2, 3]\n",
    "my_dict = {\"key\": \"value\"}"
   ]
  },
  {
   "cell_type": "markdown",
   "metadata": {},
   "source": [
    "**Docstring Kullanımı:** Fonksiyonlar, sınıflar ve modüller için üç tırnak işaretiyle (\"\"\") açıklama ekleyin."
   ]
  },
  {
   "cell_type": "code",
   "execution_count": 106,
   "metadata": {},
   "outputs": [],
   "source": [
    "def toplama(a, b):\n",
    "    \"\"\"\n",
    "    Bu fonksiyon iki sayıyı toplar ve sonucu döndürür.\n",
    "\n",
    "    Parametreler:\n",
    "    a (int): Toplanacak birinci sayı.\n",
    "    b (int): Toplanacak ikinci sayı.\n",
    "\n",
    "    Döndürür:\n",
    "    int: Toplam.\n",
    "    \"\"\"\n",
    "    return a + b\n"
   ]
  },
  {
   "cell_type": "markdown",
   "metadata": {},
   "source": [
    "- Harf ve Alt Çizgi ile Başlama: Tanımlayıcılar bir harf (A-Z, a-z) veya alt çizgi (_) ile başlamalıdır. Rakamla başlayamaz."
   ]
  },
  {
   "cell_type": "code",
   "execution_count": 2,
   "metadata": {},
   "outputs": [],
   "source": [
    "my_variable = 10  # Geçerli\n",
    "_hidden = 42      # Geçerli\n",
    "variable = 20    # Geçersiz"
   ]
  },
  {
   "cell_type": "markdown",
   "metadata": {},
   "source": [
    "- Alfanumerik ve Alt Çizgi: Tanımlayıcılar harf, rakam ve alt çizgi (_) içerebilir."
   ]
  },
  {
   "cell_type": "code",
   "execution_count": null,
   "metadata": {},
   "outputs": [],
   "source": [
    "var123 = \"hello\"  # Geçerli\n",
    "my-var = 10       # Geçersiz"
   ]
  },
  {
   "cell_type": "markdown",
   "metadata": {},
   "source": [
    "- Büyük/Küçük Harf Duyarlılığı: Python, büyük/küçük harfe duyarlıdır. Örneğin, MyVar ve myvar farklı değişkenlerdir."
   ]
  },
  {
   "cell_type": "markdown",
   "metadata": {},
   "source": [
    "- Özel Karakterler Boşluk içeremez. Özel karakterler (%, $, @ vb.) kullanılamaz.\n",
    "\n"
   ]
  },
  {
   "cell_type": "code",
   "execution_count": null,
   "metadata": {},
   "outputs": [],
   "source": [
    "my variable = 10  # Geçersiz"
   ]
  },
  {
   "cell_type": "markdown",
   "metadata": {},
   "source": [
    "- Rezerve Edilmiş Kelimelerden Kaçının\n",
    "\n",
    "Python’un anahtar kelimeleri (örneğin, if, else, True, class) tanımlayıcı olarak kullanılamaz."
   ]
  },
  {
   "cell_type": "code",
   "execution_count": null,
   "metadata": {},
   "outputs": [],
   "source": [
    "class = 10  # Geçersiz\n",
    "True _ 10"
   ]
  },
  {
   "cell_type": "markdown",
   "metadata": {},
   "source": [
    "**İsimlendirme Konvansiyonları**"
   ]
  },
  {
   "cell_type": "code",
   "execution_count": 63,
   "metadata": {},
   "outputs": [],
   "source": [
    "# Snake Case (değişkenler ve fonksiyonlar): Küçük harfler ve alt çizgi kullanılır.\n",
    "\n",
    "my_variable = 10\n",
    "def my_function():\n",
    "    pass"
   ]
  },
  {
   "cell_type": "code",
   "execution_count": 67,
   "metadata": {},
   "outputs": [],
   "source": [
    "# Pascal Case (sınıf isimleri): Her kelimenin ilk harfi büyük yazılır.\n",
    "\n",
    "class MyClass:\n",
    "    pass"
   ]
  },
  {
   "cell_type": "code",
   "execution_count": 100,
   "metadata": {},
   "outputs": [],
   "source": [
    "# Özel Metotlar: İsimlerin başında ve sonunda çift alt çizgi bulunur \n",
    "# (__init__, __str__)"
   ]
  },
  {
   "cell_type": "code",
   "execution_count": 66,
   "metadata": {},
   "outputs": [],
   "source": [
    "# Sabitler: Tümü büyük harfle yazılır, kelimeler alt çizgi ile ayrılır.\n",
    "\n",
    "PI = 3.14\n",
    "MAX_LIMIT = 100"
   ]
  },
  {
   "cell_type": "markdown",
   "metadata": {},
   "source": [
    "- Özel Anlamlı Adlandırmalar\n",
    "\n",
    "- Alt Çizgi Başında: _variable genellikle korumalı (protected) değişkenleri belirtir.\n",
    "\n",
    "- Çift Alt Çizgi Başında ve Bitişinde: __init__, __str__ gibi özel (magic/double underscore) metotları belirtir.\n",
    "\n",
    "- Tek Alt Çizgi Sonunda: Çakışmayı önlemek için kullanılır."
   ]
  },
  {
   "cell_type": "code",
   "execution_count": 69,
   "metadata": {},
   "outputs": [],
   "source": [
    "def function_():\n",
    "    pass"
   ]
  },
  {
   "cell_type": "code",
   "execution_count": 71,
   "metadata": {},
   "outputs": [],
   "source": [
    "# Anlamlı ve Açıklayıcı İsimler\n",
    "# Değişken ve fonksiyon isimleri, neyi temsil ettiklerini veya ne yaptıklarını açıkça belirtmelidir.\n",
    "\n",
    "total_price = 100.50  # Anlamlı\n",
    "x = 100.50            # Anlamsız"
   ]
  },
  {
   "cell_type": "markdown",
   "metadata": {},
   "source": [
    "### Veri Tipleri Dönüşüm"
   ]
  },
  {
   "cell_type": "code",
   "execution_count": 25,
   "metadata": {},
   "outputs": [
    {
     "name": "stdout",
     "output_type": "stream",
     "text": [
      "4\n",
      "<class 'int'>\n"
     ]
    }
   ],
   "source": [
    "a = 4\n",
    "\n",
    "print(a)          # 4\n",
    "print(type(a))    # <class 'int'>"
   ]
  },
  {
   "cell_type": "code",
   "execution_count": 26,
   "metadata": {},
   "outputs": [
    {
     "name": "stdout",
     "output_type": "stream",
     "text": [
      "4.0\n",
      "<class 'float'>\n"
     ]
    }
   ],
   "source": [
    "a = float(a)\n",
    "\n",
    "print(a)          # 4.0\n",
    "print(type(a))    # <class 'float'>"
   ]
  },
  {
   "cell_type": "code",
   "execution_count": 27,
   "metadata": {},
   "outputs": [
    {
     "name": "stdout",
     "output_type": "stream",
     "text": [
      "<class 'int'>\n"
     ]
    }
   ],
   "source": [
    "a = 4\n",
    "\n",
    "print(type(a))    # <class 'int'>\n"
   ]
  },
  {
   "cell_type": "code",
   "execution_count": 28,
   "metadata": {},
   "outputs": [
    {
     "name": "stdout",
     "output_type": "stream",
     "text": [
      "<class 'str'>\n"
     ]
    }
   ],
   "source": [
    "a = str(a)\n",
    "\n",
    "print(type(a))    # <class 'str'>"
   ]
  },
  {
   "cell_type": "code",
   "execution_count": 29,
   "metadata": {},
   "outputs": [],
   "source": [
    "x = 3    # int\n",
    "\n",
    "a = float(x)\n"
   ]
  },
  {
   "cell_type": "code",
   "execution_count": 30,
   "metadata": {},
   "outputs": [
    {
     "name": "stdout",
     "output_type": "stream",
     "text": [
      "3.0\n",
      "<class 'float'>\n"
     ]
    }
   ],
   "source": [
    "print(a)            # 3.0\n",
    "\n",
    "print(type(a))      # <class 'float'>"
   ]
  },
  {
   "cell_type": "code",
   "execution_count": 31,
   "metadata": {},
   "outputs": [],
   "source": [
    "x = 7.3    # float\n",
    "\n",
    "a = int(x)"
   ]
  },
  {
   "cell_type": "code",
   "execution_count": 32,
   "metadata": {},
   "outputs": [
    {
     "name": "stdout",
     "output_type": "stream",
     "text": [
      "7\n",
      "<class 'int'>\n"
     ]
    }
   ],
   "source": [
    "print(a)            # 7\n",
    "\n",
    "print(type(a))      # <class 'int'>"
   ]
  },
  {
   "cell_type": "code",
   "execution_count": 34,
   "metadata": {},
   "outputs": [
    {
     "data": {
      "text/plain": [
       "'2.13'"
      ]
     },
     "execution_count": 34,
     "metadata": {},
     "output_type": "execute_result"
    }
   ],
   "source": [
    "# Bu degisiklik kalici degil.\n",
    "\n",
    "height = 2.13\n",
    "str(height)"
   ]
  },
  {
   "cell_type": "code",
   "execution_count": 35,
   "metadata": {},
   "outputs": [
    {
     "data": {
      "text/plain": [
       "float"
      ]
     },
     "execution_count": 35,
     "metadata": {},
     "output_type": "execute_result"
    }
   ],
   "source": [
    "type(height)"
   ]
  },
  {
   "cell_type": "code",
   "execution_count": 38,
   "metadata": {},
   "outputs": [
    {
     "data": {
      "text/plain": [
       "str"
      ]
     },
     "execution_count": 38,
     "metadata": {},
     "output_type": "execute_result"
    }
   ],
   "source": [
    "height_str = str(height)  # yeniden tanımlamam gerekir\n",
    "type(height_str)"
   ]
  },
  {
   "cell_type": "code",
   "execution_count": 37,
   "metadata": {},
   "outputs": [
    {
     "data": {
      "text/plain": [
       "str"
      ]
     },
     "execution_count": 37,
     "metadata": {},
     "output_type": "execute_result"
    }
   ],
   "source": [
    "type(height_str)"
   ]
  },
  {
   "cell_type": "code",
   "execution_count": 39,
   "metadata": {},
   "outputs": [
    {
     "data": {
      "text/plain": [
       "str"
      ]
     },
     "execution_count": 39,
     "metadata": {},
     "output_type": "execute_result"
    }
   ],
   "source": [
    "# int to str\n",
    "\n",
    "student_number = 82\n",
    "student_number = str(student_number)\n",
    "type(student_number)"
   ]
  },
  {
   "cell_type": "code",
   "execution_count": 1,
   "metadata": {},
   "outputs": [
    {
     "name": "stdout",
     "output_type": "stream",
     "text": [
      "42\n",
      "3.14\n"
     ]
    }
   ],
   "source": [
    "# int -> str\n",
    "number = 42\n",
    "text = str(number)\n",
    "print(text)  # \"42\"\n",
    "\n",
    "# str -> float\n",
    "value = \"3.14\"\n",
    "number = float(value)\n",
    "print(number)  # 3.14"
   ]
  },
  {
   "cell_type": "code",
   "execution_count": 40,
   "metadata": {},
   "outputs": [
    {
     "data": {
      "text/plain": [
       "'True'"
      ]
     },
     "execution_count": 40,
     "metadata": {},
     "output_type": "execute_result"
    }
   ],
   "source": [
    "# bool to str\n",
    "\n",
    "isScheduled = True \n",
    "str(isScheduled)"
   ]
  },
  {
   "cell_type": "code",
   "execution_count": 41,
   "metadata": {},
   "outputs": [
    {
     "ename": "ValueError",
     "evalue": "invalid literal for int() with base 10: 'Hello World'",
     "output_type": "error",
     "traceback": [
      "\u001b[1;31m---------------------------------------------------------------------------\u001b[0m",
      "\u001b[1;31mValueError\u001b[0m                                Traceback (most recent call last)",
      "Cell \u001b[1;32mIn[41], line 4\u001b[0m\n\u001b[0;32m      1\u001b[0m \u001b[38;5;66;03m# str to int\u001b[39;00m\n\u001b[0;32m      2\u001b[0m \u001b[38;5;66;03m# Eger bir string integara benziyorsa integera cevrilebilir degilse cevrilemez. \u001b[39;00m\n\u001b[1;32m----> 4\u001b[0m \u001b[38;5;28;43mint\u001b[39;49m\u001b[43m(\u001b[49m\u001b[38;5;124;43m'\u001b[39;49m\u001b[38;5;124;43mHello World\u001b[39;49m\u001b[38;5;124;43m'\u001b[39;49m\u001b[43m)\u001b[49m\n",
      "\u001b[1;31mValueError\u001b[0m: invalid literal for int() with base 10: 'Hello World'"
     ]
    }
   ],
   "source": [
    "# str to int\n",
    "# Eger bir string integara benziyorsa integera cevrilebilir degilse cevrilemez. \n",
    "\n",
    "int('Hello World')"
   ]
  },
  {
   "cell_type": "code",
   "execution_count": 43,
   "metadata": {},
   "outputs": [
    {
     "ename": "ValueError",
     "evalue": "invalid literal for int() with base 10: '190.89'",
     "output_type": "error",
     "traceback": [
      "\u001b[1;31m---------------------------------------------------------------------------\u001b[0m",
      "\u001b[1;31mValueError\u001b[0m                                Traceback (most recent call last)",
      "Cell \u001b[1;32mIn[43], line 4\u001b[0m\n\u001b[0;32m      1\u001b[0m \u001b[38;5;66;03m# Float görünümlü bir ifadeyi direkt integera cevirmek istersek hata aliriz. Ifadeyi önce floata sonra floattan integera cevirmek gerekir.\u001b[39;00m\n\u001b[0;32m      3\u001b[0m y \u001b[38;5;241m=\u001b[39m \u001b[38;5;124m'\u001b[39m\u001b[38;5;124m190.89\u001b[39m\u001b[38;5;124m'\u001b[39m\n\u001b[1;32m----> 4\u001b[0m \u001b[38;5;28;43mint\u001b[39;49m\u001b[43m(\u001b[49m\u001b[43my\u001b[49m\u001b[43m)\u001b[49m\n",
      "\u001b[1;31mValueError\u001b[0m: invalid literal for int() with base 10: '190.89'"
     ]
    }
   ],
   "source": [
    "# Float görünümlü bir ifadeyi direkt integera cevirmek istersek hata aliriz. Ifadeyi önce floata sonra floattan integera cevirmek gerekir.\n",
    "\n",
    "y = '190.89'\n",
    "int(y)"
   ]
  },
  {
   "cell_type": "code",
   "execution_count": 44,
   "metadata": {},
   "outputs": [
    {
     "data": {
      "text/plain": [
       "190"
      ]
     },
     "execution_count": 44,
     "metadata": {},
     "output_type": "execute_result"
    }
   ],
   "source": [
    "# Float bir sayi integera cevrilirken Python noktadan sonraki kismi direkt atar.\n",
    "\n",
    "int(float(y))"
   ]
  },
  {
   "cell_type": "code",
   "execution_count": 45,
   "metadata": {},
   "outputs": [
    {
     "data": {
      "text/plain": [
       "1"
      ]
     },
     "execution_count": 45,
     "metadata": {},
     "output_type": "execute_result"
    }
   ],
   "source": [
    "# bool to int\n",
    "# True varligi temsil eder.\n",
    "\n",
    "int(True) "
   ]
  },
  {
   "cell_type": "code",
   "execution_count": 46,
   "metadata": {},
   "outputs": [
    {
     "data": {
      "text/plain": [
       "0"
      ]
     },
     "execution_count": 46,
     "metadata": {},
     "output_type": "execute_result"
    }
   ],
   "source": [
    "# Yoklugu temsil eder.\n",
    "\n",
    "int(False)"
   ]
  },
  {
   "cell_type": "code",
   "execution_count": 33,
   "metadata": {},
   "outputs": [
    {
     "name": "stdout",
     "output_type": "stream",
     "text": [
      "7\n",
      "8\n",
      "8\n"
     ]
    }
   ],
   "source": [
    "x = 7.3\n",
    "y = 7.5\n",
    "z = 7.8\n",
    "\n",
    "a = round(x)\n",
    "b = round(y)\n",
    "c = round(z)\n",
    "\n",
    "print(a)    # 7\n",
    "print(b)    # 8\n",
    "print(c)    # 8"
   ]
  },
  {
   "cell_type": "markdown",
   "metadata": {},
   "source": [
    "**Operatörler (Arithmetic Operations)** Python’da operatörler, değişkenler üzerinde işlemler yapmak için kullanılır."
   ]
  },
  {
   "cell_type": "code",
   "execution_count": 92,
   "metadata": {},
   "outputs": [
    {
     "name": "stdout",
     "output_type": "stream",
     "text": [
      "14\n",
      "6\n",
      "40\n",
      "2.5\n",
      "2\n",
      "2\n",
      "10000\n"
     ]
    }
   ],
   "source": [
    "a = 10\n",
    "b = 4\n",
    "print(a + b)  # Toplama: 13\n",
    "print(a - b)  # Çıkarma: 7\n",
    "print(a * b)  # Çarpma: 30\n",
    "print(a / b)  # Bölme: 3.333...\n",
    "print(a // b) # Tam Sayı Bölme: 3\n",
    "print(a % b)  # Mod Alma: 1\n",
    "print(a ** b) # Üs Alma: 1000"
   ]
  },
  {
   "cell_type": "code",
   "execution_count": 162,
   "metadata": {},
   "outputs": [
    {
     "data": {
      "text/plain": [
       "float"
      ]
     },
     "execution_count": 162,
     "metadata": {},
     "output_type": "execute_result"
    }
   ],
   "source": [
    "# Bölme isleminin sonucu floattir.\n",
    "\n",
    "30 / 6\n",
    "type (30 / 6)"
   ]
  },
  {
   "cell_type": "code",
   "execution_count": 163,
   "metadata": {},
   "outputs": [
    {
     "data": {
      "text/plain": [
       "int"
      ]
     },
     "execution_count": 163,
     "metadata": {},
     "output_type": "execute_result"
    }
   ],
   "source": [
    "# Eger sonucu float olarak istemezsek, tam sayi olarak gerekli ise o zaman tam bölme '//' kullanabiliriz. Yuvarlama yapmaz, noktadan sonraki kismi atar.\n",
    "30 // 3\n",
    "type (30 // 3)"
   ]
  },
  {
   "cell_type": "code",
   "execution_count": 164,
   "metadata": {},
   "outputs": [
    {
     "data": {
      "text/plain": [
       "1"
      ]
     },
     "execution_count": 164,
     "metadata": {},
     "output_type": "execute_result"
    }
   ],
   "source": [
    "# % -> bölmede kalani verir.\n",
    "\n",
    "21 % 5"
   ]
  },
  {
   "cell_type": "code",
   "execution_count": 165,
   "metadata": {},
   "outputs": [
    {
     "data": {
      "text/plain": [
       "27"
      ]
     },
     "execution_count": 165,
     "metadata": {},
     "output_type": "execute_result"
    }
   ],
   "source": [
    "# 3'ün 3. kuvveti (3'ün küpü)\n",
    "\n",
    "3 ** 3"
   ]
  },
  {
   "cell_type": "code",
   "execution_count": 166,
   "metadata": {},
   "outputs": [
    {
     "data": {
      "text/plain": [
       "27"
      ]
     },
     "execution_count": 166,
     "metadata": {},
     "output_type": "execute_result"
    }
   ],
   "source": [
    "# Pow powerdan gelir, üs almak icin kullanilan bir fonksiyondur.\n",
    "\n",
    "pow(3, 3)"
   ]
  },
  {
   "cell_type": "code",
   "execution_count": 167,
   "metadata": {},
   "outputs": [
    {
     "data": {
      "text/plain": [
       "5.0"
      ]
     },
     "execution_count": 167,
     "metadata": {},
     "output_type": "execute_result"
    }
   ],
   "source": [
    "# Kökünü almak icin Pythonda belirlenmis bir fonksiyon yok.\n",
    "\n",
    "25 ** 0.5"
   ]
  },
  {
   "cell_type": "code",
   "execution_count": 168,
   "metadata": {},
   "outputs": [
    {
     "data": {
      "text/plain": [
       "5.0"
      ]
     },
     "execution_count": 168,
     "metadata": {},
     "output_type": "execute_result"
    }
   ],
   "source": [
    "25 ** (1/2)"
   ]
  },
  {
   "cell_type": "code",
   "execution_count": 169,
   "metadata": {},
   "outputs": [
    {
     "data": {
      "text/plain": [
       "12.5"
      ]
     },
     "execution_count": 169,
     "metadata": {},
     "output_type": "execute_result"
    }
   ],
   "source": [
    "# Islem önceliginde üs alma bölmeden önce geldigi icin ciktida istenilen sonuc alinamadi.\n",
    "\n",
    "25 ** 1/2"
   ]
  },
  {
   "cell_type": "markdown",
   "metadata": {},
   "source": [
    "**Islem Önceligi**\n",
    "\n",
    "- Parantez\n",
    "- Üslu ifadeler\n",
    "- Carpma ve bölme\n",
    "- Toplama ve cikarma"
   ]
  },
  {
   "cell_type": "code",
   "execution_count": 98,
   "metadata": {},
   "outputs": [
    {
     "data": {
      "text/plain": [
       "96"
      ]
     },
     "execution_count": 98,
     "metadata": {},
     "output_type": "execute_result"
    }
   ],
   "source": [
    "x = (4 + 3 * 2) ** 2 + (120 // (5 * 4) - 10)\n",
    "x"
   ]
  },
  {
   "cell_type": "markdown",
   "metadata": {},
   "source": [
    "**Karşılaştırma Operatörleri (Comparison Operators)**\n",
    "Sonuç olarak True veya False döner."
   ]
  },
  {
   "cell_type": "code",
   "execution_count": 93,
   "metadata": {},
   "outputs": [
    {
     "name": "stdout",
     "output_type": "stream",
     "text": [
      "False\n",
      "True\n",
      "False\n",
      "True\n"
     ]
    }
   ],
   "source": [
    "x = 5\n",
    "y = 10\n",
    "print(x == y)  # Eşit mi: False\n",
    "print(x != y)  # Eşit değil mi: True\n",
    "print(x > y)   # Büyük mü: False\n",
    "print(x < y)   # Küçük mü: True"
   ]
  },
  {
   "cell_type": "code",
   "execution_count": 175,
   "metadata": {},
   "outputs": [
    {
     "data": {
      "text/plain": [
       "False"
      ]
     },
     "execution_count": 175,
     "metadata": {},
     "output_type": "execute_result"
    }
   ],
   "source": [
    "type(7) == type(7.0)"
   ]
  },
  {
   "cell_type": "code",
   "execution_count": 176,
   "metadata": {},
   "outputs": [
    {
     "data": {
      "text/plain": [
       "True"
      ]
     },
     "execution_count": 176,
     "metadata": {},
     "output_type": "execute_result"
    }
   ],
   "source": [
    "int(8.9) == 8"
   ]
  },
  {
   "cell_type": "code",
   "execution_count": 177,
   "metadata": {},
   "outputs": [
    {
     "data": {
      "text/plain": [
       "False"
      ]
     },
     "execution_count": 177,
     "metadata": {},
     "output_type": "execute_result"
    }
   ],
   "source": [
    "# Esit degil midir?\n",
    "\n",
    "5 != 5     "
   ]
  },
  {
   "cell_type": "code",
   "execution_count": 1,
   "metadata": {},
   "outputs": [
    {
     "data": {
      "text/plain": [
       "True"
      ]
     },
     "execution_count": 1,
     "metadata": {},
     "output_type": "execute_result"
    }
   ],
   "source": [
    "False <= 0"
   ]
  },
  {
   "cell_type": "code",
   "execution_count": 2,
   "metadata": {},
   "outputs": [
    {
     "data": {
      "text/plain": [
       "True"
      ]
     },
     "execution_count": 2,
     "metadata": {},
     "output_type": "execute_result"
    }
   ],
   "source": [
    "True > 0.9"
   ]
  },
  {
   "cell_type": "code",
   "execution_count": 3,
   "metadata": {},
   "outputs": [
    {
     "data": {
      "text/plain": [
       "False"
      ]
     },
     "execution_count": 3,
     "metadata": {},
     "output_type": "execute_result"
    }
   ],
   "source": [
    "type(7) == type(7.0)"
   ]
  },
  {
   "cell_type": "markdown",
   "metadata": {},
   "source": [
    "**Falsy / Truthy Values**"
   ]
  },
  {
   "cell_type": "code",
   "execution_count": 178,
   "metadata": {},
   "outputs": [
    {
     "name": "stdout",
     "output_type": "stream",
     "text": [
      "0 False\n",
      "0.0 False\n",
      "False False\n",
      "'' False\n"
     ]
    }
   ],
   "source": [
    "# 0, 0.0, False, '', (), {}, [], None\n",
    "\n",
    "print(f'0 {bool(0)}')\n",
    "print(f'0.0 {bool(0.0)}')\n",
    "print(f'False {bool(False)}')\n",
    "print(f\"'' {bool('')}\")"
   ]
  },
  {
   "cell_type": "markdown",
   "metadata": {},
   "source": [
    "**Mantıksal Operatörler(Logic Expressions)**\n",
    "Mantıksal ifadeleri birleştirmek için kullanılır."
   ]
  },
  {
   "cell_type": "code",
   "execution_count": 94,
   "metadata": {},
   "outputs": [
    {
     "name": "stdout",
     "output_type": "stream",
     "text": [
      "False\n",
      "True\n",
      "False\n"
     ]
    }
   ],
   "source": [
    "x = True\n",
    "y = False\n",
    "print(x and y)  # İkisi de doğru mu: False\n",
    "print(x or y)   # Biri doğru mu: True\n",
    "print(not x)    # Tersine çevir: False"
   ]
  },
  {
   "cell_type": "markdown",
   "metadata": {},
   "source": [
    "Islem Önceligi\n",
    "\n",
    "- 1.not\n",
    "- 2.and\n",
    "- 3.or"
   ]
  },
  {
   "cell_type": "code",
   "execution_count": 179,
   "metadata": {},
   "outputs": [],
   "source": [
    "# and -> False deger arar!\n",
    "# Hepsi true ise en sondaki elemani yazdirir.\n",
    "# Bir tane bile false var ise ilk gördügü false'u yazdirir.\n",
    "# Bütün sartlarin saglandigi durumlarda and kulllanacagiz.\n",
    "# Mükemmelliyetcidir."
   ]
  },
  {
   "cell_type": "code",
   "execution_count": 180,
   "metadata": {},
   "outputs": [
    {
     "data": {
      "text/plain": [
       "''"
      ]
     },
     "execution_count": 180,
     "metadata": {},
     "output_type": "execute_result"
    }
   ],
   "source": [
    "'a' and '' and 8 and {}"
   ]
  },
  {
   "cell_type": "code",
   "execution_count": 185,
   "metadata": {},
   "outputs": [
    {
     "data": {
      "text/plain": [
       "'Melisa'"
      ]
     },
     "execution_count": 185,
     "metadata": {},
     "output_type": "execute_result"
    }
   ],
   "source": [
    "6 and 9 and 'Melisa'"
   ]
  },
  {
   "cell_type": "code",
   "execution_count": 181,
   "metadata": {},
   "outputs": [],
   "source": [
    "# or -> True deger arar!\n",
    "# Hepsi false ise en sondaki elemani döndürür, bir tane bile true varsa ilk gördügü true ifadeyi döndürür."
   ]
  },
  {
   "cell_type": "code",
   "execution_count": 182,
   "metadata": {},
   "outputs": [
    {
     "data": {
      "text/plain": [
       "8"
      ]
     },
     "execution_count": 182,
     "metadata": {},
     "output_type": "execute_result"
    }
   ],
   "source": [
    "8 or 0 or 'Ankara'"
   ]
  },
  {
   "cell_type": "code",
   "execution_count": 10,
   "metadata": {},
   "outputs": [
    {
     "data": {
      "text/plain": [
       "8"
      ]
     },
     "execution_count": 10,
     "metadata": {},
     "output_type": "execute_result"
    }
   ],
   "source": [
    "0 or '' or [] or 8 or 'İstanbul'"
   ]
  },
  {
   "cell_type": "code",
   "execution_count": 11,
   "metadata": {},
   "outputs": [
    {
     "data": {
      "text/plain": [
       "0.1"
      ]
     },
     "execution_count": 11,
     "metadata": {},
     "output_type": "execute_result"
    }
   ],
   "source": [
    "False or (False and 'Aylin' or not '' and (0 or 0.1))"
   ]
  },
  {
   "cell_type": "markdown",
   "metadata": {},
   "source": [
    "### Python'da print, f-string, format, input, Escape Sequences ve ASCII Kullanımı"
   ]
  },
  {
   "cell_type": "markdown",
   "metadata": {},
   "source": [
    "**print() Fonksiyonu** ekrana çıktı vermek için kullanılır."
   ]
  },
  {
   "cell_type": "code",
   "execution_count": 107,
   "metadata": {},
   "outputs": [
    {
     "name": "stdout",
     "output_type": "stream",
     "text": [
      "Merhaba, Dünya!\n"
     ]
    }
   ],
   "source": [
    "print(\"Merhaba, Dünya!\")  # Çıktı: Merhaba, Dünya!"
   ]
  },
  {
   "cell_type": "code",
   "execution_count": 170,
   "metadata": {},
   "outputs": [
    {
     "name": "stdout",
     "output_type": "stream",
     "text": [
      "Help on built-in function print in module builtins:\n",
      "\n",
      "print(*args, sep=' ', end='\\n', file=None, flush=False)\n",
      "    Prints the values to a stream, or to sys.stdout by default.\n",
      "\n",
      "    sep\n",
      "      string inserted between values, default a space.\n",
      "    end\n",
      "      string appended after the last value, default a newline.\n",
      "    file\n",
      "      a file-like object (stream); defaults to the current sys.stdout.\n",
      "    flush\n",
      "      whether to forcibly flush the stream.\n",
      "\n"
     ]
    }
   ],
   "source": [
    "# Size fonksiyonun ayrintilarini döndürür. \n",
    "\n",
    "help(print)"
   ]
  },
  {
   "cell_type": "code",
   "execution_count": 108,
   "metadata": {},
   "outputs": [
    {
     "name": "stdout",
     "output_type": "stream",
     "text": [
      "Python programlama dili\n"
     ]
    }
   ],
   "source": [
    "# Birden Fazla Değeri Yazdırmak:\n",
    "\n",
    "print(\"Python\", \"programlama\", \"dili\")  # Çıktı: Python programlama dili\n"
   ]
  },
  {
   "cell_type": "code",
   "execution_count": 109,
   "metadata": {},
   "outputs": [
    {
     "name": "stdout",
     "output_type": "stream",
     "text": [
      "8\n"
     ]
    }
   ],
   "source": [
    "# Ayrıca İfade Kullanımı:\n",
    "\n",
    "print(3 + 5)  # Çıktı: 8"
   ]
  },
  {
   "cell_type": "markdown",
   "metadata": {},
   "source": [
    "#### Özel Parametreler:\n",
    "sep (separator): Yazdırılan değerler arasına ne koyulacağını belirtir."
   ]
  },
  {
   "cell_type": "code",
   "execution_count": 3,
   "metadata": {},
   "outputs": [
    {
     "name": "stdout",
     "output_type": "stream",
     "text": [
      "Python- C- Java\n"
     ]
    }
   ],
   "source": [
    "print(\"Python\", \"C\", \"Java\", sep=\"- \")  # Çıktı: Python, C, Java"
   ]
  },
  {
   "cell_type": "markdown",
   "metadata": {},
   "source": [
    "end: Çıktının sonuna ne ekleneceğini belirtir (varsayılan olarak satır sonu eklenir)."
   ]
  },
  {
   "cell_type": "code",
   "execution_count": 4,
   "metadata": {},
   "outputs": [
    {
     "name": "stdout",
     "output_type": "stream",
     "text": [
      "Merhaba!"
     ]
    }
   ],
   "source": [
    "print(\"Merhaba\", end=\"!\")  # Çıktı: Merhaba!"
   ]
  },
  {
   "cell_type": "markdown",
   "metadata": {},
   "source": [
    "**f-string (Formatlı Stringler)**\n",
    "Python 3.6 ve sonrasında kullanılabilir. Değişkenleri kolayca metin içinde kullanmayı sağlar."
   ]
  },
  {
   "cell_type": "code",
   "execution_count": 5,
   "metadata": {},
   "outputs": [
    {
     "name": "stdout",
     "output_type": "stream",
     "text": [
      "Merhaba, benim adım Alice ve 25 yaşındayım.\n"
     ]
    }
   ],
   "source": [
    "name = \"Alice\"\n",
    "age = 25\n",
    "print(f\"Merhaba, benim adım {name} ve {age} yaşındayım.\")  \n",
    "# Çıktı: Merhaba, benim adım Alice ve 25 yaşındayım."
   ]
  },
  {
   "cell_type": "code",
   "execution_count": 3,
   "metadata": {},
   "outputs": [
    {
     "name": "stdout",
     "output_type": "stream",
     "text": [
      "Name: Rose Job: Instructor Country: Turkey\n"
     ]
    }
   ],
   "source": [
    "# Süslü parantezlerin icersine variable isimlerini yazabiliriz.\n",
    "# Süslü parantezlerin icerisinde Python kodlarini da kullanabiliriz.\n",
    "\n",
    "name = 'Rose'\n",
    "job = 'Instructor'\n",
    "country = 'Turkey'\n",
    "print(f'Name: {name} Job: {job} Country: {country}')"
   ]
  },
  {
   "cell_type": "markdown",
   "metadata": {},
   "source": [
    "Matematiksel İşlemler ve İfadeler:"
   ]
  },
  {
   "cell_type": "code",
   "execution_count": 7,
   "metadata": {},
   "outputs": [
    {
     "name": "stdout",
     "output_type": "stream",
     "text": [
      "5 + 10 = 15\n"
     ]
    }
   ],
   "source": [
    "a = 5\n",
    "b = 10\n",
    "print(f\"{a} + {b} = {a + b}\")  # Çıktı: 5 + 10 = 15"
   ]
  },
  {
   "cell_type": "markdown",
   "metadata": {},
   "source": [
    "Yuvarlama İşlemleri:"
   ]
  },
  {
   "cell_type": "code",
   "execution_count": 8,
   "metadata": {},
   "outputs": [
    {
     "name": "stdout",
     "output_type": "stream",
     "text": [
      "Pi yaklaşık olarak 3.14\n"
     ]
    }
   ],
   "source": [
    "pi = 3.14159\n",
    "print(f\"Pi yaklaşık olarak {pi:.2f}\")  # Çıktı: Pi yaklaşık olarak 3.14"
   ]
  },
  {
   "cell_type": "markdown",
   "metadata": {},
   "source": [
    "**format() Metodu**\n",
    "Değişkenleri yerleştirmek için kullanılır."
   ]
  },
  {
   "cell_type": "code",
   "execution_count": 9,
   "metadata": {},
   "outputs": [
    {
     "name": "stdout",
     "output_type": "stream",
     "text": [
      "Benim adım Bob ve 30 yaşındayım.\n"
     ]
    }
   ],
   "source": [
    "name = \"Bob\"\n",
    "age = 30\n",
    "print(\"Benim adım {} ve {} yaşındayım.\".format(name, age))  \n",
    "# Çıktı: Benim adım Bob ve 30 yaşındayım."
   ]
  },
  {
   "cell_type": "markdown",
   "metadata": {},
   "source": [
    "Pozisyon Tabanlı:"
   ]
  },
  {
   "cell_type": "code",
   "execution_count": 10,
   "metadata": {},
   "outputs": [
    {
     "name": "stdout",
     "output_type": "stream",
     "text": [
      "Java ve Python programlama dilleridir.\n"
     ]
    }
   ],
   "source": [
    "print(\"{1} ve {0} programlama dilleridir.\".format(\"Python\", \"Java\"))  \n",
    "# Çıktı: Java ve Python programlama dilleridir."
   ]
  },
  {
   "cell_type": "markdown",
   "metadata": {},
   "source": [
    "İsim Tabanlı:"
   ]
  },
  {
   "cell_type": "code",
   "execution_count": 11,
   "metadata": {},
   "outputs": [
    {
     "name": "stdout",
     "output_type": "stream",
     "text": [
      "Adım Alice ve yaşım 25\n"
     ]
    }
   ],
   "source": [
    "print(\"Adım {ad} ve yaşım {yas}\".format(ad=\"Alice\", yas=25))  \n",
    "# Çıktı: Adım Alice ve yaşım 25"
   ]
  },
  {
   "cell_type": "markdown",
   "metadata": {},
   "source": [
    "**input() Fonksiyonu**\n",
    "Kullanıcıdan veri almak için kullanılır."
   ]
  },
  {
   "cell_type": "code",
   "execution_count": 12,
   "metadata": {},
   "outputs": [
    {
     "name": "stdout",
     "output_type": "stream",
     "text": [
      "Merhaba, !\n"
     ]
    }
   ],
   "source": [
    "name = input(\"Adınızı girin: \")  # Kullanıcı veri girer\n",
    "print(f\"Merhaba, {name}!\")  \n",
    "# Çıktı: Kullanıcının adını yazdırır"
   ]
  },
  {
   "cell_type": "markdown",
   "metadata": {},
   "source": [
    "**Sayısal Girdiler:**\n",
    "input() ile alınan tüm veriler metin (str) olarak gelir. Sayısal veri için dönüşüm gerekir:"
   ]
  },
  {
   "cell_type": "code",
   "execution_count": 4,
   "metadata": {},
   "outputs": [
    {
     "name": "stdout",
     "output_type": "stream",
     "text": [
      "Girdiğiniz yaş: 22\n"
     ]
    }
   ],
   "source": [
    "age = int(input(\"Yaşınızı girin: \"))  # Girilen veri sayıya çevrilir\n",
    "print(f\"Girdiğiniz yaş: {age}\")"
   ]
  },
  {
   "cell_type": "code",
   "execution_count": 172,
   "metadata": {},
   "outputs": [
    {
     "name": "stdout",
     "output_type": "stream",
     "text": [
      "Yari capi 2 olan dairenin alani: 12.566 dir.\n"
     ]
    }
   ],
   "source": [
    "# Bir dairenin yari capini integer olarak kullanicidan alin.\n",
    "# Bu dairenin alanini tam sayi olarak cikti veren kodu yazin ve fstring kullanin.\n",
    "\n",
    "import math\n",
    "r = int(input('Dairenin yari capini giriniz:'))\n",
    "pi = math.pi\n",
    "alan = pi * (r ** 2)\n",
    "print(f'Yari capi {r} olan dairenin alani: {round(alan, 3)} dir.')\n",
    "\n",
    "# round -> sayiyi yuvarlamak icin kullandigimiz bir fonksiyondur. \n",
    "# round fonksiyonu virgülden sonra kac basamak sayi görünecegini de belirleyebilir.\n"
   ]
  },
  {
   "cell_type": "code",
   "execution_count": 173,
   "metadata": {},
   "outputs": [
    {
     "name": "stdout",
     "output_type": "stream",
     "text": [
      "Yari capi 2 olan dairenin alani: 13'dir.\n"
     ]
    }
   ],
   "source": [
    "# Yukaridaki cevabin iyilestirilmis hali.\n",
    "\n",
    "import math\n",
    "r = int (input ('Lütfen alanini hesaplamak istediginiz dairenin yari capini giriniz:'))\n",
    "alan = math.pi * pow (r, 2)\n",
    "print (f'Yari capi {r} olan dairenin alani: {round(alan)}\\'dir.')"
   ]
  },
  {
   "cell_type": "markdown",
   "metadata": {},
   "source": [
    "**String ve Tanımı**"
   ]
  },
  {
   "cell_type": "markdown",
   "metadata": {},
   "source": [
    "String, Python’da metinleri temsil eden bir veri türüdür ve karakter dizisi olarak adlandırılır. String’ler tek tırnak ('), çift tırnak (\"), ya da üç tırnak (''' veya \"\"\") ile tanımlanabilir."
   ]
  },
  {
   "cell_type": "code",
   "execution_count": 2,
   "metadata": {},
   "outputs": [],
   "source": [
    "# Tek tırnak ile string\n",
    "metin1 = 'Merhaba'\n",
    "\n",
    "# Çift tırnak ile string\n",
    "metin2 = \"Dünya\"\n",
    "\n",
    "# Üç tırnak ile çok satırlı string\n",
    "metin3 = '''Bu\n",
    "bir\n",
    "çok satırlı\n",
    "string.'''"
   ]
  },
  {
   "cell_type": "markdown",
   "metadata": {},
   "source": [
    "Not:\n",
    "\n",
    "- Tek ve çift tırnak arasında işlevsel bir fark yoktur. İhtiyaca göre seçilebilir.\n",
    "- Üç tırnak, genellikle çok satırlı metinler ya da uzun açıklamalar (docstring) için kullanılır."
   ]
  },
  {
   "cell_type": "markdown",
   "metadata": {},
   "source": [
    "**String Indexing (Dizinleme)**\n",
    "String’ler bir karakter dizisi olduğu için, her karakterin bir indeksi (konum numarası) vardır. Python’da indeksler sıfırdan (0) başlar."
   ]
  },
  {
   "cell_type": "markdown",
   "metadata": {},
   "source": [
    "- +------------------+---+---+---+---+---+---+---+\n",
    "- | Karakter         | M | e | r | h | a | b | a |\n",
    "- +------------------+---+---+---+---+---+---+---+\n",
    "- | Pozitif İndeks   | 0 | 1 | 2 | 3 | 4 | 5 | 6 |\n",
    "- | Negatif İndeks   |-7 |-6 |-5 |-4 |-3 |-2 |-1 |\n",
    "- +------------------+---+---+---+---+---+---+---+"
   ]
  },
  {
   "cell_type": "markdown",
   "metadata": {},
   "source": [
    "Kullanımı:\n",
    "\n",
    "- Pozitif indeks sola doğru sıralanır (0 ilk karakterdir).\n",
    "- Negatif indeks sağdan sola doğru sıralanır (-1 son karakterdir).\n",
    "Örnekler:"
   ]
  },
  {
   "cell_type": "code",
   "execution_count": 21,
   "metadata": {},
   "outputs": [
    {
     "name": "stdout",
     "output_type": "stream",
     "text": [
      "M\n",
      "a\n",
      "a\n",
      "a\n"
     ]
    }
   ],
   "source": [
    "metin = \"Merhaba\"\n",
    "\n",
    "print(metin[0])   # Çıktı: 'M' -> İlk karakter\n",
    "print(metin[4])   # Çıktı: 'a' -> Beşinci karakter\n",
    "print(metin[-1])  # Çıktı: 'a' -> Son karakter\n",
    "print(metin[-3])  # Çıktı: 'b' -> Sondan üçüncü karakter\n"
   ]
  },
  {
   "cell_type": "markdown",
   "metadata": {},
   "source": [
    "**String Slicing (Dilimleme)**\n",
    "\n",
    "- Slicing, bir string’in belirli bir bölümünü almak için kullanılır. Python’da slicing şu şekilde yapılır:\n",
    "string[başlangıç:bitiş:adım]\n",
    "\n",
    "- başlangıç: Alınmaya başlanacak indeks (dahil).\n",
    "- bitiş: Alınacak son indeks (hariç).\n",
    "- adım: Alınacak karakterler arasındaki sıklık."
   ]
  },
  {
   "cell_type": "code",
   "execution_count": 29,
   "metadata": {},
   "outputs": [
    {
     "data": {
      "text/plain": [
       "'Com'"
      ]
     },
     "execution_count": 29,
     "metadata": {},
     "output_type": "execute_result"
    }
   ],
   "source": [
    "# [Baslangic noktasi : Bitis noktasi] Baslangic noktasi dahildir ama bitis noktasi dahil degildir.\n",
    "# Matematikteki sözdizimi: [2,3)\n",
    "\n",
    "'Computer'[0:3]"
   ]
  },
  {
   "cell_type": "code",
   "execution_count": 15,
   "metadata": {},
   "outputs": [
    {
     "name": "stdout",
     "output_type": "stream",
     "text": [
      "Merhaba\n",
      "Merhaba\n",
      "Dünya\n",
      "MraaDna\n",
      "aynüD abahreM\n"
     ]
    }
   ],
   "source": [
    "metin = \"Merhaba Dünya\"\n",
    "\n",
    "print(metin[0:7])   # Çıktı: 'Merhaba' -> 0’dan 7’ye kadar (7 hariç)\n",
    "print(metin[:7])    # Çıktı: 'Merhaba' -> Başlangıç belirtilmemişse 0 kabul edilir\n",
    "print(metin[8:])    # Çıktı: 'Dünya' -> 8’den sona kadar\n",
    "print(metin[::2])   # Çıktı: 'MraaDny' -> 2 karakterde bir al\n",
    "print(metin[::-1])  # Çıktı: 'aynüD abahreM' -> String’i ters çevir"
   ]
  },
  {
   "cell_type": "markdown",
   "metadata": {},
   "source": [
    "**Detaylı Slicing Açıklaması:**\n",
    "\n",
    "- metin[2:5] → 2’den başla, 5’e kadar al (5 hariç).\n",
    "- metin[:5] → Başlangıçtan başla, 5’e kadar al.\n",
    "- metin[5:] → 5’ten başla, sona kadar al.\n",
    "- metin[::3] → Baştan başla, 3’er adımla karakterleri al.\n",
    "- metin[::-1] → Tüm string’i tersten al.\n"
   ]
  },
  {
   "cell_type": "code",
   "execution_count": 30,
   "metadata": {},
   "outputs": [
    {
     "name": "stdout",
     "output_type": "stream",
     "text": [
      "ter\n",
      "Compu\n",
      "Computer\n"
     ]
    }
   ],
   "source": [
    "# Eger bitis indexi belirlenmezse , default (varsayilan) olarak, gidebildigi yere kadar gider, yani en sona kadar. Eger baslangic noktasini tanimlamazsak, bu sefer default olarak en bastan itibaren alir.\n",
    "\n",
    "print ('Computer'[5:])\n",
    "\n",
    "print ('Computer'[:5])\n",
    "\n",
    "print ('Computer'[:])"
   ]
  },
  {
   "cell_type": "code",
   "execution_count": 14,
   "metadata": {},
   "outputs": [
    {
     "data": {
      "text/plain": [
       "'HlWl'"
      ]
     },
     "execution_count": 14,
     "metadata": {},
     "output_type": "execute_result"
    }
   ],
   "source": [
    "# Text [Baslangic : Bitis : Adim] Adim sayisi varsayilan olarak 1'dir. Bu örnekte adim sayisini 3 olarak belirledik.\n",
    "\n",
    "'Hello World'[0:12:3]"
   ]
  },
  {
   "cell_type": "code",
   "execution_count": 5,
   "metadata": {},
   "outputs": [
    {
     "data": {
      "text/plain": [
       "''"
      ]
     },
     "execution_count": 5,
     "metadata": {},
     "output_type": "execute_result"
    }
   ],
   "source": [
    "# Baslamadan biter, ilk once bitis cizgini gördügü icin.\n",
    "\n",
    "'Dilara'[0:6:-1]"
   ]
  },
  {
   "cell_type": "markdown",
   "metadata": {},
   "source": [
    "**String Ters Çevirme ve Adımlama Teknikleri**\n",
    "\n",
    "String Ters Çevirme:\n",
    "Tüm string’i tersine çevirmek için dilimleme (slicing) kullanılır:"
   ]
  },
  {
   "cell_type": "code",
   "execution_count": 17,
   "metadata": {},
   "outputs": [
    {
     "name": "stdout",
     "output_type": "stream",
     "text": [
      "nohtyP\n"
     ]
    }
   ],
   "source": [
    "metin = \"Python\"\n",
    "ters = metin[::-1]\n",
    "print(ters)  # Çıktı: 'nohtyP'"
   ]
  },
  {
   "cell_type": "markdown",
   "metadata": {},
   "source": [
    "**Adımlama Teknikleri:**\n",
    "Adımlama (step) parametresi belirli aralıklarla karakter seçmek için kullanılır:"
   ]
  },
  {
   "cell_type": "code",
   "execution_count": 18,
   "metadata": {},
   "outputs": [
    {
     "name": "stdout",
     "output_type": "stream",
     "text": [
      "MraaDna\n",
      "ea n\n"
     ]
    }
   ],
   "source": [
    "metin = \"Merhaba Dünya\"\n",
    "\n",
    "print(metin[::2])  # Çıktı: 'MraaDny' -> 2 karakterde bir al\n",
    "print(metin[1::3]) # Çıktı: 'ehnü' -> 1’den başla, 3’er adımla karakterleri al"
   ]
  },
  {
   "cell_type": "markdown",
   "metadata": {},
   "source": [
    "**Ters ve Adımlı Erişim:**\n",
    "Hem ters çevirmek hem de belirli adımlarla almak mümkündür:"
   ]
  },
  {
   "cell_type": "code",
   "execution_count": 19,
   "metadata": {},
   "outputs": [
    {
     "name": "stdout",
     "output_type": "stream",
     "text": [
      "nhy\n"
     ]
    }
   ],
   "source": [
    "metin = \"Python\"\n",
    "print(metin[::-2])  # Çıktı: 'nhy' -> Tersten al ve 2 adımla"
   ]
  },
  {
   "cell_type": "markdown",
   "metadata": {},
   "source": [
    "**Özet:**\n",
    "- String Nedir?: Karakter dizileridir ve ', \", ''' ile tanımlanır.\n",
    "- Indexing: Belirli bir karaktere erişmek için kullanılır.\n",
    "- Slicing: String’in belirli bir bölümünü almak için kullanılır.\n",
    "- Ters Çevirme ve Adımlama: String’i tersine çevirmek veya belirli aralıklarla karakterlere erişmek için dilimleme işlemi yapılır.\n",
    "- Bu temel bilgilerle string’ler üzerinde birçok farklı işlemi kolaylıkla gerçekleştirebilirsiniz."
   ]
  },
  {
   "cell_type": "code",
   "execution_count": 22,
   "metadata": {},
   "outputs": [
    {
     "data": {
      "text/plain": [
       "'N'"
      ]
     },
     "execution_count": 22,
     "metadata": {},
     "output_type": "execute_result"
    }
   ],
   "source": [
    "# Indexler soldan saga dogru 0'dan baslar. ve indexleme yaparken [] -> koseli parantez kullanilir.\n",
    "\n",
    "'Nice lesson' [0]"
   ]
  },
  {
   "cell_type": "code",
   "execution_count": 23,
   "metadata": {},
   "outputs": [
    {
     "data": {
      "text/plain": [
       "'n'"
      ]
     },
     "execution_count": 23,
     "metadata": {},
     "output_type": "execute_result"
    }
   ],
   "source": [
    "# -1 sonuncu karakteri getirir.\n",
    "\n",
    "'Nice lesson' [-1]"
   ]
  },
  {
   "cell_type": "code",
   "execution_count": 24,
   "metadata": {},
   "outputs": [
    {
     "data": {
      "text/plain": [
       "' '"
      ]
     },
     "execution_count": 24,
     "metadata": {},
     "output_type": "execute_result"
    }
   ],
   "source": [
    "# Bosluk da bir karakterdir.\n",
    "\n",
    "'Nice lesson' [4]"
   ]
  },
  {
   "cell_type": "code",
   "execution_count": 6,
   "metadata": {},
   "outputs": [
    {
     "ename": "IndexError",
     "evalue": "string index out of range",
     "output_type": "error",
     "traceback": [
      "\u001b[1;31m---------------------------------------------------------------------------\u001b[0m",
      "\u001b[1;31mIndexError\u001b[0m                                Traceback (most recent call last)",
      "Cell \u001b[1;32mIn[6], line 1\u001b[0m\n\u001b[1;32m----> 1\u001b[0m \u001b[38;5;124;43m'\u001b[39;49m\u001b[38;5;124;43mNice lesson\u001b[39;49m\u001b[38;5;124;43m'\u001b[39;49m\u001b[43m \u001b[49m\u001b[43m[\u001b[49m\u001b[38;5;241;43m40\u001b[39;49m\u001b[43m]\u001b[49m\n",
      "\u001b[1;31mIndexError\u001b[0m: string index out of range"
     ]
    }
   ],
   "source": [
    "'Nice lesson' [40]"
   ]
  },
  {
   "cell_type": "code",
   "execution_count": 13,
   "metadata": {},
   "outputs": [
    {
     "ename": "TypeError",
     "evalue": "'str' object does not support item assignment",
     "output_type": "error",
     "traceback": [
      "\u001b[1;31m---------------------------------------------------------------------------\u001b[0m",
      "\u001b[1;31mTypeError\u001b[0m                                 Traceback (most recent call last)",
      "Cell \u001b[1;32mIn[13], line 4\u001b[0m\n\u001b[0;32m      1\u001b[0m \u001b[38;5;66;03m# Stringler immutabledir, yani yeniden atama yapilmadigi sürece degistirilemezler.\u001b[39;00m\n\u001b[0;32m      3\u001b[0m name \u001b[38;5;241m=\u001b[39m \u001b[38;5;124m'\u001b[39m\u001b[38;5;124mHello World\u001b[39m\u001b[38;5;124m'\u001b[39m\n\u001b[1;32m----> 4\u001b[0m \u001b[43mname\u001b[49m\u001b[43m[\u001b[49m\u001b[38;5;241;43m5\u001b[39;49m\u001b[43m]\u001b[49m \u001b[38;5;241m=\u001b[39m name[\u001b[38;5;241m-\u001b[39m\u001b[38;5;241m1\u001b[39m]\n",
      "\u001b[1;31mTypeError\u001b[0m: 'str' object does not support item assignment"
     ]
    }
   ],
   "source": [
    "# Stringler immutabledir, yani yeniden atama yapilmadigi sürece degistirilemezler.\n",
    "\n",
    "name = 'Hello World'\n",
    "name[5] = name[-1]"
   ]
  },
  {
   "cell_type": "code",
   "execution_count": 27,
   "metadata": {},
   "outputs": [
    {
     "data": {
      "text/plain": [
       "True"
      ]
     },
     "execution_count": 27,
     "metadata": {},
     "output_type": "execute_result"
    }
   ],
   "source": [
    "name[6] == name[-11]"
   ]
  },
  {
   "cell_type": "markdown",
   "metadata": {},
   "source": [
    "**Concatenation (Birleştirme)**, Python'da iki veya daha fazla diziyi (string, liste vb.) birleştirme işlemine denir. Genellikle metin (string) birleştirme için kullanılır."
   ]
  },
  {
   "cell_type": "markdown",
   "metadata": {},
   "source": [
    "String Concatenation (Metin Birleştirme)\n",
    "Metin birleştirme, + operatörü kullanılarak yapılır. Örneğin, iki string'i birleştirmek için şu şekilde yazılır:"
   ]
  },
  {
   "cell_type": "code",
   "execution_count": 174,
   "metadata": {},
   "outputs": [
    {
     "name": "stdout",
     "output_type": "stream",
     "text": [
      "Merhaba Dünya\n"
     ]
    }
   ],
   "source": [
    "string1 = \"Merhaba\"\n",
    "string2 = \"Dünya\"\n",
    "result = string1 + \" \" + string2  # Araya bir boşluk eklenir\n",
    "print(result)"
   ]
  },
  {
   "cell_type": "code",
   "execution_count": 12,
   "metadata": {},
   "outputs": [
    {
     "ename": "TypeError",
     "evalue": "unsupported operand type(s) for -: 'str' and 'str'",
     "output_type": "error",
     "traceback": [
      "\u001b[1;31m---------------------------------------------------------------------------\u001b[0m",
      "\u001b[1;31mTypeError\u001b[0m                                 Traceback (most recent call last)",
      "Cell \u001b[1;32mIn[12], line 3\u001b[0m\n\u001b[0;32m      1\u001b[0m \u001b[38;5;66;03m# Stringlerde bölme veya cikarma islemi yapilamaz.\u001b[39;00m\n\u001b[1;32m----> 3\u001b[0m \u001b[38;5;124;43m'\u001b[39;49m\u001b[38;5;124;43mHelloWorld\u001b[39;49m\u001b[38;5;124;43m'\u001b[39;49m\u001b[43m \u001b[49m\u001b[38;5;241;43m-\u001b[39;49m\u001b[43m \u001b[49m\u001b[38;5;124;43m'\u001b[39;49m\u001b[38;5;124;43mWorld\u001b[39;49m\u001b[38;5;124;43m'\u001b[39;49m\n",
      "\u001b[1;31mTypeError\u001b[0m: unsupported operand type(s) for -: 'str' and 'str'"
     ]
    }
   ],
   "source": [
    "# Stringlerde bölme veya cikarma islemi yapilamaz.\n",
    "\n",
    "'HelloWorld' - 'World'"
   ]
  },
  {
   "cell_type": "markdown",
   "metadata": {},
   "source": [
    "#### Escape Sequences (Kaçış Dizileri)\n",
    "\n",
    "Metinlerde özel karakterleri eklemek için kullanılır."
   ]
  },
  {
   "cell_type": "markdown",
   "metadata": {},
   "source": [
    "Escape Sequence\t       |    Anlamı\n",
    "-     \\n\t   |    Yeni satır\n",
    "-     \\t\t   |     Tab boşluğu\n",
    "-     \\\\\t   |     Ters eğik çizgi (\\)\n",
    "-     \\'\t   |     Tek tırnak (')\n",
    "-     \\\"\t   |     Çift tırnak (\")"
   ]
  },
  {
   "cell_type": "code",
   "execution_count": 58,
   "metadata": {},
   "outputs": [
    {
     "name": "stdout",
     "output_type": "stream",
     "text": [
      "Bu bir ters eğik çizgi: \\\n"
     ]
    }
   ],
   "source": [
    "# \\\\ : Ters Eğik Çizgi\n",
    "# Ters eğik çizgiyi (\\) ekrana yazdırmak için kullanılır.\n",
    "\n",
    "print(\"Bu bir ters eğik çizgi: \\\\\")  "
   ]
  },
  {
   "cell_type": "code",
   "execution_count": 59,
   "metadata": {},
   "outputs": [
    {
     "name": "stdout",
     "output_type": "stream",
     "text": [
      "Bu bir tek tırnak işareti: '\n"
     ]
    }
   ],
   "source": [
    "# \\' : Tek Tırnak\n",
    "# Tek tırnaklı bir string içinde tek tırnak işaretini kullanmak için.\n",
    "\n",
    "print('Bu bir tek tırnak işareti: \\'')  "
   ]
  },
  {
   "cell_type": "code",
   "execution_count": 60,
   "metadata": {},
   "outputs": [
    {
     "name": "stdout",
     "output_type": "stream",
     "text": [
      "Bu bir çift tırnak işareti: \"\n"
     ]
    }
   ],
   "source": [
    "# \\\" : Çift Tırnak\n",
    "# Çift tırnaklı bir string içinde çift tırnak işaretini kullanmak için.\n",
    "\n",
    "print(\"Bu bir çift tırnak işareti: \\\"\")  "
   ]
  },
  {
   "cell_type": "code",
   "execution_count": 61,
   "metadata": {},
   "outputs": [
    {
     "name": "stdout",
     "output_type": "stream",
     "text": [
      "Birinci satır\n",
      "İkinci satır\n"
     ]
    }
   ],
   "source": [
    "# \\n : Yeni Satır\n",
    "# Yeni satır oluşturmak için kullanılır.\n",
    "\n",
    "print(\"Birinci satır\\nİkinci satır\")  "
   ]
  },
  {
   "cell_type": "code",
   "execution_count": 62,
   "metadata": {},
   "outputs": [
    {
     "name": "stdout",
     "output_type": "stream",
     "text": [
      "Python\tProgramlama\n"
     ]
    }
   ],
   "source": [
    "# \\t : Tab Boşluğu\n",
    "# Bir tab boşluğu (genelde 4-8 karakter genişliğinde) eklemek için.\n",
    "\n",
    "print(\"Python\\tProgramlama\")  "
   ]
  },
  {
   "cell_type": "code",
   "execution_count": 63,
   "metadata": {},
   "outputs": [
    {
     "name": "stdout",
     "output_type": "stream",
     "text": [
      "Pytho!\n"
     ]
    }
   ],
   "source": [
    "# \\b : Backspace (Geri Al)\n",
    "# Bir karakter silmek için kullanılır.\n",
    "\n",
    "print(\"Python\\b!\")  "
   ]
  },
  {
   "cell_type": "code",
   "execution_count": 64,
   "metadata": {},
   "outputs": [
    {
     "name": "stdout",
     "output_type": "stream",
     "text": [
      "Pythona Dünya\n"
     ]
    }
   ],
   "source": [
    "# \\r : Satır Başı (Carriage Return)\n",
    "# Satırın başına döner ve mevcut satırın başından itibaren üzerine yazar.\n",
    "\n",
    "print(\"Merhaba Dünya\\rPython\")"
   ]
  },
  {
   "cell_type": "code",
   "execution_count": 65,
   "metadata": {},
   "outputs": [
    {
     "name": "stdout",
     "output_type": "stream",
     "text": [
      "Birinci Sayfa\fİkinci Sayfa\n"
     ]
    }
   ],
   "source": [
    "# \\f : Sayfa Beslemesi (Form Feed)\n",
    "# Sayfa beslemesi ekler. Genelde eski yazıcılar için kullanılır, ekranda yeni satır gibi görünebilir.\n",
    "\n",
    "print(\"Birinci Sayfa\\fİkinci Sayfa\")  \n",
    "# Çıktı: Birinci Sayfa\n",
    "#        İkinci Sayfa"
   ]
  },
  {
   "cell_type": "code",
   "execution_count": 66,
   "metadata": {},
   "outputs": [
    {
     "name": "stdout",
     "output_type": "stream",
     "text": [
      "Python\n",
      "Programlama\n"
     ]
    }
   ],
   "source": [
    "# \\n : Dikey Tab\n",
    "# Dikey bir boşluk ekler.\n",
    "\n",
    "print(\"Python\\nProgramlama\")  \n",
    "# Çıktı: Python\n",
    "#        Programlama"
   ]
  },
  {
   "cell_type": "code",
   "execution_count": 67,
   "metadata": {},
   "outputs": [
    {
     "name": "stdout",
     "output_type": "stream",
     "text": [
      "\u0007\n"
     ]
    }
   ],
   "source": [
    "# \\a : Uyarı (Bell)\n",
    "# Uyarı sesi çıkarır (destekleyen sistemlerde).\n",
    "\n",
    "print(\"\\a\")  \n",
    "# Çıktı: (Eğer bilgisayar destekliyorsa uyarı sesi)"
   ]
  },
  {
   "cell_type": "code",
   "execution_count": 68,
   "metadata": {},
   "outputs": [
    {
     "name": "stdout",
     "output_type": "stream",
     "text": [
      "Null karakter: \u0000Sonrası\n"
     ]
    }
   ],
   "source": [
    "# \\0 : Null Karakter\n",
    "# Bir null (boş) karakter ekler. Çoğu durumda görünür bir etkisi yoktur ama metin işleme sırasında kullanılabilir.\n",
    "\n",
    "print(\"Null karakter: \\0Sonrası\")  \n",
    "# Çıktı: Null karakter: Sonrası"
   ]
  },
  {
   "cell_type": "code",
   "execution_count": 69,
   "metadata": {},
   "outputs": [
    {
     "name": "stdout",
     "output_type": "stream",
     "text": [
      "©\n"
     ]
    }
   ],
   "source": [
    "# \\N{name} : Unicode Karakter Adı\n",
    "# Unicode karakterini adıyla belirtir.\n",
    "\n",
    "print(\"\\N{COPYRIGHT SIGN}\")  \n",
    "# Çıktı: ©\n"
   ]
  },
  {
   "cell_type": "code",
   "execution_count": 70,
   "metadata": {},
   "outputs": [
    {
     "name": "stdout",
     "output_type": "stream",
     "text": [
      "©\n"
     ]
    }
   ],
   "source": [
    "# \\uXXXX : 16-Bit Unicode\n",
    "# Belirtilen 16-bit Unicode karakterini ekler.\n",
    "\n",
    "print(\"\\u00A9\")  \n",
    "# Çıktı: ©"
   ]
  },
  {
   "cell_type": "code",
   "execution_count": 71,
   "metadata": {},
   "outputs": [
    {
     "name": "stdout",
     "output_type": "stream",
     "text": [
      "😀\n"
     ]
    }
   ],
   "source": [
    "# \\UXXXXXXXX : 32-Bit Unicode\n",
    "# Belirtilen 32-bit Unicode karakterini ekler.\n",
    "\n",
    "print(\"\\U0001F600\")  \n",
    "# Çıktı: 😀"
   ]
  },
  {
   "cell_type": "code",
   "execution_count": 72,
   "metadata": {},
   "outputs": [
    {
     "name": "stdout",
     "output_type": "stream",
     "text": [
      "Hello\n"
     ]
    }
   ],
   "source": [
    "# \\xXX : Hexadecimal Karakter\n",
    "# Belirtilen onaltılık (hexadecimal) Unicode karakterini ekler.\n",
    "\n",
    "print(\"\\x48\\x65\\x6C\\x6C\\x6F\")  \n",
    "# Çıktı: Hello"
   ]
  },
  {
   "cell_type": "code",
   "execution_count": 73,
   "metadata": {},
   "outputs": [
    {
     "name": "stdout",
     "output_type": "stream",
     "text": [
      "Escape Sequence Örnekleri:\n",
      "\n",
      "Yeni satır:\n",
      "Bu satır yeni satırda\n",
      "Tab boşluğu:\tTab ile ayrıldı\n",
      "Ters eğik çizgi (\\): bu bir örnek\n",
      "Tek tırnak (' ve '): 'Python'\n",
      "Çift tırnak (\"): \"Python\"\n"
     ]
    }
   ],
   "source": [
    "print(\"Escape Sequence Örnekleri:\\n\")\n",
    "print(\"Yeni satır:\\nBu satır yeni satırda\")\n",
    "print(\"Tab boşluğu:\\tTab ile ayrıldı\")\n",
    "print(\"Ters eğik çizgi (\\\\): bu bir örnek\")\n",
    "print(\"Tek tırnak (\\' ve \\'): 'Python'\")\n",
    "print(\"Çift tırnak (\\\"): \\\"Python\\\"\")\n"
   ]
  },
  {
   "cell_type": "markdown",
   "metadata": {},
   "source": [
    "**ASCII ve ord(), chr()**\n",
    "\n",
    "- ord(): Bir karakterin ASCII (Unicode) değerini döner.\n",
    "- chr(): Bir ASCII değerine karşılık gelen karakteri döner."
   ]
  },
  {
   "cell_type": "code",
   "execution_count": 74,
   "metadata": {},
   "outputs": [
    {
     "name": "stdout",
     "output_type": "stream",
     "text": [
      "65\n",
      "A\n"
     ]
    }
   ],
   "source": [
    "print(ord('A'))  # Çıktı: 65\n",
    "print(chr(65))   # Çıktı: A"
   ]
  },
  {
   "cell_type": "markdown",
   "metadata": {},
   "source": [
    "**ASCII Tablosu ile Döngü:**"
   ]
  },
  {
   "cell_type": "code",
   "execution_count": 75,
   "metadata": {},
   "outputs": [
    {
     "name": "stdout",
     "output_type": "stream",
     "text": [
      "65 -> A\n",
      "66 -> B\n",
      "67 -> C\n",
      "68 -> D\n",
      "69 -> E\n",
      "70 -> F\n",
      "71 -> G\n",
      "72 -> H\n",
      "73 -> I\n",
      "74 -> J\n",
      "75 -> K\n",
      "76 -> L\n",
      "77 -> M\n",
      "78 -> N\n",
      "79 -> O\n",
      "80 -> P\n",
      "81 -> Q\n",
      "82 -> R\n",
      "83 -> S\n",
      "84 -> T\n",
      "85 -> U\n",
      "86 -> V\n",
      "87 -> W\n",
      "88 -> X\n",
      "89 -> Y\n",
      "90 -> Z\n"
     ]
    }
   ],
   "source": [
    "for i in range(65, 91):  # Büyük harfler\n",
    "    print(f\"{i} -> {chr(i)}\")  \n",
    "# Çıktı:\n",
    "# 65 -> A\n",
    "# 66 -> B\n",
    "# ...\n",
    "# 90 -> Z"
   ]
  },
  {
   "cell_type": "markdown",
   "metadata": {},
   "source": [
    "**Özet ve Komple Örnek**\n",
    "Aşağıdaki örnekte tüm konular bir arada gösterilmiştir:"
   ]
  },
  {
   "cell_type": "code",
   "execution_count": 7,
   "metadata": {},
   "outputs": [
    {
     "name": "stdout",
     "output_type": "stream",
     "text": [
      "Merhaba, Rose! 22 yaşındasınız.\n",
      "İsminizin ilk harfinin ASCII değeri: 82\n",
      "Escape örneği: Yeni satır\n",
      "ve tab\tboşluğu!\n"
     ]
    }
   ],
   "source": [
    "name = input(\"Adınızı girin: \")\n",
    "age = int(input(\"Yaşınızı girin: \"))\n",
    "ascii_val = ord(name[0])  # İsmin ilk harfinin ASCII değeri\n",
    "\n",
    "print(f\"Merhaba, {name}! {age} yaşındasınız.\")\n",
    "print(\"İsminizin ilk harfinin ASCII değeri: {}\".format(ascii_val))\n",
    "print(\"Escape örneği: Yeni satır\\nve tab\\tboşluğu!\")"
   ]
  },
  {
   "cell_type": "code",
   "execution_count": 5,
   "metadata": {},
   "outputs": [
    {
     "name": "stdout",
     "output_type": "stream",
     "text": [
      "20 10\n"
     ]
    }
   ],
   "source": [
    "# a=10, b=20 dir.\n",
    "# a ile b degerlerinin yerini degistirip sonuc olarak a=20 ve b=10 elde etmek icin?\n",
    "\n",
    "a = 10\n",
    "b = 20\n",
    "a, b = b, a\n",
    "print (a, b)"
   ]
  },
  {
   "cell_type": "code",
   "execution_count": 187,
   "metadata": {},
   "outputs": [
    {
     "name": "stdout",
     "output_type": "stream",
     "text": [
      "Girdiginiz 50 saniye = 0 saat, 0 dakika ve 50 saniye eder.\n"
     ]
    }
   ],
   "source": [
    "# Kullanicidan bir saniye degeri girmesini isteyin. Girilen saniyeyi saat dakika ve sn cinsinden yazdirin.\n",
    "\n",
    "girilen_saniye = int (input (\"Lütfen hesaplanmasini istediginiz saniye degerini giriniz:\"))\n",
    "saat = girilen_saniye // 3600\n",
    "dakika = (girilen_saniye % 3600) // 60\n",
    "saniye = girilen_saniye % 60\n",
    "print (f\"Girdiginiz {girilen_saniye} saniye = {saat} saat, {dakika} dakika ve {saniye} saniye eder.\")"
   ]
  },
  {
   "cell_type": "code",
   "execution_count": 188,
   "metadata": {},
   "outputs": [
    {
     "name": "stdout",
     "output_type": "stream",
     "text": [
      "Girdiğiniz 50 saniye = 0 saat, 0 dakika ve 50 saniye eder.\n"
     ]
    }
   ],
   "source": [
    "# Yukaridaki sorunun cevabinin iyilestirilmis hali.\n",
    "\n",
    "girilen_saniye = int(input(\"Lütfen hesaplanmasini istediginiz saniye degerini giriniz:\"))\n",
    "\n",
    "if girilen_saniye < 0:\n",
    "    print(\"Lütfen pozitif bir saniye değeri giriniz.\")\n",
    "else:\n",
    "    saat = girilen_saniye // 3600\n",
    "    dakika = (girilen_saniye % 3600) // 60\n",
    "    saniye = girilen_saniye % 60\n",
    "    print(f\"Girdiğiniz {girilen_saniye} saniye = {saat} saat, {dakika} dakika ve {saniye} saniye eder.\")"
   ]
  },
  {
   "cell_type": "markdown",
   "metadata": {},
   "source": [
    "**Şart Yapıları (Conditions) - if, else, elif**\n",
    "\n",
    "Python’da şart yapıları, belirli koşullara göre kodun farklı yollar izlemesini sağlar. Program akışını kontrol etmek için kullanılır. Bu yapıların temelinde if, elif ve else anahtar kelimeleri yer alır."
   ]
  },
  {
   "cell_type": "markdown",
   "metadata": {},
   "source": [
    "**if Yapısı**\n",
    "\n",
    "- if anahtar kelimesi, bir koşulun doğru (True) olup olmadığını kontrol eder.\n",
    "- Eğer koşul doğruysa, içindeki kod bloğu çalıştırılır."
   ]
  },
  {
   "cell_type": "code",
   "execution_count": 56,
   "metadata": {},
   "outputs": [
    {
     "name": "stdout",
     "output_type": "stream",
     "text": [
      "Sayı 10'dan büyüktür.\n"
     ]
    }
   ],
   "source": [
    "sayi = 15\n",
    "\n",
    "if sayi > 10:  # Eğer sayi 10'dan büyükse\n",
    "    print(\"Sayı 10'dan büyüktür.\")\n"
   ]
  },
  {
   "cell_type": "code",
   "execution_count": 54,
   "metadata": {},
   "outputs": [
    {
     "name": "stdout",
     "output_type": "stream",
     "text": [
      "Sayı 5'ten büyüktür.\n"
     ]
    }
   ],
   "source": [
    "sayi = 10\n",
    "\n",
    "if sayi > 5:\n",
    "    print(\"Sayı 5'ten büyüktür.\")  # Çıktı: Sayı 5'ten büyüktür."
   ]
  },
  {
   "cell_type": "markdown",
   "metadata": {},
   "source": [
    "**else Yapısı**\n",
    "\n",
    "- else, if koşulu yanlış (False) olduğunda çalışır.\n",
    "- if ile birlikte kullanılır ve koşul gerekmez."
   ]
  },
  {
   "cell_type": "code",
   "execution_count": 57,
   "metadata": {},
   "outputs": [
    {
     "name": "stdout",
     "output_type": "stream",
     "text": [
      "Sayı 10'dan küçük veya eşittir.\n"
     ]
    }
   ],
   "source": [
    "sayi = 5\n",
    "\n",
    "if sayi > 10:  # Eğer sayi 10'dan büyükse\n",
    "    print(\"Sayı 10'dan büyüktür.\")\n",
    "else:  # Yukarıdaki koşul doğru değilse\n",
    "    print(\"Sayı 10'dan küçük veya eşittir.\")"
   ]
  },
  {
   "cell_type": "markdown",
   "metadata": {},
   "source": [
    "**elif Yapısı**\n",
    "\n",
    "elif, birden fazla koşul kontrolü gerektiğinde kullanılır. Bir if koşulu doğru olmadığında, diğer koşullar elif ile kontrol edilir."
   ]
  },
  {
   "cell_type": "code",
   "execution_count": 77,
   "metadata": {},
   "outputs": [
    {
     "name": "stdout",
     "output_type": "stream",
     "text": [
      "Sayı 10'a eşittir.\n"
     ]
    }
   ],
   "source": [
    "sayi = 10\n",
    "\n",
    "if sayi > 10:  # Eğer sayi 10'dan büyükse\n",
    "    print(\"Sayı 10'dan büyüktür.\")\n",
    "elif sayi == 10:  # Eğer sayi 10'a eşitse\n",
    "    print(\"Sayı 10'a eşittir.\")\n",
    "else:  # Yukarıdaki koşulların hiçbiri doğru değilse\n",
    "    print(\"Sayı 10'dan küçük.\")"
   ]
  },
  {
   "cell_type": "markdown",
   "metadata": {},
   "source": [
    "**elif ile else farki:**\n",
    "- elif bir sartla birlikte yazilmalidir, istenildigi kadar kullanilabilir.\n",
    "- else sart ile yazilmaz, sadece bir kez ve en sonda kullanilmalidir."
   ]
  },
  {
   "cell_type": "markdown",
   "metadata": {},
   "source": [
    "**Şartların Birleşimi**\n",
    "Birden fazla koşul and, or gibi mantıksal operatörlerle birleştirilebilir."
   ]
  },
  {
   "cell_type": "code",
   "execution_count": 78,
   "metadata": {},
   "outputs": [
    {
     "name": "stdout",
     "output_type": "stream",
     "text": [
      "Sayı 5 ile 10 arasındadır.\n"
     ]
    }
   ],
   "source": [
    "sayi = 8\n",
    "\n",
    "if sayi > 5 and sayi < 10:  # sayi hem 5'ten büyük hem de 10'dan küçük\n",
    "    print(\"Sayı 5 ile 10 arasındadır.\")\n",
    "else:\n",
    "    print(\"Sayı 5 ile 10 arasında değildir.\")\n"
   ]
  },
  {
   "cell_type": "markdown",
   "metadata": {},
   "source": [
    "**Kullanıcıdan Veri Alarak Şart Kontrolü**\n",
    "Kullanıcıdan bir veri alarak bu veri üzerinden koşul kontrolü yapılabilir."
   ]
  },
  {
   "cell_type": "code",
   "execution_count": 79,
   "metadata": {},
   "outputs": [
    {
     "name": "stdout",
     "output_type": "stream",
     "text": [
      "Reşit değilsiniz.\n"
     ]
    }
   ],
   "source": [
    "yas = int(input(\"Yaşınızı girin: \"))\n",
    "\n",
    "if yas < 18:\n",
    "    print(\"Reşit değilsiniz.\")\n",
    "elif yas == 18:\n",
    "    print(\"Tam sınırdasınız.\")\n",
    "else:\n",
    "    print(\"Reşitsiniz.\")\n"
   ]
  },
  {
   "cell_type": "markdown",
   "metadata": {},
   "source": [
    "**Tüm Yapıları Birlikte Kullanalım**\n",
    "Bir öğrencinin not durumuna göre değerlendirme yapan bir program:"
   ]
  },
  {
   "cell_type": "code",
   "execution_count": 80,
   "metadata": {},
   "outputs": [
    {
     "name": "stdout",
     "output_type": "stream",
     "text": [
      "Tebrikler, çok başarılısınız!\n"
     ]
    }
   ],
   "source": [
    "notu = int(input(\"Öğrencinin notunu girin: \"))\n",
    "\n",
    "if notu >= 85:\n",
    "    print(\"Tebrikler, çok başarılısınız!\")\n",
    "elif notu >= 70:\n",
    "    print(\"İyi bir not aldınız.\")\n",
    "elif notu >= 50:\n",
    "    print(\"Geçtiniz.\")\n",
    "else:\n",
    "    print(\"Maalesef kaldınız.\")\n"
   ]
  },
  {
   "cell_type": "markdown",
   "metadata": {},
   "source": [
    "**Kısa Yazım (Ternary)**\n",
    "Bazı durumlarda şart yapıları daha kısa şekilde yazılabilir."
   ]
  },
  {
   "cell_type": "code",
   "execution_count": 81,
   "metadata": {},
   "outputs": [
    {
     "name": "stdout",
     "output_type": "stream",
     "text": [
      "Tek\n"
     ]
    }
   ],
   "source": [
    "sayi = 7\n",
    "sonuc = \"Tek\" if sayi % 2 != 0 else \"Çift\"\n",
    "print(sonuc)\n"
   ]
  },
  {
   "cell_type": "markdown",
   "metadata": {},
   "source": [
    "**Özet:**\n",
    "- if: Bir koşul doğruysa çalışır.\n",
    "- elif: Alternatif koşulları kontrol eder.\n",
    "- else: Diğer koşulların hepsi yanlışsa çalışır.\n",
    "- Mantıksal operatörler: Koşulları birleştirir (and, or, not)."
   ]
  },
  {
   "cell_type": "code",
   "execution_count": 82,
   "metadata": {},
   "outputs": [
    {
     "name": "stdout",
     "output_type": "stream",
     "text": [
      "Merhaba\n",
      "merhaba\n",
      "hello\n"
     ]
    }
   ],
   "source": [
    "# if syntax;\n",
    "# if condition1:\n",
    "#    statement1 (Sol taraftan 4 bosluk icermeli, pep 8 kuralidir, olmazsa olmazdir.)\n",
    "\n",
    "# if True ise yazdirir, False ise yazdirmaz. Truty ve falsy degerlerle ilgilenir, boolean degerine bakar.\n",
    "if 8 > 5:\n",
    "    print ('Merhaba')\n",
    "if 8 < 5:\n",
    "    print ('hello')\n",
    "if 6:\n",
    "    print ('merhaba')\n",
    "if '':\n",
    "    print('hi')\n",
    "if 'melisa' and 1:\n",
    "    print ('hello')"
   ]
  },
  {
   "cell_type": "code",
   "execution_count": 83,
   "metadata": {},
   "outputs": [
    {
     "name": "stdout",
     "output_type": "stream",
     "text": [
      "5\n"
     ]
    }
   ],
   "source": [
    "# Eger bir variable if icerisinde tanimlandiysa if disindan ulasilabilir ama True olmasi kaydiyla. \n",
    "\n",
    "if True:\n",
    "    y = 0\n",
    "    y += 5\n",
    "\n",
    "print (y)"
   ]
  },
  {
   "cell_type": "code",
   "execution_count": 84,
   "metadata": {},
   "outputs": [
    {
     "name": "stdout",
     "output_type": "stream",
     "text": [
      "10 5'ten büyüktür\n"
     ]
    }
   ],
   "source": [
    "# if, else syntax;\n",
    "# if condition1: \n",
    "#     statement1 (Bosluk var!)\n",
    "# else: \n",
    "#     statement2 (Bosluk var!)\n",
    "\n",
    "# Eger condition 1 dogru ise statement 1 calisir, degilse statement 2 calisir.\n",
    "\n",
    "if 10 > 5:\n",
    "    print(\"10 5'ten büyüktür\")\n",
    "else:\n",
    "    print('merhaba')   "
   ]
  },
  {
   "cell_type": "code",
   "execution_count": 85,
   "metadata": {},
   "outputs": [
    {
     "name": "stdout",
     "output_type": "stream",
     "text": [
      "merhaba\n"
     ]
    }
   ],
   "source": [
    "if 10 < 5:\n",
    "    print(\"10 5'ten büyüktür\")\n",
    "else:\n",
    "    print('merhaba')   "
   ]
  },
  {
   "cell_type": "code",
   "execution_count": 87,
   "metadata": {},
   "outputs": [
    {
     "name": "stdout",
     "output_type": "stream",
     "text": [
      "200, 400 veya 500 sayilarindan birini giriniz.\n"
     ]
    }
   ],
   "source": [
    "# Status kodunu kullanicidan aliniz, eger status code 200 ise Basarili, 400 ise Bad Request, 500 ise Server Error, yazdiran programi yazin.\n",
    "\n",
    "status_code = input (\"Status code'u giriniz:\")\n",
    "if status_code.isnumeric():\n",
    "    status_code = int(status_code)\n",
    "    if status_code == 200:\n",
    "        print ('Basarili')\n",
    "    elif status_code == 400:\n",
    "        print ('Bad Request')\n",
    "    elif status_code == 500:\n",
    "        print ('Server Error')\n",
    "    else:\n",
    "        print ('200, 400 veya 500 sayilarindan birini giriniz.')\n",
    "else:\n",
    "    print ('Lütfen sayi giriniz')"
   ]
  },
  {
   "cell_type": "code",
   "execution_count": 90,
   "metadata": {},
   "outputs": [
    {
     "name": "stdout",
     "output_type": "stream",
     "text": [
      "The total amount you need to pay, including the service fee, is 157.5 TL\n"
     ]
    }
   ],
   "source": [
    "# Bir restoran, müsterilerine siparis verdikleri yemeklerin toplam tutarina göre servis ücreti uygulamaktadir.\n",
    "# Eger siparis tutari 100 TL ile 199 TL arasindaysa, %5 servis ücreti uygulanir.\n",
    "# Eger siparis tutari 50 TL ile 99 TL arasindaysa, %10 servis ücreti uygulanir.\n",
    "# Eger siparis tutari 50 TL'nin altindaysa, %15 servis ücreti uygulanir.\n",
    "# Siparis tutarini input alarak alan ve uygulanacak servis ücretini hesaplayarak ödenecek toplam tutari ekrana yazdiran bir program yazin.\n",
    "\n",
    "total_order_amount = input(\"Please enter the total order amount\")\n",
    "\n",
    "service_fee = 0.05\n",
    "service_fee_2 = 0.1\n",
    "service_fee_3 = 0.15\n",
    "if total_order_amount.isnumeric():\n",
    "\n",
    "    total_order_amount = float(total_order_amount)\n",
    "    if (total_order_amount >= 200):\n",
    "        print(f\"The total amount you need to pay, including the service fee (Exempt from), is {total_order_amount} ₺.\")\n",
    "    elif (100 <= total_order_amount):\n",
    "        print(f\"The total amount you need to pay, including the service fee, is {(total_order_amount * service_fee) + (total_order_amount)} TL\")\n",
    "    elif (50 <= total_order_amount):\n",
    "        print(f\"The total amount you need to pay, including the service fee, is {(total_order_amount * service_fee_2) + (total_order_amount)} TL\")\n",
    "    elif (0 <= total_order_amount):\n",
    "        print(f\"The total amount you need to pay, including the service fee, is {(total_order_amount * service_fee_3) + (total_order_amount)} TL\")\n",
    "    else:\n",
    "        print(\"Please input a correct price.\")\n",
    "else:\n",
    "    print(\"Please enter the price you want to verify, correctly and in numerical format.\")"
   ]
  },
  {
   "cell_type": "markdown",
   "metadata": {},
   "source": [
    "## Veri Yapıları ve Metotları"
   ]
  },
  {
   "cell_type": "markdown",
   "metadata": {},
   "source": [
    "Python'da veri yapıları, farklı türde verileri saklamak ve yönetmek için kullanılan temel araçlardır. Bu bölümde String metodları, Listeler, Demetler, Sözlükler, ve Kümeler gibi veri yapılarını ve bunlara ait temel metotları ele alacağız."
   ]
  },
  {
   "cell_type": "markdown",
   "metadata": {},
   "source": [
    "**String Metodları**\n",
    "\n",
    "Python'daki string veri türü, metin verilerini saklamak ve işlemek için kullanılır. String'lere ait bazı yaygın metodlar:"
   ]
  },
  {
   "cell_type": "code",
   "execution_count": 91,
   "metadata": {},
   "outputs": [
    {
     "name": "stdout",
     "output_type": "stream",
     "text": [
      "18\n",
      "PYTHON PROGRAMLAMA\n",
      "python programlama\n",
      "Merhaba\n",
      "Java Programlama\n",
      "['Python', 'Programlama']\n",
      "7\n",
      "True\n",
      "True\n"
     ]
    }
   ],
   "source": [
    "metin = \"Python Programlama\"\n",
    "\n",
    "# 1. len() - String uzunluğunu döner\n",
    "print(len(metin))  # Çıktı: 19\n",
    "\n",
    "# 2. upper() ve lower() - Büyük/küçük harf dönüşümü\n",
    "print(metin.upper())  # Çıktı: PYTHON PROGRAMLAMA\n",
    "print(metin.lower())  # Çıktı: python programlama\n",
    "\n",
    "# 3. strip() - Baş ve sondaki boşlukları siler\n",
    "bosluklu = \"   Merhaba   \"\n",
    "print(bosluklu.strip())  # Çıktı: Merhaba\n",
    "\n",
    "# 4. replace() - Karakter değiştirir\n",
    "print(metin.replace(\"Python\", \"Java\"))  # Çıktı: Java Programlama\n",
    "\n",
    "# 5. split() - String’i belirtilen bir ayırıcıya göre böler\n",
    "print(metin.split())  # Çıktı: ['Python', 'Programlama']\n",
    "\n",
    "# 6. find() - Alt string’in ilk indeksini döner\n",
    "print(metin.find(\"Pro\"))  # Çıktı: 7\n",
    "\n",
    "# 7. startswith() ve endswith() - Başlangıç/bitişi kontrol eder\n",
    "print(metin.startswith(\"Python\"))  # Çıktı: True\n",
    "print(metin.endswith(\"lama\"))  # Çıktı: True\n"
   ]
  },
  {
   "cell_type": "markdown",
   "metadata": {},
   "source": [
    "**capitalize()**"
   ]
  },
  {
   "cell_type": "code",
   "execution_count": 104,
   "metadata": {},
   "outputs": [
    {
     "data": {
      "text/plain": [
       "'Computer'"
      ]
     },
     "execution_count": 104,
     "metadata": {},
     "output_type": "execute_result"
    }
   ],
   "source": [
    "# Ilk harfin büyük diger harflerin kücük karakterler ile yazilmasidir.\n",
    "\n",
    "'ComPUter'.capitalize()"
   ]
  },
  {
   "cell_type": "code",
   "execution_count": 102,
   "metadata": {},
   "outputs": [
    {
     "name": "stdout",
     "output_type": "stream",
     "text": [
      "Help on method_descriptor:\n",
      "\n",
      "replace(self, old, new, /, count=-1) unbound builtins.str method\n",
      "    Return a copy with all occurrences of substring old replaced by new.\n",
      "\n",
      "      count\n",
      "        Maximum number of occurrences to replace.\n",
      "        -1 (the default value) means replace all occurrences.\n",
      "\n",
      "    If the optional argument count is given, only the first count occurrences are\n",
      "    replaced.\n",
      "\n"
     ]
    }
   ],
   "source": [
    "help(str.replace)"
   ]
  },
  {
   "cell_type": "markdown",
   "metadata": {},
   "source": [
    "**Listeler (list): Tanımlama, İşlemler ve Metotlar**\n",
    "\n",
    "Liste, sıralı, değiştirilebilir ve farklı veri türlerini barındırabilen bir koleksiyondur."
   ]
  },
  {
   "cell_type": "markdown",
   "metadata": {},
   "source": [
    "**isalpha()**\n",
    "Bir stringin sadece harflerden oluşup oluşmadığını kontrol eder. Sonuç True veya False döner.\n"
   ]
  },
  {
   "cell_type": "code",
   "execution_count": 105,
   "metadata": {},
   "outputs": [
    {
     "name": "stdout",
     "output_type": "stream",
     "text": [
      "True\n",
      "False\n"
     ]
    }
   ],
   "source": [
    "print(\"Merhaba\".isalpha())    # Çıktı: True\n",
    "print(\"Merhaba123\".isalpha()) # Çıktı: False"
   ]
  },
  {
   "cell_type": "markdown",
   "metadata": {},
   "source": [
    "**isupper()**\n",
    "Bir stringin tüm harflerinin büyük olup olmadığını kontrol eder."
   ]
  },
  {
   "cell_type": "code",
   "execution_count": 106,
   "metadata": {},
   "outputs": [
    {
     "name": "stdout",
     "output_type": "stream",
     "text": [
      "True\n",
      "False\n"
     ]
    }
   ],
   "source": [
    "print(\"HELLO\".isupper())  # Çıktı: True\n",
    "print(\"Hello\".isupper())  # Çıktı: False"
   ]
  },
  {
   "cell_type": "markdown",
   "metadata": {},
   "source": [
    "**islower()**\n",
    "Bir stringin tüm harflerinin küçük olup olmadığını kontrol eder."
   ]
  },
  {
   "cell_type": "code",
   "execution_count": 107,
   "metadata": {},
   "outputs": [
    {
     "name": "stdout",
     "output_type": "stream",
     "text": [
      "True\n",
      "False\n"
     ]
    }
   ],
   "source": [
    "print(\"hello\".islower())  # Çıktı: True\n",
    "print(\"Hello\".islower())  # Çıktı: False"
   ]
  },
  {
   "cell_type": "markdown",
   "metadata": {},
   "source": [
    "**isnumeric()**\n",
    "Bir stringin yalnızca sayılardan oluşup oluşmadığını kontrol eder."
   ]
  },
  {
   "cell_type": "code",
   "execution_count": 108,
   "metadata": {},
   "outputs": [
    {
     "name": "stdout",
     "output_type": "stream",
     "text": [
      "True\n",
      "False\n"
     ]
    }
   ],
   "source": [
    "print(\"12345\".isnumeric())  # Çıktı: True\n",
    "print(\"123abc\".isnumeric()) # Çıktı: False"
   ]
  },
  {
   "cell_type": "markdown",
   "metadata": {},
   "source": [
    "**istitle()**\n",
    "Bir stringin başlık formatına uygun olup olmadığını kontrol eder. Başlık formatında, her kelimenin ilk harfi büyük olur.\n"
   ]
  },
  {
   "cell_type": "code",
   "execution_count": 109,
   "metadata": {},
   "outputs": [
    {
     "name": "stdout",
     "output_type": "stream",
     "text": [
      "True\n",
      "False\n"
     ]
    }
   ],
   "source": [
    "print(\"Python Programlama\".istitle())  # Çıktı: True\n",
    "print(\"python Programlama\".istitle())  # Çıktı: False"
   ]
  },
  {
   "cell_type": "markdown",
   "metadata": {},
   "source": [
    "**swapcase()**\n",
    "String içindeki büyük harfleri küçüğe, küçük harfleri büyüğe çevirir."
   ]
  },
  {
   "cell_type": "code",
   "execution_count": 110,
   "metadata": {},
   "outputs": [
    {
     "name": "stdout",
     "output_type": "stream",
     "text": [
      "mERHABA dÜNYA\n"
     ]
    }
   ],
   "source": [
    "print(\"Merhaba Dünya\".swapcase())  # Çıktı: mERHABA dÜNYA"
   ]
  },
  {
   "cell_type": "markdown",
   "metadata": {},
   "source": [
    "**count(substring)**\n",
    "Bir alt stringin ana string içinde kaç defa geçtiğini bulur."
   ]
  },
  {
   "cell_type": "code",
   "execution_count": 111,
   "metadata": {},
   "outputs": [
    {
     "name": "stdout",
     "output_type": "stream",
     "text": [
      "2\n"
     ]
    }
   ],
   "source": [
    "metin = \"Python Programlama Python\"\n",
    "print(metin.count(\"Python\"))  # Çıktı: 2"
   ]
  },
  {
   "cell_type": "markdown",
   "metadata": {},
   "source": [
    "**Listeler (list): Tanımlama, İşlemler ve Metotlar**\n",
    "\n",
    "Liste, sıralı, değiştirilebilir ve farklı veri türlerini barındırabilen bir koleksiyondur."
   ]
  },
  {
   "cell_type": "markdown",
   "metadata": {},
   "source": [
    "- Collection - Coklu data bulundurabilirler.\n",
    "- Mutable -> Atama yapmadan degistirilebilir.\n",
    "- Iterable -> Elemanlarina teker teker ulasabiliriz.\n",
    "- Indexlenebilir.\n",
    "- Flexible - Esnek\n",
    "- Iki farkli yol ile liste olusturulabilir: [], list()"
   ]
  },
  {
   "cell_type": "markdown",
   "metadata": {},
   "source": [
    "**Liste Tanımlama**"
   ]
  },
  {
   "cell_type": "code",
   "execution_count": 130,
   "metadata": {},
   "outputs": [],
   "source": [
    "liste = [1, 2, 3, \"Python\", True]"
   ]
  },
  {
   "cell_type": "code",
   "execution_count": 131,
   "metadata": {},
   "outputs": [
    {
     "name": "stdout",
     "output_type": "stream",
     "text": [
      "['Bursa', False, 0.0, 5, 0, '', 'Hello World', 90]\n",
      "Bursa\n",
      "90\n",
      "5\n",
      "a\n",
      "8\n"
     ]
    }
   ],
   "source": [
    "list_1 = ['Bursa', False, 0.0, 5, 0, '', 'Hello World', 90]\n",
    "print (list_1)\n",
    "print (list_1[0])\n",
    "print (list_1[-1])\n",
    "print (list_1[3])\n",
    "print (list_1[0][4])\n",
    "print (len(list_1))"
   ]
  },
  {
   "cell_type": "code",
   "execution_count": 9,
   "metadata": {},
   "outputs": [
    {
     "ename": "TypeError",
     "evalue": "'int' object is not iterable",
     "output_type": "error",
     "traceback": [
      "\u001b[1;31m---------------------------------------------------------------------------\u001b[0m",
      "\u001b[1;31mTypeError\u001b[0m                                 Traceback (most recent call last)",
      "Cell \u001b[1;32mIn[9], line 4\u001b[0m\n\u001b[0;32m      1\u001b[0m \u001b[38;5;66;03m# 2. method olarak list()\u001b[39;00m\n\u001b[0;32m      2\u001b[0m \u001b[38;5;66;03m# List methodunun icine koydugumuz data iterable olmali.\u001b[39;00m\n\u001b[1;32m----> 4\u001b[0m list1 \u001b[38;5;241m=\u001b[39m \u001b[38;5;28;43mlist\u001b[39;49m\u001b[43m \u001b[49m\u001b[43m(\u001b[49m\u001b[38;5;241;43m12345\u001b[39;49m\u001b[43m)\u001b[49m\n",
      "\u001b[1;31mTypeError\u001b[0m: 'int' object is not iterable"
     ]
    }
   ],
   "source": [
    "# 2. method olarak list()\n",
    "# List methodunun icine koydugumuz data iterable olmali.\n",
    "\n",
    "list1 = list (12345)"
   ]
  },
  {
   "cell_type": "markdown",
   "metadata": {},
   "source": [
    "**Liste İşlemleri**"
   ]
  },
  {
   "cell_type": "code",
   "execution_count": 114,
   "metadata": {},
   "outputs": [
    {
     "data": {
      "text/plain": [
       "['M', 'e', 'r', 'v', 'e']"
      ]
     },
     "execution_count": 114,
     "metadata": {},
     "output_type": "execute_result"
    }
   ],
   "source": [
    "list1 = list('Merve')\n",
    "list1"
   ]
  },
  {
   "cell_type": "code",
   "execution_count": 115,
   "metadata": {},
   "outputs": [],
   "source": [
    "# Bir listenin icerisine tekrarli data konulabilir.\n",
    "\n",
    "list_2 = [6, 'Melisa', 6, 6, 'Melisa', 6]"
   ]
  },
  {
   "cell_type": "code",
   "execution_count": 116,
   "metadata": {},
   "outputs": [
    {
     "data": {
      "text/plain": [
       "[[4, 9, 2, 'Bursa'], 'Burak', 'Adana', 0.0, 0, True, False, 6]"
      ]
     },
     "execution_count": 116,
     "metadata": {},
     "output_type": "execute_result"
    }
   ],
   "source": [
    "# Listelerde slicing islemi yapilabilir stringlerdeki gibi.\n",
    "\n",
    "list_3 = [6, False, True, 0, 0.0, 'Adana', 'Burak', [4,9,2,'Bursa']]\n",
    "list_3[::-1]"
   ]
  },
  {
   "cell_type": "code",
   "execution_count": 118,
   "metadata": {},
   "outputs": [
    {
     "data": {
      "text/plain": [
       "[6, False, True, 0, 0.0, 'Adana', 'Burak', [4, 9, 2, 'Bursa']]"
      ]
     },
     "execution_count": 118,
     "metadata": {},
     "output_type": "execute_result"
    }
   ],
   "source": [
    "# Bu degisiklik kalici degildir.\n",
    "\n",
    "list_3"
   ]
  },
  {
   "cell_type": "code",
   "execution_count": 119,
   "metadata": {},
   "outputs": [
    {
     "data": {
      "text/plain": [
       "[0, 0.0, 'Adana']"
      ]
     },
     "execution_count": 119,
     "metadata": {},
     "output_type": "execute_result"
    }
   ],
   "source": [
    "list_3[3:6]"
   ]
  },
  {
   "cell_type": "code",
   "execution_count": 120,
   "metadata": {},
   "outputs": [
    {
     "data": {
      "text/plain": [
       "[6, False, True, 0, 0.0, 'Hatay', 'Burak', [4, 9, 2, 'Bursa']]"
      ]
     },
     "execution_count": 120,
     "metadata": {},
     "output_type": "execute_result"
    }
   ],
   "source": [
    "# Listeler mutabledir, kalici olarak degistirdik.\n",
    "\n",
    "list_3[5] = 'Hatay'\n",
    "list_3"
   ]
  },
  {
   "cell_type": "code",
   "execution_count": 121,
   "metadata": {},
   "outputs": [
    {
     "data": {
      "text/plain": [
       "[6, False, True, 0, 0.0, 'Hatay', 'Burak', [4, 9, 2, 'Bursa']]"
      ]
     },
     "execution_count": 121,
     "metadata": {},
     "output_type": "execute_result"
    }
   ],
   "source": [
    "list_3"
   ]
  },
  {
   "cell_type": "code",
   "execution_count": 122,
   "metadata": {},
   "outputs": [
    {
     "ename": "TypeError",
     "evalue": "'str' object does not support item assignment",
     "output_type": "error",
     "traceback": [
      "\u001b[1;31m---------------------------------------------------------------------------\u001b[0m",
      "\u001b[1;31mTypeError\u001b[0m                                 Traceback (most recent call last)",
      "Cell \u001b[1;32mIn[122], line 3\u001b[0m\n\u001b[0;32m      1\u001b[0m \u001b[38;5;66;03m# Stringler immutabledir, degistirilemez.\u001b[39;00m\n\u001b[1;32m----> 3\u001b[0m \u001b[43mlist_3\u001b[49m\u001b[43m \u001b[49m\u001b[43m[\u001b[49m\u001b[38;5;241;43m5\u001b[39;49m\u001b[43m]\u001b[49m\u001b[43m[\u001b[49m\u001b[38;5;241;43m0\u001b[39;49m\u001b[43m]\u001b[49m \u001b[38;5;241m=\u001b[39m \u001b[38;5;124m'\u001b[39m\u001b[38;5;124mA\u001b[39m\u001b[38;5;124m'\u001b[39m\n",
      "\u001b[1;31mTypeError\u001b[0m: 'str' object does not support item assignment"
     ]
    }
   ],
   "source": [
    "# Stringler immutabledir, degistirilemez.\n",
    "\n",
    "list_3 [5][0] = 'A'"
   ]
  },
  {
   "cell_type": "code",
   "execution_count": 132,
   "metadata": {},
   "outputs": [
    {
     "name": "stdout",
     "output_type": "stream",
     "text": [
      "[1, 2, 3, 'Python', True, 4]\n",
      "[1, 2, 'Yeni', 3, 'Python', True, 4]\n",
      "[1, 2, 'Yeni', 3, True, 4]\n",
      "[1, 2, 'Yeni', 3, True]\n",
      "[1, 2, 5, 9]\n",
      "[1, 2, 'Yeni', 3, True, 'a', 'b', 'c']\n"
     ]
    }
   ],
   "source": [
    "# Eleman ekleme\n",
    "liste.append(4)\n",
    "print(liste)  # Çıktı: [1, 2, 3, 'Python', True, 4]\n",
    "\n",
    "# Belirli bir yere ekleme\n",
    "liste.insert(2, \"Yeni\")\n",
    "print(liste)  # Çıktı: [1, 2, 'Yeni', 3, 'Python', True, 4]\n",
    "\n",
    "# Eleman silme\n",
    "liste.remove(\"Python\")\n",
    "print(liste)  # Çıktı: [1, 2, 'Yeni', 3, True, 4]\n",
    "\n",
    "# Son elemanı çıkarma\n",
    "liste.pop()\n",
    "print(liste)  # Çıktı: [1, 2, 'Yeni', 3, True]\n",
    "\n",
    "# Sıralama\n",
    "sayilar = [5, 2, 9, 1]\n",
    "sayilar.sort()\n",
    "print(sayilar)  # Çıktı: [1, 2, 5, 9]\n",
    "\n",
    "# Liste birleştirme\n",
    "liste2 = [\"a\", \"b\", \"c\"]\n",
    "birlesik = liste + liste2\n",
    "print(birlesik)  # Çıktı: [1, 2, 'Yeni', 3, True, 'a', 'b', 'c']\n"
   ]
  },
  {
   "cell_type": "code",
   "execution_count": 133,
   "metadata": {},
   "outputs": [
    {
     "name": "stdout",
     "output_type": "stream",
     "text": [
      "[1, 2, 99, 3, 4, 5]\n",
      "[1, 2, 3, 4, 5]\n",
      "3\n",
      "[]\n"
     ]
    }
   ],
   "source": [
    "# Liste tanımlama\n",
    "my_list = [1, 2, 3, 4, 5]\n",
    "\n",
    "# insert() - Belirtilen bir konuma eleman ekleme\n",
    "my_list.insert(2, 99)\n",
    "print(my_list)  # [1, 2, 99, 3, 4, 5, 6, 7, 8]\n",
    "\n",
    "# remove() - Belirtilen elemanı silme\n",
    "my_list.remove(99)\n",
    "print(my_list)  # [1, 2, 3, 4, 5, 6, 7, 8]\n",
    "\n",
    "# index() - Bir elemanın indeksini döner\n",
    "print(my_list.index(4))  # 3\n",
    "\n",
    "# clear() - Tüm elemanları siler\n",
    "my_list.clear()\n",
    "print(my_list)  # []\n"
   ]
  },
  {
   "cell_type": "code",
   "execution_count": 123,
   "metadata": {},
   "outputs": [
    {
     "data": {
      "text/plain": [
       "3"
      ]
     },
     "execution_count": 123,
     "metadata": {},
     "output_type": "execute_result"
    }
   ],
   "source": [
    "# count()\n",
    "# Bir karakterden listenin icinde kac tane var diye bakar. Integer döndürür.\n",
    "\n",
    "listx = [3, 6, 9, 'a', 'b', 'c', 3, 3, 6]\n",
    "listx.count(3)"
   ]
  },
  {
   "cell_type": "code",
   "execution_count": 124,
   "metadata": {},
   "outputs": [
    {
     "data": {
      "text/plain": [
       "3"
      ]
     },
     "execution_count": 124,
     "metadata": {},
     "output_type": "execute_result"
    }
   ],
   "source": [
    "# Dikkat! Falsy degerleri degil ama False harici, matematiksel degeri 0'a esit olanlari da saydi.\n",
    "\n",
    "listy = [0, False, True, 89, 'kemal','elena','True', 1, True, 0.0,'']\n",
    "listy.count (False)"
   ]
  },
  {
   "cell_type": "markdown",
   "metadata": {},
   "source": [
    "!!! False 0, True 1 temel mantiktir, yapilan tüm islemlerde böyle calisir."
   ]
  },
  {
   "cell_type": "code",
   "execution_count": 125,
   "metadata": {},
   "outputs": [
    {
     "data": {
      "text/plain": [
       "3"
      ]
     },
     "execution_count": 125,
     "metadata": {},
     "output_type": "execute_result"
    }
   ],
   "source": [
    "listy.count (True)"
   ]
  },
  {
   "cell_type": "markdown",
   "metadata": {},
   "source": [
    "**Demetler (tuple): Sabit Koleksiyonlar**\n",
    "\n",
    "Demet (tuple), sıralı ama değiştirilemez veri koleksiyonudur."
   ]
  },
  {
   "cell_type": "markdown",
   "metadata": {},
   "source": [
    "Demet Tanımlama"
   ]
  },
  {
   "cell_type": "code",
   "execution_count": 94,
   "metadata": {},
   "outputs": [],
   "source": [
    "demet = (1, 2, 3, \"Python\")"
   ]
  },
  {
   "cell_type": "markdown",
   "metadata": {},
   "source": [
    "**Demet Özellikleri**\n",
    "\n",
    "- Değiştirilemez: Elemanlar eklendiğinde veya silindiğinde hata alırsınız.\n",
    "- Dizinlenebilir: İndeksle erişim yapılabilir."
   ]
  },
  {
   "cell_type": "code",
   "execution_count": 95,
   "metadata": {},
   "outputs": [
    {
     "name": "stdout",
     "output_type": "stream",
     "text": [
      "1\n"
     ]
    }
   ],
   "source": [
    "print(demet[0])  # Çıktı: 1"
   ]
  },
  {
   "cell_type": "markdown",
   "metadata": {},
   "source": [
    "**Demet Metotları**"
   ]
  },
  {
   "cell_type": "code",
   "execution_count": 96,
   "metadata": {},
   "outputs": [
    {
     "name": "stdout",
     "output_type": "stream",
     "text": [
      "4\n",
      "True\n"
     ]
    }
   ],
   "source": [
    "# Eleman sayısı\n",
    "print(len(demet))  # Çıktı: 4\n",
    "\n",
    "# Bir elemanın varlığı\n",
    "print(\"Python\" in demet)  # Çıktı: True"
   ]
  },
  {
   "cell_type": "code",
   "execution_count": 134,
   "metadata": {},
   "outputs": [
    {
     "name": "stdout",
     "output_type": "stream",
     "text": [
      "1\n",
      "2\n"
     ]
    }
   ],
   "source": [
    "# Demet tanımlama\n",
    "my_tuple = (1, 2, 3, 4, 5)\n",
    "\n",
    "# count() - Bir elemanın demette kaç kez geçtiğini döner\n",
    "print(my_tuple.count(2))  # 1\n",
    "\n",
    "# index() - Bir elemanın indeksini döner\n",
    "print(my_tuple.index(3))  # 2\n"
   ]
  },
  {
   "cell_type": "markdown",
   "metadata": {},
   "source": [
    "**Sözlükler (dict): Anahtar-Değer Çiftleri**\n",
    "\n",
    "Sözlük (dictionary), anahtar ve değer çiftlerinden oluşan veri koleksiyonudur."
   ]
  },
  {
   "cell_type": "markdown",
   "metadata": {},
   "source": [
    "- Mutabledir ->  degistirilebilir.\n",
    "- key : value seklindedir elemanlari.\n",
    "- Keyler unique olmak zorundadir, birden fazla tanimlarsaniz overwrite eder. \n",
    "- Valueler unuqie olmak zorunda degil, tekrarli data kullanilabilir.\n",
    "- Unordered, 0, 1 seklinde indexlenmez, keylerini kullanarak valueleri cagirabiliriz.\n",
    "- {}, dict() -> Dictionary olusturabiliriz."
   ]
  },
  {
   "cell_type": "markdown",
   "metadata": {},
   "source": [
    "**Sözlük Tanımlama**"
   ]
  },
  {
   "cell_type": "code",
   "execution_count": 97,
   "metadata": {},
   "outputs": [],
   "source": [
    "sozluk = {\"isim\": \"Ali\", \"yas\": 25, \"meslek\": \"Mühendis\"}"
   ]
  },
  {
   "cell_type": "markdown",
   "metadata": {},
   "source": [
    "**Sözlük İşlemleri**"
   ]
  },
  {
   "cell_type": "code",
   "execution_count": 98,
   "metadata": {},
   "outputs": [
    {
     "name": "stdout",
     "output_type": "stream",
     "text": [
      "Ali\n",
      "{'isim': 'Ali', 'yas': 25, 'meslek': 'Mühendis', 'şehir': 'İstanbul'}\n",
      "{'isim': 'Ali', 'meslek': 'Mühendis', 'şehir': 'İstanbul'}\n",
      "dict_keys(['isim', 'meslek', 'şehir'])\n",
      "dict_values(['Ali', 'Mühendis', 'İstanbul'])\n"
     ]
    }
   ],
   "source": [
    "# Değere erişim\n",
    "print(sozluk[\"isim\"])  # Çıktı: Ali\n",
    "\n",
    "# Yeni anahtar-değer ekleme\n",
    "sozluk[\"şehir\"] = \"İstanbul\"\n",
    "print(sozluk)  # Çıktı: {'isim': 'Ali', 'yas': 25, 'meslek': 'Mühendis', 'şehir': 'İstanbul'}\n",
    "\n",
    "# Anahtar veya değer silme\n",
    "sozluk.pop(\"yas\")\n",
    "print(sozluk)  # Çıktı: {'isim': 'Ali', 'meslek': 'Mühendis', 'şehir': 'İstanbul'}\n",
    "\n",
    "# Tüm anahtarları veya değerleri alma\n",
    "print(sozluk.keys())  # Çıktı: dict_keys(['isim', 'meslek', 'şehir'])\n",
    "print(sozluk.values())  # Çıktı: dict_values(['Ali', 'Mühendis', 'İstanbul'])\n"
   ]
  },
  {
   "cell_type": "code",
   "execution_count": 135,
   "metadata": {},
   "outputs": [
    {
     "name": "stdout",
     "output_type": "stream",
     "text": [
      "dict_keys(['name', 'age', 'city'])\n",
      "dict_values(['Alice', 25, 'New York'])\n",
      "dict_items([('name', 'Alice'), ('age', 25), ('city', 'New York')])\n",
      "Alice\n",
      "{'name': 'Alice', 'age': 26, 'city': 'New York', 'country': 'USA'}\n",
      "New York\n",
      "{'name': 'Alice', 'age': 26, 'country': 'USA'}\n",
      "('country', 'USA')\n",
      "{}\n"
     ]
    }
   ],
   "source": [
    "# Sözlük tanımlama\n",
    "my_dict = {'name': 'Alice', 'age': 25, 'city': 'New York'}\n",
    "\n",
    "# keys() - Anahtarları döner\n",
    "print(my_dict.keys())  # dict_keys(['name', 'age', 'city'])\n",
    "\n",
    "# values() - Değerleri döner\n",
    "print(my_dict.values())  # dict_values(['Alice', 25, 'New York'])\n",
    "\n",
    "# items() - Anahtar-değer çiftlerini döner\n",
    "print(my_dict.items())  # dict_items([('name', 'Alice'), ('age', 25), ('city', 'New York')])\n",
    "\n",
    "# get() - Belirli bir anahtarın değerini döner\n",
    "print(my_dict.get('name'))  # Alice\n",
    "\n",
    "# update() - Sözlüğü başka bir sözlükle günceller\n",
    "my_dict.update({'age': 26, 'country': 'USA'})\n",
    "print(my_dict)  # {'name': 'Alice', 'age': 26, 'city': 'New York', 'country': 'USA'}\n",
    "\n",
    "# pop() - Belirtilen anahtarı siler ve değerini döner\n",
    "removed = my_dict.pop('city')\n",
    "print(removed)  # New York\n",
    "print(my_dict)  # {'name': 'Alice', 'age': 26, 'country': 'USA'}\n",
    "\n",
    "# popitem() - Son eklenen anahtar-değer çiftini siler\n",
    "print(my_dict.popitem())  # ('country', 'USA')\n",
    "\n",
    "# clear() - Tüm elemanları siler\n",
    "my_dict.clear()\n",
    "print(my_dict)  # {}\n"
   ]
  },
  {
   "cell_type": "code",
   "execution_count": 146,
   "metadata": {},
   "outputs": [
    {
     "name": "stdout",
     "output_type": "stream",
     "text": [
      "dict_keys(['father', 'mother', 'sibling'])\n",
      "dict_values([{'name': 'Jason', 'age': 50, 'job': 'Retired'}, {'name': 'Anna', 'age': 45, 'job': 'Teacher'}, {'name': 'Jennifer', 'age': 20, 'job': 'ML Engineer'}])\n"
     ]
    }
   ],
   "source": [
    "# Nested dicts\n",
    "my_family = {'father' : {'name':'Jason', 'age':50, 'job':'Retired'}, \n",
    "             'mother' : {'name':'Anna', 'age':45, 'job':'Teacher'},\n",
    "             'sibling' :{'name':'Jennifer', 'age':20, 'job':'ML Engineer'}}\n",
    "\n",
    "print (my_family.keys())\n",
    "print (my_family.values())"
   ]
  },
  {
   "cell_type": "markdown",
   "metadata": {},
   "source": [
    "**Kümeler (set ve frozenset): Eşsiz Koleksiyonlar**\n",
    "\n",
    "Kümeler, sırasız ve eşsiz elemanlardan oluşur. set değiştirilebilirken, frozenset sabittir."
   ]
  },
  {
   "cell_type": "markdown",
   "metadata": {},
   "source": [
    "- Matematikteki kümeler konusuna karsilik gelir.\n",
    "- Elemanlari uniquedir (essiz).\n",
    "- Unordered -> Belli bir düzeni yoktur. \n",
    "- Indexlenemez \n",
    "- Iterabledir -> Elemanlarina teker teker ulasilabilen\n",
    "- Mutabledir -> Atama yapmadan degistirilebilen\n",
    "- {}, set()\n",
    "- Bir set'in elemanlari hashable (degismez) olmak zorundadir, yani icinde listeler ya da diger setler gibi değistirilebilen ögeler bulunamaz."
   ]
  },
  {
   "cell_type": "markdown",
   "metadata": {},
   "source": [
    "**Küme Tanımlama**"
   ]
  },
  {
   "cell_type": "code",
   "execution_count": 99,
   "metadata": {},
   "outputs": [
    {
     "name": "stdout",
     "output_type": "stream",
     "text": [
      "{1, 2, 3, 4}\n"
     ]
    }
   ],
   "source": [
    "kume = {1, 2, 3, 3, 4}\n",
    "print(kume)  # Çıktı: {1, 2, 3, 4}"
   ]
  },
  {
   "cell_type": "code",
   "execution_count": 100,
   "metadata": {},
   "outputs": [
    {
     "name": "stdout",
     "output_type": "stream",
     "text": [
      "{1, 2, 3, 4, 5}\n",
      "{3}\n",
      "{1, 2}\n"
     ]
    }
   ],
   "source": [
    "kume1 = {1, 2, 3}\n",
    "kume2 = {3, 4, 5}\n",
    "\n",
    "# Birleşim\n",
    "print(kume1 | kume2)  # Çıktı: {1, 2, 3, 4, 5}\n",
    "\n",
    "# Kesişim\n",
    "print(kume1 & kume2)  # Çıktı: {3}\n",
    "\n",
    "# Fark\n",
    "print(kume1 - kume2)  # Çıktı: {1, 2}"
   ]
  },
  {
   "cell_type": "code",
   "execution_count": 136,
   "metadata": {},
   "outputs": [
    {
     "name": "stdout",
     "output_type": "stream",
     "text": [
      "{1, 2, 3, 4, 5, 6}\n",
      "{1, 2, 4, 5, 6}\n",
      "1\n",
      "{2, 4, 5, 6}\n",
      "{2, 4, 5, 6, 7}\n",
      "{4, 5, 6}\n",
      "{2}\n",
      "False\n",
      "set()\n",
      "frozenset({1, 2, 3})\n"
     ]
    }
   ],
   "source": [
    "# Set tanımlama\n",
    "my_set = {1, 2, 3, 4, 5}\n",
    "\n",
    "# add() - Eleman ekler\n",
    "my_set.add(6)\n",
    "print(my_set)  # {1, 2, 3, 4, 5, 6}\n",
    "\n",
    "# remove() - Elemanı siler (Eğer eleman yoksa hata verir)\n",
    "my_set.remove(3)\n",
    "print(my_set)  # {1, 2, 4, 5, 6}\n",
    "\n",
    "# discard() - Elemanı siler (Eğer eleman yoksa hata vermez)\n",
    "my_set.discard(10)\n",
    "\n",
    "# pop() - Rastgele bir elemanı siler ve döner\n",
    "print(my_set.pop())  # Örnek: 1\n",
    "print(my_set)  # Kalan set\n",
    "\n",
    "# union() - Birleşim (set1 | set2 ile aynı)\n",
    "set2 = {4, 5, 6, 7}\n",
    "print(my_set.union(set2))  # {2, 4, 5, 6, 7}\n",
    "\n",
    "# intersection() - Kesişim (set1 & set2 ile aynı)\n",
    "print(my_set.intersection(set2))  # {4, 5, 6}\n",
    "\n",
    "# difference() - Fark (set1 - set2 ile aynı)\n",
    "print(my_set.difference(set2))  # {2}\n",
    "\n",
    "# issubset() - Alt küme kontrolü\n",
    "print({1, 2}.issubset(my_set))  # True veya False\n",
    "\n",
    "# clear() - Tüm elemanları siler\n",
    "my_set.clear()\n",
    "print(my_set)  # set()\n",
    "\n",
    "# frozenset - Değiştirilemez set\n",
    "my_frozen_set = frozenset([1, 2, 3])\n",
    "print(my_frozen_set)  # frozenset({1, 2, 3})\n"
   ]
  },
  {
   "cell_type": "code",
   "execution_count": 147,
   "metadata": {},
   "outputs": [
    {
     "name": "stdout",
     "output_type": "stream",
     "text": [
      "{'M', 'v', 'e', 'r'}\n",
      "{'a', 'u', 'B', 'k', 'r'}\n"
     ]
    }
   ],
   "source": [
    "# update\n",
    "set1 = set('Merve')\n",
    "set2 = set('Burak')\n",
    "print (set1)\n",
    "print(set2)"
   ]
  },
  {
   "cell_type": "code",
   "execution_count": 148,
   "metadata": {},
   "outputs": [
    {
     "data": {
      "text/plain": [
       "{'B', 'M', 'a', 'e', 'k', 'r', 'u', 'v'}"
      ]
     },
     "execution_count": 148,
     "metadata": {},
     "output_type": "execute_result"
    }
   ],
   "source": [
    "# Uptade ettik ve yeni bir set oldu, set2'yi de set1'e ekledi.\n",
    "\n",
    "set1.update(set2)\n",
    "set1"
   ]
  },
  {
   "cell_type": "markdown",
   "metadata": {},
   "source": [
    "**Özet**\n",
    "\n",
    "Bu veri yapıları Python'un güçlü özelliklerinden biridir ve her biri farklı amaçlar için tasarlanmıştır:\n",
    "\n",
    "- String: Metin işleme.\n",
    "- List: Dinamik, sıralı veri koleksiyonu.\n",
    "- Tuple: Sabit, sıralı veri koleksiyonu.\n",
    "- Dict: Anahtar-değer eşlemesi.\n",
    "- Set: Eşsiz, sırasız veri koleksiyonu.\n",
    "\n",
    "Her veri yapısını, ihtiyacınıza göre kullanarak etkili ve düzenli kod yazabilirsiniz."
   ]
  },
  {
   "cell_type": "markdown",
   "metadata": {},
   "source": [
    "### Union, Intersection, Difference "
   ]
  },
  {
   "cell_type": "markdown",
   "metadata": {},
   "source": [
    "**Union (Birleşim)**\n",
    "Tanım:\n",
    "\n",
    "Union, iki veya daha fazla kümenin elemanlarını birleştirir ve her elemanın yalnızca bir kez yer aldığı yeni bir küme oluşturur.\n",
    "\n",
    "Kullanım:\n",
    "set1.union(set2) veya set1 | set2"
   ]
  },
  {
   "cell_type": "code",
   "execution_count": 149,
   "metadata": {},
   "outputs": [
    {
     "name": "stdout",
     "output_type": "stream",
     "text": [
      "{1, 2, 3, 4, 5}\n",
      "{1, 2, 3, 4, 5}\n"
     ]
    }
   ],
   "source": [
    "set1 = {1, 2, 3}\n",
    "set2 = {3, 4, 5}\n",
    "\n",
    "# Union (Birleşim)\n",
    "union_set = set1.union(set2)\n",
    "print(union_set)  # {1, 2, 3, 4, 5}\n",
    "\n",
    "# Alternatif olarak\n",
    "print(set1 | set2)  # {1, 2, 3, 4, 5}\n"
   ]
  },
  {
   "cell_type": "markdown",
   "metadata": {},
   "source": [
    "**Intersection (Kesişim)**\n",
    "\n",
    "Tanım:\n",
    "Intersection, iki kümenin ortak elemanlarını bulur ve bu elemanlardan oluşan yeni bir küme döner.\n",
    "\n",
    "Kullanım:\n",
    "set1.intersection(set2) veya set1 & set2"
   ]
  },
  {
   "cell_type": "code",
   "execution_count": 137,
   "metadata": {},
   "outputs": [
    {
     "name": "stdout",
     "output_type": "stream",
     "text": [
      "Mesajiniz: 15\n",
      "Toplam Kelime Sayisi: 1, Toplam Cümle Sayisi: 0, Karakter Sayisi: 2\n"
     ]
    }
   ],
   "source": [
    "# Kullanici tarafindan saglanan metin mesajini analiz ederek asagidaki bilgileri sağlayin:\n",
    "\n",
    "# Toplam kelime sayisi\n",
    "# Toplam cümle sayisi\n",
    "# Toplam karakter sayisi\n",
    "\n",
    "mesaj = input(\"Lütfen mesajinizi giriniz:\")\n",
    "\n",
    "kelime_sayisi = len(mesaj.split())\n",
    "\n",
    "cümle_sayisi = mesaj.count(\"!\") + mesaj.count(\"?\") + mesaj.count(\".\")\n",
    "\n",
    "karakter_sayisi = len(mesaj)\n",
    "\n",
    "print(f\"Mesajiniz: {mesaj}\")\n",
    "print(f\"Toplam Kelime Sayisi: {kelime_sayisi}, Toplam Cümle Sayisi: {cümle_sayisi}, Karakter Sayisi: {karakter_sayisi}\")"
   ]
  },
  {
   "cell_type": "markdown",
   "metadata": {},
   "source": [
    "**Difference (Fark)**\n",
    "\n",
    "Tanım:\n",
    "Difference, bir kümede bulunan ancak diğerinde bulunmayan elemanları döner.\n",
    "\n",
    "Kullanım:\n",
    "set1.difference(set2) veya set1 - set2"
   ]
  },
  {
   "cell_type": "code",
   "execution_count": 150,
   "metadata": {},
   "outputs": [
    {
     "name": "stdout",
     "output_type": "stream",
     "text": [
      "{1, 2}\n",
      "{1, 2}\n"
     ]
    }
   ],
   "source": [
    "set1 = {1, 2, 3}\n",
    "set2 = {3, 4, 5}\n",
    "\n",
    "# Difference (Fark)\n",
    "difference_set = set1.difference(set2)\n",
    "print(difference_set)  # {1, 2} (set1'de olup set2'de olmayan elemanlar)\n",
    "\n",
    "# Alternatif olarak\n",
    "print(set1 - set2)  # {1, 2}\n"
   ]
  },
  {
   "cell_type": "code",
   "execution_count": 151,
   "metadata": {},
   "outputs": [
    {
     "name": "stdout",
     "output_type": "stream",
     "text": [
      "{1, 2, 3, 4, 5, 6, 7}\n",
      "set()\n",
      "{1, 2}\n"
     ]
    }
   ],
   "source": [
    "set1 = {1, 2, 3}\n",
    "set2 = {3, 4, 5}\n",
    "set3 = {5, 6, 7}\n",
    "\n",
    "# Union (Birleşim)\n",
    "print(set1.union(set2, set3))  # {1, 2, 3, 4, 5, 6, 7}\n",
    "\n",
    "# Intersection (Kesişim)\n",
    "print(set1.intersection(set2, set3))  # {} (Hiçbiri ortak değil)\n",
    "\n",
    "# Difference (Fark)\n",
    "print(set1.difference(set2, set3))  # {1, 2}\n"
   ]
  },
  {
   "cell_type": "code",
   "execution_count": 138,
   "metadata": {},
   "outputs": [
    {
     "name": "stdout",
     "output_type": "stream",
     "text": [
      "'20' ifadesi bir palindrom değildir.\n"
     ]
    }
   ],
   "source": [
    "# Bir palindrom sorgulayicisi olusturma\n",
    "\n",
    "giris = input(\"Lütfen bir kelime veya cümle giriniz:\")\n",
    "\n",
    "temiz_giris = giris.lower().replace(\" \", \"\")\n",
    "\n",
    "ters_giris = temiz_giris[::-1]\n",
    "\n",
    "if temiz_giris == ters_giris:\n",
    "    print(f\"'{giris}' ifadesi bir palindromdur.\")\n",
    "else:\n",
    "    print(f\"'{giris}' ifadesi bir palindrom değildir.\")"
   ]
  },
  {
   "cell_type": "code",
   "execution_count": 139,
   "metadata": {},
   "outputs": [
    {
     "name": "stdout",
     "output_type": "stream",
     "text": [
      "Sinav ve ödev Listesi:\n",
      "1. Görev: Matematik Sinavi, Son Teslim Tarihi: 2024-10-15, Tamamlandi: False\n",
      "2. Görev: Fizik Ödevi, Son Teslim Tarihi: 2024-10-25, Tamamlandi: False\n",
      "3. Görev: Kimya Projesi, Son Teslim Tarihi: 2024-10-20, Tamamlandi: False\n",
      "Güncellenmiş Sinav ve ödev Listesi:\n",
      "1. Görev: Matematik Sinavi, Son Teslim Tarihi: 2024-10-15, Tamamlandi: False\n",
      "2. Görev: Fizik Ödevi, Son Teslim Tarihi: 2024-10-25, Tamamlandi: True\n",
      "3. Görev: Kimya Projesi, Son Teslim Tarihi: 2024-10-20, Tamamlandi: False\n"
     ]
    }
   ],
   "source": [
    "# Öğrencilerin sinav tarihlerini, ödevlerini ve projelerini listelemesine ve takip etmesine olanak taniyan bir uygulama\n",
    "\n",
    "task = []\n",
    "\n",
    "task.append([\"Matematik Sinavi\", \"2024-10-15\", False])\n",
    "task.append([\"Fizik Ödevi\", \"2024-10-25\", False])\n",
    "task.append([\"Kimya Projesi\", \"2024-10-20\", False])\n",
    "\n",
    "print(\"Sinav ve ödev Listesi:\")\n",
    "print(f\"1. Görev: {task[0][0]}, Son Teslim Tarihi: {task[0][1]}, Tamamlandi: {task[0][2]}\")\n",
    "print(f\"2. Görev: {task[1][0]}, Son Teslim Tarihi: {task[1][1]}, Tamamlandi: {task[1][2]}\")\n",
    "print(f\"3. Görev: {task[2][0]}, Son Teslim Tarihi: {task[2][1]}, Tamamlandi: {task[2][2]}\")\n",
    "\n",
    "task[1][2] = True\n",
    "\n",
    "print(\"Güncellenmiş Sinav ve ödev Listesi:\")\n",
    "print(f\"1. Görev: {task[0][0]}, Son Teslim Tarihi: {task[0][1]}, Tamamlandi: {task[0][2]}\")\n",
    "print(f\"2. Görev: {task[1][0]}, Son Teslim Tarihi: {task[1][1]}, Tamamlandi: {task[1][2]}\")\n",
    "print(f\"3. Görev: {task[2][0]}, Son Teslim Tarihi: {task[2][1]}, Tamamlandi: {task[2][2]}\")\n",
    "\n"
   ]
  }
 ],
 "metadata": {
  "kernelspec": {
   "display_name": "Python 3",
   "language": "python",
   "name": "python3"
  },
  "language_info": {
   "codemirror_mode": {
    "name": "ipython",
    "version": 3
   },
   "file_extension": ".py",
   "mimetype": "text/x-python",
   "name": "python",
   "nbconvert_exporter": "python",
   "pygments_lexer": "ipython3",
   "version": "3.13.3"
  }
 },
 "nbformat": 4,
 "nbformat_minor": 2
}
