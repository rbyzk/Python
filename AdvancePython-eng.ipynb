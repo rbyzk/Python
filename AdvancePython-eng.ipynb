{
  "cells": [
    {
      "cell_type": "markdown",
      "metadata": {
        "id": "KO4TDmJ6M3nr"
      },
      "source": [
        "## Python Loops and Functions"
      ]
    },
    {
      "cell_type": "markdown",
      "metadata": {
        "id": "0xFnsmXKM3nt"
      },
      "source": [
        "#### Python - While Loop\n",
        "\n",
        "A While loop repeats as long as a certain condition is true.\n",
        "Usage:"
      ]
    },
    {
      "cell_type": "markdown",
      "metadata": {
        "id": "BgrbhYXvM3nt"
      },
      "source": [
        "- The code will run again as long as the condition is true.\n",
        "- i += 1: Incrementing i every loop is necessary for the loop to have an end."
      ]
    },
    {
      "cell_type": "code",
      "execution_count": 1,
      "metadata": {
        "colab": {
          "base_uri": "https://localhost:8080/"
        },
        "id": "8I9pqCehM3nu",
        "outputId": "8559012d-5028-471a-a2af-f45b7e8d12f8"
      },
      "outputs": [
        {
          "output_type": "stream",
          "name": "stdout",
          "text": [
            "1\n",
            "2\n",
            "3\n",
            "4\n",
            "5\n"
          ]
        }
      ],
      "source": [
        "# Example: Printing numbers from 1 to 5\n",
        "i = 1\n",
        "while i <= 5:\n",
        "    print(i)\n",
        "    i += 1"
      ]
    },
    {
      "cell_type": "code",
      "execution_count": null,
      "metadata": {
        "id": "IfTHW_fYM3nw",
        "outputId": "35ade28c-7723-44d2-92ee-f343faec3800"
      },
      "outputs": [
        {
          "name": "stdout",
          "output_type": "stream",
          "text": [
            "num: 1\n",
            "num: 2\n",
            "num: 3\n",
            "num: 4\n",
            "num: 5\n"
          ]
        }
      ],
      "source": [
        "# Indentation is important, if you indent incorrectly, an IndentationError will occur. (Interview question!)\n",
        "\n",
        "num = 0\n",
        "\n",
        "while num < 5:\n",
        "    num += 1\n",
        "    print(f\"num: {num}\")"
      ]
    },
    {
      "cell_type": "code",
      "execution_count": null,
      "metadata": {
        "id": "mSbCtiaqM3nw",
        "outputId": "8fd5eb43-0835-4abd-f98a-33e555bccb3f"
      },
      "outputs": [
        {
          "ename": "IndentationError",
          "evalue": "unexpected indent (3835143777.py, line 4)",
          "output_type": "error",
          "traceback": [
            "\u001b[1;36m  Cell \u001b[1;32mIn[38], line 4\u001b[1;36m\u001b[0m\n\u001b[1;33m    print(\"This loop runs forever.\")\u001b[0m\n\u001b[1;37m    ^\u001b[0m\n\u001b[1;31mIndentationError\u001b[0m\u001b[1;31m:\u001b[0m unexpected indent\n"
          ]
        }
      ],
      "source": [
        "# DON'T RUN!\n",
        "\n",
        "# while 10 > 5:\n",
        "    print(\"This loop runs forever.\")"
      ]
    },
    {
      "cell_type": "code",
      "execution_count": null,
      "metadata": {
        "id": "8Oatd-pMM3nw",
        "outputId": "f555c4c3-4bf4-41f7-9cea-d90318418677"
      },
      "outputs": [
        {
          "name": "stdout",
          "output_type": "stream",
          "text": [
            "1\n",
            "2\n",
            "3\n",
            "4\n",
            "5\n",
            "6\n",
            "7\n",
            "8\n",
            "9\n"
          ]
        }
      ],
      "source": [
        "x = 1\n",
        "\n",
        "while 10 > x:\n",
        "    print(x)\n",
        "    x += 1"
      ]
    },
    {
      "cell_type": "code",
      "execution_count": null,
      "metadata": {
        "id": "GPW0WAyrM3nx",
        "outputId": "8c65dc08-0f49-4782-f04d-058c5a7aa449"
      },
      "outputs": [
        {
          "name": "stdout",
          "output_type": "stream",
          "text": [
            "2\n",
            "3\n",
            "4\n",
            "5\n",
            "6\n",
            "7\n",
            "8\n",
            "9\n",
            "10\n"
          ]
        }
      ],
      "source": [
        "x = 1\n",
        "\n",
        "while 10 > x:\n",
        "    x += 1\n",
        "    print(x)"
      ]
    },
    {
      "cell_type": "code",
      "execution_count": null,
      "metadata": {
        "id": "k6T51TzCM3nx"
      },
      "outputs": [],
      "source": [
        "# DON'T RUN!\n",
        "\n",
        "x = 1\n",
        "\n",
        "# while x < 10:\n",
        "    print('This loop runs forever.')\n",
        "\n",
        "x += 1"
      ]
    },
    {
      "cell_type": "code",
      "execution_count": null,
      "metadata": {
        "id": "xoJEp8fDM3nx"
      },
      "outputs": [],
      "source": [
        "# This loop will not work.\n",
        "\n",
        "while False:\n",
        "    print(\"Is this place operational?\")"
      ]
    },
    {
      "cell_type": "code",
      "execution_count": null,
      "metadata": {
        "id": "uIOlpkdmM3ny"
      },
      "outputs": [],
      "source": [
        "# DON'T RUN!\n",
        "\n",
        "x = 1\n",
        "\n",
        "while True:\n",
        "    print(x, \"goes on forever\")\n",
        "    x += 1"
      ]
    },
    {
      "cell_type": "code",
      "execution_count": null,
      "metadata": {
        "id": "thcWW_rwM3ny",
        "outputId": "1b34b13b-e9d3-47d4-ad67-c6feecab8d49"
      },
      "outputs": [
        {
          "name": "stdout",
          "output_type": "stream",
          "text": [
            "The While loop runs until condition becomes False, that is, once.\n"
          ]
        }
      ],
      "source": [
        "y = True\n",
        "\n",
        "while y:\n",
        "    print(\"The While loop runs until condition becomes False, that is, once.\")\n",
        "    y = False"
      ]
    },
    {
      "cell_type": "code",
      "execution_count": null,
      "metadata": {
        "id": "Saay8YCyM3ny",
        "outputId": "c6385857-5946-4631-8c94-a9ad037a0fdb"
      },
      "outputs": [
        {
          "name": "stdout",
          "output_type": "stream",
          "text": [
            "attempt: 1\n",
            "attempt: 2\n",
            "attempt: 3\n",
            "Your 3 attempts are over!\n"
          ]
        }
      ],
      "source": [
        "x = 1\n",
        "\n",
        "while x <= 3:\n",
        "    print(f\"attempt: {x}\")\n",
        "    x += 1\n",
        "\n",
        "print(\"Your 3 attempts are over!\")"
      ]
    },
    {
      "cell_type": "code",
      "execution_count": null,
      "metadata": {
        "id": "FRAKs2crM3ny",
        "outputId": "8c245e6b-ece4-4f65-d849-f744a2bc9e65"
      },
      "outputs": [
        {
          "name": "stdout",
          "output_type": "stream",
          "text": [
            "1\n",
            "9\n",
            "36\n",
            "64\n",
            "121\n",
            "225\n"
          ]
        }
      ],
      "source": [
        "# Write code to square the elements of the given list. (While the communication will be resolved!)\n",
        "\n",
        "numbers_list = [1, 3, 6, 8, 11, 15]\n",
        "\n",
        "x = 0\n",
        "\n",
        "while x < len(numbers_list):\n",
        "    print(numbers_list[x] ** 2)\n",
        "    x += 1"
      ]
    },
    {
      "cell_type": "code",
      "execution_count": null,
      "metadata": {
        "id": "9cPXm_pOM3nz"
      },
      "outputs": [],
      "source": [
        "# Write a statement that checks the value received from the user with input and if a number greater than 50 is entered,\n",
        "# it tells the user that the number entered is not correct.\n",
        "# When a value less than 50 is entered, the loop ends and\n",
        "# it gives positive feedback to the user.\n",
        "# The loop receives input from the user until the correct value is entered."
      ]
    },
    {
      "cell_type": "code",
      "execution_count": null,
      "metadata": {
        "id": "C1sirPMFM3nz",
        "outputId": "11c22dfd-7692-43e3-f518-df7451d4c70f"
      },
      "outputs": [
        {
          "name": "stdout",
          "output_type": "stream",
          "text": [
            "You did not enter correctly, try again:\n",
            "You did not enter correctly, try again:\n",
            "Bravo!\n"
          ]
        }
      ],
      "source": [
        "number = int(input('Please enter a number between 1 and 100:'))\n",
        "\n",
        "while number > 50:\n",
        "    print('You did not enter correctly, try again:')\n",
        "    number = int(input('Please enter a value between 1 and 100:'))\n",
        "\n",
        "print ('Bravo!')"
      ]
    },
    {
      "cell_type": "code",
      "execution_count": null,
      "metadata": {
        "id": "-Uq3sDkiM3nz",
        "outputId": "7ea78213-d884-4c04-a5ab-5dc2a8d4e4ce"
      },
      "outputs": [
        {
          "name": "stdout",
          "output_type": "stream",
          "text": [
            "List of odd numbers: [1, 15, 5, 89, 45, 71, 45, 95, 61]\n",
            "List of even numbers: [2, 36, 62, 52, 30, 56, 48]\n"
          ]
        }
      ],
      "source": [
        "# Let's add the odd numbers in this list to one list and the even numbers to the other list and give the results.\n",
        "\n",
        "numbers_list = [1, 15, 2, 36, 5, 89, 45, 62, 52, 71, 30, 56, 45, 95, 61, 48]\n",
        "\n",
        "odds = []\n",
        "evens = []\n",
        "\n",
        "x = 0\n",
        "\n",
        "while x < len(numbers_list):\n",
        "\n",
        "    if numbers_list[x] % 2 == 0:\n",
        "        evens.append(numbers_list[x])\n",
        "    else:\n",
        "        odds.append(numbers_list[x])\n",
        "\n",
        "    x += 1\n",
        "\n",
        "print(f\"List of odd numbers: {odds}\")\n",
        "print(f\"List of even numbers: {evens}\")"
      ]
    },
    {
      "cell_type": "markdown",
      "metadata": {
        "id": "rdFKYsKrM3nz"
      },
      "source": [
        "### break"
      ]
    },
    {
      "cell_type": "code",
      "execution_count": null,
      "metadata": {
        "id": "gsMt3vuGM3n0",
        "outputId": "43614148-2e33-400c-804d-39872b9720b0"
      },
      "outputs": [
        {
          "name": "stdout",
          "output_type": "stream",
          "text": [
            "num: 1\n",
            "num: 2\n",
            "num: 3\n"
          ]
        }
      ],
      "source": [
        "num = 0\n",
        "\n",
        "while num < 5:\n",
        "    num += 1\n",
        "    print(f\"num: {num}\")\n",
        "\n",
        "    if num == 3:\n",
        "        break"
      ]
    },
    {
      "cell_type": "code",
      "execution_count": null,
      "metadata": {
        "id": "xj6oWv9_M3n0",
        "outputId": "9d94e879-4b7a-4636-80d2-719c012fa6a9"
      },
      "outputs": [
        {
          "name": "stdout",
          "output_type": "stream",
          "text": [
            "10\n"
          ]
        }
      ],
      "source": [
        "# Add the int values ​​in order. When str is in the expression, the code ends.\n",
        "\n",
        "list = [1, 2, 3, 4, \"Hello\", 5, 6, 7]\n",
        "\n",
        "x = 0\n",
        "\n",
        "total = 0\n",
        "\n",
        "while x < len(list):\n",
        "\n",
        "    if type(list[x]) == int:\n",
        "        total += list[x]\n",
        "\n",
        "    elif type(list[x]) == str:\n",
        "        break\n",
        "\n",
        "    x += 1\n",
        "\n",
        "print(total)"
      ]
    },
    {
      "cell_type": "markdown",
      "metadata": {
        "id": "aZ02u7dCM3n0"
      },
      "source": [
        "### continue"
      ]
    },
    {
      "cell_type": "code",
      "execution_count": null,
      "metadata": {
        "id": "ErSQawWKM3n0",
        "outputId": "19767b71-173b-464e-adeb-27f96105bef0"
      },
      "outputs": [
        {
          "name": "stdout",
          "output_type": "stream",
          "text": [
            "num: 1\n",
            "num: 2\n",
            "num: 3\n"
          ]
        }
      ],
      "source": [
        "# continue -> Continue late, don't wait!\n",
        "# The statement after continue is not read, the loop starts.\n",
        "\n",
        "num = 0\n",
        "\n",
        "while num < 5:\n",
        "    num += 1\n",
        "\n",
        "    if num > 3:\n",
        "        continue\n",
        "\n",
        "    print(f\"num: {num}\")"
      ]
    },
    {
      "cell_type": "code",
      "execution_count": null,
      "metadata": {
        "id": "O-sTI6fhM3n1",
        "outputId": "f0e93487-8688-43dc-8cb2-00fc901dbadc"
      },
      "outputs": [
        {
          "name": "stdout",
          "output_type": "stream",
          "text": [
            "28\n"
          ]
        }
      ],
      "source": [
        "# Add the int values ​​in order. When it matches the str expression, skip that expression and continue.\n",
        "\n",
        "list = [1, \"rose\", 2, 3, 4, \"Hello\", 5, 6, 7, \"jake\"]\n",
        "\n",
        "x = 0\n",
        "\n",
        "total = 0\n",
        "\n",
        "while x < len(list):\n",
        "\n",
        "    if type(list[x]) == int:\n",
        "        total += list[x]\n",
        "\n",
        "    elif type(list[x]) == str:\n",
        "        x += 1\n",
        "        continue\n",
        "\n",
        "    x += 1\n",
        "\n",
        "\n",
        "print(total)"
      ]
    },
    {
      "cell_type": "code",
      "execution_count": null,
      "metadata": {
        "id": "vb6HQ9XdM3n1",
        "outputId": "e2e986ff-f7dc-4edf-988b-040d917a64b3"
      },
      "outputs": [
        {
          "name": "stdout",
          "output_type": "stream",
          "text": [
            "5! = 120\n"
          ]
        }
      ],
      "source": [
        "# Get a number from the user and calculate the factorial of that number.\n",
        "\n",
        "num = int(input(\"Enter the number whose factorial is to be calculated:\"))\n",
        "\n",
        "factorial = 1\n",
        "i = 1\n",
        "\n",
        "while i <= num:\n",
        "    factorial *= i # factorial = factorial * i\n",
        "    i += 1\n",
        "\n",
        "print(f\"{num}! = {factorial}\")"
      ]
    },
    {
      "cell_type": "code",
      "execution_count": null,
      "metadata": {
        "id": "qu0eGTwjM3n1",
        "outputId": "b3e3db75-50ff-4404-ceec-437d0ac598f2"
      },
      "outputs": [
        {
          "name": "stdout",
          "output_type": "stream",
          "text": [
            "Reversed number: 21\n"
          ]
        }
      ],
      "source": [
        "# Get a number from the user and reverse it.\n",
        "\n",
        "num = int(input(\"Enter a number:\"))\n",
        "reversed_num = 0\n",
        "\n",
        "while num > 0:\n",
        "    digit = num % 10\n",
        "\n",
        "    reversed_num = reversed_num * 10 + digit\n",
        "\n",
        "    num //= 10\n",
        "\n",
        "print(f\"Reversed number: {reversed_num}\")"
      ]
    },
    {
      "cell_type": "markdown",
      "metadata": {
        "id": "MzX6WB6XM3n1"
      },
      "source": [
        "## else\n",
        "\n",
        "The **else** block can follow the while loop and the else block is executed when the loop is not interrupted by any break statement, i.e. when the loop terminates naturally (boolean expression is False). If the loop is terminated by a **break** statement, the else block will not execute."
      ]
    },
    {
      "cell_type": "code",
      "execution_count": null,
      "metadata": {
        "id": "_zO-grLHM3n2",
        "outputId": "d22c75b8-8534-48fc-9cf0-dc100f7ad1a2"
      },
      "outputs": [
        {
          "name": "stdout",
          "output_type": "stream",
          "text": [
            "1\n",
            "2\n",
            "3\n",
            "4\n",
            "5\n",
            "The cycle has ended naturally.\n"
          ]
        }
      ],
      "source": [
        "i = 1\n",
        "\n",
        "while i <= 5:\n",
        "    print(i)\n",
        "    i += 1\n",
        "\n",
        "else:\n",
        "    print(\"The cycle has ended naturally.\")"
      ]
    },
    {
      "cell_type": "code",
      "execution_count": null,
      "metadata": {
        "id": "VrPgCTVYM3n2",
        "outputId": "84928738-041c-4303-bae4-7333b8501485"
      },
      "outputs": [
        {
          "name": "stdout",
          "output_type": "stream",
          "text": [
            "1\n",
            "2\n"
          ]
        }
      ],
      "source": [
        "i = 1\n",
        "\n",
        "while i <= 5:\n",
        "    if i == 3:\n",
        "        break\n",
        "    print(i)\n",
        "    i += 1\n",
        "\n",
        "else:\n",
        "    print(\"The cycle did not end naturally.\")"
      ]
    },
    {
      "cell_type": "code",
      "execution_count": null,
      "metadata": {
        "id": "6PxRPvr2M3n2",
        "outputId": "b2eb7b90-80e3-4a5d-f220-523dc759ea62"
      },
      "outputs": [
        {
          "name": "stdout",
          "output_type": "stream",
          "text": [
            "You are being directed to the main menu...\n"
          ]
        }
      ],
      "source": [
        "# Write the codes for ATM password entry.\n",
        "\n",
        "registered_password = \"1234\"\n",
        "\n",
        "y = True\n",
        "\n",
        "while y:\n",
        "\n",
        "    username_entry = input(\"Please enter your card password:\")\n",
        "\n",
        "    if registered_password == username_entry:\n",
        "        print(\"You are being directed to the main menu...\")\n",
        "        y = False\n",
        "\n",
        "    else:\n",
        "        print(\"The password you entered is incorrect, please enter again.\")"
      ]
    },
    {
      "cell_type": "markdown",
      "metadata": {
        "id": "o8XDdEgGM3n2"
      },
      "source": [
        "## Random Module"
      ]
    },
    {
      "cell_type": "markdown",
      "metadata": {
        "id": "wjwybVPDM3n3"
      },
      "source": [
        "In Python, the random module is used to generate random numbers and make random choices. This module is useful in many areas such as games, simulations, security testing.\n",
        "\n",
        "Using the random Module\n",
        "First, to use this module, you need to import it:\n"
      ]
    },
    {
      "cell_type": "code",
      "execution_count": null,
      "metadata": {
        "id": "BeNHQFn8M3n3"
      },
      "outputs": [],
      "source": [
        "import random"
      ]
    },
    {
      "cell_type": "markdown",
      "metadata": {
        "id": "va72TSoXM3n3"
      },
      "source": [
        "**random()** Returns a random float number between 0.0 and 1.0."
      ]
    },
    {
      "cell_type": "code",
      "execution_count": null,
      "metadata": {
        "id": "2W4glSDjM3n3",
        "outputId": "7f6bc8d9-38bc-49ef-b103-9818e3543ad1"
      },
      "outputs": [
        {
          "name": "stdout",
          "output_type": "stream",
          "text": [
            "0.21149450606223408\n"
          ]
        }
      ],
      "source": [
        "# Generates a random number between 0 and 1\n",
        "random_number = random.random()\n",
        "print(random_number)\n"
      ]
    },
    {
      "cell_type": "markdown",
      "metadata": {
        "id": "cjE7KTbxM3n3"
      },
      "source": [
        "**random.randint(a, b)**\n",
        "Generates a random integer in the specified range a and b (both values ​​inclusive)."
      ]
    },
    {
      "cell_type": "code",
      "execution_count": null,
      "metadata": {
        "id": "DA1hxHU_M3n3",
        "outputId": "ca9275dc-17e0-4855-fe23-983d36c6846a"
      },
      "outputs": [
        {
          "name": "stdout",
          "output_type": "stream",
          "text": [
            "10\n"
          ]
        }
      ],
      "source": [
        "# Generates a random integer between 1 and 10\n",
        "random_number = random.randint(1, 10)\n",
        "print(random_number)"
      ]
    },
    {
      "cell_type": "markdown",
      "metadata": {
        "id": "ficdsvcNM3n4"
      },
      "source": [
        "**random.uniform(a, b)**\n",
        "This function generates a random floating point number between the specified a and b."
      ]
    },
    {
      "cell_type": "code",
      "execution_count": null,
      "metadata": {
        "id": "qO5w7_hkM3n4",
        "outputId": "5e851e16-ea46-4f22-878b-387c297b62b7"
      },
      "outputs": [
        {
          "name": "stdout",
          "output_type": "stream",
          "text": [
            "9.658363236100202\n"
          ]
        }
      ],
      "source": [
        "# Generates a random floating point number between 1.0 and 10.0\n",
        "random_number = random.uniform(1.0, 10.0)\n",
        "print(random_number)"
      ]
    },
    {
      "cell_type": "markdown",
      "metadata": {
        "id": "Cn8megyXM3n4"
      },
      "source": [
        "**random.choice(sequence)**\n",
        "Chooses a random element from a given iterable data structure such as a list, tuple, or string."
      ]
    },
    {
      "cell_type": "code",
      "execution_count": null,
      "metadata": {
        "id": "gq9dyu9WM3n-",
        "outputId": "55f1847c-8ad7-4589-cb91-6c87a7943b1d"
      },
      "outputs": [
        {
          "name": "stdout",
          "output_type": "stream",
          "text": [
            "strawberry\n"
          ]
        }
      ],
      "source": [
        "# Selects a random item from the list\n",
        "fruits = [\"apple\", \"pear\", \"banana\", \"strawberry\"]\n",
        "choice = random.choice(fruits)\n",
        "print(choice)"
      ]
    },
    {
      "cell_type": "markdown",
      "metadata": {
        "id": "7ffJFp1QM3n_"
      },
      "source": [
        "**random.shuffle(sequence)**\n",
        "This function randomly shuffles the elements in the given sequence data structure. Since this operation changes the original data structure, you cannot use the sequence data structure directly, but you can reuse the data after the change."
      ]
    },
    {
      "cell_type": "code",
      "execution_count": null,
      "metadata": {
        "id": "1aoR6tqEM3n_",
        "outputId": "0e3c8289-e31d-47a1-d3ef-fd93285716f1"
      },
      "outputs": [
        {
          "name": "stdout",
          "output_type": "stream",
          "text": [
            "['apple', 'pear', 'strawberry', 'banana']\n"
          ]
        }
      ],
      "source": [
        "# Randomly shuffles the list\n",
        "fruits = [\"apple\", \"pear\", \"banana\", \"strawberry\"]\n",
        "random.shuffle(fruits)\n",
        "print(fruits)"
      ]
    },
    {
      "cell_type": "markdown",
      "metadata": {
        "id": "6pSXgrpiM3n_"
      },
      "source": [
        "**random.sample(sequence, k)**\n",
        "Selects the specified k number of elements from the specified sequential data structure (and does not repeat the selected elements)."
      ]
    },
    {
      "cell_type": "code",
      "execution_count": null,
      "metadata": {
        "id": "eV1xcJXnM3n_",
        "outputId": "c5fdba80-345a-44c4-90d1-6ffb56b7ed3f"
      },
      "outputs": [
        {
          "name": "stdout",
          "output_type": "stream",
          "text": [
            "['strawberry', 'apple']\n"
          ]
        }
      ],
      "source": [
        "# Selects 2 random items from the list (does not repeat)\n",
        "fruits = [\"apple\", \"pear\", \"banana\", \"strawberry\"]\n",
        "selections = random.sample(fruits, 2)\n",
        "print(selections)"
      ]
    },
    {
      "cell_type": "markdown",
      "metadata": {
        "id": "_ulPsrmOM3n_"
      },
      "source": [
        "**random.randrange(start, stop, step)**\n",
        "This function generates a random number between start and stop, step by step."
      ]
    },
    {
      "cell_type": "code",
      "execution_count": null,
      "metadata": {
        "id": "-R_E0NqUM3n_",
        "outputId": "411e6756-4084-4f8f-8400-fef50ecbdeb8"
      },
      "outputs": [
        {
          "name": "stdout",
          "output_type": "stream",
          "text": [
            "2\n"
          ]
        }
      ],
      "source": [
        "# Picks a random number between 0 and 10 in steps of 2\n",
        "random_number = random.randrange(0, 10, 2)\n",
        "print(random_number)"
      ]
    },
    {
      "cell_type": "markdown",
      "metadata": {
        "id": "juSL3amjM3oA"
      },
      "source": [
        "**random.seed(a=None)**\n",
        "This function makes the random numbers repeatable. If the same seed value is given, the same random numbers are generated each time it is run."
      ]
    },
    {
      "cell_type": "code",
      "execution_count": null,
      "metadata": {
        "id": "wz5ty6O1M3oA",
        "outputId": "25dd7c80-971d-431f-b51e-d92a3858c701"
      },
      "outputs": [
        {
          "name": "stdout",
          "output_type": "stream",
          "text": [
            "82\n"
          ]
        }
      ],
      "source": [
        "\n",
        "random.seed(42) # Same numbers every time with the same seed\n",
        "print(random.randint(1, 100)) # Gets the same number every time"
      ]
    },
    {
      "cell_type": "code",
      "execution_count": null,
      "metadata": {
        "id": "jmAh_qthM3oA",
        "outputId": "2887f9e5-7115-4ff2-a3a3-1416070de4eb"
      },
      "outputs": [
        {
          "name": "stdout",
          "output_type": "stream",
          "text": [
            "The number you entered is 0. Increase guess\n",
            "The number you entered is 15. Increase guess\n",
            "The number you entered is 22. Increase guess\n",
            "The number you entered is 5. Increase guess\n",
            "The number you entered is 6. Increase guess\n",
            "The number you entered is 8. Increase guess\n",
            "The number you entered is 9. Increase guess\n",
            "Your 7 rights are over. The number I had in mind was 95\n"
          ]
        }
      ],
      "source": [
        "# The computer picks a random number between 1 and 100.\n",
        "# The user is asked to guess this number.\n",
        "# The user guesses, and the computer evaluates the user's guess and gives one of the following feedback:\n",
        "# If the guessed number is correct:\n",
        "# \"The number you entered is correct. You guessed it X times. Congratulations.\"\n",
        "# If the guessed number is large:\n",
        "# \"The number you entered is X. Decrease your guess.\"\n",
        "# If the guessed number is small:\n",
        "# \"The number you entered is X. Increase your guess.\"\n",
        "# The user is given a total of 7 guesses.\n",
        "# If the user uses all 7 guesses and cannot guess correctly:\n",
        "# \"Your 7 guesses are over. The number I had in mind was X\" message is displayed and the game ends.\n",
        "# There is a 2 second cooldown at the beginning of the game.\n",
        "\n",
        "import random\n",
        "import time\n",
        "\n",
        "number_in_my_mind = random.randint(1, 100)\n",
        "\n",
        "counter = 0\n",
        "time.sleep(2)\n",
        "\n",
        "while True:\n",
        "    counter += 1\n",
        "\n",
        "    guess = int(input(\"Guess the number in my mind:\"))\n",
        "\n",
        "    if number_in_my_mind < guess:\n",
        "        print(f\"The number you entered is {guess}. Decrease guess\")\n",
        "\n",
        "    elif number_in_my_mind > guess:\n",
        "        print(f\"The number you entered is {guess}. Increase guess\")\n",
        "\n",
        "    else:\n",
        "        print(f\"The number you entered is {guess}. You guessed it {counter} times. Congratulations.\")\n",
        "        break\n",
        "\n",
        "    if counter == 7:\n",
        "        print(f\"Your 7 rights are over. The number I had in mind was {number_in_my_mind}\")\n",
        "        break"
      ]
    },
    {
      "cell_type": "code",
      "execution_count": null,
      "metadata": {
        "id": "t6bSWOSgM3oA",
        "outputId": "73d5332e-7ad2-4895-8ffe-fbdfeb077689"
      },
      "outputs": [
        {
          "name": "stdout",
          "output_type": "stream",
          "text": [
            "Try to guess the number in my mind! The number is between 1 and 100.\n",
            "Please increase your guess!\n",
            "Please increase your guess!\n",
            "Please increase your guess!\n",
            "Please lower your estimate!\n",
            "Please lower your estimate!\n",
            "Please lower your estimate!\n",
            "You couldn't find the number I had in mind within the 7 attempts given to you. The number I had in mind was 36.\n"
          ]
        }
      ],
      "source": [
        "# My other solution:\n",
        "\n",
        "import time\n",
        "import random\n",
        "\n",
        "# Determine the computer's secret number\n",
        "computer_number = random.randint(1, 100)\n",
        "\n",
        "# Initialize the guess counter\n",
        "counter = 0\n",
        "\n",
        "# Short delay before starting\n",
        "time.sleep(2)\n",
        "\n",
        "print(\"Try to guess the number in my mind! The number is between 1 and 100.\")\n",
        "\n",
        "# Guessing loop\n",
        "while True:\n",
        "    try:\n",
        "        # Get the user's guess\n",
        "        user_guess = int(input('Guess the number in my mind: '))\n",
        "\n",
        "        # Increase the guess counter\n",
        "        counter += 1\n",
        "\n",
        "        # Check the guess limit\n",
        "        if counter == 7:\n",
        "            print(f\"You couldn't find the number I had in mind within the 7 attempts given to you. The number I had in mind was {computer_number}.\")\n",
        "            break\n",
        "\n",
        "        # Check the guess and give a hint to the user\n",
        "        if user_guess < computer_number:\n",
        "            print('Please increase your guess!')\n",
        "        elif user_guess > computer_number:\n",
        "            print('Please lower your estimate!')\n",
        "        else:\n",
        "            # Correct guess\n",
        "            print(f'Congratulations! You guessed it in {counter} attempts! The number I had in mind was {computer_number}.')\n",
        "            break\n",
        "\n",
        "    except ValueError:\n",
        "        print(\"Please enter a valid number.\")\n"
      ]
    },
    {
      "cell_type": "markdown",
      "metadata": {
        "id": "VpnQTZhrM3oB"
      },
      "source": [
        "#### Python For Loops\n",
        "\n",
        "A for loop iterates through the elements of a collection or array.\n",
        "\n",
        "In Python, a for loop is used to iterate over array types such as list, tuple, set, range, etc.\n",
        "\n",
        "The body of a for loop is executed for each member element in the array. Therefore, it does not require an explicit assertion of a boolean expression controlling the loop (as in a while loop)."
      ]
    },
    {
      "cell_type": "code",
      "execution_count": null,
      "metadata": {
        "id": "JI3SrDM-M3oB",
        "outputId": "6f8bd999-6ce1-4d4a-84af-51c79ce790e8"
      },
      "outputs": [
        {
          "name": "stdout",
          "output_type": "stream",
          "text": [
            "apple\n",
            "pear\n",
            "strawberry\n"
          ]
        }
      ],
      "source": [
        "# Example: Printing elements on a list\n",
        "fruits = [\"apple\", \"pear\", \"strawberry\"]\n",
        "for fruit in fruits:\n",
        "    print(fruit)\n"
      ]
    },
    {
      "cell_type": "code",
      "execution_count": null,
      "metadata": {
        "id": "3oQjXMriM3oB",
        "outputId": "9ea82a73-83bb-4329-a275-3e4f3f085af8"
      },
      "outputs": [
        {
          "data": {
            "text/plain": [
              "{'name': 'Alice', 'surname': 'Sun', 'age': 26}"
            ]
          },
          "execution_count": 43,
          "metadata": {},
          "output_type": "execute_result"
        }
      ],
      "source": [
        "dict1 = {\"name\": \"Alice\", \"surname\": \"Sun\", \"age\": 26}\n",
        "dict1"
      ]
    },
    {
      "cell_type": "code",
      "execution_count": null,
      "metadata": {
        "id": "dKIIJnLnM3oB",
        "outputId": "d597f70f-a525-49b7-ee82-853814f450c2"
      },
      "outputs": [
        {
          "name": "stdout",
          "output_type": "stream",
          "text": [
            "name\n",
            "surname\n",
            "age\n"
          ]
        }
      ],
      "source": [
        "# By default, it calls the keys.\n",
        "\n",
        "for i in dict1:\n",
        "    print(i)"
      ]
    },
    {
      "cell_type": "code",
      "execution_count": null,
      "metadata": {
        "id": "YFTVnRMLM3oB",
        "outputId": "81905be7-55c4-4ba1-c0ba-2ac834d841b1"
      },
      "outputs": [
        {
          "name": "stdout",
          "output_type": "stream",
          "text": [
            "Alice\n",
            "Sun\n",
            "26\n"
          ]
        }
      ],
      "source": [
        "for i in dict1.values():\n",
        "    print(i)"
      ]
    },
    {
      "cell_type": "code",
      "execution_count": null,
      "metadata": {
        "id": "ey4BGbL4M3oC",
        "outputId": "d8f6a587-b555-4806-9332-cb95f5f6902d"
      },
      "outputs": [
        {
          "name": "stdout",
          "output_type": "stream",
          "text": [
            "('name', 'Alice')\n",
            "('surname', 'Sun')\n",
            "('age', 26)\n"
          ]
        }
      ],
      "source": [
        "for i in dict1.items():\n",
        "    print(i)"
      ]
    },
    {
      "cell_type": "code",
      "execution_count": null,
      "metadata": {
        "id": "aSB0syvFM3oC",
        "outputId": "f977466d-3312-48d5-d7f8-2c54f594f0da"
      },
      "outputs": [
        {
          "name": "stdout",
          "output_type": "stream",
          "text": [
            "key: name, value: Alice\n",
            "key: surname, value: Sun\n",
            "key: age, value: 26\n"
          ]
        }
      ],
      "source": [
        "for i, j in dict1.items():\n",
        "    print(f\"key: {i}, value: {j}\")"
      ]
    },
    {
      "cell_type": "code",
      "execution_count": null,
      "metadata": {
        "id": "1vjHo2fXM3oC",
        "outputId": "99ab3eb3-cfd4-48c3-e5ea-c29823668c98"
      },
      "outputs": [
        {
          "name": "stdout",
          "output_type": "stream",
          "text": [
            "key: name      , value: Alice\n",
            "key: surname   , value: Sun\n",
            "key: age       , value: 26\n"
          ]
        }
      ],
      "source": [
        "for key, value in dict1.items():\n",
        "    print(f\"key: {key:<10}, value: {value}\")"
      ]
    },
    {
      "cell_type": "code",
      "execution_count": null,
      "metadata": {
        "id": "4zrwAmRiM3oC",
        "outputId": "024c8a15-216c-498c-9bf7-65f73dfd26f0"
      },
      "outputs": [
        {
          "name": "stdout",
          "output_type": "stream",
          "text": [
            "key:       name, value: Alice\n",
            "key:    surname, value: Sun\n",
            "key:        age, value: 26\n"
          ]
        }
      ],
      "source": [
        "for i, j in dict1.items():\n",
        "    print(f\"key: {i:>10}, value: {j}\")"
      ]
    },
    {
      "cell_type": "code",
      "execution_count": null,
      "metadata": {
        "id": "ylvz-ac0M3oD",
        "outputId": "2f0bcde5-6881-4d14-bb82-e18274c35419"
      },
      "outputs": [
        {
          "name": "stdout",
          "output_type": "stream",
          "text": [
            "key:    name   , value: Alice\n",
            "key:  surname  , value: Sun\n",
            "key:    age    , value: 26\n"
          ]
        }
      ],
      "source": [
        "for i, j in dict1.items():\n",
        "    print(f\"key: {i:^10}, value: {j}\")"
      ]
    },
    {
      "cell_type": "markdown",
      "metadata": {
        "id": "9QHMmTE2M3oD"
      },
      "source": [
        "#### Range\n",
        "\n",
        "range(start, stop, step) -> step default is 1.\n",
        "\n",
        "The range function is used to create ranges of numbers with loops.\n"
      ]
    },
    {
      "cell_type": "markdown",
      "metadata": {
        "id": "dtK0MXX-M3oD"
      },
      "source": [
        "The range() function is a function that allows you to navigate between numbers in a certain range. It is usually used in loops (like a for loop). This function allows you to iterate over the numbers in a range with a certain start, end, and step value.\n",
        "\n",
        "The list() function takes the iterable range() object and converts all the numbers in it into a list. A list is a data structure that stores all the numbers in memory. In this way, we need to convert the range() object into a list in order to see the numbers."
      ]
    },
    {
      "cell_type": "code",
      "execution_count": null,
      "metadata": {
        "id": "nVyAgkBDM3oD",
        "outputId": "a7db3dc3-3092-45ac-86e9-a04db5f97379"
      },
      "outputs": [
        {
          "name": "stdout",
          "output_type": "stream",
          "text": [
            "0\n",
            "1\n",
            "2\n",
            "3\n",
            "4\n"
          ]
        }
      ],
      "source": [
        "# Example: Printing numbers from 0 to 4\n",
        "for i in range(5):\n",
        "    print(i)"
      ]
    },
    {
      "cell_type": "code",
      "execution_count": null,
      "metadata": {
        "id": "dhFfB5Q4M3oD",
        "outputId": "50d5156e-8fa4-4cd4-be2a-3b729dff506f"
      },
      "outputs": [
        {
          "name": "stdout",
          "output_type": "stream",
          "text": [
            "2\n",
            "4\n",
            "6\n",
            "8\n",
            "10\n"
          ]
        }
      ],
      "source": [
        "# Example: Printing from 2 to 10 (by 2)\n",
        "for i in range(2, 11, 2):\n",
        "    print(i)"
      ]
    },
    {
      "cell_type": "code",
      "execution_count": null,
      "metadata": {
        "id": "Z3VQ4OvBM3oE",
        "outputId": "d594c7d0-0f40-439f-c07f-0b5988983a2c"
      },
      "outputs": [
        {
          "name": "stdout",
          "output_type": "stream",
          "text": [
            "8 x 1 = 8\n",
            "8 x 2 = 16\n",
            "8 x 3 = 24\n",
            "8 x 4 = 32\n",
            "8 x 5 = 40\n",
            "8 x 6 = 48\n",
            "8 x 7 = 56\n",
            "8 x 8 = 64\n",
            "8 x 9 = 72\n",
            "8 x 10 = 80\n"
          ]
        }
      ],
      "source": [
        "# Ask the user for a number between 1-9. Create the multiplication table for that number.\n",
        "\n",
        "number = int(input(\"Enter a number between 1 and 9 (inclusive):\"))\n",
        "\n",
        "if 1 <= number <= 9:\n",
        "    for i in range(1, 11):\n",
        "        print(f\"{number} x {i} = {number * i}\")\n",
        "\n",
        "else:\n",
        "    print(\"You did not enter a number between 1 and 9.\")"
      ]
    },
    {
      "cell_type": "code",
      "execution_count": null,
      "metadata": {
        "id": "a68IKkl9M3oE",
        "outputId": "cc4e66cf-1727-4dfa-bb8f-e8379e7abf44"
      },
      "outputs": [
        {
          "name": "stdout",
          "output_type": "stream",
          "text": [
            "A\n",
            "i\n",
            "e\n"
          ]
        }
      ],
      "source": [
        "text = input(\"Enter some text:\")\n",
        "vowels = \"aeıioöuüAEIİOÖUÜ\"\n",
        "\n",
        "for char in text:\n",
        "    if char in vowels:\n",
        "        print(char)"
      ]
    },
    {
      "cell_type": "code",
      "execution_count": null,
      "metadata": {
        "id": "XqxPCEy7M3oE",
        "outputId": "3b1779e8-a327-430a-dc4b-b8c68b9de775"
      },
      "outputs": [
        {
          "name": "stdout",
          "output_type": "stream",
          "text": [
            "3 is a prime number.\n"
          ]
        }
      ],
      "source": [
        "# Take a number from the user and check if it is prime.\n",
        "\n",
        "num = int(input(\"Enter a number:\"))\n",
        "\n",
        "if num > 1:\n",
        "    for i in range(2, num):\n",
        "        if num % i == 0:\n",
        "            print(f\"{num} is not a prime number.\")\n",
        "            break\n",
        "    else:\n",
        "        print(f\"{num} is a prime number.\")\n",
        "else:\n",
        "    print(f\"{num} is not a prime number.\")"
      ]
    },
    {
      "cell_type": "code",
      "execution_count": null,
      "metadata": {
        "id": "kyIlo8bDM3oE"
      },
      "outputs": [],
      "source": [
        "# Find the sum of the digits of a number\n",
        "# Take a number from the user and write a Python program that finds the sum of the digits of that number."
      ]
    },
    {
      "cell_type": "code",
      "execution_count": null,
      "metadata": {
        "id": "oMY31hlRM3oE",
        "outputId": "793f3bd1-c4b1-4b1a-bf44-ba4562f6756e"
      },
      "outputs": [
        {
          "name": "stdout",
          "output_type": "stream",
          "text": [
            "The number you entered: 345 digits total 12\n"
          ]
        }
      ],
      "source": [
        "# 1. SOLUTION METHOD:\n",
        "\n",
        "num = input('Please enter a number')\n",
        "total = 0\n",
        "\n",
        "if num.isnumeric():\n",
        "\n",
        "    for i in num: #'345'\n",
        "        total += int(i)\n",
        "\n",
        "    print(f'The number you entered: {num} digits total {total}')\n",
        "\n",
        "else:\n",
        "    print('The value you give must be numeric.')"
      ]
    },
    {
      "cell_type": "code",
      "execution_count": null,
      "metadata": {
        "id": "orJLq7-wM3oF",
        "outputId": "9453cfd4-0ae8-4e01-993e-a294f4bdb02b"
      },
      "outputs": [
        {
          "name": "stdout",
          "output_type": "stream",
          "text": [
            "num: 21 total: 3\n"
          ]
        }
      ],
      "source": [
        "# 2. SOLUTION METHOD:\n",
        "\n",
        "num = input('Please enter a number')\n",
        "total = 0\n",
        "x = 0 # We use x as index.\n",
        "\n",
        "if num.isnumeric():\n",
        "\n",
        "    while x < len(num):\n",
        "        total += int(num[x])\n",
        "        x += 1\n",
        "\n",
        "    print(f'num: {num} total: {total}')\n",
        "\n",
        "else:\n",
        "    print('The value you provide must be numeric.')"
      ]
    },
    {
      "cell_type": "code",
      "execution_count": null,
      "metadata": {
        "id": "1Sr3F0tyM3oF",
        "outputId": "89c4826b-314e-4027-c797-f768510a60b7"
      },
      "outputs": [
        {
          "name": "stdout",
          "output_type": "stream",
          "text": [
            "num: 15 total: 6\n"
          ]
        }
      ],
      "source": [
        "# 3. SOLUTION METHOD:\n",
        "\n",
        "num = input('Please enter a number')\n",
        "total = 0\n",
        "nums = []\n",
        "x = 0 # We use x as index.\n",
        "\n",
        "if num.isnumeric():\n",
        "\n",
        "    while x < len(num):\n",
        "        nums.append(int(num[x])) # We converted the elements to integers and added them to the list one by one.\n",
        "        x += 1\n",
        "\n",
        "    total = sum(nums)  # The sum function adds the elements of the list and returns them.\n",
        "\n",
        "    print(f'num: {num} total: {total}')\n",
        "\n",
        "else:\n",
        "    print('The value you provide must be numeric.')"
      ]
    },
    {
      "cell_type": "code",
      "execution_count": null,
      "metadata": {
        "id": "dYiunTfdM3oF",
        "outputId": "f1792ccd-c3d0-455c-d192-f9a9acd9adf1"
      },
      "outputs": [
        {
          "data": {
            "text/plain": [
              "242"
            ]
          },
          "execution_count": 60,
          "metadata": {},
          "output_type": "execute_result"
        }
      ],
      "source": [
        "# Returns the sum of the elements.\n",
        "\n",
        "a = [2, 3, 4, 5, 6, 8, 45, 12, 68, 89]\n",
        "sum(a)"
      ]
    },
    {
      "cell_type": "code",
      "execution_count": null,
      "metadata": {
        "id": "YmP4Qr1GM3oF",
        "outputId": "d6b174c1-881d-474f-becb-71e54d9a3a7b"
      },
      "outputs": [
        {
          "name": "stdout",
          "output_type": "stream",
          "text": [
            "total 6\n"
          ]
        }
      ],
      "source": [
        "# 4. SOLUTION METHOD:\n",
        "\n",
        "num = input('Please enter a number')\n",
        "total = 0\n",
        "\n",
        "if num.isnumeric():\n",
        "    num = int(num)\n",
        "\n",
        "    while num > 0:\n",
        "        total += num % 10\n",
        "        num //= 10 # We used // to get the integer result.\n",
        "\n",
        "    print(f'total {total}')\n",
        "\n",
        "else:\n",
        "    print('The value you provide must be numeric.')"
      ]
    },
    {
      "cell_type": "code",
      "execution_count": null,
      "metadata": {
        "id": "e-VZAdobM3oF",
        "outputId": "4bf21a93-97dd-4761-895b-e97062389cbf"
      },
      "outputs": [
        {
          "data": {
            "text/plain": [
              "{'Apple': 5}"
            ]
          },
          "execution_count": 62,
          "metadata": {},
          "output_type": "execute_result"
        }
      ],
      "source": [
        "# To better understand the following question, we need to know the following feature of dicts for adding elements:\n",
        "\n",
        "fruits = {}\n",
        "\n",
        "fruits['Apple'] = 5\n",
        "\n",
        "fruits"
      ]
    },
    {
      "cell_type": "code",
      "execution_count": null,
      "metadata": {
        "id": "wSaEWrnoM3oG",
        "outputId": "be9302f4-63e5-4b0d-8dd4-4cf59710f583"
      },
      "outputs": [
        {
          "name": "stdout",
          "output_type": "stream",
          "text": [
            "Sea name: Mediterranean       , temperature:    17, status:         Calm        \n",
            "Sea name: Aegean Sea          , temperature:    14, status:        Stormy       \n",
            "Sea name: Black Sea           , temperature:    13, status:        Stormy       \n",
            "Sea name: Marmara Sea         , temperature:    27, status:         Calm        \n",
            "Sea name: Adriatic Sea        , temperature:    28, status:         Wavy        \n"
          ]
        }
      ],
      "source": [
        "# Sea Temperature Forecast\n",
        "# Create a list of seas.\n",
        "# seas = ['Mediterranean Sea', 'Aegean Sea', 'Black Sea', 'Marmara Sea', 'Adriatic Sea']\n",
        "# conditions = ['Calm', 'Waves', 'Stormy']\n",
        "# For each sea, choose a random temperature value (between 10°C and 30°C) and condition (calm, wavy, stormy).\n",
        "# Store the temperatures and sea conditions in a dictionary. Adjust the widths to make them visually pleasing.\n",
        "# {mediterranean = {temperature = 25, status = calm}, black sea = {}}\n",
        "\n",
        "import random\n",
        "sea_list = ['Mediterranean', 'Aegean Sea', 'Black Sea', 'Marmara Sea', 'Adriatic Sea']\n",
        "forecast = ['Calm', 'Wavy', 'Stormy']\n",
        "\n",
        "sea_dict = {} # dict\n",
        "\n",
        "for sea in sea_list:\n",
        "\n",
        "    sea_dict[sea] = {'temperature': random.randint(10, 30), 'status' : random.choice(forecast) } # because it is nested\n",
        "\n",
        "for sea, information in sea_dict.items():\n",
        "\n",
        "    print(f\"Sea name: {sea:<20}, temperature: {information['temperature']:>5}, status: {information['status']:^20}\")\n",
        "\n",
        "# :< align left\n",
        "# :> align right\n",
        "# :^ center"
      ]
    },
    {
      "cell_type": "code",
      "execution_count": null,
      "metadata": {
        "id": "bDNu-AklM3oG",
        "outputId": "3225c7c2-701c-421f-be37-c9a115887353"
      },
      "outputs": [
        {
          "name": "stdout",
          "output_type": "stream",
          "text": [
            "Sea:  Mediterranean   | condition:   Calm    | temperature:  23  \n",
            "Sea:    Aegean Sea    | condition:   Wavy    | temperature:  18  \n",
            "Sea:    Black Sea     | condition:   Calm    | temperature:  16  \n",
            "Sea:   Marmara Sea    | condition:   Wavy    | temperature:  13  \n",
            "Sea:   Adriatic Sea   | condition:   Calm    | temperature:  22  \n"
          ]
        }
      ],
      "source": [
        "import random\n",
        "\n",
        "seas = ['Mediterranean', 'Aegean Sea', 'Black Sea', 'Marmara Sea', 'Adriatic Sea']\n",
        "states = ['Calm', 'Wavy', 'Stormy']\n",
        "\n",
        "weather_condition = {}\n",
        "\n",
        "# We can't randomly choose the sea because there may be sea left out in the open.\n",
        "# This comment seems to be a non-sequitur given the code.\n",
        "# The code iterates through each sea in the 'seas' list and assigns a random state and temperature.\n",
        "\n",
        "for sea in seas:\n",
        "    weather_condition[sea] = {'states': random.choice(states), 'temperature': random.randint(10, 30)}\n",
        "\n",
        "# Let's do this to fix the output above:\n",
        "# The sep parameter is only used when multiple arguments are given to the print() function\n",
        "# to put a separator between each argument.\n",
        "# sep does not work when used directly in f-string, because f-string is already given as a single argument to print() function.\n",
        "\n",
        "for i, j in weather_condition.items():\n",
        "    print(f'Sea: {i:^16}', f'condition: {j[\"states\"]:^9}', f'temperature: {j[\"temperature\"]:^5}', sep=\" | \")"
      ]
    },
    {
      "cell_type": "code",
      "execution_count": null,
      "metadata": {
        "id": "3MF-5GK7M3oG",
        "outputId": "5a59710c-8014-4850-cd3e-b17fb53c8749"
      },
      "outputs": [
        {
          "name": "stdout",
          "output_type": "stream",
          "text": [
            "You got it right! The capital of India is New Delhi.\n"
          ]
        }
      ],
      "source": [
        "import random\n",
        "\n",
        "# Countries and their capitals\n",
        "country_capitals = {\n",
        "    'Turkey': 'Ankara',\n",
        "    'France': 'Paris',\n",
        "    'Germany': 'Berlin',\n",
        "    'Italy': 'Rome',\n",
        "    'Spain': 'Madrid',\n",
        "    'Portugal': 'Lisbon',\n",
        "    'Netherlands': 'Amsterdam',\n",
        "    'Belgium': 'Brussels',\n",
        "    'Switzerland': 'Bern',\n",
        "    'Austria': 'Vienna',\n",
        "    'Greece': 'Athens',\n",
        "    'United Kingdom': 'London',\n",
        "    'Sweden': 'Stockholm',\n",
        "    'Norway': 'Oslo',\n",
        "    'Denmark': 'Copenhagen',\n",
        "    'Finland': 'Helsinki',\n",
        "    'Russia': 'Moscow',\n",
        "    'China': 'Beijing',\n",
        "    'Japan': 'Tokyo',\n",
        "    'India': 'New Delhi'\n",
        "}\n",
        "\n",
        "while True:\n",
        "    # Randomly select a country, using tuple instead of list\n",
        "    country, capital = random.choice(tuple(country_capitals.items()))\n",
        "    capital_guess = input(f'Enter the capital of {country}. Press \"e\" to exit: ').strip()\n",
        "\n",
        "    if capital_guess.lower() == 'e':\n",
        "        print('Exiting...')\n",
        "        break\n",
        "    elif capital.lower() == capital_guess.lower():\n",
        "        print(f'You got it right! The capital of {country} is {capital}.')\n",
        "        break\n",
        "    else:\n",
        "        print('Try again.')"
      ]
    },
    {
      "cell_type": "code",
      "execution_count": null,
      "metadata": {
        "id": "EWXW33poM3oG",
        "outputId": "9e612c13-3a01-470d-e21d-f7125c394db3"
      },
      "outputs": [
        {
          "name": "stdout",
          "output_type": "stream",
          "text": [
            "0 1 1 2 3 5 8 13 21 34 55 89 "
          ]
        }
      ],
      "source": [
        "# Take a number from the user and generate that number of Fibonacci sequences.\n",
        "\n",
        "n = int(input(\"How many terms of Fibonacci series do you want?:\"))\n",
        "a, b = 0, 1\n",
        "\n",
        "for i in range(n):\n",
        "    print(a , end=\" \")\n",
        "    a, b = b, a + b"
      ]
    },
    {
      "cell_type": "code",
      "execution_count": null,
      "metadata": {
        "id": "W8vRhMuzM3oH",
        "outputId": "e1e8ae02-062d-410f-b5c0-4380de3ea18f"
      },
      "outputs": [
        {
          "name": "stdout",
          "output_type": "stream",
          "text": [
            "21 inverse of the number: 12\n"
          ]
        }
      ],
      "source": [
        "# Take a number from the user and reverse the number.\n",
        "\n",
        "num = input(\"Enter a number:\")\n",
        "reversed_num = \"\"\n",
        "\n",
        "for digit in num:\n",
        "    reversed_num = digit + reversed_num\n",
        "\n",
        "print(f\"{num} inverse of the number: {reversed_num}\")"
      ]
    },
    {
      "cell_type": "markdown",
      "metadata": {
        "id": "SLgFGlm7M3oH"
      },
      "source": [
        "#### Break ve Continue\n",
        "\n",
        "Break: Stops the loop completely.\n",
        "Continue: Skips the current loop and moves on to the next step."
      ]
    },
    {
      "cell_type": "code",
      "execution_count": null,
      "metadata": {
        "id": "iiCCEd5SM3oH",
        "outputId": "a0999571-7b35-42f5-c91f-ba11fe9cd730"
      },
      "outputs": [
        {
          "name": "stdout",
          "output_type": "stream",
          "text": [
            "1\n",
            "2\n",
            "4\n",
            "5\n"
          ]
        }
      ],
      "source": [
        "# Example: Skip 3 and print the others\n",
        "for i in range(1, 6):\n",
        "    if i == 3:\n",
        "        continue\n",
        "    print(i)"
      ]
    },
    {
      "cell_type": "markdown",
      "metadata": {
        "id": "rv6wTo_AM3oH"
      },
      "source": [
        "#### Else (Usage in Loops)\n",
        "\n",
        "The else block is activated when the loop is completely executed. If the loop is interrupted with break, else will not execute."
      ]
    },
    {
      "cell_type": "code",
      "execution_count": null,
      "metadata": {
        "id": "ofLvgRJjM3oH",
        "outputId": "1a789641-fb9f-4bdc-b49b-7fe3a6535503"
      },
      "outputs": [
        {
          "name": "stdout",
          "output_type": "stream",
          "text": [
            "1\n",
            "2\n",
            "3\n",
            "4\n",
            "5\n",
            "The cycle is complete!\n"
          ]
        }
      ],
      "source": [
        "# Example: Print numbers up to 5 and give message when loop is finished\n",
        "for i in range(1, 6):\n",
        "    print(i)\n",
        "else:\n",
        "    print(\"The cycle is complete!\")"
      ]
    },
    {
      "cell_type": "markdown",
      "metadata": {
        "id": "OJL7qRprM3oH"
      },
      "source": [
        "#### Nested for Loop\n",
        "\n",
        "Nested loops allow a loop to be run inside another loop. They are often used for tables or multi-dimensional operations.\n",
        "\n",
        "If a loop (for loop or while loop) contains another loop in its body block, we say that the two loops are nested. If the outer loop is designed to perform m iterations and the inner loop n iterations, the body block of the inner loop will be executed m x n times."
      ]
    },
    {
      "cell_type": "code",
      "execution_count": null,
      "metadata": {
        "id": "2LtGcIJWM3oI",
        "outputId": "2a6a6b05-fb1b-4334-fcef-0de4da2fe894"
      },
      "outputs": [
        {
          "name": "stdout",
          "output_type": "stream",
          "text": [
            "(1, 1) (1, 2) (1, 3) \n",
            "(2, 1) (2, 2) (2, 3) \n",
            "(3, 1) (3, 2) (3, 3) \n"
          ]
        }
      ],
      "source": [
        "# Example: Creating a 2D table\n",
        "for i in range(1, 4): # Rows\n",
        "    for j in range(1, 4): # Columns\n",
        "        print(f\"({i}, {j})\", end=\" \")\n",
        "    print() # Start a new row after each row"
      ]
    },
    {
      "cell_type": "code",
      "execution_count": null,
      "metadata": {
        "id": "8xrH9NP1M3oI",
        "outputId": "1d42c148-0243-4054-f31d-8076541e1dba"
      },
      "outputs": [
        {
          "name": "stdout",
          "output_type": "stream",
          "text": [
            "x: 1, y: 1\n",
            "x: 1, y: 2\n",
            "x: 1, y: 3\n",
            "x: 2, y: 1\n",
            "x: 2, y: 2\n",
            "x: 2, y: 3\n",
            "x: 3, y: 1\n",
            "x: 3, y: 2\n",
            "x: 3, y: 3\n",
            "x: 4, y: 1\n",
            "x: 4, y: 2\n",
            "x: 4, y: 3\n"
          ]
        }
      ],
      "source": [
        "for x in range(1, 5):\n",
        "    for y in range(1, 4):\n",
        "        print(f\"x: {x}, y: {y}\")"
      ]
    },
    {
      "cell_type": "code",
      "execution_count": null,
      "metadata": {
        "id": "MWz6HwKkM3oI",
        "outputId": "8cbe5026-d82d-45ab-a194-7b0a1ebacc95"
      },
      "outputs": [
        {
          "name": "stdout",
          "output_type": "stream",
          "text": [
            "1  x  1 = 1 \n",
            "1  x  2 = 2 \n",
            "1  x  3 = 3 \n",
            "1  x  4 = 4 \n",
            "1  x  5 = 5 \n",
            "1  x  6 = 6 \n",
            "1  x  7 = 7 \n",
            "1  x  8 = 8 \n",
            "1  x  9 = 9 \n",
            "1  x 10 = 10\n",
            "\n",
            "2  x  1 = 2 \n",
            "2  x  2 = 4 \n",
            "2  x  3 = 6 \n",
            "2  x  4 = 8 \n",
            "2  x  5 = 10\n",
            "2  x  6 = 12\n",
            "2  x  7 = 14\n",
            "2  x  8 = 16\n",
            "2  x  9 = 18\n",
            "2  x 10 = 20\n",
            "\n",
            "3  x  1 = 3 \n",
            "3  x  2 = 6 \n",
            "3  x  3 = 9 \n",
            "3  x  4 = 12\n",
            "3  x  5 = 15\n",
            "3  x  6 = 18\n",
            "3  x  7 = 21\n",
            "3  x  8 = 24\n",
            "3  x  9 = 27\n",
            "3  x 10 = 30\n",
            "\n",
            "4  x  1 = 4 \n",
            "4  x  2 = 8 \n",
            "4  x  3 = 12\n",
            "4  x  4 = 16\n",
            "4  x  5 = 20\n",
            "4  x  6 = 24\n",
            "4  x  7 = 28\n",
            "4  x  8 = 32\n",
            "4  x  9 = 36\n",
            "4  x 10 = 40\n",
            "\n",
            "5  x  1 = 5 \n",
            "5  x  2 = 10\n",
            "5  x  3 = 15\n",
            "5  x  4 = 20\n",
            "5  x  5 = 25\n",
            "5  x  6 = 30\n",
            "5  x  7 = 35\n",
            "5  x  8 = 40\n",
            "5  x  9 = 45\n",
            "5  x 10 = 50\n",
            "\n",
            "6  x  1 = 6 \n",
            "6  x  2 = 12\n",
            "6  x  3 = 18\n",
            "6  x  4 = 24\n",
            "6  x  5 = 30\n",
            "6  x  6 = 36\n",
            "6  x  7 = 42\n",
            "6  x  8 = 48\n",
            "6  x  9 = 54\n",
            "6  x 10 = 60\n",
            "\n",
            "7  x  1 = 7 \n",
            "7  x  2 = 14\n",
            "7  x  3 = 21\n",
            "7  x  4 = 28\n",
            "7  x  5 = 35\n",
            "7  x  6 = 42\n",
            "7  x  7 = 49\n",
            "7  x  8 = 56\n",
            "7  x  9 = 63\n",
            "7  x 10 = 70\n",
            "\n",
            "8  x  1 = 8 \n",
            "8  x  2 = 16\n",
            "8  x  3 = 24\n",
            "8  x  4 = 32\n",
            "8  x  5 = 40\n",
            "8  x  6 = 48\n",
            "8  x  7 = 56\n",
            "8  x  8 = 64\n",
            "8  x  9 = 72\n",
            "8  x 10 = 80\n",
            "\n",
            "9  x  1 = 9 \n",
            "9  x  2 = 18\n",
            "9  x  3 = 27\n",
            "9  x  4 = 36\n",
            "9  x  5 = 45\n",
            "9  x  6 = 54\n",
            "9  x  7 = 63\n",
            "9  x  8 = 72\n",
            "9  x  9 = 81\n",
            "9  x 10 = 90\n",
            "\n",
            "10 x  1 = 10\n",
            "10 x  2 = 20\n",
            "10 x  3 = 30\n",
            "10 x  4 = 40\n",
            "10 x  5 = 50\n",
            "10 x  6 = 60\n",
            "10 x  7 = 70\n",
            "10 x  8 = 80\n",
            "10 x  9 = 90\n",
            "10 x 10 = 100\n",
            "\n"
          ]
        }
      ],
      "source": [
        "# You want to create a multiplication table.\n",
        "# The multiplication table should contain the products of numbers from 1 to 10.\n",
        "\n",
        "for i in range(1, 11):\n",
        "    for j in range(1, 11):\n",
        "        print(f\"{i:<2} x {j:>2} = {i * j:<2}\")\n",
        "    print()"
      ]
    },
    {
      "cell_type": "code",
      "execution_count": null,
      "metadata": {
        "id": "owE7_d7VM3oI",
        "outputId": "390c085b-61e7-4144-d8cd-70b23225ce37"
      },
      "outputs": [
        {
          "name": "stdout",
          "output_type": "stream",
          "text": [
            "* * * * * \n",
            "* * * * * \n",
            "* * * * * \n",
            "* * * * * \n",
            "* * * * * \n"
          ]
        }
      ],
      "source": [
        "# We want to create a square pattern.\n",
        "\n",
        "size = int(input(\"Enter the size for the square pattern:\"))\n",
        "\n",
        "for i in range(size):\n",
        "    for j in range(size):\n",
        "        print(\"*\", end=\" \")\n",
        "    print()"
      ]
    },
    {
      "cell_type": "code",
      "execution_count": null,
      "metadata": {
        "id": "4W7P0czzM3oI",
        "outputId": "3cdfe344-edc7-48fa-d515-4b390191d3a3"
      },
      "outputs": [
        {
          "name": "stdout",
          "output_type": "stream",
          "text": [
            "* \n",
            "* * \n",
            "* * * \n",
            "* * * * \n",
            "* * * * * \n"
          ]
        }
      ],
      "source": [
        "# Let's do it in a triangle:\n",
        "height = int(input(\"Enter the height for the triangle pattern:\"))\n",
        "\n",
        "for i in range(1, height + 1):\n",
        "    for j in range(i):\n",
        "        print(\"*\", end=\" \")\n",
        "    print()"
      ]
    },
    {
      "cell_type": "markdown",
      "metadata": {
        "id": "3J14i3IPM3oI"
      },
      "source": [
        "**Summary:**\n",
        "\n",
        "- **While Loop:** Works depending on a certain condition.\n",
        "- **For Loop:** Loops through elements in a certain collection in order.\n",
        "- **Range:** Creates numerical ranges.\n",
        "- **Break:** Stops the loop.\n",
        "- **Continue:** Skips the current step of the loop.\n",
        "- **Else:** Comes into effect when the loop is completely executed.\n",
        "- **Nested Loops:** Allows loops to be run within loops."
      ]
    },
    {
      "cell_type": "markdown",
      "metadata": {
        "id": "Dm4nstmmM3oJ"
      },
      "source": [
        "### Python - Functions (Basics and Parameters)\n",
        "\n",
        "Functions allow you to make your code reusable. In Python, a function is defined with the def keyword. It also prevents code repetition and reduces the possibility of errors.\n",
        "\n",
        "Creating Functions and Related Terminology\n",
        "\n",
        "    Function Definition: The def keyword is used to define a function.\n",
        "    Function Name: The name used to call the function.\n",
        "    Parameters: The inputs that the function receives. They are specified in parentheses.\n",
        "    Function Body: The block of code that the function executes. It is written indented.\n",
        "    Return Value: The value returned by the function as a result, specified with the return keyword."
      ]
    },
    {
      "cell_type": "code",
      "execution_count": null,
      "metadata": {
        "id": "Eo2YYEGNM3oJ",
        "outputId": "61f79779-4444-4bfc-9574-60a9a0aad515"
      },
      "outputs": [
        {
          "name": "stdout",
          "output_type": "stream",
          "text": [
            "Hello!\n"
          ]
        }
      ],
      "source": [
        "def function():\n",
        "    print(\"Hello!\")\n",
        "\n",
        "function()\n"
      ]
    },
    {
      "cell_type": "code",
      "execution_count": null,
      "metadata": {
        "id": "Kj_J7vjFM3oJ"
      },
      "outputs": [],
      "source": [
        "def square_calculate(number):\n",
        "    \"\"\" We write docstring for function definition\n",
        "    This function calculates the square of the given number.\n",
        "\n",
        "    Parameters:\n",
        "    number (int, float): The number to be squared.\n",
        "\n",
        "    Return:\n",
        "    int, float: The square of the number.\n",
        "    \"\"\"\n",
        "    # indentation is the indentation required for the function to work\n",
        "    square = number ** 2 # body of the function return square # return(return value) produces value\n",
        "    return square"
      ]
    },
    {
      "cell_type": "code",
      "execution_count": null,
      "metadata": {
        "id": "EY4-G9NnM3oJ",
        "outputId": "60471c68-8a4e-482b-b252-708cae8f2430"
      },
      "outputs": [
        {
          "name": "stdout",
          "output_type": "stream",
          "text": [
            "49\n"
          ]
        }
      ],
      "source": [
        "# we will call the function\n",
        "\n",
        "print(square_calculate(7)) # (number: Any) -> Any number (int, float): The number to be squared. This function calculates the square of the given number. Parameters: number (int, float): The number to be squared. Return: int, float: The square of the number."
      ]
    },
    {
      "cell_type": "code",
      "execution_count": null,
      "metadata": {
        "id": "kxZIINoaM3oJ"
      },
      "outputs": [],
      "source": [
        "def greet():\n",
        "    \"\"\"This function displays'Hello World!'\"\"\" ## These are help sentences that explain what a function does and how it should be used.\n",
        "    print(\"Hello World!\")"
      ]
    },
    {
      "cell_type": "code",
      "execution_count": null,
      "metadata": {
        "id": "BNtWUp-oM3oJ",
        "outputId": "e632d004-4e2f-4120-931e-e75911f95d3f"
      },
      "outputs": [
        {
          "name": "stdout",
          "output_type": "stream",
          "text": [
            "Hello World!\n"
          ]
        }
      ],
      "source": [
        "greet() # It came directly because it was defined. We defined print above."
      ]
    },
    {
      "cell_type": "code",
      "execution_count": null,
      "metadata": {
        "id": "JFhUYAGUM3oJ",
        "outputId": "3109e534-8c27-47cc-80a8-b783045aa790"
      },
      "outputs": [
        {
          "name": "stdout",
          "output_type": "stream",
          "text": [
            "Hello World!\n",
            "None\n"
          ]
        }
      ],
      "source": [
        "# if return value is not defined in the function it returns none\n",
        "print(greet()) # defines a function and returns none if return is not used. code is not faulty."
      ]
    },
    {
      "cell_type": "code",
      "execution_count": null,
      "metadata": {
        "id": "WIPaXWLvM3oK"
      },
      "outputs": [],
      "source": [
        "def sum_of_squares(x, y):\n",
        "    print(x ** 2 + y ** 2)"
      ]
    },
    {
      "cell_type": "code",
      "execution_count": null,
      "metadata": {
        "id": "kRaa2uI_M3oK",
        "outputId": "fb864372-ae94-4743-9a07-bfe572634a18"
      },
      "outputs": [
        {
          "name": "stdout",
          "output_type": "stream",
          "text": [
            "25\n"
          ]
        }
      ],
      "source": [
        "sum_of_squares(3,4)"
      ]
    },
    {
      "cell_type": "code",
      "execution_count": null,
      "metadata": {
        "id": "YWZqGpEVM3oK",
        "outputId": "b3f661c4-4620-4541-ff7b-4ba3e6d73eb6"
      },
      "outputs": [
        {
          "name": "stdout",
          "output_type": "stream",
          "text": [
            "25\n",
            "None\n"
          ]
        }
      ],
      "source": [
        "print(sum_of_squares(3,4)) # return is not defined so none is output"
      ]
    },
    {
      "cell_type": "code",
      "execution_count": null,
      "metadata": {
        "id": "XIevSJ8NM3oK",
        "outputId": "b638319c-3556-4f6b-fe0f-1c2307d1d5fe"
      },
      "outputs": [
        {
          "data": {
            "text/plain": [
              "<function print(*args, sep=' ', end='\\n', file=None, flush=False)>"
            ]
          },
          "execution_count": 100,
          "metadata": {},
          "output_type": "execute_result"
        }
      ],
      "source": [
        "print"
      ]
    },
    {
      "cell_type": "code",
      "execution_count": null,
      "metadata": {
        "id": "wwxnfTOYM3oK",
        "outputId": "47ae5153-a123-44a2-bc36-fd92fa403ba6"
      },
      "outputs": [
        {
          "data": {
            "text/plain": [
              "<function __main__.sum_of_squares(x, y)>"
            ]
          },
          "execution_count": 101,
          "metadata": {},
          "output_type": "execute_result"
        }
      ],
      "source": [
        "sum_of_squares"
      ]
    },
    {
      "cell_type": "code",
      "execution_count": null,
      "metadata": {
        "id": "6IuHFzeBM3oK",
        "outputId": "cb17b701-cd58-4739-c8c5-7c8a257906ba"
      },
      "outputs": [
        {
          "name": "stdout",
          "output_type": "stream",
          "text": [
            "29\n"
          ]
        }
      ],
      "source": [
        "sum_of_squares(5,2) # we did not define the 2nd value in the function"
      ]
    },
    {
      "cell_type": "code",
      "execution_count": null,
      "metadata": {
        "id": "XnZJtPxvM3oL"
      },
      "outputs": [],
      "source": [
        "def sum_of_squares2(x, y):\n",
        "\n",
        "    \"\"\"This function squares two numbers and adds them\"\"\"\n",
        "\n",
        "    print(x ** 2 + y ** 2)"
      ]
    },
    {
      "cell_type": "code",
      "execution_count": null,
      "metadata": {
        "id": "Vsye3RbPM3oL",
        "outputId": "b6993655-443b-40a9-fc7f-718fa75337f4"
      },
      "outputs": [
        {
          "name": "stdout",
          "output_type": "stream",
          "text": [
            "Help on function sum_of_squares2 in module __main__:\n",
            "\n",
            "sum_of_squares2(x, y)\n",
            "    This function squares two numbers and adds them\n",
            "\n"
          ]
        }
      ],
      "source": [
        "help(sum_of_squares2)"
      ]
    },
    {
      "cell_type": "code",
      "execution_count": null,
      "metadata": {
        "id": "P1Dl6vZVM3oL",
        "outputId": "8c79539e-77e6-4fdf-d43f-1b3a63f5cbbf"
      },
      "outputs": [
        {
          "name": "stdout",
          "output_type": "stream",
          "text": [
            "Help on built-in function print in module builtins:\n",
            "\n",
            "print(*args, sep=' ', end='\\n', file=None, flush=False)\n",
            "    Prints the values to a stream, or to sys.stdout by default.\n",
            "\n",
            "    sep\n",
            "      string inserted between values, default a space.\n",
            "    end\n",
            "      string appended after the last value, default a newline.\n",
            "    file\n",
            "      a file-like object (stream); defaults to the current sys.stdout.\n",
            "    flush\n",
            "      whether to forcibly flush the stream.\n",
            "\n"
          ]
        }
      ],
      "source": [
        "help(print)"
      ]
    },
    {
      "cell_type": "code",
      "execution_count": null,
      "metadata": {
        "id": "4rihuTnaM3oL"
      },
      "outputs": [],
      "source": [
        "def sum_of_squares3(a, b):\n",
        "  \"\"\"\n",
        "  Calculates the sum of the squares of two numbers.\n",
        "\n",
        "  Args:\n",
        "    a: The first number.\n",
        "    b: The second number.\n",
        "\n",
        "  Returns:\n",
        "    The sum of the squares of a and b.\n",
        "  \"\"\"\n",
        "  sum_sq = a**2 + b**2\n",
        "  return sum_sq  # The function now returns the calculated value"
      ]
    },
    {
      "cell_type": "code",
      "execution_count": null,
      "metadata": {
        "id": "IcLCeJr1M3oL",
        "outputId": "82a10d31-b3a3-4834-bbf8-5b8838762699"
      },
      "outputs": [
        {
          "name": "stdout",
          "output_type": "stream",
          "text": [
            "Help on function sum_of_squares3 in module __main__:\n",
            "\n",
            "sum_of_squares3(a, b)\n",
            "    Calculates the sum of the squares of two numbers.\n",
            "\n",
            "    Args:\n",
            "      a: The first number.\n",
            "      b: The second number.\n",
            "\n",
            "    Returns:\n",
            "      The sum of the squares of a and b.\n",
            "\n"
          ]
        }
      ],
      "source": [
        "help(sum_of_squares3) # help is not displayed because the docstring is written below"
      ]
    },
    {
      "cell_type": "code",
      "execution_count": null,
      "metadata": {
        "id": "mIAvjzTVM3oL",
        "outputId": "7de6e676-a880-44f5-e6fe-1e7af57f763c"
      },
      "outputs": [
        {
          "name": "stdout",
          "output_type": "stream",
          "text": [
            "41\n"
          ]
        }
      ],
      "source": [
        "sum_of_squares2(4,5) #only shows the result. Since there is no such value as return, print gives the result only once."
      ]
    },
    {
      "cell_type": "code",
      "execution_count": null,
      "metadata": {
        "id": "tYC9T0ZyM3oM",
        "outputId": "d8f309a2-7031-49e9-8ab7-5d7e6d5147e0"
      },
      "outputs": [
        {
          "data": {
            "text/plain": [
              "46"
            ]
          },
          "execution_count": 116,
          "metadata": {},
          "output_type": "execute_result"
        }
      ],
      "source": [
        "5 + sum_of_squares3(4,5) # none value is produced no return value\n",
        "#If the function only prints the result (print) we cannot use this print result in a process. If there is a return value in the function we can use it in the process"
      ]
    },
    {
      "cell_type": "code",
      "execution_count": null,
      "metadata": {
        "id": "1UR3DPqOM3oM"
      },
      "outputs": [],
      "source": [
        "def sum_of_squares4(x, y):\n",
        "\n",
        "    \"\"\"This function squares two numbers and adds them\"\"\"\n",
        "\n",
        "    return(x ** 2 + y ** 2)"
      ]
    },
    {
      "cell_type": "code",
      "execution_count": null,
      "metadata": {
        "id": "1f4FQra1M3oM",
        "outputId": "4ef28b58-0502-4ea5-ba19-cad3207f5514"
      },
      "outputs": [
        {
          "data": {
            "text/plain": [
              "25"
            ]
          },
          "execution_count": 118,
          "metadata": {},
          "output_type": "execute_result"
        }
      ],
      "source": [
        "sum_of_squares4(3,4) # shows results"
      ]
    },
    {
      "cell_type": "code",
      "execution_count": null,
      "metadata": {
        "id": "xDL2tkcLM3oM",
        "outputId": "eec53cd7-a305-4c1f-951a-78e9c730207a"
      },
      "outputs": [
        {
          "name": "stdout",
          "output_type": "stream",
          "text": [
            "25\n"
          ]
        }
      ],
      "source": [
        "print(sum_of_squares4(3,4)) #none is not returned because there is a return value"
      ]
    },
    {
      "cell_type": "code",
      "execution_count": null,
      "metadata": {
        "id": "nCFwlySHM3oM"
      },
      "outputs": [],
      "source": [
        "def calculator(num1, opr, num2): # we only want to see results here\n",
        "    if opr == \"+\":\n",
        "        print(num1 + num2)\n",
        "\n",
        "    elif opr == \"-\":\n",
        "        print(num1 - num2)\n",
        "\n",
        "    elif opr == \"x\":\n",
        "        print(num1 * num2)\n",
        "\n",
        "    elif opr == \"/\":\n",
        "        print(num1 / num2)\n",
        "\n",
        "    else:\n",
        "        print(\"Incorrect operator input.\")"
      ]
    },
    {
      "cell_type": "code",
      "execution_count": null,
      "metadata": {
        "id": "_IOlCvRFM3oM",
        "outputId": "366f1046-1730-42a4-a64a-1c023e618fc6"
      },
      "outputs": [
        {
          "name": "stdout",
          "output_type": "stream",
          "text": [
            "20\n"
          ]
        }
      ],
      "source": [
        "calculator(5, \"x\", 4)"
      ]
    },
    {
      "cell_type": "code",
      "execution_count": null,
      "metadata": {
        "id": "yXnebxf1M3oM",
        "outputId": "92776833-4c3b-4b7a-e589-429363e4becc"
      },
      "outputs": [
        {
          "name": "stdout",
          "output_type": "stream",
          "text": [
            "4.0\n"
          ]
        }
      ],
      "source": [
        "calculator(8, \"/\", 2)"
      ]
    },
    {
      "cell_type": "code",
      "execution_count": null,
      "metadata": {
        "id": "rzMPBb9sM3oN",
        "outputId": "4db2fffc-f204-4660-a467-df057a8a0f2a"
      },
      "outputs": [
        {
          "name": "stdout",
          "output_type": "stream",
          "text": [
            "HelloWorld\n"
          ]
        }
      ],
      "source": [
        "calculator(\"Hello\", \"+\", \"World\")"
      ]
    },
    {
      "cell_type": "code",
      "execution_count": null,
      "metadata": {
        "id": "fzMBw7obM3oN",
        "outputId": "f7b55ffa-faac-435c-9017-968973fb139c"
      },
      "outputs": [
        {
          "ename": "TypeError",
          "evalue": "unsupported operand type(s) for -: 'str' and 'str'",
          "output_type": "error",
          "traceback": [
            "\u001b[1;31m---------------------------------------------------------------------------\u001b[0m",
            "\u001b[1;31mTypeError\u001b[0m                                 Traceback (most recent call last)",
            "Cell \u001b[1;32mIn[125], line 1\u001b[0m\n\u001b[1;32m----> 1\u001b[0m \u001b[43mcalculator\u001b[49m\u001b[43m(\u001b[49m\u001b[38;5;124;43m\"\u001b[39;49m\u001b[38;5;124;43mHello\u001b[39;49m\u001b[38;5;124;43m\"\u001b[39;49m\u001b[43m,\u001b[49m\u001b[43m \u001b[49m\u001b[38;5;124;43m\"\u001b[39;49m\u001b[38;5;124;43m-\u001b[39;49m\u001b[38;5;124;43m\"\u001b[39;49m\u001b[43m,\u001b[49m\u001b[43m \u001b[49m\u001b[38;5;124;43m\"\u001b[39;49m\u001b[38;5;124;43mWorld\u001b[39;49m\u001b[38;5;124;43m\"\u001b[39;49m\u001b[43m)\u001b[49m\n",
            "Cell \u001b[1;32mIn[121], line 6\u001b[0m, in \u001b[0;36mcalculator\u001b[1;34m(num1, opr, num2)\u001b[0m\n\u001b[0;32m      3\u001b[0m     \u001b[38;5;28mprint\u001b[39m(num1 \u001b[38;5;241m+\u001b[39m num2)\n\u001b[0;32m      5\u001b[0m \u001b[38;5;28;01melif\u001b[39;00m opr \u001b[38;5;241m==\u001b[39m \u001b[38;5;124m\"\u001b[39m\u001b[38;5;124m-\u001b[39m\u001b[38;5;124m\"\u001b[39m:\n\u001b[1;32m----> 6\u001b[0m     \u001b[38;5;28mprint\u001b[39m(\u001b[43mnum1\u001b[49m\u001b[43m \u001b[49m\u001b[38;5;241;43m-\u001b[39;49m\u001b[43m \u001b[49m\u001b[43mnum2\u001b[49m)\n\u001b[0;32m      8\u001b[0m \u001b[38;5;28;01melif\u001b[39;00m opr \u001b[38;5;241m==\u001b[39m \u001b[38;5;124m\"\u001b[39m\u001b[38;5;124mx\u001b[39m\u001b[38;5;124m\"\u001b[39m:\n\u001b[0;32m      9\u001b[0m     \u001b[38;5;28mprint\u001b[39m(num1 \u001b[38;5;241m*\u001b[39m num2)\n",
            "\u001b[1;31mTypeError\u001b[0m: unsupported operand type(s) for -: 'str' and 'str'"
          ]
        }
      ],
      "source": [
        "calculator(\"Hello\", \"-\", \"World\")"
      ]
    },
    {
      "cell_type": "code",
      "execution_count": null,
      "metadata": {
        "id": "l7kN5lliM3oN",
        "outputId": "8d19d639-1cd6-47c2-e112-dbd855514b77"
      },
      "outputs": [
        {
          "data": {
            "text/plain": [
              "<function len(obj, /)>"
            ]
          },
          "execution_count": 126,
          "metadata": {},
          "output_type": "execute_result"
        }
      ],
      "source": [
        "len"
      ]
    },
    {
      "cell_type": "code",
      "execution_count": 2,
      "metadata": {
        "id": "AG0krdV3M3oN"
      },
      "outputs": [],
      "source": [
        "def my_len(x):\n",
        "\n",
        "    \"\"\"I don't like the len function so I'm writing my own function.\n",
        "    This function returns the length of an iterable\"\"\"\n",
        "\n",
        "    counter1 = 0\n",
        "\n",
        "    for i in x:\n",
        "        counter1 += 1\n",
        "\n",
        "    print(counter1)"
      ]
    },
    {
      "cell_type": "code",
      "execution_count": 3,
      "metadata": {
        "colab": {
          "base_uri": "https://localhost:8080/",
          "height": 263
        },
        "id": "gScGLCNWM3oN",
        "outputId": "2807c74d-974b-4ff1-c402-79ba9d183e69"
      },
      "outputs": [
        {
          "output_type": "error",
          "ename": "TypeError",
          "evalue": "'int' object is not iterable",
          "traceback": [
            "\u001b[0;31m---------------------------------------------------------------------------\u001b[0m",
            "\u001b[0;31mTypeError\u001b[0m                                 Traceback (most recent call last)",
            "\u001b[0;32m<ipython-input-3-d07099022e56>\u001b[0m in \u001b[0;36m<cell line: 0>\u001b[0;34m()\u001b[0m\n\u001b[0;32m----> 1\u001b[0;31m \u001b[0mmy_len\u001b[0m\u001b[0;34m(\u001b[0m\u001b[0;36m125\u001b[0m\u001b[0;34m)\u001b[0m \u001b[0;31m#The object 'int' in parentheses is not iterable\u001b[0m\u001b[0;34m\u001b[0m\u001b[0;34m\u001b[0m\u001b[0m\n\u001b[0m",
            "\u001b[0;32m<ipython-input-2-5c76010dd0c4>\u001b[0m in \u001b[0;36mmy_len\u001b[0;34m(x)\u001b[0m\n\u001b[1;32m      6\u001b[0m     \u001b[0mcounter1\u001b[0m \u001b[0;34m=\u001b[0m \u001b[0;36m0\u001b[0m\u001b[0;34m\u001b[0m\u001b[0;34m\u001b[0m\u001b[0m\n\u001b[1;32m      7\u001b[0m \u001b[0;34m\u001b[0m\u001b[0m\n\u001b[0;32m----> 8\u001b[0;31m     \u001b[0;32mfor\u001b[0m \u001b[0mi\u001b[0m \u001b[0;32min\u001b[0m \u001b[0mx\u001b[0m\u001b[0;34m:\u001b[0m\u001b[0;34m\u001b[0m\u001b[0;34m\u001b[0m\u001b[0m\n\u001b[0m\u001b[1;32m      9\u001b[0m         \u001b[0mcounter1\u001b[0m \u001b[0;34m+=\u001b[0m \u001b[0;36m1\u001b[0m\u001b[0;34m\u001b[0m\u001b[0;34m\u001b[0m\u001b[0m\n\u001b[1;32m     10\u001b[0m \u001b[0;34m\u001b[0m\u001b[0m\n",
            "\u001b[0;31mTypeError\u001b[0m: 'int' object is not iterable"
          ]
        }
      ],
      "source": [
        "my_len(125) #The object 'int' in parentheses is not iterable"
      ]
    },
    {
      "cell_type": "code",
      "execution_count": null,
      "metadata": {
        "id": "GS1_d0s-M3oN",
        "outputId": "8b92e439-afcb-43a0-8a14-31ac8ba298e4"
      },
      "outputs": [
        {
          "name": "stdout",
          "output_type": "stream",
          "text": [
            "5\n"
          ]
        }
      ],
      "source": [
        "my_len(\"hello\")"
      ]
    },
    {
      "cell_type": "code",
      "execution_count": null,
      "metadata": {
        "id": "jQQI8Lo_M3oN",
        "outputId": "6c4c6ff3-ad59-4b01-b00a-cd7a6cd20e07"
      },
      "outputs": [
        {
          "name": "stdout",
          "output_type": "stream",
          "text": [
            "5\n"
          ]
        }
      ],
      "source": [
        "my_len([1, 2, 3, 4, 5])"
      ]
    },
    {
      "cell_type": "markdown",
      "metadata": {
        "id": "fE70Ux9RM3oO"
      },
      "source": [
        "### Python Function Parameters\n",
        "\n",
        "Python functions support the following types of parameters:\n",
        "\n",
        "- Positional Arguments\n",
        "- Keyword Arguments\n",
        "- Default Arguments\n",
        "- Arbitrary Positional Arguments (*args)\n",
        "- Arbitrary Keyword Arguments (**kwargs)\n",
        "- Positional Parameters Only (/)\n",
        "- Keyword Parameters Only (*)"
      ]
    },
    {
      "cell_type": "markdown",
      "metadata": {
        "id": "QVGetXylM3oO"
      },
      "source": [
        "#### Function Parameters in Python\n",
        "\n",
        "Parameters are variables specified in parentheses when a function is defined. These variables represent the inputs the function receives when it is called. Arguments are the actual values ​​passed to these parameters when the function is called.\n",
        "\n",
        "**Difference Between Parameters and Arguments**\n",
        "\n",
        "* Parameters: These are variables specified in the function definition.\n",
        "* Arguments: These are the values ​​given to these parameters when the function is called."
      ]
    },
    {
      "cell_type": "code",
      "execution_count": null,
      "metadata": {
        "id": "-D6Qpgs3M3oO",
        "outputId": "b40d8b41-2296-43db-bc6c-0d756979bd0f"
      },
      "outputs": [
        {
          "name": "stdout",
          "output_type": "stream",
          "text": [
            "8\n"
          ]
        }
      ],
      "source": [
        "def add(a,b): #a and b are parameters\n",
        "    return a + b\n",
        "result = add(3,5) # 3 and 5 are arguments\n",
        "print(result)"
      ]
    },
    {
      "cell_type": "markdown",
      "metadata": {
        "id": "uJyc4L2RM3oO"
      },
      "source": [
        "### Parameter Types\n",
        "\n",
        "1. Positional Parameters:\n",
        "\n",
        "Positional arguments are arguments that are evaluated in order when passed to a function. That is, the arguments are placed in the order of the parameters specified in the function definition."
      ]
    },
    {
      "cell_type": "code",
      "execution_count": null,
      "metadata": {
        "id": "8yESPm-pM3oO"
      },
      "outputs": [],
      "source": [
        "def hello(name, age):\n",
        "    print(f\"Hello {name}, you are {age} years old.\")"
      ]
    },
    {
      "cell_type": "code",
      "execution_count": null,
      "metadata": {
        "id": "PFrMzjrQM3oO",
        "outputId": "ff6dada6-c517-4827-e944-39ed4dc8101c"
      },
      "outputs": [
        {
          "name": "stdout",
          "output_type": "stream",
          "text": [
            "Hello Rose, you are 29 years old.\n"
          ]
        }
      ],
      "source": [
        "hello(\"Rose\", \"29\")"
      ]
    },
    {
      "cell_type": "code",
      "execution_count": null,
      "metadata": {
        "id": "CbfqegHDM3oO",
        "outputId": "4452bd8a-d5fc-4f3f-97d9-b5dd53a190af"
      },
      "outputs": [
        {
          "name": "stdout",
          "output_type": "stream",
          "text": [
            "Hello 29, you are Rose years old.\n"
          ]
        }
      ],
      "source": [
        "hello(29, \"Rose\") # we will give the values ​​in the same order as the parameters"
      ]
    },
    {
      "cell_type": "code",
      "execution_count": null,
      "metadata": {
        "id": "BXQPg0dZM3oP"
      },
      "outputs": [],
      "source": [
        "def hello(name=\"Visitor\"):\n",
        "    print(f\"Hello {name}!\")"
      ]
    },
    {
      "cell_type": "code",
      "execution_count": null,
      "metadata": {
        "id": "vUPs4vwLM3oP",
        "outputId": "cabb46e2-2b21-44fb-d055-fa09c80d4a58"
      },
      "outputs": [
        {
          "name": "stdout",
          "output_type": "stream",
          "text": [
            "Hello Visitor!\n"
          ]
        }
      ],
      "source": [
        "hello() #came without writing any parameters"
      ]
    },
    {
      "cell_type": "code",
      "execution_count": null,
      "metadata": {
        "id": "1p1FzIshM3oP",
        "outputId": "fb36f3b7-6261-4b53-d62a-c3848652e520"
      },
      "outputs": [
        {
          "name": "stdout",
          "output_type": "stream",
          "text": [
            "Hello Rose!\n"
          ]
        }
      ],
      "source": [
        "hello(\"Rose\")"
      ]
    },
    {
      "cell_type": "markdown",
      "metadata": {
        "id": "WlNsbQltM3oP"
      },
      "source": [
        "3. Keyword Parameters:\n",
        "\n",
        "Keyword arguments are arguments that are evaluated by specifying the parameter names when passing to a function. In this way, regardless of the order of the arguments, it is clearly stated which value corresponds to which parameter.\n",
        "\n",
        "- You can mix the order of the parameters.\n",
        "- Provides more readable code."
      ]
    },
    {
      "cell_type": "code",
      "execution_count": null,
      "metadata": {
        "id": "1Ohcl6PlM3oP"
      },
      "outputs": [],
      "source": [
        "def hello(name, age):\n",
        "    print(f\"Hello {name}, you are {age} years old\")"
      ]
    },
    {
      "cell_type": "code",
      "execution_count": null,
      "metadata": {
        "id": "sKgIZV1_M3oP",
        "outputId": "213704d6-c01b-4f54-b14c-d74a22ee87d7"
      },
      "outputs": [
        {
          "name": "stdout",
          "output_type": "stream",
          "text": [
            "Hello Rose, you are 29 years old\n"
          ]
        }
      ],
      "source": [
        "hello(age=29, name=\"Rose\") # order is unimportant we define each value as we want"
      ]
    },
    {
      "cell_type": "code",
      "execution_count": null,
      "metadata": {
        "id": "RTlimU8TM3oP"
      },
      "outputs": [],
      "source": [
        "def process(a, b, c, d, e):\n",
        "    return a * b + (c / d) - e"
      ]
    },
    {
      "cell_type": "code",
      "execution_count": null,
      "metadata": {
        "id": "RK56wWlaM3oP",
        "outputId": "72a68117-a530-43a4-d7ed-737af1a4e70f"
      },
      "outputs": [
        {
          "data": {
            "text/plain": [
              "2380.76"
            ]
          },
          "execution_count": 142,
          "metadata": {},
          "output_type": "execute_result"
        }
      ],
      "source": [
        "process(e=20 , c=19, a=60, d=25, b=40)"
      ]
    },
    {
      "cell_type": "code",
      "execution_count": null,
      "metadata": {
        "id": "FA_nBU8CM3oQ",
        "outputId": "e8f846ee-64ad-4e56-a244-f06666a9369d"
      },
      "outputs": [
        {
          "name": "stdout",
          "output_type": "stream",
          "text": [
            "Hello, Rose!\n"
          ]
        }
      ],
      "source": [
        "def greet(name, message):\n",
        "    \"\"\"Sends a message to the specified person.\"\"\"\n",
        "    return f\"{message}, {name}!\"\n",
        "\n",
        "# Call\n",
        "print(greet(message=\"Hello\", name=\"Rose\")) # Output: Hello, Ahmet!"
      ]
    },
    {
      "cell_type": "markdown",
      "metadata": {
        "id": "xupS3RhMM3oQ"
      },
      "source": [
        "* Write a function that finds the hypotenuse of a right triangle with two known sides.\n",
        "\n",
        "* Then calculate the perimeter of the triangle"
      ]
    },
    {
      "cell_type": "code",
      "execution_count": null,
      "metadata": {
        "id": "nzrkD3VGM3oQ"
      },
      "outputs": [],
      "source": [
        "def hypo(x, y):\n",
        "\n",
        "    print((x ** 2 + y ** 2) ** 0.5)"
      ]
    },
    {
      "cell_type": "code",
      "execution_count": null,
      "metadata": {
        "id": "KuWdWKrEM3oQ",
        "outputId": "80778dad-bb0e-40d9-89c6-fad014520589"
      },
      "outputs": [
        {
          "name": "stdout",
          "output_type": "stream",
          "text": [
            "5.0\n"
          ]
        }
      ],
      "source": [
        "hypo(3,4)"
      ]
    },
    {
      "cell_type": "markdown",
      "metadata": {
        "id": "8IC-MEA1M3oQ"
      },
      "source": [
        "3. Default Value Parameters\n",
        "Default value parameters use a default value when no value is assigned.\n",
        "\n",
        "- Default parameters must be defined after mandatory parameters"
      ]
    },
    {
      "cell_type": "code",
      "execution_count": 7,
      "metadata": {
        "colab": {
          "base_uri": "https://localhost:8080/"
        },
        "id": "Qs7SsfFaM3oQ",
        "outputId": "d375ab3e-3a94-463c-96bd-7b727943d86a"
      },
      "outputs": [
        {
          "output_type": "stream",
          "name": "stdout",
          "text": [
            "Hello, Ayse!\n",
            "Hello, Ayse!\n"
          ]
        }
      ],
      "source": [
        "def greet(name, message=\"Hello\"):\n",
        "    \"\"\"Greeting with the default message.\"\"\"\n",
        "    return f\"{message}, {name}!\"\n",
        "\n",
        "# Call\n",
        "print(greet(\"Ayse\"))\n",
        "print(greet(\"Ayse\", \"Hello\"))"
      ]
    },
    {
      "cell_type": "markdown",
      "metadata": {
        "id": "v8Jb7D_6M3oQ"
      },
      "source": [
        "4. Arbitrary Number of Positional Arguments (*args)\n",
        "A function can take an arbitrary number of positional arguments.\n",
        "\n",
        "- The parameter name is usually called *args.\n",
        "A tuple is returned."
      ]
    },
    {
      "cell_type": "code",
      "execution_count": 8,
      "metadata": {
        "colab": {
          "base_uri": "https://localhost:8080/"
        },
        "id": "j8svZTqZM3oQ",
        "outputId": "2d353dc4-7bcb-40d7-f9e3-02ab6db9eda9"
      },
      "outputs": [
        {
          "output_type": "stream",
          "name": "stdout",
          "text": [
            "3\n",
            "60\n",
            "75\n",
            "0\n"
          ]
        }
      ],
      "source": [
        "def add_all(*args):\n",
        "  \"\"\"Adds an unlimited number of numbers.\"\"\"\n",
        "  total = 0\n",
        "  for number in args:\n",
        "    total += number\n",
        "  return total\n",
        "\n",
        "print(add_all(1, 2))        # Output: 3\n",
        "print(add_all(10, 20, 30))   # Output: 60\n",
        "print(add_all(5, 10, 15, 20, 25)) # Output: 75\n",
        "print(add_all())             # Output: 0 (If no arguments are given, args is an empty tuple)"
      ]
    },
    {
      "cell_type": "markdown",
      "metadata": {
        "id": "8Jo6tlaNM3oR"
      },
      "source": [
        "5. Arbitrary Number of Keyword Arguments (**kwargs) A function can take an arbitrary number of keyword arguments. The parameter name is usually called **kwargs. A dictionary is returned."
      ]
    },
    {
      "cell_type": "code",
      "execution_count": 9,
      "metadata": {
        "colab": {
          "base_uri": "https://localhost:8080/"
        },
        "id": "RKt-rxHRM3oR",
        "outputId": "7e3a17e3-8655-4a8e-c789-51e7908bf930"
      },
      "outputs": [
        {
          "output_type": "stream",
          "name": "stdout",
          "text": [
            "name: Alice\n",
            "age: 25\n",
            "city: Istanbul\n"
          ]
        }
      ],
      "source": [
        "def display_info(**kwargs):\n",
        "  \"\"\"Prints user information.\"\"\"\n",
        "  for key, value in kwargs.items():\n",
        "    print(f\"{key}: {value}\")\n",
        "\n",
        "display_info(name=\"Alice\", age=25, city=\"Istanbul\")"
      ]
    },
    {
      "cell_type": "markdown",
      "metadata": {
        "id": "lBVS85_SM3oR"
      },
      "source": [
        "6. Positional Parameters Only (/)\n",
        "Parameters specified with / can only be called positionally.\n",
        "\n",
        "- Introduced in Python 3.8.\n",
        "- Cannot be assigned with keyword."
      ]
    },
    {
      "cell_type": "code",
      "execution_count": 10,
      "metadata": {
        "colab": {
          "base_uri": "https://localhost:8080/"
        },
        "id": "LlFS0teMM3oR",
        "outputId": "337ce4ac-5b0d-40da-b2a9-e11574e7ba89"
      },
      "outputs": [
        {
          "output_type": "stream",
          "name": "stdout",
          "text": [
            "5.0\n"
          ]
        }
      ],
      "source": [
        "def divide(a, b, /):\n",
        "  \"\"\"Divides two numbers.\"\"\"\n",
        "  return a / b\n",
        "\n",
        "# Valid\n",
        "print(divide(10, 2))  # Output: 5.0\n",
        "\n",
        "# Invalid\n",
        "# print(divide(a=10, b=2))  # Error: 'a' parameter is positional-only"
      ]
    },
    {
      "cell_type": "markdown",
      "metadata": {
        "id": "OoVebkc0M3oR"
      },
      "source": [
        "7. Keyword Only Parameters (*)\n",
        "Parameters following the * sign can only be called with a keyword.\n",
        "\n",
        "- Provides more readable calls."
      ]
    },
    {
      "cell_type": "code",
      "execution_count": 11,
      "metadata": {
        "colab": {
          "base_uri": "https://localhost:8080/"
        },
        "id": "Rhb6SR25M3oR",
        "outputId": "882b57d2-2d25-46e3-9302-0c91b91f9ad6"
      },
      "outputs": [
        {
          "output_type": "stream",
          "name": "stdout",
          "text": [
            "User Alice registered successfully.\n"
          ]
        }
      ],
      "source": [
        "def register_user(name, *, password):\n",
        "  \"\"\"Registers a user.\"\"\"\n",
        "  return f\"User {name} registered successfully.\"\n",
        "\n",
        "# Valid\n",
        "print(register_user(\"Alice\", password=\"12345\"))  # Output: User Alice registered successfully.\n",
        "\n",
        "# Invalid\n",
        "# print(register_user(\"Ali\", \"12345\"))  # Error: 'password' must be passed as a keyword argumentı"
      ]
    },
    {
      "cell_type": "markdown",
      "metadata": {
        "id": "JgEofDXEM3oS"
      },
      "source": [
        "8. Mixed Uses\n",
        "You can use all parameter types together."
      ]
    },
    {
      "cell_type": "code",
      "execution_count": 12,
      "metadata": {
        "colab": {
          "base_uri": "https://localhost:8080/"
        },
        "id": "I8JVsuoeM3oS",
        "outputId": "c062ed20-2dd2-48c1-cadb-596e951457bb"
      },
      "outputs": [
        {
          "output_type": "stream",
          "name": "stdout",
          "text": [
            "71\n"
          ]
        }
      ],
      "source": [
        "def function(a, b=10, /, c=20, *, d, e=30):\n",
        "  \"\"\"Demonstrates all parameter types.\"\"\"\n",
        "  return a + b + c + d + e\n",
        "\n",
        "\n",
        "print(function(1, 5, d=15))  # Output: 71"
      ]
    },
    {
      "cell_type": "code",
      "execution_count": 13,
      "metadata": {
        "colab": {
          "base_uri": "https://localhost:8080/"
        },
        "id": "DwIc5gvfM3oS",
        "outputId": "93e9d03c-a219-452e-d466-b3300461907c"
      },
      "outputs": [
        {
          "output_type": "stream",
          "name": "stdout",
          "text": [
            "+----------------------+------------+-------------------------------------------------+\n",
            "| Parameter Type       | Symbols    | Usage Type                                      |\n",
            "+======================+============+=================================================+\n",
            "| Positional           | `a, b`     | Ordered and mandatory                           |\n",
            "+----------------------+------------+-------------------------------------------------+\n",
            "| Keyword              | `a=1, b=2` | Matched by name                                 |\n",
            "+----------------------+------------+-------------------------------------------------+\n",
            "| Default Value        | `a=10`     | Assigned a default value                        |\n",
            "+----------------------+------------+-------------------------------------------------+\n",
            "| Arbitrary Positional | `*args`    | Takes unlimited positional arguments as a tuple |\n",
            "+----------------------+------------+-------------------------------------------------+\n",
            "| Arbitrary Keyword    | `**kwargs` | Takes unlimited keyword arguments as a dict     |\n",
            "+----------------------+------------+-------------------------------------------------+\n",
            "| Positional-Only      | `/`        | Must be called by position                      |\n",
            "+----------------------+------------+-------------------------------------------------+\n",
            "| Keyword-Only         | `*`        | Must be called by keyword                       |\n",
            "+----------------------+------------+-------------------------------------------------+\n"
          ]
        }
      ],
      "source": [
        "from tabulate import tabulate\n",
        "\n",
        "# Table data\n",
        "data = [\n",
        "    [\"Positional\", \"`a, b`\", \"Ordered and mandatory\"],\n",
        "    [\"Keyword\", \"`a=1, b=2`\", \"Matched by name\"],\n",
        "    [\"Default Value\", \"`a=10`\", \"Assigned a default value\"],\n",
        "    [\"Arbitrary Positional\", \"`*args`\", \"Takes unlimited positional arguments as a tuple\"],\n",
        "    [\"Arbitrary Keyword\", \"`**kwargs`\", \"Takes unlimited keyword arguments as a dict\"],\n",
        "    [\"Positional-Only\", \"`/`\", \"Must be called by position\"],\n",
        "    [\"Keyword-Only\", \"`*`\", \"Must be called by keyword\"],\n",
        "]\n",
        "\n",
        "# Table headers\n",
        "headers = [\"Parameter Type\", \"Symbols\", \"Usage Type\"]\n",
        "\n",
        "# Create and print the table\n",
        "print(tabulate(data, headers=headers, tablefmt=\"grid\"))\n"
      ]
    },
    {
      "cell_type": "markdown",
      "metadata": {
        "id": "daoP-3zzM3oS"
      },
      "source": [
        "Meaning, this structure called \"lambda function\" is generally used when a function is needed but the function should not have a name. Lambda, unlike other functions, can be used directly without making a definition process.\n",
        "\n",
        "It is a one-shot function"
      ]
    },
    {
      "cell_type": "code",
      "execution_count": 14,
      "metadata": {
        "colab": {
          "base_uri": "https://localhost:8080/"
        },
        "id": "phtd-H6uM3oS",
        "outputId": "39eb27b9-5e7d-4428-fdc0-7f6972b6696a"
      },
      "outputs": [
        {
          "output_type": "stream",
          "name": "stdout",
          "text": [
            "16\n"
          ]
        }
      ],
      "source": [
        "square_me = lambda x: x ** 2\n",
        "print(square_me(4)) # Output: 16"
      ]
    },
    {
      "cell_type": "markdown",
      "metadata": {
        "id": "Teq4dDZVM3oS"
      },
      "source": [
        "##### Filtering in Lambda"
      ]
    },
    {
      "cell_type": "code",
      "execution_count": 15,
      "metadata": {
        "colab": {
          "base_uri": "https://localhost:8080/"
        },
        "id": "GpxGM_1PM3oS",
        "outputId": "69ca2fa9-8a85-4afd-d5e2-20f3385eb82c"
      },
      "outputs": [
        {
          "output_type": "stream",
          "name": "stdout",
          "text": [
            "[1, 3, 5]\n"
          ]
        }
      ],
      "source": [
        "numbers = [1, 2, 3, 4, 5, 6]\n",
        "odd_numbers = list(filter(lambda x: x % 2 == 1, numbers))\n",
        "print(odd_numbers) # Output: [1, 3, 5]"
      ]
    },
    {
      "cell_type": "markdown",
      "metadata": {
        "id": "AnnsKXa4M3oS"
      },
      "source": [
        "What are '**args' and '**kwargs' and What are they used for? Detailed\n",
        "\n",
        "*args and **keywordwargs are used to provide flexibility when defining and calling functions in Python. These two concepts allow a function to take a variable number of arguments.\n",
        "\n",
        "What is **args?**\n",
        "\n",
        "*args allows a function to pass a variable number of positional arguments. By using *args, you do not need to know in advance how many arguments you will pass. The function takes these arguments as a tuple.\n",
        "\n",
        "**Usage Area**\n",
        "\n",
        "*args is useful when you need to pass multiple positional arguments to a function, but you do not know the number of these arguments in advance."
      ]
    },
    {
      "cell_type": "markdown",
      "metadata": {
        "id": "gzcfH12xM3oS"
      },
      "source": [
        "****What is kwargs?**\n",
        "\n",
        "**kwargs allows you to pass a variable number of keyword arguments to a function. By using **kwargs, you don't need to know in advance how many keyword arguments you will pass. The function takes these arguments as a dictionary.\n",
        "\n",
        "**Usage Area**\n",
        "\n",
        "**kwargs is useful when you need to pass multiple keyword arguments to a function, but you don't know the number and names of these arguments in advance."
      ]
    },
    {
      "cell_type": "markdown",
      "metadata": {
        "id": "rJbAZ_HkM3oT"
      },
      "source": [
        "Summary:\n",
        "\n",
        "- *args: Takes an indefinite number of positional arguments.\n",
        "- **kwargs: Takes an indefinite number of key-value pairs."
      ]
    },
    {
      "cell_type": "markdown",
      "metadata": {
        "id": "19QxD3nsM3oT"
      },
      "source": [
        "Args Usage"
      ]
    },
    {
      "cell_type": "code",
      "execution_count": 18,
      "metadata": {
        "colab": {
          "base_uri": "https://localhost:8080/"
        },
        "id": "WSAegXOfM3oT",
        "outputId": "f040d450-a39c-4262-842f-41bb54c4157e"
      },
      "outputs": [
        {
          "output_type": "stream",
          "name": "stdout",
          "text": [
            "6\n",
            "100\n",
            "0\n"
          ]
        }
      ],
      "source": [
        "def sum_all(*args):\n",
        "  \"\"\"Sums all the numbers passed as arguments.\"\"\"\n",
        "  total = 0\n",
        "  for num in args:\n",
        "    total += num\n",
        "  return total\n",
        "\n",
        "print(sum_all(1, 2, 3))       # Output: 6\n",
        "print(sum_all(10, 20, 30, 40)) # Output: 100\n",
        "print(sum_all())              # Output: 0 (args is an empty tuple)"
      ]
    },
    {
      "cell_type": "markdown",
      "metadata": {
        "id": "etAR67dgM3oT"
      },
      "source": [
        "Use of Kwargs"
      ]
    },
    {
      "cell_type": "code",
      "execution_count": 20,
      "metadata": {
        "colab": {
          "base_uri": "https://localhost:8080/"
        },
        "id": "30P2OkIBM3oT",
        "outputId": "69e0ede0-26f9-4db0-ca98-0b666232c995"
      },
      "outputs": [
        {
          "output_type": "stream",
          "name": "stdout",
          "text": [
            "name: Ebru\n",
            "age: 30\n",
            "city: Istanbul\n"
          ]
        }
      ],
      "source": [
        "def info(**kwargs):\n",
        "  \"\"\"Prints the provided information.\"\"\"\n",
        "  for key, value in kwargs.items():\n",
        "    print(f\"{key}: {value}\")\n",
        "\n",
        "info(name=\"Ebru\", age=30, city=\"Istanbul\")"
      ]
    },
    {
      "cell_type": "markdown",
      "metadata": {
        "id": "90c3L0MSM3oT"
      },
      "source": [
        "Using Args and Kwargs Together"
      ]
    },
    {
      "cell_type": "code",
      "execution_count": 21,
      "metadata": {
        "colab": {
          "base_uri": "https://localhost:8080/"
        },
        "id": "9ZXWhUswM3oT",
        "outputId": "8cba278f-bd62-4cb5-8bb8-218ca9a7f837"
      },
      "outputs": [
        {
          "output_type": "stream",
          "name": "stdout",
          "text": [
            "Name: Ayşe\n",
            "Args: (10, 20)\n",
            "Kwargs: {'age': 30, 'city': 'Ankara'}\n"
          ]
        }
      ],
      "source": [
        "def function(name, *args, **kwargs):\n",
        "  \"\"\"Demonstrates the use of *args and **kwargs.\"\"\"\n",
        "  print(f\"Name: {name}\")\n",
        "  print(f\"Args: {args}\")\n",
        "  print(f\"Kwargs: {kwargs}\")\n",
        "\n",
        "function(\"Ayşe\", 10, 20, age=30, city=\"Ankara\")"
      ]
    },
    {
      "cell_type": "markdown",
      "metadata": {
        "id": "kt5x6m4CM3oT"
      },
      "source": [
        "The importance and meaning of the * and ** symbols in Python are used to flexibly handle positional and keyword arguments in functions. Here is the meaning of these symbols and why they are used:\n",
        "\n",
        "***args and **kwargs Symbol Meaning**\n",
        "\n",
        "***args**\n",
        "\n",
        "*args allows the function to take any number of positional arguments. The * symbol indicates that the arguments passed to the function will be collected as a tuple.\n",
        "\n",
        "Single Asterisk (*): Used to capture a series of positional arguments to be passed to the function. The arguments are collected as a tuple.\n",
        "\n",
        "**kwargs\n",
        "\n",
        "**kwargs allows the function to take any number of keyword arguments. The ** symbol indicates that the keyword arguments passed to the function will be collected as a dictionary.\n",
        "\n",
        "Double Asterisk (**): Used to capture a series of keyword arguments to be passed to the function. The arguments are collected as a dictionary.\n",
        "\n",
        "Other Uses of '*' and ** Symbols\n",
        "\n",
        "* The '*' and ** symbols also have uses outside of function definitions:\n",
        "\n",
        "*\n",
        "**Opening Lists and Dictionaries**\n",
        "\n",
        "Opening Lists (*): Opening a list or tuple, passing its elements as individual arguments."
      ]
    },
    {
      "cell_type": "markdown",
      "metadata": {
        "id": "vnqYPttWM3oU"
      },
      "source": [
        "Opening Dictionaries (**): Opening a dictionary, passing keywords as arguments."
      ]
    },
    {
      "cell_type": "code",
      "execution_count": 22,
      "metadata": {
        "colab": {
          "base_uri": "https://localhost:8080/"
        },
        "id": "n2JorOyzM3oU",
        "outputId": "f311ba68-d46e-40ce-c641-d773590194b5"
      },
      "outputs": [
        {
          "output_type": "stream",
          "name": "stdout",
          "text": [
            "Name: Ali, Age: 25, City: Istanbul\n"
          ]
        }
      ],
      "source": [
        "def info(name, age, city):\n",
        "  \"\"\"Prints the provided information.\"\"\"\n",
        "  print(f\"Name: {name}, Age: {age}, City: {city}\")\n",
        "\n",
        "\n",
        "person = {\"name\": \"Ali\", \"age\": 25, \"city\": \"Istanbul\"}\n",
        "\n",
        "info(**person)"
      ]
    },
    {
      "cell_type": "code",
      "execution_count": 23,
      "metadata": {
        "colab": {
          "base_uri": "https://localhost:8080/"
        },
        "id": "N8QNgpbHM3oU",
        "outputId": "3ad4a39d-6981-4f45-aea1-07dce7999e21"
      },
      "outputs": [
        {
          "output_type": "stream",
          "name": "stdout",
          "text": [
            "a: 1\n",
            "b: 2\n",
            "args: (3, 4)\n",
            "c: 10\n",
            "kwargs: {'d': 5, 'e': 6}\n"
          ]
        }
      ],
      "source": [
        "def mixed_function(a, b, *args, c=10, **kwargs):\n",
        "  \"\"\"Demonstrates the use of positional, arbitrary positional, keyword, and arbitrary keyword arguments.\"\"\"\n",
        "  print(f\"a: {a}\")\n",
        "  print(f\"b: {b}\")\n",
        "  print(f\"args: {args}\")\n",
        "  print(f\"c: {c}\")\n",
        "  print(f\"kwargs: {kwargs}\")\n",
        "\n",
        "mixed_function(1, 2, 3, 4, d=5, e=6)"
      ]
    },
    {
      "cell_type": "code",
      "execution_count": 24,
      "metadata": {
        "id": "OR1loj4aM3oU"
      },
      "outputs": [],
      "source": [
        "def odd_numbers(*numbers):\n",
        "  \"\"\"Returns a list of odd numbers from the given arguments.\"\"\"\n",
        "  odds = []\n",
        "\n",
        "  for i in numbers:\n",
        "    if i % 2 != 0:\n",
        "      odds.append(i)\n",
        "\n",
        "  return odds"
      ]
    },
    {
      "cell_type": "code",
      "execution_count": 25,
      "metadata": {
        "colab": {
          "base_uri": "https://localhost:8080/"
        },
        "id": "ChcnkC_dM3oU",
        "outputId": "cf7c0f59-1431-43ed-cd63-86f884bf9a63"
      },
      "outputs": [
        {
          "output_type": "execute_result",
          "data": {
            "text/plain": [
              "[25, 15, 17]"
            ]
          },
          "metadata": {},
          "execution_count": 25
        }
      ],
      "source": [
        "odd_numbers(4, 25, 36, 15, 17)"
      ]
    },
    {
      "cell_type": "code",
      "execution_count": 26,
      "metadata": {
        "colab": {
          "base_uri": "https://localhost:8080/"
        },
        "id": "kE17W6BcM3oU",
        "outputId": "0a6c5482-4515-4f22-c265-fcf611f867f6"
      },
      "outputs": [
        {
          "output_type": "execute_result",
          "data": {
            "text/plain": [
              "[25, 15, 17, 19]"
            ]
          },
          "metadata": {},
          "execution_count": 26
        }
      ],
      "source": [
        "odd_numbers(4, 25, 36, 15, 17, 2 , 6, 4, 19, 18)"
      ]
    },
    {
      "cell_type": "code",
      "execution_count": 27,
      "metadata": {
        "colab": {
          "base_uri": "https://localhost:8080/"
        },
        "id": "Gkbk0YV1M3oU",
        "outputId": "647acc51-ab7a-4adb-d875-2a7cb4c25288"
      },
      "outputs": [
        {
          "output_type": "execute_result",
          "data": {
            "text/plain": [
              "[]"
            ]
          },
          "metadata": {},
          "execution_count": 27
        }
      ],
      "source": [
        "odd_numbers()"
      ]
    },
    {
      "cell_type": "markdown",
      "metadata": {
        "id": "0Q0JwWlqM3oV"
      },
      "source": [
        "Write a function that takes the square of the odd numbers and the double of the even numbers in a given sequence and adds them to another list."
      ]
    },
    {
      "cell_type": "code",
      "execution_count": 28,
      "metadata": {
        "id": "J_VSCGWiM3oV"
      },
      "outputs": [],
      "source": [
        "def transform_numbers(numbers):\n",
        "  \"\"\"Transforms a list of numbers: doubles even numbers and squares odd numbers.\"\"\"\n",
        "  new_list = []\n",
        "\n",
        "  for num in numbers:\n",
        "    if num % 2 == 0:  # If the number is even\n",
        "      new_list.append(num * 2)\n",
        "    else:  # If the number is odd\n",
        "      new_list.append(num ** 2)\n",
        "\n",
        "  return new_list"
      ]
    },
    {
      "cell_type": "code",
      "execution_count": 29,
      "metadata": {
        "colab": {
          "base_uri": "https://localhost:8080/"
        },
        "id": "DNplnb34M3oV",
        "outputId": "8177d284-8f67-4088-8278-3f7dc82b695c"
      },
      "outputs": [
        {
          "output_type": "stream",
          "name": "stdout",
          "text": [
            "[1, 4, 9, 8, 25, 12, 49, 16, 81]\n"
          ]
        }
      ],
      "source": [
        "number_sequence = [1, 2, 3, 4, 5, 6, 7, 8, 9]\n",
        "result = transform_numbers(number_sequence)\n",
        "print(result)"
      ]
    },
    {
      "cell_type": "code",
      "execution_count": 30,
      "metadata": {
        "id": "JlDlIRV3M3oV"
      },
      "outputs": [],
      "source": [
        "def odd_even_transform(*numbers):\n",
        "  \"\"\"Transforms a sequence of numbers: squares odd numbers and doubles even numbers.\"\"\"\n",
        "  result = []\n",
        "\n",
        "  for i in numbers:\n",
        "    if i % 2 != 0:  # If the number is odd\n",
        "      result.append(i ** 2)\n",
        "    else:  # If the number is even\n",
        "      result.append(i * 2)\n",
        "\n",
        "  return result"
      ]
    },
    {
      "cell_type": "code",
      "execution_count": 31,
      "metadata": {
        "colab": {
          "base_uri": "https://localhost:8080/"
        },
        "id": "_65Uz7eUM3oV",
        "outputId": "aa0c6dba-6785-4d1e-bff4-2f882b879cee"
      },
      "outputs": [
        {
          "output_type": "execute_result",
          "data": {
            "text/plain": [
              "[1, 4, 9, 8, 25, 12, 49, 16, 81, 20]"
            ]
          },
          "metadata": {},
          "execution_count": 31
        }
      ],
      "source": [
        "odd_even_transform(1, 2, 3, 4, 5, 6, 7, 8, 9, 10)"
      ]
    },
    {
      "cell_type": "code",
      "execution_count": 32,
      "metadata": {
        "id": "OsUon2FVM3oV"
      },
      "outputs": [],
      "source": [
        "def odd_even_transform_comprehension(*numbers):\n",
        "  \"\"\"Transforms a sequence of numbers: squares odd numbers and doubles even numbers (using list comprehension).\"\"\"\n",
        "  return [i ** 2 if i % 2 != 0 else i * 2 for i in numbers]"
      ]
    },
    {
      "cell_type": "code",
      "execution_count": 33,
      "metadata": {
        "colab": {
          "base_uri": "https://localhost:8080/"
        },
        "id": "UhHav12nM3oV",
        "outputId": "ff79fae8-45d7-40b6-d95d-4e26219e202d"
      },
      "outputs": [
        {
          "output_type": "execute_result",
          "data": {
            "text/plain": [
              "[1, 4, 9, 8, 25, 12, 49, 16, 81]"
            ]
          },
          "metadata": {},
          "execution_count": 33
        }
      ],
      "source": [
        "odd_even_transform_comprehension(*range(1, 10))"
      ]
    },
    {
      "cell_type": "code",
      "execution_count": 34,
      "metadata": {
        "colab": {
          "base_uri": "https://localhost:8080/"
        },
        "id": "OJtNh8_pM3oV",
        "outputId": "f3b2eb75-c202-4788-b1ee-3de16bd041ad"
      },
      "outputs": [
        {
          "output_type": "stream",
          "name": "stdout",
          "text": [
            "h e l l o\n"
          ]
        }
      ],
      "source": [
        "print(*\"hello\")"
      ]
    },
    {
      "cell_type": "code",
      "execution_count": 36,
      "metadata": {
        "colab": {
          "base_uri": "https://localhost:8080/"
        },
        "id": "PwWLCrZIM3oV",
        "outputId": "0dcdcb63-6e8b-40a6-e7af-c66b04fea6f4"
      },
      "outputs": [
        {
          "output_type": "stream",
          "name": "stdout",
          "text": [
            "[81]\n"
          ]
        }
      ],
      "source": [
        "import random\n",
        "\n",
        "def odd_even_transform_comprehension(*numbers):\n",
        "  \"\"\"Transforms a sequence of numbers: squares odd numbers and doubles even numbers (using list comprehension).\"\"\"\n",
        "  return [i ** 2 if i % 2 != 0 else i * 2 for i in numbers]\n",
        "\n",
        "# Generate a single random integer between 1 and 10 (inclusive)\n",
        "random_number = random.randint(1, 10)\n",
        "\n",
        "# Call the function with the unpacked single random number as a positional argument\n",
        "result = odd_even_transform_comprehension(*[random_number])\n",
        "print(result)"
      ]
    },
    {
      "cell_type": "code",
      "execution_count": 38,
      "metadata": {
        "colab": {
          "base_uri": "https://localhost:8080/"
        },
        "id": "-AhtO1PsM3oW",
        "outputId": "cdad5a84-24e8-464a-d4a5-1ba1e0382a6e"
      },
      "outputs": [
        {
          "output_type": "execute_result",
          "data": {
            "text/plain": [
              "[25]"
            ]
          },
          "metadata": {},
          "execution_count": 38
        }
      ],
      "source": [
        "import random\n",
        "odd_even_transform_comprehension(random.randrange(1,10))"
      ]
    },
    {
      "cell_type": "code",
      "execution_count": 39,
      "metadata": {
        "colab": {
          "base_uri": "https://localhost:8080/"
        },
        "id": "vTICyWuSM3oW",
        "outputId": "390b232f-45a8-485e-f9e7-ac0874c6638c"
      },
      "outputs": [
        {
          "output_type": "execute_result",
          "data": {
            "text/plain": [
              "{'name1': 'Alice', 'name2': 'Jake', 'name3': 'Bob'}"
            ]
          },
          "metadata": {},
          "execution_count": 39
        }
      ],
      "source": [
        "dict1 = {\"name1\": \"Alice\", \"name2\": \"Jake\", \"name3\": \"Bob\"}\n",
        "dict1"
      ]
    },
    {
      "cell_type": "code",
      "execution_count": 40,
      "metadata": {
        "id": "eIGSANdhM3oW"
      },
      "outputs": [],
      "source": [
        "def kwargs_function(**kwargs):\n",
        "    for i, j in kwargs.items():\n",
        "        print(f\"key: {i}, value: {j}\")"
      ]
    },
    {
      "cell_type": "code",
      "execution_count": 41,
      "metadata": {
        "colab": {
          "base_uri": "https://localhost:8080/"
        },
        "id": "0JrRBctsM3oW",
        "outputId": "a4a25d3d-667f-4b4f-d71a-bbf8b600d1af"
      },
      "outputs": [
        {
          "output_type": "stream",
          "name": "stdout",
          "text": [
            "key: name1, value: Alice\n",
            "key: name2, value: Jake\n",
            "key: name3, value: Bob\n"
          ]
        }
      ],
      "source": [
        "kwargs_function(**dict1)"
      ]
    },
    {
      "cell_type": "markdown",
      "metadata": {
        "id": "ymOtaIIpM3oW"
      },
      "source": [
        "**lambda Functions**\n",
        "\n",
        "lambda is used to define single-line anonymous functions in Python. It is generally used for short-term operations and does not require the def keyword."
      ]
    },
    {
      "cell_type": "markdown",
      "metadata": {
        "id": "jiJI9_TfM3oW"
      },
      "source": [
        "lambda arg1, arg2, ... : expression"
      ]
    },
    {
      "cell_type": "code",
      "execution_count": 42,
      "metadata": {
        "colab": {
          "base_uri": "https://localhost:8080/"
        },
        "id": "pp8zJ301M3oW",
        "outputId": "c930c04f-ac57-47ff-982f-4db388bd89cd"
      },
      "outputs": [
        {
          "output_type": "stream",
          "name": "stdout",
          "text": [
            "10\n",
            "7\n"
          ]
        }
      ],
      "source": [
        "# Lambda function to multiply a number by two\n",
        "carb = lambda x: x * 2\n",
        "print(carb(5)) # Output: 10\n",
        "\n",
        "# Lambda function to add two numbers\n",
        "sum = lambda a, b: a + b\n",
        "print(sum(3, 4)) # Output: 7"
      ]
    },
    {
      "cell_type": "markdown",
      "metadata": {
        "id": "kw4EwZJ4M3oW"
      },
      "source": [
        "**filter Function**\n",
        "\n",
        "filter is used to filter elements in a dataset that meet a certain condition. The condition is defined by a function."
      ]
    },
    {
      "cell_type": "markdown",
      "metadata": {
        "id": "NGimYBdcM3oW"
      },
      "source": [
        "filter(function, iterable)"
      ]
    },
    {
      "cell_type": "markdown",
      "metadata": {
        "id": "OtaYIAqxM3oX"
      },
      "source": [
        "function: Evaluates each element and if True is returned, the element is kept.\n",
        "\n",
        "iterable: List, tuple, set etc."
      ]
    },
    {
      "cell_type": "code",
      "execution_count": 43,
      "metadata": {
        "colab": {
          "base_uri": "https://localhost:8080/"
        },
        "id": "_Vdk-S2hM3oX",
        "outputId": "fbe970f5-bf87-4a2c-b421-04876120edcb"
      },
      "outputs": [
        {
          "output_type": "stream",
          "name": "stdout",
          "text": [
            "[1, 2, 3]\n"
          ]
        }
      ],
      "source": [
        "# Function to filter positive numbers\n",
        "numbers = [-2, -1, 0, 1, 2, 3]\n",
        "positives = filter(lambda x: x > 0, numbers)\n",
        "print(list(positives)) # Output: [1, 2, 3]"
      ]
    },
    {
      "cell_type": "markdown",
      "metadata": {
        "id": "J9nO1J5VM3oX"
      },
      "source": [
        "**map Function**\n",
        "\n",
        "- map applies a function to each element of an iterable (e.g. list) and returns the results.\n",
        "\n",
        "- function: Applied to transform each element.\n",
        "- iterable: List, tuple, set etc."
      ]
    },
    {
      "cell_type": "markdown",
      "source": [
        "map(function, iterable)"
      ],
      "metadata": {
        "id": "DScJcdGFUyJl"
      }
    },
    {
      "cell_type": "code",
      "execution_count": 45,
      "metadata": {
        "colab": {
          "base_uri": "https://localhost:8080/"
        },
        "id": "P_boVSjyM3oX",
        "outputId": "0b46a347-c7a2-4d92-f9a7-5c97e4ce5bb8"
      },
      "outputs": [
        {
          "output_type": "stream",
          "name": "stdout",
          "text": [
            "[2, 4, 6, 8]\n"
          ]
        }
      ],
      "source": [
        "# Example of multiplying each element of a list by two\n",
        "numbers = [1, 2, 3, 4]\n",
        "product = map(lambda x: x * 2, numbers)\n",
        "print(list(product)) # Output: [2, 4, 6, 8]"
      ]
    },
    {
      "cell_type": "markdown",
      "metadata": {
        "id": "--QsxxeIM3oX"
      },
      "source": [
        "Using All Concepts Together: In the example below, lambda, filter, map and enumerate are used together."
      ]
    },
    {
      "cell_type": "code",
      "execution_count": 47,
      "metadata": {
        "colab": {
          "base_uri": "https://localhost:8080/"
        },
        "id": "aj3driRIM3oX",
        "outputId": "046b78d3-2756-478e-cd20-a92dd2316d9f"
      },
      "outputs": [
        {
          "output_type": "stream",
          "name": "stdout",
          "text": [
            "1. Result: 2\n",
            "2. Result: 4\n",
            "3. Result: 6\n"
          ]
        }
      ],
      "source": [
        "# List of numbers\n",
        "numbers = [-3, -2, -1, 0, 1, 2, 3]\n",
        "\n",
        "# 1. Filter positive numbers\n",
        "positives = filter(lambda x: x > 0, numbers)\n",
        "\n",
        "# 2. Multiply positive numbers by two\n",
        "product = map(lambda x: x * 2, positives)\n",
        "\n",
        "# 3. Print the results with their indexes\n",
        "for index, result in enumerate(product, start=1):\n",
        "  print(f\"{index}. Result: {result}\")\n",
        "# Output:\n",
        "# 1. Result: 2\n",
        "# 2. Result: 4\n",
        "# 3. Result: 6"
      ]
    },
    {
      "cell_type": "markdown",
      "metadata": {
        "id": "256oyKnhM3oY"
      },
      "source": [
        "| Function | Purpose | Usage Example |\n",
        "|--------------|-------------------------------------|--------------------------------------------------------|\n",
        "| lambda | Define a single-line anonymous function | `lambda x: x * 2` |\n",
        "| filter | Filter elements that meet a certain condition | `filter(lambda x: x > 0, [-2, -1, 0, 1])` |\n",
        "| map | Apply a function to all elements | `map(lambda x: x * 2, [1, 2, 3])` |\n",
        "| enumerate | Return the elements of an iterable with their indexes | `enumerate(['apple', 'pear'], start=1)` |"
      ]
    },
    {
      "cell_type": "markdown",
      "metadata": {
        "id": "_72oLxunM3oY"
      },
      "source": [
        "**enumerate Function**\n",
        "\n",
        "enumerate returns the elements in an iterable (e.g. list, tuple) along with their indexes. This is especially useful when accessing the indexes is required during a loop.\n"
      ]
    },
    {
      "cell_type": "markdown",
      "source": [
        "enumerate(iterable, start=0)"
      ],
      "metadata": {
        "id": "kKSNHybgVKUX"
      }
    },
    {
      "cell_type": "markdown",
      "metadata": {
        "id": "0fMOTNx5M3oY"
      },
      "source": [
        "- iterable: A collection such as a list, tuple, set.\n",
        "- start: The starting value of the returned indexes (default: 0)."
      ]
    },
    {
      "cell_type": "code",
      "execution_count": 49,
      "metadata": {
        "colab": {
          "base_uri": "https://localhost:8080/"
        },
        "id": "h4hbDPlFM3oY",
        "outputId": "984b25ec-694d-4584-b3e0-0643a10a29a3"
      },
      "outputs": [
        {
          "output_type": "stream",
          "name": "stdout",
          "text": [
            "0: apple\n",
            "1: pear\n",
            "2: banana\n"
          ]
        }
      ],
      "source": [
        "#Print list with indexes\n",
        "\n",
        "fruits = ['apple', 'pear', 'banana']\n",
        "\n",
        "for index, fruit in enumerate(fruits):\n",
        "  print(f\"{index}: {fruit}\")"
      ]
    },
    {
      "cell_type": "code",
      "execution_count": 50,
      "metadata": {
        "colab": {
          "base_uri": "https://localhost:8080/"
        },
        "id": "je_VXO65M3oY",
        "outputId": "55cf44a8-697e-4ba3-e280-08864fc49234"
      },
      "outputs": [
        {
          "output_type": "stream",
          "name": "stdout",
          "text": [
            "1: apple\n",
            "2: pear\n",
            "3: banana\n"
          ]
        }
      ],
      "source": [
        "# Starting Indexes from Different Values\n",
        "\n",
        "fruits = ['apple', 'pear', 'banana']\n",
        "\n",
        "for index, fruit in enumerate(fruits, start=1):\n",
        "  print(f\"{index}: {fruit}\")"
      ]
    },
    {
      "cell_type": "code",
      "execution_count": 51,
      "metadata": {
        "colab": {
          "base_uri": "https://localhost:8080/"
        },
        "id": "U8B_CvqcM3oY",
        "outputId": "dde70a14-950c-48c8-e9c2-e04b30fd812b"
      },
      "outputs": [
        {
          "output_type": "stream",
          "name": "stdout",
          "text": [
            "[(0, 'apple'), (1, 'pear'), (2, 'banana')]\n"
          ]
        }
      ],
      "source": [
        "# Keeping Index and Value in List\n",
        "\n",
        "fruits = ['apple', 'pear', 'banana']\n",
        "\n",
        "# Converting enumerate output to list\n",
        "list = list(enumerate(fruits))\n",
        "print(list)"
      ]
    },
    {
      "cell_type": "code",
      "execution_count": 53,
      "metadata": {
        "colab": {
          "base_uri": "https://localhost:8080/"
        },
        "id": "2wqRD6A4M3oY",
        "outputId": "d4a9f926-20b1-4b5b-aa79-4feb59214c12"
      },
      "outputs": [
        {
          "output_type": "stream",
          "name": "stdout",
          "text": [
            "['APPLE', 'PEAR', 'BANANA']\n"
          ]
        }
      ],
      "source": [
        "# Changing List Elements\n",
        "\n",
        "fruits = ['apple', 'pear', 'banana']\n",
        "for index, fruit in enumerate(fruits):\n",
        "  fruits[index] = fruit.upper()\n",
        "\n",
        "print(fruits)"
      ]
    },
    {
      "cell_type": "markdown",
      "metadata": {
        "id": "wFhSt_acM3oZ"
      },
      "source": [
        "### Zip Function\n",
        "\n",
        "zip creates a tuple by matching elements of multiple iterables. The elements are matched in order and the shortest iterable is processed."
      ]
    },
    {
      "cell_type": "markdown",
      "source": [
        "zip(iterable1, iterable2, ...)"
      ],
      "metadata": {
        "id": "Oto_NfbYVjvM"
      }
    },
    {
      "cell_type": "markdown",
      "metadata": {
        "id": "rGD9pUCeM3oZ"
      },
      "source": [
        "iterable1, iterable2, ...: More than one iterable such as list, tuple, string."
      ]
    },
    {
      "cell_type": "code",
      "execution_count": 60,
      "metadata": {
        "colab": {
          "base_uri": "https://localhost:8080/"
        },
        "id": "RqvpY_vTM3oZ",
        "outputId": "7785410a-a858-4dda-bdbc-25ce4f5738ca"
      },
      "outputs": [
        {
          "output_type": "stream",
          "name": "stdout",
          "text": [
            "Name: Alice, Age: 25\n",
            "Name: Rose, Age: 30\n",
            "Name: Jake, Age: 35\n"
          ]
        }
      ],
      "source": [
        "# Combining Elements of Two Lists\n",
        "\n",
        "names = ['Alice', 'Rose', 'Jake']\n",
        "ages = [25, 30, 35]\n",
        "\n",
        "combined_iterator = zip(names, ages)\n",
        "\n",
        "for name, age in combined_iterator:\n",
        "  print(f\"Name: {name}, Age: {age}\")"
      ]
    },
    {
      "cell_type": "code",
      "execution_count": 61,
      "metadata": {
        "colab": {
          "base_uri": "https://localhost:8080/"
        },
        "id": "HXFz9rjGM3oZ",
        "outputId": "9624c873-2763-418a-ac3b-37ff83a9fb3f"
      },
      "outputs": [
        {
          "output_type": "stream",
          "name": "stdout",
          "text": [
            "{'name': 'Ahmet', 'age': 28, 'city': 'Ankara'}\n"
          ]
        }
      ],
      "source": [
        "# Creating a Dictionary by Pairing Elements of Lists\n",
        "\n",
        "keys = ['name', 'age', 'city']\n",
        "values = ['Ahmet', 28, 'Ankara']\n",
        "\n",
        "dictionary = dict(zip(keys, values))\n",
        "print(dictionary)"
      ]
    },
    {
      "cell_type": "code",
      "execution_count": 63,
      "metadata": {
        "colab": {
          "base_uri": "https://localhost:8080/"
        },
        "id": "ClylXmmuM3oZ",
        "outputId": "8c31f197-5621-4495-ccd0-c5b9212fbb49"
      },
      "outputs": [
        {
          "output_type": "stream",
          "name": "stdout",
          "text": [
            "Item from list1: 1, Item from list2: a\n",
            "Item from list1: 2, Item from list2: b\n"
          ]
        }
      ],
      "source": [
        "# Lists of Different Lengths\n",
        "\n",
        "# Lists of Different Lengths\n",
        "\n",
        "list1 = [1, 2, 3]\n",
        "list2 = ['a', 'b']\n",
        "\n",
        "combined_iterator = zip(list1, list2)\n",
        "\n",
        "for item1, item2 in combined_iterator:\n",
        "  print(f\"Item from list1: {item1}, Item from list2: {item2}\")"
      ]
    },
    {
      "cell_type": "code",
      "execution_count": 64,
      "metadata": {
        "colab": {
          "base_uri": "https://localhost:8080/"
        },
        "id": "V3HlWIMOM3oZ",
        "outputId": "717b7d18-d8a9-48c4-adb1-fa621536dc4c"
      },
      "outputs": [
        {
          "output_type": "stream",
          "name": "stdout",
          "text": [
            "The grade of student Ali is: 85\n",
            "The grade of student Ayşe is: 90\n",
            "The grade of student Mehmet is: 95\n"
          ]
        }
      ],
      "source": [
        "# Using zip with a Loop\n",
        "\n",
        "students = ['Ali', 'Ayşe', 'Mehmet']\n",
        "grades = [85, 90, 95]\n",
        "\n",
        "for student, grade in zip(students, grades):\n",
        "  print(f\"The grade of student {student} is: {grade}\")"
      ]
    },
    {
      "cell_type": "code",
      "execution_count": 67,
      "metadata": {
        "colab": {
          "base_uri": "https://localhost:8080/"
        },
        "id": "MYCRyZNkM3oZ",
        "outputId": "76aba167-1d85-4833-f22e-4a5676a6b994"
      },
      "outputs": [
        {
          "output_type": "stream",
          "name": "stdout",
          "text": [
            "(1, 4, 7)\n",
            "(2, 5, 8)\n",
            "(3, 6, 9)\n"
          ]
        }
      ],
      "source": [
        "# Creating a Transpose with zip\n",
        "\n",
        "matrix = [\n",
        "    [1, 2, 3],\n",
        "    [4, 5, 6],\n",
        "    [7, 8, 9]\n",
        "]\n",
        "\n",
        "transpose_iterator = zip(*matrix)\n",
        "\n",
        "for row in transpose_iterator:\n",
        "    print(row)"
      ]
    },
    {
      "cell_type": "code",
      "execution_count": 68,
      "metadata": {
        "colab": {
          "base_uri": "https://localhost:8080/"
        },
        "id": "e5gF6wmHM3oZ",
        "outputId": "03cd6605-12d4-46c6-d61b-b37e337c83f8"
      },
      "outputs": [
        {
          "output_type": "stream",
          "name": "stdout",
          "text": [
            "1. The grade of student Alice is: 85\n",
            "2. The grade of student Rose is: 90\n",
            "3. The grade of student Jake is: 95\n"
          ]
        }
      ],
      "source": [
        "# Using enumerate and zip Together\n",
        "\n",
        "students = ['Alice', 'Rose', 'Jake']\n",
        "grades = [85, 90, 95]\n",
        "\n",
        "for index, (student, grade) in enumerate(zip(students, grades), start=1):\n",
        "  print(f\"{index}. The grade of student {student} is: {grade}\")"
      ]
    },
    {
      "cell_type": "markdown",
      "metadata": {
        "id": "XQUeLi8YM3oa"
      },
      "source": [
        "### Summary Table\n",
        "\n",
        "| **Function** | **Purpose** | **Example Usage** |\n",
        "|--------------|-------------------------------------|----------------------------------------|\n",
        "| `enumerate` | Returns Iterable with its indices | `enumerate(['apple', 'pear'])` |\n",
        "| `zip` | Returns a tuple by matching the elements of multiple iterables | `zip(['John'], [25])` |"
      ]
    },
    {
      "cell_type": "markdown",
      "metadata": {
        "id": "EFwtILH4M3oa"
      },
      "source": [
        "### Variable Scope Types in Python (LEGB Rule)\n",
        "The LEGB (Local, Enclosing, Global, Built-in) rule in Python determines the scope from which a variable will be accessed:\n",
        "\n",
        "- Local (Local Scope):\n",
        "Variables defined within a function or block.\n",
        "\n",
        "They can only be accessed within that function or block.\n",
        "- Enclosing (Nested Scope):\n",
        "\n",
        "In a nested function structure, variables belonging to the outer (enclosing) function can be accessed from the inner function.\n",
        "\n",
        "Nested functions are looked up one level.\n",
        "\n",
        "- Global (Global Scope):\n",
        "Variables defined outside functions or classes.\n",
        "They can be accessed throughout the code, but cannot be changed within a function without the global keyword.\n",
        "\n",
        "- Built-in (Built-in) Scope:\n",
        "Built-in functions and keywords provided by Python that can be accessed from anywhere in the entire program (e.g. print, len, range)."
      ]
    },
    {
      "cell_type": "markdown",
      "metadata": {
        "id": "QSTMOVDHM3oa"
      },
      "source": [
        "1. Local Scope\n",
        "If a variable is defined inside a function, it is in local scope. It cannot be accessed outside the function."
      ]
    },
    {
      "cell_type": "code",
      "execution_count": 70,
      "metadata": {
        "colab": {
          "base_uri": "https://localhost:8080/"
        },
        "id": "EVrg0lM-M3oa",
        "outputId": "7b6562c0-fe5d-4449-d8ae-e26c1bfba32d"
      },
      "outputs": [
        {
          "output_type": "stream",
          "name": "stdout",
          "text": [
            "10\n"
          ]
        }
      ],
      "source": [
        "def function():\n",
        "  x = 10  # Local variable\n",
        "  print(x)\n",
        "\n",
        "function()  # Output: 10\n",
        "# print(x)    # Error: NameError: name 'x' is not defined"
      ]
    },
    {
      "cell_type": "markdown",
      "metadata": {
        "id": "_hyc1RcZM3oa"
      },
      "source": [
        "2. Enclosing Scope\n",
        "In a nested function, the inner function can access the variables of the outer function. However, the variables of the inner function are only valid in that function."
      ]
    },
    {
      "cell_type": "code",
      "execution_count": 71,
      "metadata": {
        "colab": {
          "base_uri": "https://localhost:8080/"
        },
        "id": "dxz2sNjeM3oa",
        "outputId": "e292f5bf-981c-415e-a2da-561748166cf8"
      },
      "outputs": [
        {
          "output_type": "stream",
          "name": "stdout",
          "text": [
            "Outer Variable\n"
          ]
        }
      ],
      "source": [
        "def outer_function():\n",
        "  y = \"Outer Variable\"\n",
        "\n",
        "  def inner_function():\n",
        "    print(y)  # Accessing the outer function's variable\n",
        "\n",
        "  inner_function()\n",
        "\n",
        "outer_function()  # Output: Outer Variable"
      ]
    },
    {
      "cell_type": "markdown",
      "metadata": {
        "id": "BGW5uW7jM3oa"
      },
      "source": [
        "**Note:** If you want to change a variable in the outer function in the inner function, you must use the nonlocal keyword."
      ]
    },
    {
      "cell_type": "code",
      "execution_count": 72,
      "metadata": {
        "colab": {
          "base_uri": "https://localhost:8080/"
        },
        "id": "qWWqdNPoM3oa",
        "outputId": "3c29ffd7-a604-4163-8952-b934ec046e94"
      },
      "outputs": [
        {
          "output_type": "stream",
          "name": "stdout",
          "text": [
            "15\n"
          ]
        }
      ],
      "source": [
        "# nonlocal Example:\n",
        "\n",
        "def outer_function():\n",
        "  y = 10\n",
        "\n",
        "  def inner_function():\n",
        "    nonlocal y\n",
        "    y += 5\n",
        "\n",
        "  inner_function()\n",
        "  print(y)  # Output: 15\n",
        "\n",
        "outer_function()"
      ]
    },
    {
      "cell_type": "markdown",
      "metadata": {
        "id": "hThytd6zM3oa"
      },
      "source": [
        "3. Global Scope\n",
        "If a variable is defined outside a function, it is global. It is accessible in all code."
      ]
    },
    {
      "cell_type": "code",
      "execution_count": 73,
      "metadata": {
        "colab": {
          "base_uri": "https://localhost:8080/"
        },
        "id": "jROetBgSM3ob",
        "outputId": "1ea77271-6d24-4a40-fc65-16626d5897df"
      },
      "outputs": [
        {
          "output_type": "stream",
          "name": "stdout",
          "text": [
            "100\n"
          ]
        }
      ],
      "source": [
        "x = 100  # Global variable\n",
        "\n",
        "def function():\n",
        "  print(x)  # Accessing the global variable\n",
        "\n",
        "function()  # Output: 100"
      ]
    },
    {
      "cell_type": "markdown",
      "metadata": {
        "id": "DA4MKJjnM3ob"
      },
      "source": [
        "Changing a Global Variable Inside a Function:\n",
        "The global keyword is used to change a global variable inside a function."
      ]
    },
    {
      "cell_type": "code",
      "execution_count": 74,
      "metadata": {
        "colab": {
          "base_uri": "https://localhost:8080/"
        },
        "id": "EHFLlC54M3ob",
        "outputId": "e2401dbe-a31e-4039-8415-706d25f9eb8b"
      },
      "outputs": [
        {
          "output_type": "stream",
          "name": "stdout",
          "text": [
            "15\n"
          ]
        }
      ],
      "source": [
        "x = 10\n",
        "\n",
        "def change():\n",
        "  global x\n",
        "  x += 5\n",
        "\n",
        "change()\n",
        "print(x)  # Output: 15"
      ]
    },
    {
      "cell_type": "markdown",
      "metadata": {
        "id": "nGyHogoKM3ob"
      },
      "source": [
        "4. Built-in Scope\n",
        "Python provides some built-in functions and variables by default. For example: print, len, max, min."
      ]
    },
    {
      "cell_type": "code",
      "execution_count": 75,
      "metadata": {
        "colab": {
          "base_uri": "https://localhost:8080/"
        },
        "id": "Eyc8-BoZM3ob",
        "outputId": "89e96e34-6841-4a94-e7c8-c6b9a9ce85c3"
      },
      "outputs": [
        {
          "output_type": "stream",
          "name": "stdout",
          "text": [
            "3\n"
          ]
        }
      ],
      "source": [
        "# Using the built-in function `len`\n",
        "list = [1, 2, 3]\n",
        "print(len(list)) # Output: 3"
      ]
    },
    {
      "cell_type": "markdown",
      "metadata": {
        "id": "dWLiggHjM3ob"
      },
      "source": [
        "Shadowing a Built-in Function:\n",
        "Your own variable or function may conflict with built-in names. In such cases, care should be taken."
      ]
    },
    {
      "cell_type": "code",
      "execution_count": 76,
      "metadata": {
        "colab": {
          "base_uri": "https://localhost:8080/"
        },
        "id": "HdWVJTC-M3ob",
        "outputId": "b4fb7aa5-4075-4404-f967-20a5e0a76999"
      },
      "outputs": [
        {
          "output_type": "stream",
          "name": "stdout",
          "text": [
            "10\n"
          ]
        }
      ],
      "source": [
        "len = 10 # The built-in `len` function is no longer available\n",
        "print(len) # Output: 10\n",
        "# print(len([1, 2, 3])) # Error: TypeError: 'int' object is not callable"
      ]
    },
    {
      "cell_type": "markdown",
      "metadata": {
        "id": "a1MgAz9tM3ob"
      },
      "source": [
        "**Example: Showing LEGB Rule**"
      ]
    },
    {
      "cell_type": "code",
      "execution_count": 77,
      "metadata": {
        "colab": {
          "base_uri": "https://localhost:8080/"
        },
        "id": "bHLZJGs_M3ob",
        "outputId": "b91988df-af3d-4c1c-e818-79f24abb71fe"
      },
      "outputs": [
        {
          "output_type": "stream",
          "name": "stdout",
          "text": [
            "local x\n",
            "enclosing x\n",
            "global x\n"
          ]
        }
      ],
      "source": [
        "x = \"global x\"  # Global scope\n",
        "\n",
        "def outer_function():\n",
        "  x = \"enclosing x\"  # Enclosing scope\n",
        "\n",
        "  def inner_function():\n",
        "    x = \"local x\"  # Local scope\n",
        "    print(x)  # x from local scope\n",
        "\n",
        "  inner_function()\n",
        "  print(x)  # x from enclosing scope\n",
        "\n",
        "outer_function()\n",
        "print(x)  # x from global scope"
      ]
    },
    {
      "cell_type": "markdown",
      "metadata": {
        "id": "D7gVkYaBM3oc"
      },
      "source": [
        "## The Importance of Understanding Variable Scope\n",
        "Understanding variable scope is critical, especially for preventing errors and ensuring correct execution of code. Incorrect variable access can lead to unexpected results and error messages."
      ]
    },
    {
      "cell_type": "code",
      "execution_count": 78,
      "metadata": {
        "colab": {
          "base_uri": "https://localhost:8080/"
        },
        "id": "4JOW1YEIM3oc",
        "outputId": "1ba8589c-b145-4f63-84b3-86a5a30b70bf"
      },
      "outputs": [
        {
          "output_type": "stream",
          "name": "stdout",
          "text": [
            "10\n",
            "20\n"
          ]
        }
      ],
      "source": [
        "number4 = 10  # Global variable 'number4' is defined with a value of 10.\n",
        "\n",
        "def modify_global():  # A function named 'modify_global' is defined.\n",
        "    global number4  # Access to the global 'number4' variable is granted within the function.\n",
        "    number4 = 20  # The value of the global 'number4' variable is updated to 20.\n",
        "\n",
        "\n",
        "print(number4)  # The 'number4' variable is printed to the console before the function is called. Output: 10\n",
        "modify_global()  # The 'modify_global' function is called. This changes the value of 'number4' globally to 20.\n",
        "print(number4)  # The updated value of 'number4' is printed to the console after the function is called. Output: 20\n",
        "\n",
        "# In this code, by using the 'global' keyword, a global variable has been modified even from within a function's scope."
      ]
    },
    {
      "cell_type": "markdown",
      "metadata": {
        "id": "GkABY2zuM3oc"
      },
      "source": [
        "### Scope Summary Table\n",
        "\n",
        "| **Scope Type** | **Definition** | **Access Area** |\n",
        "|--------|------------------------------------------------------------------------|-------------------------------------|\n",
        "| **Local** | Variables defined inside a function | Only that function |\n",
        "| **Enclosing** | In nested functions, variables of the outer (enclosing) function | Can only be read from the inner function |\n",
        "| **Global** | Variables defined outside a function or class | Accessible throughout the code |\n",
        "| **Built-in** | Built-in variables and functions provided by Python | Accessible from anywhere |"
      ]
    },
    {
      "cell_type": "markdown",
      "metadata": {
        "id": "ph2xyrxkM3oc"
      },
      "source": [
        "**dict():**\n",
        "\n",
        "Definition: dict() is a built-in function in Python that is used to create a dictionary.\n",
        "\n",
        "Usage: The dict() function allows you to create a dictionary of key-value pairs."
      ]
    },
    {
      "cell_type": "code",
      "execution_count": 79,
      "metadata": {
        "colab": {
          "base_uri": "https://localhost:8080/"
        },
        "id": "6nIeNzW9M3oc",
        "outputId": "a2ed60d2-db50-4ac6-bf41-3145095f8c46"
      },
      "outputs": [
        {
          "output_type": "stream",
          "name": "stdout",
          "text": [
            "{}\n",
            "{'name': 'Ali', 'age': 30}\n"
          ]
        }
      ],
      "source": [
        "# Create an empty dictionary\n",
        "my_dict = dict()\n",
        "print(my_dict) # {}\n",
        "\n",
        "# Create a dictionary with key-value pairs\n",
        "my_dict = dict(name=\"Ali\", age=30)\n",
        "print(my_dict) # {'name': 'Ali', 'age': 30}"
      ]
    },
    {
      "cell_type": "markdown",
      "metadata": {
        "id": "rKs96m2gM3oc"
      },
      "source": [
        "**get():**\n",
        "\n",
        "Definition: The get() method is a method that returns the value corresponding to a specified key in a dictionary. If the key is not found in the dictionary, it returns None instead of an error or it can return a specified default value.\n",
        "\n",
        "Usage: This method is useful for checking if the key exists. If the key does not exist, you will not get an error; it can return a default value instead."
      ]
    },
    {
      "cell_type": "code",
      "execution_count": 80,
      "metadata": {
        "colab": {
          "base_uri": "https://localhost:8080/"
        },
        "id": "osHtuVgQM3oc",
        "outputId": "4ba1651a-9bf0-41f4-860c-a28612595926"
      },
      "outputs": [
        {
          "output_type": "stream",
          "name": "stdout",
          "text": [
            "Alice\n",
            "None\n",
            "Unknown\n"
          ]
        }
      ],
      "source": [
        "my_dict = {\"name\": \"Alice\", \"age\": 30}\n",
        "\n",
        "# If key exists, return value\n",
        "print(my_dict.get(\"name\")) # 'Ali'\n",
        "\n",
        "# If key does not exist, return None\n",
        "print(my_dict.get(\"address\")) # None\n",
        "\n",
        "# If key does not exist, return specified default value\n",
        "print(my_dict.get(\"address\", \"Unknown\")) # 'Unknown'"
      ]
    },
    {
      "cell_type": "markdown",
      "metadata": {
        "id": "EDms2XyGM3od"
      },
      "source": [
        "`dict()` creates a new dictionary with empty or given key-value pairs.\n",
        "\n",
        "`get()` returns the value of the specified key and can return a default value or None if the key does not exist."
      ]
    },
    {
      "cell_type": "markdown",
      "metadata": {
        "id": "PejSObywM3od"
      },
      "source": [
        "### **Try and Except Blocks - Error Management**\n",
        "\n",
        "Error management in Python allows you to control errors that may occur during the program's execution (exceptions). Try and except blocks are used in Python for error management. This structure ensures that errors are handled properly without causing the program to crash.\n",
        "\n",
        "Errors can stop a program from running unexpectedly. For example:\n",
        "\n",
        "- When a file is not found.\n",
        "- When you divide a number by zero.\n",
        "- When you receive invalid input.\n",
        "\n",
        "Python refers to these types of errors as exceptions. To prevent errors:\n",
        "\n",
        "- You can check the type of error.\n",
        "- You can make the program continue to do a certain operation."
      ]
    },
    {
      "cell_type": "markdown",
      "metadata": {
        "id": "BH7tBaZwM3od"
      },
      "source": [
        "#### try and except Blocks\n",
        "\n",
        "The try block contains code where errors may occur. If an error occurs, the except block is passed and the error is handled."
      ]
    },
    {
      "cell_type": "code",
      "source": [
        "try:\n",
        "    # Code that may cause an error\n",
        "    risky_code()\n",
        "except ExceptionType:\n",
        "    # Code that will be executed in case of an error\n",
        "    handle_error()"
      ],
      "metadata": {
        "id": "HgSMD2h1ZUAa"
      },
      "execution_count": null,
      "outputs": []
    },
    {
      "cell_type": "code",
      "execution_count": 82,
      "metadata": {
        "colab": {
          "base_uri": "https://localhost:8080/"
        },
        "id": "gp30ZmI4M3od",
        "outputId": "fec5fd5d-0a20-4ba1-8dc5-2bfb44b0d766"
      },
      "outputs": [
        {
          "output_type": "stream",
          "name": "stdout",
          "text": [
            "Enter a number: 12\n",
            "Enter another number: 15\n",
            "Result: 0.8\n"
          ]
        }
      ],
      "source": [
        "# Example 1: Simple Division with Error Handling\n",
        "\n",
        "try:\n",
        "    x = int(input(\"Enter a number: \"))\n",
        "    y = int(input(\"Enter another number: \"))\n",
        "    result = x / y\n",
        "    print(\"Result:\", result)\n",
        "except ZeroDivisionError:\n",
        "    print(\"Error: You cannot divide a number by zero!\")\n",
        "except ValueError:\n",
        "    print(\"Error: Please enter only numbers.\")"
      ]
    },
    {
      "cell_type": "markdown",
      "metadata": {
        "id": "7ADcmzzcM3od"
      },
      "source": [
        "**General Error Catching**\n",
        "\n",
        "If you don't know the type of error, you can catch all errors in general with Exception."
      ]
    },
    {
      "cell_type": "code",
      "execution_count": 83,
      "metadata": {
        "colab": {
          "base_uri": "https://localhost:8080/"
        },
        "id": "ZaTb98W7M3od",
        "outputId": "ba345063-a246-4ef1-f019-ff538d53e9d3"
      },
      "outputs": [
        {
          "output_type": "stream",
          "name": "stdout",
          "text": [
            "An error occurred: list index out of range\n"
          ]
        }
      ],
      "source": [
        "try:\n",
        "    numbers = [1, 2, 3]\n",
        "    print(numbers[5])  # Index out of list bounds\n",
        "except Exception as e:\n",
        "    print(f\"An error occurred: {e}\")"
      ]
    },
    {
      "cell_type": "markdown",
      "metadata": {
        "id": "giDtSoxFM3od"
      },
      "source": [
        "**else Block**\n",
        "\n",
        "else block executes if no error occurs in the try block."
      ]
    },
    {
      "cell_type": "code",
      "execution_count": 84,
      "metadata": {
        "colab": {
          "base_uri": "https://localhost:8080/"
        },
        "id": "LzYfvRseM3oe",
        "outputId": "5b54ced7-e676-4313-e7fa-d9ab1f63c9fa"
      },
      "outputs": [
        {
          "output_type": "stream",
          "name": "stdout",
          "text": [
            "Result: 5.0\n"
          ]
        }
      ],
      "source": [
        "try:\n",
        "    x = 10\n",
        "    y = 2\n",
        "    result = x / y\n",
        "except ZeroDivisionError:\n",
        "    print(\"Zero division error!\")\n",
        "else:\n",
        "    print(\"Result:\", result)"
      ]
    },
    {
      "cell_type": "markdown",
      "metadata": {
        "id": "BjjZCHbbM3oe"
      },
      "source": [
        "**finally Block**\n",
        "\n",
        "The finally block is executed in all cases, whether an error occurs or not. It is generally used for resource cleanup operations."
      ]
    },
    {
      "cell_type": "code",
      "execution_count": 85,
      "metadata": {
        "colab": {
          "base_uri": "https://localhost:8080/"
        },
        "id": "5yh9kYz8M3oe",
        "outputId": "a5de2925-1c3c-4c29-e111-c6fdcf586ccd"
      },
      "outputs": [
        {
          "output_type": "stream",
          "name": "stdout",
          "text": [
            "Error: File not found.\n",
            "Operation completed.\n"
          ]
        }
      ],
      "source": [
        "try:\n",
        "    file = open(\"data.txt\", \"r\")\n",
        "    print(file.read())\n",
        "except FileNotFoundError:\n",
        "    print(\"Error: File not found.\")\n",
        "finally:\n",
        "    print(\"Operation completed.\")"
      ]
    },
    {
      "cell_type": "markdown",
      "metadata": {
        "id": "Oz2P8R7FM3oe"
      },
      "source": [
        "**Catch Multiple Error Types**\n",
        "\n",
        "You can list multiple error types in a single except block."
      ]
    },
    {
      "cell_type": "code",
      "execution_count": 86,
      "metadata": {
        "colab": {
          "base_uri": "https://localhost:8080/"
        },
        "id": "PUwtAIZOM3oe",
        "outputId": "ebb0b2a0-27a2-4cc2-ded1-b4c193427ffb"
      },
      "outputs": [
        {
          "output_type": "stream",
          "name": "stdout",
          "text": [
            "Enter a number: 20\n",
            "Enter another number: 5\n",
            "Result: 4.0\n"
          ]
        }
      ],
      "source": [
        "try:\n",
        "    x = int(input(\"Enter a number: \"))\n",
        "    y = int(input(\"Enter another number: \"))\n",
        "    result = x / y\n",
        "    print(\"Result:\", result)\n",
        "except (ZeroDivisionError, ValueError) as e:\n",
        "    print(f\"An error occurred: {e}\")"
      ]
    },
    {
      "cell_type": "markdown",
      "metadata": {
        "id": "uEthnUlCM3oe"
      },
      "source": [
        "**Defining Custom Errors**\n",
        "\n",
        "You can create custom error classes to define your own error types."
      ]
    },
    {
      "cell_type": "code",
      "execution_count": 87,
      "metadata": {
        "colab": {
          "base_uri": "https://localhost:8080/"
        },
        "id": "1g8-F-90M3oe",
        "outputId": "fcc3d1a6-cf74-4e04-e7b2-42768749c2ab"
      },
      "outputs": [
        {
          "output_type": "stream",
          "name": "stdout",
          "text": [
            "Custom error caught: Negative numbers are invalid!\n"
          ]
        }
      ],
      "source": [
        "class Error(Exception):\n",
        "    \"\"\"A custom error type.\"\"\"\n",
        "    pass\n",
        "\n",
        "def check_number(number):\n",
        "    if number < 0:\n",
        "        raise Error(\"Negative numbers are invalid!\")\n",
        "\n",
        "try:\n",
        "    check_number(-1)\n",
        "except Error as e:\n",
        "    print(f\"Custom error caught: {e}\")"
      ]
    },
    {
      "cell_type": "markdown",
      "metadata": {
        "id": "XwWK8o1mM3oe"
      },
      "source": [
        "**Common Error Types**\n",
        "Some common error types in Python:\n",
        "\n",
        "- ValueError: When an operation is attempted with an invalid value.\n",
        "- TypeError: When an operation of the wrong type is performed.\n",
        "- ZeroDivisionError: When a division by zero operation is performed.\n",
        "- IndexError: When an index is used outside the bounds of a list or array.\n",
        "- KeyError: When a key that does not exist in the dictionary is used.\n",
        "- FileNotFoundError: When a file is not found"
      ]
    },
    {
      "cell_type": "markdown",
      "metadata": {
        "id": "sA1JlJfiM3of"
      },
      "source": [
        "**What is Assert?**\n",
        "\n",
        "assert is used to test a condition and throw an AssertionError if the condition is not met. It is often used for debugging and verifying that the program works as expected.\n"
      ]
    },
    {
      "cell_type": "code",
      "execution_count": 88,
      "metadata": {
        "id": "c1izlrVtM3of"
      },
      "outputs": [],
      "source": [
        "x = 10\n",
        "assert x > 5, \"x must be greater than 5!\" # This does not throw an error"
      ]
    },
    {
      "cell_type": "code",
      "execution_count": 89,
      "metadata": {
        "colab": {
          "base_uri": "https://localhost:8080/",
          "height": 141
        },
        "id": "e-cSXtAxM3of",
        "outputId": "b23989dc-b3f8-4982-df9d-43e3124ae9a1"
      },
      "outputs": [
        {
          "output_type": "error",
          "ename": "AssertionError",
          "evalue": "x must be less than 5!",
          "traceback": [
            "\u001b[0;31m---------------------------------------------------------------------------\u001b[0m",
            "\u001b[0;31mAssertionError\u001b[0m                            Traceback (most recent call last)",
            "\u001b[0;32m<ipython-input-89-d56cd78f1389>\u001b[0m in \u001b[0;36m<cell line: 0>\u001b[0;34m()\u001b[0m\n\u001b[0;32m----> 1\u001b[0;31m \u001b[0;32massert\u001b[0m \u001b[0mx\u001b[0m \u001b[0;34m<\u001b[0m \u001b[0;36m5\u001b[0m\u001b[0;34m,\u001b[0m \u001b[0;34m\"x must be less than 5!\"\u001b[0m \u001b[0;31m# This will throw an error\u001b[0m\u001b[0;34m\u001b[0m\u001b[0;34m\u001b[0m\u001b[0m\n\u001b[0m",
            "\u001b[0;31mAssertionError\u001b[0m: x must be less than 5!"
          ]
        }
      ],
      "source": [
        "assert x < 5, \"x must be less than 5!\" # This will throw an error"
      ]
    },
    {
      "cell_type": "markdown",
      "metadata": {
        "id": "PvCpd15DM3of"
      },
      "source": [
        "- assert is often used for testing or checking if a program is in a certain state.\n",
        "\n",
        "- If assert fails (condition is false), the program stops with an AssertionError."
      ]
    },
    {
      "cell_type": "markdown",
      "metadata": {
        "id": "hgtd7aN3M3of"
      },
      "source": [
        "**What is raise?**\n",
        "\n",
        "raise is used to manually throw an error in Python. This is used to create a custom error under certain conditions or to re-throw an existing error."
      ]
    },
    {
      "cell_type": "markdown",
      "source": [
        "raise ExceptionType(\"Error message\")"
      ],
      "metadata": {
        "id": "gQ9vLBOlaL8F"
      }
    },
    {
      "cell_type": "markdown",
      "metadata": {
        "id": "AHZc9x15M3of"
      },
      "source": [
        "- ExceptionType: The type of error to throw (e.g. ValueError, TypeError, or your own custom error class).\n",
        "- Error Message: The message of the error thrown (optional)."
      ]
    },
    {
      "cell_type": "code",
      "execution_count": 91,
      "metadata": {
        "colab": {
          "base_uri": "https://localhost:8080/"
        },
        "id": "6_K1xLBiM3of",
        "outputId": "6d50cb94-1a81-4e6b-da27-b010329f0b57"
      },
      "outputs": [
        {
          "output_type": "stream",
          "name": "stdout",
          "text": [
            "An error occurred: Number cannot be negative!\n"
          ]
        }
      ],
      "source": [
        "#: Raising an Error Under a Specific Condition\n",
        "\n",
        "def check_positive_number(number):\n",
        "    if number < 0:\n",
        "        raise ValueError(\"Number cannot be negative!\")\n",
        "    return number\n",
        "\n",
        "# Usage\n",
        "try:\n",
        "    check_positive_number(-5)\n",
        "except ValueError as e:\n",
        "    print(f\"An error occurred: {e}\")\n",
        "\n",
        "# Output:\n",
        "# An error occurred: Number cannot be negative!"
      ]
    },
    {
      "cell_type": "code",
      "execution_count": 92,
      "metadata": {
        "colab": {
          "base_uri": "https://localhost:8080/"
        },
        "id": "B6TvutkyM3of",
        "outputId": "65959f8f-9bea-4b42-dbe0-c5f9a227995b"
      },
      "outputs": [
        {
          "output_type": "stream",
          "name": "stdout",
          "text": [
            "Custom error caught: Negative value detected!\n"
          ]
        }
      ],
      "source": [
        "# Raising Custom Exceptions\n",
        "# You can define your own error class and raise custom exceptions.\n",
        "\n",
        "class CustomError(Exception):\n",
        "    \"\"\"A custom error type.\"\"\"\n",
        "    pass\n",
        "\n",
        "def check(number):\n",
        "    if number < 0:\n",
        "        raise CustomError(\"Negative value detected!\")\n",
        "\n",
        "try:\n",
        "    check(-1)\n",
        "except CustomError as e:\n",
        "    print(f\"Custom error caught: {e}\")\n",
        "\n",
        "# Output:\n",
        "# Custom error caught: Negative value detected!"
      ]
    },
    {
      "cell_type": "code",
      "execution_count": 93,
      "metadata": {
        "colab": {
          "base_uri": "https://localhost:8080/",
          "height": 228
        },
        "id": "GVKUrIqJM3of",
        "outputId": "2061d2c6-d6b5-4c49-a11c-67cb31ae5f0e"
      },
      "outputs": [
        {
          "output_type": "stream",
          "name": "stdout",
          "text": [
            "Error caught: invalid literal for int() with base 10: 'abc'\n"
          ]
        },
        {
          "output_type": "error",
          "ename": "ValueError",
          "evalue": "invalid literal for int() with base 10: 'abc'",
          "traceback": [
            "\u001b[0;31m---------------------------------------------------------------------------\u001b[0m",
            "\u001b[0;31mValueError\u001b[0m                                Traceback (most recent call last)",
            "\u001b[0;32m<ipython-input-93-97933f926f9c>\u001b[0m in \u001b[0;36m<cell line: 0>\u001b[0;34m()\u001b[0m\n\u001b[1;32m      3\u001b[0m \u001b[0;34m\u001b[0m\u001b[0m\n\u001b[1;32m      4\u001b[0m \u001b[0;32mtry\u001b[0m\u001b[0;34m:\u001b[0m\u001b[0;34m\u001b[0m\u001b[0;34m\u001b[0m\u001b[0m\n\u001b[0;32m----> 5\u001b[0;31m     \u001b[0mx\u001b[0m \u001b[0;34m=\u001b[0m \u001b[0mint\u001b[0m\u001b[0;34m(\u001b[0m\u001b[0;34m\"abc\"\u001b[0m\u001b[0;34m)\u001b[0m  \u001b[0;31m# This will raise an error\u001b[0m\u001b[0;34m\u001b[0m\u001b[0;34m\u001b[0m\u001b[0m\n\u001b[0m\u001b[1;32m      6\u001b[0m \u001b[0;32mexcept\u001b[0m \u001b[0mValueError\u001b[0m \u001b[0;32mas\u001b[0m \u001b[0me\u001b[0m\u001b[0;34m:\u001b[0m\u001b[0;34m\u001b[0m\u001b[0;34m\u001b[0m\u001b[0m\n\u001b[1;32m      7\u001b[0m     \u001b[0mprint\u001b[0m\u001b[0;34m(\u001b[0m\u001b[0;34mf\"Error caught: {e}\"\u001b[0m\u001b[0;34m)\u001b[0m\u001b[0;34m\u001b[0m\u001b[0;34m\u001b[0m\u001b[0m\n",
            "\u001b[0;31mValueError\u001b[0m: invalid literal for int() with base 10: 'abc'"
          ]
        }
      ],
      "source": [
        "# Re-raising an Exception\n",
        "# You can re-raise an exception that has been caught in an except block.\n",
        "\n",
        "try:\n",
        "    x = int(\"abc\")  # This will raise an error\n",
        "except ValueError as e:\n",
        "    print(f\"Error caught: {e}\")\n",
        "    raise  # The error is re-raised"
      ]
    },
    {
      "cell_type": "markdown",
      "metadata": {
        "id": "yL5f9OqRM3og"
      },
      "source": [
        "### Summary Table of Error Management\n",
        "\n",
        "| **Block** | **Purpose** | **When Does It Work?** |\n",
        "|-------------|-----------------------------------------------------------------------|--------------------------------------|\n",
        "| `try` | Write code that may generate errors | If or not an error occurs |\n",
        "| `except` | Catches and processes errors that occur | If an error occurs in the `try` block |\n",
        "| `else` | Runs if no error occurs in the `try` block | In case of no error |\n",
        "| `finally` | Runs in all cases (whether or not an error occurs) | Used for operations such as resource cleanup |\n",
        "| `assert` | Tests if a specified condition is true, throws `AssertionError` if false | Runs when the condition is false (ideal for debugging) |\n",
        "| `raise` | Throws a specific error or re-throws an existing error | When you need to manually generate an error |"
      ]
    },
    {
      "cell_type": "markdown",
      "metadata": {
        "id": "O94lERACM3og"
      },
      "source": [
        "| assert | raise |\n",
        "|--------|-------|\n",
        "| Automatically throws `AssertionError` if the condition is not true. | A desired error type and message are specified manually. |\n",
        "| Often used during debugging. | Can be used to throw an error anywhere. |\n"
      ]
    },
    {
      "cell_type": "markdown",
      "metadata": {
        "id": "ZfPW3bJ6M3og"
      },
      "source": [
        "# 🐍 **Python Cheatsheet – All Basic and Advanced Topics**\n",
        "\n",
        "| **Topic** | **Explanation and Sample Codes** |\n",
        "|-------------------------------------|--------------------------------------------------------------------------------------------------------------------------------------|\n",
        "| **Python Installation and Running** | `python --version` – Check Python version<br>`pip install <package>` – Installing libraries |\n",
        "**First Codes (print, input)** | `print(\"Hello!\")` – Prints to the screen<br>`name = input(\"Your name: \")` – Gets data from the user |\n",
        "| **Advantages of Python** | Simple syntax, versatile use, data science, web, automation etc. |\n",
        "| **Variable Declaration** | `x = 5` – Numeric variable<br>`name = \"John\"` – String<br>`is_valid = True` – Boolean |\n",
        "| **Data Types** | `int`, `float`, `str`, `bool`, `list`, `tuple`, `dict`, `set` |\n",
        "| **Data Type Check** | `type(x)` – Gets the type of the variable<br>`isinstance(x, int)` – Checks if it belongs to the specified type |\n",
        "| **Mathematical Operators** | `+`, `-`, `*`, `/`, `//` (full division), `%` (module), `**` (exponentiation) |\n",
        "| **Comparison Operators** | `==`, `!=`, `<`, `>`, `<=`, `>=` |\n",
        "| **Logical Operators** | `and`, `or`, `not` |\n",
        "| **Conditional Expressions** | ```python<br>if x > 0:<br> print(\"Positive\")<br>elif x == 0:<br> print(\"Zero\")<br>else:<br> print(\"Negative\")<br>``` |\n",
        "| **Loops** | ```python<br>for i in range(5):<br> print(i)<br>```<br>`while x > 0:` – Repeats as long as condition is met |\n",
        "| **break / continue / pass** | `break` – stops the loop<br>`continue` – go to next step<br>`pass` – skip |\n",
        "| **Lists** | `my_list = [1, 2, 3]`<br>`my_list.append(4)` – Adds element<br>`my_list.pop()` – Removes last element |\n",
        "| **Tuple** | `my_tuple = (1, 2, 3)`<br>`my_tuple[1]` – Access second element |\n",
        "| **Dictionaries** | ```python<br>my_dict = {\"key\": \"value\"}<br>my_dict[\"key\"] = \"new_value\"<br>``` |\n",
        "| **Sets** | `my_set = {1, 2, 3}`<br>`my_set.add(4)` – Adds element<br>`my_set.remove(3)` – Removes element |\n",
        "| **String Operations** | `name.upper()`, `name.lower()` – Convert to upper/lower case<br>`name.split()` – Split by spaces<br>`name.strip()` – Trim spaces |\n",
        "| **Functions** | ```python<br>def my_function(x):<br> return x * 2<br>```<br>`my_function(5)` – Output: 10 |\n",
        "| **Lambda Functions** | `double = lambda x: x * 2` – Single-line anonymous function |\n",
        "| **args / kwargs** | `*args` – multiple positional arguments<br>`**kwargs` – multiple key-value arguments |\n",
        "| **List Comprehensions** | ```python<br>[x ** 2 for x in range(5) if x % 2 == 0]<br>``` – [0, 4, 16] |\n",
        "| **Error Handling (try-except)** | ```python<br>try:<br> result = 10 / 0<br>except ZeroDivisionError:<br> print(\"Error: Division error!\")<br>``` |\n",
        "| **File Operations** | ```python<br>with open(\"file.txt\", \"r\") as f:<br> content = f.read()<br>``` |\n",
        "| **Modules** | `import math` – Math module<br>`math.sqrt(16)` – Square root<br>`from random import randint` – randint from random module |\n",
        "| **Time Operations** | ```python<br>import time<br>time.sleep(2)<br>print(\"In 2 seconds!\")<br>``` |\n",
        "| **Classes** | ```python<br>class MyClass:<br> def __init__(self, name):<br> self.name = name<br>my_obj = MyClass(\"Python\")<br>``` |\n",
        "| **Inheritance** | ```python<br>class Parent:<br> def greet(self):<br> print(\"Hello!\")<br>class Child(Parent):<br> pass<br>``` |\n",
        "| **Iterators** | ```python<br>my_iter = iter([1, 2, 3])<br>next(my_iter)<br>``` |\n",
        "| **Generators** | ```python<br>def my_gen():<br> yield 1<br> yield 2<br>``` |\n",
        "| **Decorators** | ```python<br>def decorator(func):<br> def wrapper():<br> print(\"Before\")<br> func()<br> print(\"After\")<br> return wrapper<br>``` |\n",
        "| **Regular Expressions** | ```python<br>import re<br>re.match(r\"\\d+\", \"123\")<br>``` |\n",
        "| **Arguments and Parameters** | ```python<br>def greet(name=\"Guest\"):<br> print(f\"Hello, {name}!\")<br>``` |\n",
        "| **HTTP Requests with Python** | ```python<br>import requests<br>response = requests.get(\"https://api.github.com\")<br>``` |\n",
        "\n",
        "---"
      ]
    }
  ],
  "metadata": {
    "kernelspec": {
      "display_name": "Python 3",
      "language": "python",
      "name": "python3"
    },
    "language_info": {
      "codemirror_mode": {
        "name": "ipython",
        "version": 3
      },
      "file_extension": ".py",
      "mimetype": "text/x-python",
      "name": "python",
      "nbconvert_exporter": "python",
      "pygments_lexer": "ipython3",
      "version": "3.13.3"
    },
    "colab": {
      "provenance": []
    }
  },
  "nbformat": 4,
  "nbformat_minor": 0
}