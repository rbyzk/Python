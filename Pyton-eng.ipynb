{
 "cells": [
  {
   "cell_type": "markdown",
   "metadata": {},
   "source": [
    "# What is Python?\n",
    "\n",
    "What is Python?\n",
    "\n",
    "Python is a powerful, open source, and easy-to-learn programming language developed by Guido van Rossum in 1991. Suitable for both beginners and professionals. Python stands out with its readability and ease of use.\n",
    "\n",
    "Why Python?\n",
    "\n",
    "- Simple and Easy to Learn: Python's simple syntax is ideal for beginners.\n",
    "- Cross-Platform Support: It can run on Windows, macOS, and Linux.\n",
    "- Rich Library Support: It offers powerful libraries for data science, machine learning, web development, and more.\n",
    "- Active Community: It has a large user community, making it easy to learn and solve problems."
   ]
  },
  {
   "cell_type": "markdown",
   "metadata": {},
   "source": [
    "How to Install Python?\n",
    "\n",
    "Go to Python's official website, python.org.\n",
    "\n",
    "Download and install the version that suits your operating system.\n",
    "\n",
    "Don't forget to check the \"Add Python to PATH\" option during installation.\n",
    "\n",
    "After installation, you can check that Python is installed by running the following command in the terminal or command line:\n",
    "\n",
    "python --version # Or for macOS/Linux: python3 --version"
   ]
  },
  {
   "cell_type": "markdown",
   "metadata": {},
   "source": [
    "## Python Advantages\n",
    "\n",
    "Python Advantages and Usage Areas\n",
    "Advantages:\n",
    "\n",
    "Readability: Python code is almost like natural language.\n",
    "\n",
    "Comprehensive Application Area: It is used in many areas such as data analysis, artificial intelligence, web development, game development.\n",
    "\n",
    "Community and Support: There are many resources and documentation about Python.\n",
    "\n",
    "Dynamic Type System: You do not have to specify data types, Python does this automatically.\n",
    "\n",
    "Areas of Use:\n",
    "\n",
    "Data Science and Machine Learning: Analysis and modeling are done with libraries such as Pandas, NumPy, Scikit-learn.\n",
    "\n",
    "Web Development: Dynamic websites are created with frameworks such as Flask, Django.\n",
    "\n",
    "Game Development: Games can be made using the Pygame library.\n",
    "System Automation and Scripting: Used to automate repetitive tasks.\n"
   ]
  },
  {
   "cell_type": "markdown",
   "metadata": {},
   "source": [
    "## Python Tools and Frameworks\n",
    "\n",
    "The following is a list of important tools and frameworks for developing different types of Python applications:\n",
    "\n",
    "- Web Development: Django, Pyramid, Bottle, Tornado, Flask, web2py\n",
    "\n",
    "- GUI Development: tkInter, PyGObject, PyQt, PySide, Kivy, wxPython\n",
    "\n",
    "- Scientific and Numeric: SciPy, Pandas, IPython\n",
    "\n",
    "- Software Development: Buildbot, Trac, Roundup\n",
    "\n",
    "- System Administration: Ansible, Salt, OpenStack"
   ]
  },
  {
   "cell_type": "markdown",
   "metadata": {},
   "source": [
    "## Python Version History\n",
    "\n",
    "- There are two types of Python versions in the market. If a Python version starts with 2 (like 2.7.11) it belongs to Python 2.x, if it starts with 3 (like 3.6.2) it belongs to Python 3.x series.\n",
    "- Python3 is more powerful and bug-free than Python2.\n",
    "- A program written in Python2 will not run in Python3.\n",
    "- Similarly, a program written in Python3 will not run in Python2."
   ]
  },
  {
   "cell_type": "markdown",
   "metadata": {},
   "source": [
    "**First Code with Python: print() and input()**\n",
    "\n",
    "We can start by writing our first code in Python. Traditionally, when learning a new programming language, the message \"Hello, World!\" is printed on the screen.\n",
    "\n",
    "**print() Function:**\n",
    "Used to output to the screen."
   ]
  },
  {
   "cell_type": "code",
   "execution_count": 1,
   "metadata": {},
   "outputs": [
    {
     "name": "stdout",
     "output_type": "stream",
     "text": [
      "Hello, World!\n"
     ]
    }
   ],
   "source": [
    "print(\"Hello, World!\")  # Output: Hello, World!"
   ]
  },
  {
   "cell_type": "markdown",
   "metadata": {},
   "source": [
    "**Python Syntax and Working Logic**\n",
    "\n",
    "Python Syntax:\n",
    "\n",
    "Python has a simple and readable syntax. Key rules:\n",
    "\n",
    "Indentation: Code blocks in Python are defined by indentation.\n",
    "\n",
    "Spaces are used instead of curly brackets ({})."
   ]
  },
  {
   "cell_type": "code",
   "execution_count": 2,
   "metadata": {},
   "outputs": [
    {
     "name": "stdout",
     "output_type": "stream",
     "text": [
      "10 is greater than 5\n"
     ]
    }
   ],
   "source": [
    "if 10 > 5:\n",
    "    print(\"10 is greater than 5\") # Correct indentation"
   ]
  },
  {
   "cell_type": "markdown",
   "metadata": {},
   "source": [
    "**Line Break:** A command usually ends on a line, but you can break very long commands with \\."
   ]
  },
  {
   "cell_type": "code",
   "execution_count": 3,
   "metadata": {},
   "outputs": [],
   "source": [
    "total = 10 + 20 + \\\n",
    "         30 + 40"
   ]
  },
  {
   "cell_type": "markdown",
   "metadata": {},
   "source": [
    "**Python Working Logic:**\n",
    "\n",
    "**Interpreter:** Python code is executed line by line (no compile required).\n",
    "\n",
    "**Dynamic Type Casting:** You do not have to specify the type of variables. Example:"
   ]
  },
  {
   "cell_type": "code",
   "execution_count": 79,
   "metadata": {},
   "outputs": [],
   "source": [
    "x = 10      # int\n",
    "y = \"Hello\" # str"
   ]
  },
  {
   "cell_type": "markdown",
   "metadata": {},
   "source": [
    "**Comment Lines:**\n",
    "You can add comments to make the code easier to understand:"
   ]
  },
  {
   "cell_type": "code",
   "execution_count": 4,
   "metadata": {},
   "outputs": [
    {
     "name": "stdout",
     "output_type": "stream",
     "text": [
      "This code works\n"
     ]
    }
   ],
   "source": [
    "# This is a comment line\n",
    "print(\"This code works\")"
   ]
  },
  {
   "cell_type": "markdown",
   "metadata": {},
   "source": [
    "### Basic Data Types and Operators\n",
    "\n"
   ]
  },
  {
   "cell_type": "markdown",
   "metadata": {},
   "source": [
    "**Text types** : str\n",
    "\n",
    "**Numeric types**: int , float , complex\n",
    "\n",
    "**Array types**: list , tuple , range\n",
    "\n",
    "**Addressing types**: dict\n",
    "\n",
    "**Set types**: set , frozenset\n",
    "\n",
    "**Logical types**: bool\n",
    "\n",
    "**Binary types**: bytes , bytearray , memoryview"
   ]
  },
  {
   "cell_type": "markdown",
   "metadata": {},
   "source": [
    "**int (Integer)**\n",
    "Represents integers. Can be negative, positive or zero."
   ]
  },
  {
   "cell_type": "markdown",
   "metadata": {},
   "source": [
    "| Data Type | Example |\n",
    "|-------------|--------------------------------|\n",
    "| **int** | 42, -7, 0 |\n",
    "| **float** | 3.14, -0.1, 2.0 |\n",
    "| **complex** | 1+2j, 3-4j |\n",
    "| **str** | 'hello', 'Python' |\n",
    "| **bool** | True, False |\n",
    "| **list** | [1, 2, 3], ['a', 'b'] |\n",
    "| **tuple** | (10, 20, 30) |\n",
    "| **set** | {1, 2, 3} |\n",
    "| **frozenset** | frozenset([1, 2, 3]) |\n",
    "| **dict** | {'key': 'value', 'x': 10} |\n",
    "| **NoneType** | None |"
   ]
  },
  {
   "cell_type": "markdown",
   "metadata": {},
   "source": [
    "**Numerical (Scalar) Data Types: int, float, complex**"
   ]
  },
  {
   "cell_type": "markdown",
   "metadata": {},
   "source": [
    "**int** Positive or negative integers (without a fractional part)"
   ]
  },
  {
   "cell_type": "code",
   "execution_count": 81,
   "metadata": {},
   "outputs": [],
   "source": [
    "a = 10       # int\n",
    "b = -5       # int\n",
    "c = 0        # int"
   ]
  },
  {
   "cell_type": "markdown",
   "metadata": {},
   "source": [
    "**float (Decimal Numbers)**\n",
    "Represents numbers that contain a decimal point."
   ]
  },
  {
   "cell_type": "code",
   "execution_count": 82,
   "metadata": {},
   "outputs": [],
   "source": [
    "pi = 3.14    # float\n",
    "negative = -7.2  # float"
   ]
  },
  {
   "cell_type": "markdown",
   "metadata": {},
   "source": [
    "**complex (Complex Numbers)** Complex numbers consist of a real part and an imaginary part."
   ]
  },
  {
   "cell_type": "code",
   "execution_count": 83,
   "metadata": {},
   "outputs": [
    {
     "name": "stdout",
     "output_type": "stream",
     "text": [
      "3.0\n",
      "4.0\n"
     ]
    }
   ],
   "source": [
    "z = 3 + 4j   # complex\n",
    "print(z.real)  # 3.0\n",
    "print(z.imag)  # 4.0"
   ]
  },
  {
   "cell_type": "markdown",
   "metadata": {},
   "source": [
    "**Text Types: str and String Operations**"
   ]
  },
  {
   "cell_type": "markdown",
   "metadata": {},
   "source": [
    "**str (String)**\n",
    "Represents textual data. It is written between double or single quotes."
   ]
  },
  {
   "cell_type": "code",
   "execution_count": 84,
   "metadata": {},
   "outputs": [],
   "source": [
    "greeting = \"Hello, World!\"  # str\n",
    "name = 'Rose'              # str"
   ]
  },
  {
   "cell_type": "markdown",
   "metadata": {},
   "source": [
    "**String Operations:**"
   ]
  },
  {
   "cell_type": "code",
   "execution_count": 5,
   "metadata": {},
   "outputs": [
    {
     "name": "stdout",
     "output_type": "stream",
     "text": [
      "Hello World\n"
     ]
    }
   ],
   "source": [
    "# Merge:\n",
    "\n",
    "first = \"Hello\"\n",
    "second = \"World\"\n",
    "combined = first + \" \" + second\n",
    "print(combined) # \"Hello World\""
   ]
  },
  {
   "cell_type": "code",
   "execution_count": 6,
   "metadata": {},
   "outputs": [
    {
     "name": "stdout",
     "output_type": "stream",
     "text": [
      "Python Python Python Python \n"
     ]
    }
   ],
   "source": [
    "# Again:\n",
    "\n",
    "print(\"Python \" * 4)  # \"Python Python Python\""
   ]
  },
  {
   "cell_type": "code",
   "execution_count": 7,
   "metadata": {},
   "outputs": [
    {
     "name": "stdout",
     "output_type": "stream",
     "text": [
      "5\n"
     ]
    }
   ],
   "source": [
    "## Finding Length:\n",
    "\n",
    "message = \"Hello\"\n",
    "print(len(message))  # 7"
   ]
  },
  {
   "cell_type": "code",
   "execution_count": 8,
   "metadata": {},
   "outputs": [
    {
     "name": "stdout",
     "output_type": "stream",
     "text": [
      "P\n",
      "n\n",
      "Pyt\n"
     ]
    }
   ],
   "source": [
    "# Substring Access:\n",
    "\n",
    "text = \"Python\"\n",
    "print(text[0]) # \"P\"\n",
    "print(text[-1]) # \"n\"\n",
    "print(text[0:3]) # \"Pyt\" (0 to 3)"
   ]
  },
  {
   "cell_type": "markdown",
   "metadata": {},
   "source": [
    "**Logical Data Types: bool**\n",
    "Logical values ​​take only two states: True and False."
   ]
  },
  {
   "cell_type": "code",
   "execution_count": 89,
   "metadata": {},
   "outputs": [],
   "source": [
    "is_active = True\n",
    "is_logged_in = False"
   ]
  },
  {
   "cell_type": "code",
   "execution_count": 9,
   "metadata": {},
   "outputs": [
    {
     "name": "stdout",
     "output_type": "stream",
     "text": [
      "True\n",
      "False\n"
     ]
    }
   ],
   "source": [
    "# Logical Operations:\n",
    "\n",
    "a = 5\n",
    "b = 10\n",
    "print(a < b) # True\n",
    "print(a == b) # False"
   ]
  },
  {
   "cell_type": "markdown",
   "metadata": {},
   "source": [
    "**None:** None represents the null object in Python. None is returned by functions that do not explicitly return a value."
   ]
  },
  {
   "cell_type": "markdown",
   "metadata": {},
   "source": [
    "**Variable Declaration and Dynamic Types** To define a variable in Python, you only need to assign a name and a value. You do not need to specify the type of the variable in advance."
   ]
  },
  {
   "cell_type": "code",
   "execution_count": 95,
   "metadata": {},
   "outputs": [],
   "source": [
    "age = 25         # int\n",
    "name = \"Alice\"   # str\n",
    "pi = 3.14        # float\n",
    "is_active = True # bool"
   ]
  },
  {
   "cell_type": "markdown",
   "metadata": {},
   "source": [
    "**Dynamic Type Assignment:** The type of a variable is automatically determined depending on the assigned value. It is also possible to switch between types."
   ]
  },
  {
   "cell_type": "code",
   "execution_count": 10,
   "metadata": {},
   "outputs": [],
   "source": [
    "x = 21 # int\n",
    "x = \"Hello\" # str (Type changed)"
   ]
  },
  {
   "cell_type": "markdown",
   "metadata": {},
   "source": [
    "**Type Conversions:**\n",
    "In some cases, we may need a type conversion."
   ]
  },
  {
   "cell_type": "code",
   "execution_count": 11,
   "metadata": {},
   "outputs": [
    {
     "name": "stdout",
     "output_type": "stream",
     "text": [
      "42\n",
      "3.14\n"
     ]
    }
   ],
   "source": [
    "# int -> str\n",
    "number = 42\n",
    "text = str(number)\n",
    "print(text)  # \"42\"\n",
    "\n",
    "# str -> float\n",
    "value = \"3.14\"\n",
    "number = float(value)\n",
    "print(number)  # 3.14"
   ]
  },
  {
   "cell_type": "markdown",
   "metadata": {},
   "source": [
    "#### PEP 8 (Python Enhancement Proposal 8)\n",
    "\n",
    "This is the recommended style guide for writing code in the Python programming language. This guide was created to improve the readability of the code and provide a consistent coding standard for the Python community. Here are the basic rules of PEP 8:"
   ]
  },
  {
   "cell_type": "markdown",
   "metadata": {},
   "source": [
    "**Code Layout and Indentation**\n",
    "Indentations: Use 4 spaces (not tabs) to denote code blocks."
   ]
  },
  {
   "cell_type": "code",
   "execution_count": 12,
   "metadata": {},
   "outputs": [
    {
     "name": "stdout",
     "output_type": "stream",
     "text": [
      "Indentation example\n"
     ]
    }
   ],
   "source": [
    "if True:\n",
    "    print(\"Indentation example\")"
   ]
  },
  {
   "cell_type": "markdown",
   "metadata": {},
   "source": [
    "**Using Spaces**\n",
    "\n",
    "Operators and Commas: Use a space before and after arithmetic and comparison operators."
   ]
  },
  {
   "cell_type": "code",
   "execution_count": 16,
   "metadata": {},
   "outputs": [
    {
     "name": "stdout",
     "output_type": "stream",
     "text": [
      "4.0\n"
     ]
    }
   ],
   "source": [
    "x = 5 + 3\n",
    "y = (x * 2) / 4\n",
    "print(y)"
   ]
  },
  {
   "cell_type": "markdown",
   "metadata": {},
   "source": [
    "Function Parameters: Do not leave spaces between parameters in parentheses and operators."
   ]
  },
  {
   "cell_type": "code",
   "execution_count": 15,
   "metadata": {},
   "outputs": [],
   "source": [
    "def my_function(function1, function2):\n",
    "    pass"
   ]
  },
  {
   "cell_type": "markdown",
   "metadata": {},
   "source": [
    "**Blank Lines:**\n",
    "\n",
    "Leave two blank lines between functions and classes.\n",
    "You can use a blank line to separate sections within a function."
   ]
  },
  {
   "cell_type": "code",
   "execution_count": 17,
   "metadata": {},
   "outputs": [],
   "source": [
    "def my_function_one():\n",
    "    # Part 1\n",
    "    pass\n",
    "\n",
    "    # Part 2\n",
    "    pass\n",
    "\n",
    "\n",
    "def my_function_two():\n",
    "    # Part 1\n",
    "    pass\n",
    "\n",
    "    # Part 2\n",
    "    pass"
   ]
  },
  {
   "cell_type": "markdown",
   "metadata": {},
   "source": [
    "**In Lists and Dictionaries:** Do not leave spaces between the elements inside the parentheses."
   ]
  },
  {
   "cell_type": "code",
   "execution_count": 105,
   "metadata": {},
   "outputs": [],
   "source": [
    "my_list = [1, 2, 3]\n",
    "my_dict = {\"key\": \"value\"}"
   ]
  },
  {
   "cell_type": "markdown",
   "metadata": {},
   "source": [
    "**Docstring Usage:** Add comments for functions, classes, and modules using triple quotation marks (\"\"\")."
   ]
  },
  {
   "cell_type": "code",
   "execution_count": 19,
   "metadata": {},
   "outputs": [],
   "source": [
    "def total(a, b):\n",
    "    \"\"\"\n",
    "    This function adds two numbers and returns the result.\n",
    "\n",
    "    Parameters:\n",
    "    a (int): First number to add.\n",
    "    b (int): Second number to add.\n",
    "\n",
    "    Returns:\n",
    "    int: Total.\n",
    "    \"\"\"\n",
    "    return a + b"
   ]
  },
  {
   "cell_type": "markdown",
   "metadata": {},
   "source": [
    "- Start with a Letter and Underscore: Identifiers must start with a letter (A-Z, a-z) or an underscore (_). They cannot start with a number."
   ]
  },
  {
   "cell_type": "code",
   "execution_count": 20,
   "metadata": {},
   "outputs": [],
   "source": [
    "my_variable = 10 # Valid\n",
    "_hidden = 42 # Valid\n",
    "variable = 20 # Invalid"
   ]
  },
  {
   "cell_type": "markdown",
   "metadata": {},
   "source": [
    "- Alphanumeric and Underscore: Identifiers can contain letters, numbers, and underscores (_)."
   ]
  },
  {
   "cell_type": "code",
   "execution_count": 23,
   "metadata": {},
   "outputs": [
    {
     "ename": "SyntaxError",
     "evalue": "cannot assign to expression here. Maybe you meant '==' instead of '='? (3620419572.py, line 2)",
     "output_type": "error",
     "traceback": [
      "\u001b[1;36m  Cell \u001b[1;32mIn[23], line 2\u001b[1;36m\u001b[0m\n\u001b[1;33m    my-var = 10 # Invalid\u001b[0m\n\u001b[1;37m    ^\u001b[0m\n\u001b[1;31mSyntaxError\u001b[0m\u001b[1;31m:\u001b[0m cannot assign to expression here. Maybe you meant '==' instead of '='?\n"
     ]
    }
   ],
   "source": [
    "var123 = \"hello\" # Valid\n",
    "my-var = 10 # Invalid"
   ]
  },
  {
   "cell_type": "markdown",
   "metadata": {},
   "source": [
    "- Case Sensitivity: Python is case sensitive. For example, MyVar and myvar are different variables."
   ]
  },
  {
   "cell_type": "markdown",
   "metadata": {},
   "source": [
    "- Special Characters Cannot contain spaces. Special characters (%, $, @ etc.) cannot be used."
   ]
  },
  {
   "cell_type": "code",
   "execution_count": 24,
   "metadata": {},
   "outputs": [
    {
     "ename": "SyntaxError",
     "evalue": "invalid syntax (4049929306.py, line 1)",
     "output_type": "error",
     "traceback": [
      "\u001b[1;36m  Cell \u001b[1;32mIn[24], line 1\u001b[1;36m\u001b[0m\n\u001b[1;33m    my variable = 10  # Invalid\u001b[0m\n\u001b[1;37m       ^\u001b[0m\n\u001b[1;31mSyntaxError\u001b[0m\u001b[1;31m:\u001b[0m invalid syntax\n"
     ]
    }
   ],
   "source": [
    "my variable = 10  # Invalid"
   ]
  },
  {
   "cell_type": "markdown",
   "metadata": {},
   "source": [
    "- Avoid Reserved Words\n",
    "\n",
    "Python keywords (e.g. if, else, True, class) cannot be used as identifiers."
   ]
  },
  {
   "cell_type": "code",
   "execution_count": 25,
   "metadata": {},
   "outputs": [
    {
     "ename": "SyntaxError",
     "evalue": "invalid syntax (515651389.py, line 1)",
     "output_type": "error",
     "traceback": [
      "\u001b[1;36m  Cell \u001b[1;32mIn[25], line 1\u001b[1;36m\u001b[0m\n\u001b[1;33m    class = 10 # Invalid\u001b[0m\n\u001b[1;37m          ^\u001b[0m\n\u001b[1;31mSyntaxError\u001b[0m\u001b[1;31m:\u001b[0m invalid syntax\n"
     ]
    }
   ],
   "source": [
    "class = 10 # Invalid\n",
    "True _ 10 # Invalid"
   ]
  },
  {
   "cell_type": "markdown",
   "metadata": {},
   "source": [
    "**Naming Conventions**"
   ]
  },
  {
   "cell_type": "code",
   "execution_count": 26,
   "metadata": {},
   "outputs": [],
   "source": [
    "# Snake Case (variables and functions): Use lowercase letters and underscores.\n",
    "\n",
    "my_variable = 10\n",
    "def my_function():\n",
    "    pass"
   ]
  },
  {
   "cell_type": "code",
   "execution_count": 27,
   "metadata": {},
   "outputs": [],
   "source": [
    "# Pascal Case (class names): The first letter of each word is capitalized.\n",
    "\n",
    "class MyClass:\n",
    "    pass"
   ]
  },
  {
   "cell_type": "code",
   "execution_count": 28,
   "metadata": {},
   "outputs": [],
   "source": [
    "# Special Methods: Names are preceded and followed by double underscores\n",
    "# (__init__, __str__)"
   ]
  },
  {
   "cell_type": "code",
   "execution_count": 29,
   "metadata": {},
   "outputs": [],
   "source": [
    "# Constants: All capital letters, words separated by underscores.\n",
    "\n",
    "PI = 3.14\n",
    "MAX_LIMIT = 100"
   ]
  },
  {
   "cell_type": "markdown",
   "metadata": {},
   "source": [
    "- Special Meaningful Names\n",
    "\n",
    "- Underscore at the Beginning: _variable usually indicates protected variables.\n",
    "\n",
    "- Double Underscore at the Beginning and End: __init__, __str__, etc. special (magic/double underscore) methods.\n",
    "\n",
    "- Single Underscore at the End: Used to avoid conflict."
   ]
  },
  {
   "cell_type": "code",
   "execution_count": 30,
   "metadata": {},
   "outputs": [],
   "source": [
    "def function_():\n",
    "    pass"
   ]
  },
  {
   "cell_type": "code",
   "execution_count": 31,
   "metadata": {},
   "outputs": [],
   "source": [
    "# Meaningful and Descriptive Names\n",
    "# Variable and function names should clearly state what they represent or do.\n",
    "\n",
    "total_price = 100.50 # Meaningful\n",
    "x = 100.50 # Meaningless"
   ]
  },
  {
   "cell_type": "markdown",
   "metadata": {},
   "source": [
    "### Data Types Conversion"
   ]
  },
  {
   "cell_type": "code",
   "execution_count": 32,
   "metadata": {},
   "outputs": [
    {
     "name": "stdout",
     "output_type": "stream",
     "text": [
      "4\n",
      "<class 'int'>\n"
     ]
    }
   ],
   "source": [
    "a = 4\n",
    "\n",
    "print(a)          # 4\n",
    "print(type(a))    # <class 'int'>"
   ]
  },
  {
   "cell_type": "code",
   "execution_count": 33,
   "metadata": {},
   "outputs": [
    {
     "name": "stdout",
     "output_type": "stream",
     "text": [
      "4.0\n",
      "<class 'float'>\n"
     ]
    }
   ],
   "source": [
    "a = float(a)\n",
    "\n",
    "print(a)          # 4.0\n",
    "print(type(a))    # <class 'float'>"
   ]
  },
  {
   "cell_type": "code",
   "execution_count": 34,
   "metadata": {},
   "outputs": [
    {
     "name": "stdout",
     "output_type": "stream",
     "text": [
      "<class 'int'>\n"
     ]
    }
   ],
   "source": [
    "a = 4\n",
    "\n",
    "print(type(a))    # <class 'int'>\n"
   ]
  },
  {
   "cell_type": "code",
   "execution_count": 35,
   "metadata": {},
   "outputs": [
    {
     "name": "stdout",
     "output_type": "stream",
     "text": [
      "<class 'str'>\n"
     ]
    }
   ],
   "source": [
    "a = str(a)\n",
    "\n",
    "print(type(a))    # <class 'str'>"
   ]
  },
  {
   "cell_type": "code",
   "execution_count": 36,
   "metadata": {},
   "outputs": [],
   "source": [
    "x = 3    # int\n",
    "\n",
    "a = float(x)\n"
   ]
  },
  {
   "cell_type": "code",
   "execution_count": 37,
   "metadata": {},
   "outputs": [
    {
     "name": "stdout",
     "output_type": "stream",
     "text": [
      "3.0\n",
      "<class 'float'>\n"
     ]
    }
   ],
   "source": [
    "print(a)            # 3.0\n",
    "\n",
    "print(type(a))      # <class 'float'>"
   ]
  },
  {
   "cell_type": "code",
   "execution_count": 38,
   "metadata": {},
   "outputs": [],
   "source": [
    "x = 7.3    # float\n",
    "\n",
    "a = int(x)"
   ]
  },
  {
   "cell_type": "code",
   "execution_count": 39,
   "metadata": {},
   "outputs": [
    {
     "name": "stdout",
     "output_type": "stream",
     "text": [
      "7\n",
      "<class 'int'>\n"
     ]
    }
   ],
   "source": [
    "print(a)            # 7\n",
    "\n",
    "print(type(a))      # <class 'int'>"
   ]
  },
  {
   "cell_type": "code",
   "execution_count": 40,
   "metadata": {},
   "outputs": [
    {
     "data": {
      "text/plain": [
       "'2.13'"
      ]
     },
     "execution_count": 40,
     "metadata": {},
     "output_type": "execute_result"
    }
   ],
   "source": [
    "# This change is not permanent.\n",
    "\n",
    "height = 2.13\n",
    "str(height)"
   ]
  },
  {
   "cell_type": "code",
   "execution_count": 41,
   "metadata": {},
   "outputs": [
    {
     "data": {
      "text/plain": [
       "float"
      ]
     },
     "execution_count": 41,
     "metadata": {},
     "output_type": "execute_result"
    }
   ],
   "source": [
    "type(height)"
   ]
  },
  {
   "cell_type": "code",
   "execution_count": 42,
   "metadata": {},
   "outputs": [
    {
     "data": {
      "text/plain": [
       "str"
      ]
     },
     "execution_count": 42,
     "metadata": {},
     "output_type": "execute_result"
    }
   ],
   "source": [
    "height_str = str(height)  # I need to redefine\n",
    "type(height_str)"
   ]
  },
  {
   "cell_type": "code",
   "execution_count": 43,
   "metadata": {},
   "outputs": [
    {
     "data": {
      "text/plain": [
       "str"
      ]
     },
     "execution_count": 43,
     "metadata": {},
     "output_type": "execute_result"
    }
   ],
   "source": [
    "type(height_str)"
   ]
  },
  {
   "cell_type": "code",
   "execution_count": 44,
   "metadata": {},
   "outputs": [
    {
     "data": {
      "text/plain": [
       "str"
      ]
     },
     "execution_count": 44,
     "metadata": {},
     "output_type": "execute_result"
    }
   ],
   "source": [
    "# int to str\n",
    "\n",
    "student_number = 82\n",
    "student_number = str(student_number)\n",
    "type(student_number)"
   ]
  },
  {
   "cell_type": "code",
   "execution_count": 45,
   "metadata": {},
   "outputs": [
    {
     "name": "stdout",
     "output_type": "stream",
     "text": [
      "42\n",
      "3.14\n"
     ]
    }
   ],
   "source": [
    "# int -> str\n",
    "number = 42\n",
    "text = str(number)\n",
    "print(text)  # \"42\"\n",
    "\n",
    "# str -> float\n",
    "value = \"3.14\"\n",
    "number = float(value)\n",
    "print(number)  # 3.14"
   ]
  },
  {
   "cell_type": "code",
   "execution_count": 46,
   "metadata": {},
   "outputs": [
    {
     "data": {
      "text/plain": [
       "'True'"
      ]
     },
     "execution_count": 46,
     "metadata": {},
     "output_type": "execute_result"
    }
   ],
   "source": [
    "# bool to str\n",
    "\n",
    "isScheduled = True \n",
    "str(isScheduled)"
   ]
  },
  {
   "cell_type": "code",
   "execution_count": 47,
   "metadata": {},
   "outputs": [
    {
     "ename": "ValueError",
     "evalue": "invalid literal for int() with base 10: 'Hello World'",
     "output_type": "error",
     "traceback": [
      "\u001b[1;31m---------------------------------------------------------------------------\u001b[0m",
      "\u001b[1;31mValueError\u001b[0m                                Traceback (most recent call last)",
      "Cell \u001b[1;32mIn[47], line 4\u001b[0m\n\u001b[0;32m      1\u001b[0m \u001b[38;5;66;03m# str to int\u001b[39;00m\n\u001b[0;32m      2\u001b[0m \u001b[38;5;66;03m# If a string is similar to an integer, it can be converted to an integer, otherwise it cannot be converted. \u001b[39;00m\n\u001b[1;32m----> 4\u001b[0m \u001b[38;5;28;43mint\u001b[39;49m\u001b[43m(\u001b[49m\u001b[38;5;124;43m'\u001b[39;49m\u001b[38;5;124;43mHello World\u001b[39;49m\u001b[38;5;124;43m'\u001b[39;49m\u001b[43m)\u001b[49m\n",
      "\u001b[1;31mValueError\u001b[0m: invalid literal for int() with base 10: 'Hello World'"
     ]
    }
   ],
   "source": [
    "# str to int\n",
    "# If a string is similar to an integer, it can be converted to an integer, otherwise it cannot be converted. \n",
    "\n",
    "int('Hello World')"
   ]
  },
  {
   "cell_type": "code",
   "execution_count": 48,
   "metadata": {},
   "outputs": [
    {
     "ename": "ValueError",
     "evalue": "invalid literal for int() with base 10: '180.89'",
     "output_type": "error",
     "traceback": [
      "\u001b[1;31m---------------------------------------------------------------------------\u001b[0m",
      "\u001b[1;31mValueError\u001b[0m                                Traceback (most recent call last)",
      "Cell \u001b[1;32mIn[48], line 4\u001b[0m\n\u001b[0;32m      1\u001b[0m \u001b[38;5;66;03m# If we try to convert a float expression directly to integer, we will get an error. The expression must first be converted to float and then from float to integer.\u001b[39;00m\n\u001b[0;32m      3\u001b[0m y \u001b[38;5;241m=\u001b[39m \u001b[38;5;124m'\u001b[39m\u001b[38;5;124m180.89\u001b[39m\u001b[38;5;124m'\u001b[39m\n\u001b[1;32m----> 4\u001b[0m \u001b[38;5;28;43mint\u001b[39;49m\u001b[43m(\u001b[49m\u001b[43my\u001b[49m\u001b[43m)\u001b[49m\n",
      "\u001b[1;31mValueError\u001b[0m: invalid literal for int() with base 10: '180.89'"
     ]
    }
   ],
   "source": [
    "# If we try to convert a float expression directly to integer, we will get an error. The expression must first be converted to float and then from float to integer.\n",
    "\n",
    "y = '180.89'\n",
    "int(y)"
   ]
  },
  {
   "cell_type": "code",
   "execution_count": 49,
   "metadata": {},
   "outputs": [
    {
     "data": {
      "text/plain": [
       "180"
      ]
     },
     "execution_count": 49,
     "metadata": {},
     "output_type": "execute_result"
    }
   ],
   "source": [
    "# When converting a float number to integers, Python discards the part after the decimal point.\n",
    "\n",
    "int(float(y))"
   ]
  },
  {
   "cell_type": "code",
   "execution_count": 50,
   "metadata": {},
   "outputs": [
    {
     "data": {
      "text/plain": [
       "1"
      ]
     },
     "execution_count": 50,
     "metadata": {},
     "output_type": "execute_result"
    }
   ],
   "source": [
    "# bool to int\n",
    "# True represents existence.\n",
    "\n",
    "int(True) "
   ]
  },
  {
   "cell_type": "code",
   "execution_count": 51,
   "metadata": {},
   "outputs": [
    {
     "data": {
      "text/plain": [
       "0"
      ]
     },
     "execution_count": 51,
     "metadata": {},
     "output_type": "execute_result"
    }
   ],
   "source": [
    "# Represents absence.\n",
    "\n",
    "int(False)"
   ]
  },
  {
   "cell_type": "code",
   "execution_count": 53,
   "metadata": {},
   "outputs": [
    {
     "name": "stdout",
     "output_type": "stream",
     "text": [
      "7\n",
      "8\n",
      "8\n"
     ]
    }
   ],
   "source": [
    "x = 7.3\n",
    "y = 7.5\n",
    "z = 7.8\n",
    "\n",
    "a = round(x)\n",
    "b = round(y)\n",
    "c = round(z)\n",
    "\n",
    "print(a)    # 7\n",
    "print(b)    # 8\n",
    "print(c)    # 8"
   ]
  },
  {
   "cell_type": "markdown",
   "metadata": {},
   "source": [
    "**Operators (Arithmetic Operations)** In Python, operators are used to perform operations on variables."
   ]
  },
  {
   "cell_type": "code",
   "execution_count": 55,
   "metadata": {},
   "outputs": [
    {
     "name": "stdout",
     "output_type": "stream",
     "text": [
      "14\n",
      "6\n",
      "40\n",
      "2.5\n",
      "2\n",
      "2\n",
      "10000\n"
     ]
    }
   ],
   "source": [
    "a = 10\n",
    "b = 4\n",
    "print(a + b) # Addition: 13\n",
    "print(a - b) # Subtraction: 7\n",
    "print(a * b) # Multiplication: 30\n",
    "print(a / b) # Division: 3.333...\n",
    "print(a // b) # Floor division: 3\n",
    "print(a % b) # Modulus: 1\n",
    "print(a ** b) # Exponentiation: 1000"
   ]
  },
  {
   "cell_type": "code",
   "execution_count": 56,
   "metadata": {},
   "outputs": [
    {
     "data": {
      "text/plain": [
       "float"
      ]
     },
     "execution_count": 56,
     "metadata": {},
     "output_type": "execute_result"
    }
   ],
   "source": [
    "# The result of the division operation is a float.\n",
    "\n",
    "30 / 6\n",
    "type (30 / 6)"
   ]
  },
  {
   "cell_type": "code",
   "execution_count": 57,
   "metadata": {},
   "outputs": [
    {
     "data": {
      "text/plain": [
       "int"
      ]
     },
     "execution_count": 57,
     "metadata": {},
     "output_type": "execute_result"
    }
   ],
   "source": [
    "# If we don't want the result as a float, but it is required as an integer, then we can use full division '//'. It does not round, it just drops the part after the decimal point.\n",
    "30 // 3\n",
    "type (30 // 3)"
   ]
  },
  {
   "cell_type": "code",
   "execution_count": 58,
   "metadata": {},
   "outputs": [
    {
     "data": {
      "text/plain": [
       "1"
      ]
     },
     "execution_count": 58,
     "metadata": {},
     "output_type": "execute_result"
    }
   ],
   "source": [
    "# % -> gives the remainder of the division.\n",
    "\n",
    "21 % 5"
   ]
  },
  {
   "cell_type": "code",
   "execution_count": 59,
   "metadata": {},
   "outputs": [
    {
     "data": {
      "text/plain": [
       "27"
      ]
     },
     "execution_count": 59,
     "metadata": {},
     "output_type": "execute_result"
    }
   ],
   "source": [
    "#3 to the 3rd power (3 cubed)\n",
    "\n",
    "3 ** 3"
   ]
  },
  {
   "cell_type": "code",
   "execution_count": 60,
   "metadata": {},
   "outputs": [
    {
     "data": {
      "text/plain": [
       "27"
      ]
     },
     "execution_count": 60,
     "metadata": {},
     "output_type": "execute_result"
    }
   ],
   "source": [
    "# Pow comes from power, it is a function used to take exponents.\n",
    "\n",
    "pow(3, 3)"
   ]
  },
  {
   "cell_type": "code",
   "execution_count": 61,
   "metadata": {},
   "outputs": [
    {
     "data": {
      "text/plain": [
       "5.0"
      ]
     },
     "execution_count": 61,
     "metadata": {},
     "output_type": "execute_result"
    }
   ],
   "source": [
    "# There is no function specified in Python to get the root.\n",
    "\n",
    "25 ** 0.5"
   ]
  },
  {
   "cell_type": "code",
   "execution_count": 62,
   "metadata": {},
   "outputs": [
    {
     "data": {
      "text/plain": [
       "5.0"
      ]
     },
     "execution_count": 62,
     "metadata": {},
     "output_type": "execute_result"
    }
   ],
   "source": [
    "25 ** (1/2)"
   ]
  },
  {
   "cell_type": "code",
   "execution_count": 63,
   "metadata": {},
   "outputs": [
    {
     "data": {
      "text/plain": [
       "12.5"
      ]
     },
     "execution_count": 63,
     "metadata": {},
     "output_type": "execute_result"
    }
   ],
   "source": [
    "# Since exponentiation comes before division in the operation priority, the desired result could not be obtained in the output.\n",
    "\n",
    "25 ** 1/2"
   ]
  },
  {
   "cell_type": "markdown",
   "metadata": {},
   "source": [
    "**Operation Priority**\n",
    "\n",
    "- Parentheses\n",
    "- Exponents\n",
    "- Multiplication and division\n",
    "- Addition and subtraction"
   ]
  },
  {
   "cell_type": "code",
   "execution_count": 64,
   "metadata": {},
   "outputs": [
    {
     "data": {
      "text/plain": [
       "96"
      ]
     },
     "execution_count": 64,
     "metadata": {},
     "output_type": "execute_result"
    }
   ],
   "source": [
    "x = (4 + 3 * 2) ** 2 + (120 // (5 * 4) - 10)\n",
    "x"
   ]
  },
  {
   "cell_type": "markdown",
   "metadata": {},
   "source": [
    "**Comparison Operators**\n",
    "Returns True or False as a result."
   ]
  },
  {
   "cell_type": "code",
   "execution_count": 65,
   "metadata": {},
   "outputs": [
    {
     "name": "stdout",
     "output_type": "stream",
     "text": [
      "False\n",
      "True\n",
      "False\n",
      "True\n"
     ]
    }
   ],
   "source": [
    "x = 5\n",
    "y = 10\n",
    "print(x == y) # Is it equal: False\n",
    "print(x != y) # Is it not equal: True\n",
    "print(x > y) # Is it greater than: False\n",
    "print(x < y) # Is it less than: True"
   ]
  },
  {
   "cell_type": "code",
   "execution_count": 66,
   "metadata": {},
   "outputs": [
    {
     "data": {
      "text/plain": [
       "False"
      ]
     },
     "execution_count": 66,
     "metadata": {},
     "output_type": "execute_result"
    }
   ],
   "source": [
    "type(7) == type(7.0)"
   ]
  },
  {
   "cell_type": "code",
   "execution_count": 67,
   "metadata": {},
   "outputs": [
    {
     "data": {
      "text/plain": [
       "True"
      ]
     },
     "execution_count": 67,
     "metadata": {},
     "output_type": "execute_result"
    }
   ],
   "source": [
    "int(8.9) == 8"
   ]
  },
  {
   "cell_type": "code",
   "execution_count": 68,
   "metadata": {},
   "outputs": [
    {
     "data": {
      "text/plain": [
       "False"
      ]
     },
     "execution_count": 68,
     "metadata": {},
     "output_type": "execute_result"
    }
   ],
   "source": [
    "# Isn't it equal?\n",
    "\n",
    "5 != 5     "
   ]
  },
  {
   "cell_type": "code",
   "execution_count": 69,
   "metadata": {},
   "outputs": [
    {
     "data": {
      "text/plain": [
       "True"
      ]
     },
     "execution_count": 69,
     "metadata": {},
     "output_type": "execute_result"
    }
   ],
   "source": [
    "False <= 0"
   ]
  },
  {
   "cell_type": "code",
   "execution_count": 70,
   "metadata": {},
   "outputs": [
    {
     "data": {
      "text/plain": [
       "True"
      ]
     },
     "execution_count": 70,
     "metadata": {},
     "output_type": "execute_result"
    }
   ],
   "source": [
    "True > 0.9"
   ]
  },
  {
   "cell_type": "code",
   "execution_count": 71,
   "metadata": {},
   "outputs": [
    {
     "data": {
      "text/plain": [
       "False"
      ]
     },
     "execution_count": 71,
     "metadata": {},
     "output_type": "execute_result"
    }
   ],
   "source": [
    "type(7) == type(7.0)"
   ]
  },
  {
   "cell_type": "markdown",
   "metadata": {},
   "source": [
    "**Falsy / Truthy Values**"
   ]
  },
  {
   "cell_type": "code",
   "execution_count": 72,
   "metadata": {},
   "outputs": [
    {
     "name": "stdout",
     "output_type": "stream",
     "text": [
      "0 False\n",
      "0.0 False\n",
      "False False\n",
      "'' False\n"
     ]
    }
   ],
   "source": [
    "# 0, 0.0, False, '', (), {}, [], None\n",
    "\n",
    "print(f'0 {bool(0)}')\n",
    "print(f'0.0 {bool(0.0)}')\n",
    "print(f'False {bool(False)}')\n",
    "print(f\"'' {bool('')}\")"
   ]
  },
  {
   "cell_type": "markdown",
   "metadata": {},
   "source": [
    "**Logic Operators(Logic Expressions)**\n",
    "Used to combine logical expressions."
   ]
  },
  {
   "cell_type": "code",
   "execution_count": 73,
   "metadata": {},
   "outputs": [
    {
     "name": "stdout",
     "output_type": "stream",
     "text": [
      "False\n",
      "True\n",
      "False\n"
     ]
    }
   ],
   "source": [
    "x = True\n",
    "y = False\n",
    "print(x and y) # Are both true: False\n",
    "print(x or y) # Are either true: True\n",
    "print(not x) # Reverse: False"
   ]
  },
  {
   "cell_type": "markdown",
   "metadata": {},
   "source": [
    "Process Priority\n",
    "\n",
    "- 1.not\n",
    "- 2.and\n",
    "- 3.or"
   ]
  },
  {
   "cell_type": "code",
   "execution_count": 74,
   "metadata": {},
   "outputs": [],
   "source": [
    "# and -> Looks for False!\n",
    "# If all are true, it prints the last element.\n",
    "# If there is even one false, it prints the first false it sees.\n",
    "# We will use and when all conditions are met.\n",
    "# It is a perfectionist."
   ]
  },
  {
   "cell_type": "code",
   "execution_count": 75,
   "metadata": {},
   "outputs": [
    {
     "data": {
      "text/plain": [
       "''"
      ]
     },
     "execution_count": 75,
     "metadata": {},
     "output_type": "execute_result"
    }
   ],
   "source": [
    "'a' and '' and 8 and {}"
   ]
  },
  {
   "cell_type": "code",
   "execution_count": 76,
   "metadata": {},
   "outputs": [
    {
     "data": {
      "text/plain": [
       "'Melisa'"
      ]
     },
     "execution_count": 76,
     "metadata": {},
     "output_type": "execute_result"
    }
   ],
   "source": [
    "6 and 9 and 'Melisa'"
   ]
  },
  {
   "cell_type": "code",
   "execution_count": 77,
   "metadata": {},
   "outputs": [],
   "source": [
    "# or -> Searches for True value!\n",
    "# If all are false, it returns the last element, if there is even one true, it returns the first true expression it sees."
   ]
  },
  {
   "cell_type": "code",
   "execution_count": 78,
   "metadata": {},
   "outputs": [
    {
     "data": {
      "text/plain": [
       "8"
      ]
     },
     "execution_count": 78,
     "metadata": {},
     "output_type": "execute_result"
    }
   ],
   "source": [
    "8 or 0 or 'Ankara'"
   ]
  },
  {
   "cell_type": "code",
   "execution_count": 79,
   "metadata": {},
   "outputs": [
    {
     "data": {
      "text/plain": [
       "8"
      ]
     },
     "execution_count": 79,
     "metadata": {},
     "output_type": "execute_result"
    }
   ],
   "source": [
    "0 or '' or [] or 8 or 'İstanbul'"
   ]
  },
  {
   "cell_type": "code",
   "execution_count": 80,
   "metadata": {},
   "outputs": [
    {
     "data": {
      "text/plain": [
       "0.1"
      ]
     },
     "execution_count": 80,
     "metadata": {},
     "output_type": "execute_result"
    }
   ],
   "source": [
    "False or (False and 'Aylin' or not '' and (0 or 0.1))"
   ]
  },
  {
   "cell_type": "markdown",
   "metadata": {},
   "source": [
    "### Using print, f-string, format, input, Escape Sequences and ASCII in Python"
   ]
  },
  {
   "cell_type": "markdown",
   "metadata": {},
   "source": [
    "**print() Function** is used to give output to the screen."
   ]
  },
  {
   "cell_type": "code",
   "execution_count": 81,
   "metadata": {},
   "outputs": [
    {
     "name": "stdout",
     "output_type": "stream",
     "text": [
      "Hello, World!\n"
     ]
    }
   ],
   "source": [
    "print(\"Hello, World!\") # Output: Hello, World!"
   ]
  },
  {
   "cell_type": "code",
   "execution_count": 82,
   "metadata": {},
   "outputs": [
    {
     "name": "stdout",
     "output_type": "stream",
     "text": [
      "Help on built-in function print in module builtins:\n",
      "\n",
      "print(*args, sep=' ', end='\\n', file=None, flush=False)\n",
      "    Prints the values to a stream, or to sys.stdout by default.\n",
      "\n",
      "    sep\n",
      "      string inserted between values, default a space.\n",
      "    end\n",
      "      string appended after the last value, default a newline.\n",
      "    file\n",
      "      a file-like object (stream); defaults to the current sys.stdout.\n",
      "    flush\n",
      "      whether to forcibly flush the stream.\n",
      "\n"
     ]
    }
   ],
   "source": [
    "# Returns you the details of the function.\n",
    "\n",
    "help(print)"
   ]
  },
  {
   "cell_type": "code",
   "execution_count": 83,
   "metadata": {},
   "outputs": [
    {
     "name": "stdout",
     "output_type": "stream",
     "text": [
      "Python programming language\n"
     ]
    }
   ],
   "source": [
    "# Printing Multiple Values:\n",
    "\n",
    "print(\"Python\", \"programming\", \"language\") # Output: Python programming language\n"
   ]
  },
  {
   "cell_type": "code",
   "execution_count": 84,
   "metadata": {},
   "outputs": [
    {
     "name": "stdout",
     "output_type": "stream",
     "text": [
      "8\n"
     ]
    }
   ],
   "source": [
    "# Also Expression Usage:\n",
    "\n",
    "print(3 + 5) # Output: 8"
   ]
  },
  {
   "cell_type": "markdown",
   "metadata": {},
   "source": [
    "#### Special Parameters:\n",
    "sep (separator): Specifies what to put between the printed values."
   ]
  },
  {
   "cell_type": "code",
   "execution_count": 85,
   "metadata": {},
   "outputs": [
    {
     "name": "stdout",
     "output_type": "stream",
     "text": [
      "Python- C- Java\n"
     ]
    }
   ],
   "source": [
    "print(\"Python\", \"C\", \"Java\", sep=\"- \") # Output: Python, C, Java"
   ]
  },
  {
   "cell_type": "markdown",
   "metadata": {},
   "source": [
    "end: Specifies what to append to the end of the output (a line break is added by default)."
   ]
  },
  {
   "cell_type": "code",
   "execution_count": 86,
   "metadata": {},
   "outputs": [
    {
     "name": "stdout",
     "output_type": "stream",
     "text": [
      "Hello!"
     ]
    }
   ],
   "source": [
    "print(\"Hello\", end=\"!\") # Output: Hello!"
   ]
  },
  {
   "cell_type": "markdown",
   "metadata": {},
   "source": [
    "**f-string (Formatted Strings)**\n",
    "Available in Python 3.6 and later. Allows you to easily use variables in text."
   ]
  },
  {
   "cell_type": "code",
   "execution_count": 87,
   "metadata": {},
   "outputs": [
    {
     "name": "stdout",
     "output_type": "stream",
     "text": [
      "Hello, my name is Alice and I am 25 years old.\n"
     ]
    }
   ],
   "source": [
    "name = \"Alice\"\n",
    "age = 25\n",
    "print(f\"Hello, my name is {name} and I am {age} years old.\")\n",
    "# Output: Hello, my name is Alice and I am 25 years old."
   ]
  },
  {
   "cell_type": "code",
   "execution_count": 88,
   "metadata": {},
   "outputs": [
    {
     "name": "stdout",
     "output_type": "stream",
     "text": [
      "Name: Rose Job: Instructor Country: Turkey\n"
     ]
    }
   ],
   "source": [
    "# We can write variable names inside curly brackets.\n",
    "# We can also use Python codes inside curly brackets.\n",
    "\n",
    "name = 'Rose'\n",
    "job = 'Instructor'\n",
    "country = 'Turkey'\n",
    "print(f'Name: {name} Job: {job} Country: {country}')"
   ]
  },
  {
   "cell_type": "markdown",
   "metadata": {},
   "source": [
    "**Mathematical Operations and Expressions:**"
   ]
  },
  {
   "cell_type": "code",
   "execution_count": 89,
   "metadata": {},
   "outputs": [
    {
     "name": "stdout",
     "output_type": "stream",
     "text": [
      "5 + 10 = 15\n"
     ]
    }
   ],
   "source": [
    "a = 5\n",
    "b = 10\n",
    "print(f\"{a} + {b} = {a + b}\") # Output: 5 + 10 = 15"
   ]
  },
  {
   "cell_type": "markdown",
   "metadata": {},
   "source": [
    "**Rounding Operations:**"
   ]
  },
  {
   "cell_type": "code",
   "execution_count": 90,
   "metadata": {},
   "outputs": [
    {
     "name": "stdout",
     "output_type": "stream",
     "text": [
      "Pi is approximately 3.14\n"
     ]
    }
   ],
   "source": [
    "pi = 3.14159\n",
    "print(f\"Pi is approximately {pi:.2f}\") # Output: Pi is approximately 3.14"
   ]
  },
  {
   "cell_type": "markdown",
   "metadata": {},
   "source": [
    "**format() Method**\n",
    "Used to place variables."
   ]
  },
  {
   "cell_type": "code",
   "execution_count": 91,
   "metadata": {},
   "outputs": [
    {
     "name": "stdout",
     "output_type": "stream",
     "text": [
      "My name is Jake and I am 30 years old.\n"
     ]
    }
   ],
   "source": [
    "name = \"Jake\"\n",
    "age = 30\n",
    "print(\"My name is {} and I am {} years old.\".format(name, age))\n",
    "# Output: My name is Jake and I am 30 years old."
   ]
  },
  {
   "cell_type": "markdown",
   "metadata": {},
   "source": [
    "**Position Based:**"
   ]
  },
  {
   "cell_type": "code",
   "execution_count": 92,
   "metadata": {},
   "outputs": [
    {
     "name": "stdout",
     "output_type": "stream",
     "text": [
      "Java and Python are programming languages.\n"
     ]
    }
   ],
   "source": [
    "print(\"{1} and {0} are programming languages.\".format(\"Python\", \"Java\"))\n",
    "# Output: Java and Python are programming languages."
   ]
  },
  {
   "cell_type": "markdown",
   "metadata": {},
   "source": [
    "**Name Based:**"
   ]
  },
  {
   "cell_type": "code",
   "execution_count": 93,
   "metadata": {},
   "outputs": [
    {
     "name": "stdout",
     "output_type": "stream",
     "text": [
      "My name is Alice and my age is 25\n"
     ]
    }
   ],
   "source": [
    "print(\"My name is {name} and my age is {age}\".format(name=\"Alice\", age=25))\n",
    "# Output: My name is Alice and my age is 25"
   ]
  },
  {
   "cell_type": "markdown",
   "metadata": {},
   "source": [
    "**input() Function**\n",
    "Used to receive data from the user."
   ]
  },
  {
   "cell_type": "code",
   "execution_count": 94,
   "metadata": {},
   "outputs": [
    {
     "name": "stdout",
     "output_type": "stream",
     "text": [
      "Hello, Alice!\n"
     ]
    }
   ],
   "source": [
    "name = input(\"Enter your name: \") # User enters data\n",
    "print(f\"Hello, {name}!\")\n",
    "# Output: Prints the user's name"
   ]
  },
  {
   "cell_type": "markdown",
   "metadata": {},
   "source": [
    "**Numeric Inputs:**\n",
    "All data received with input() comes as text (str). Conversion is required for numeric data:"
   ]
  },
  {
   "cell_type": "code",
   "execution_count": 95,
   "metadata": {},
   "outputs": [
    {
     "name": "stdout",
     "output_type": "stream",
     "text": [
      "The age you entered: 25\n"
     ]
    }
   ],
   "source": [
    "age = int(input(\"Enter your age: \")) # The entered data is converted to a number\n",
    "print(f\"The age you entered: {age}\")"
   ]
  },
  {
   "cell_type": "code",
   "execution_count": 101,
   "metadata": {},
   "outputs": [
    {
     "name": "stdout",
     "output_type": "stream",
     "text": [
      "The area of ​​the circle with radius 2 is: 12.566.\n"
     ]
    }
   ],
   "source": [
    "# Get the radius of a circle as an integer from the user.\n",
    "# Write the code that outputs the area of ​​this circle as an integer and use fstring.\n",
    "\n",
    "import math\n",
    "r = int(input('Enter the radius of the circle:'))\n",
    "pi = math.pi\n",
    "area = pi * (r ** 2)\n",
    "print(f'The area of ​​the circle with radius {r} is: {round(area, 3)}.')\n",
    "\n",
    "# round -> is a function we use to round the number.\n",
    "# The round function can also determine how many digits will appear after the decimal point.\n"
   ]
  },
  {
   "cell_type": "code",
   "execution_count": 103,
   "metadata": {},
   "outputs": [
    {
     "name": "stdout",
     "output_type": "stream",
     "text": [
      "Yari capi 2 olan dairenin alani: 13'dir.\n"
     ]
    }
   ],
   "source": [
    "# Yukaridaki cevabin iyilestirilmis hali.\n",
    "\n",
    "import math\n",
    "r = int (input ('Lütfen alanini hesaplamak istediginiz dairenin yari capini giriniz:'))\n",
    "alan = math.pi * pow (r, 2)\n",
    "print (f'Yari capi {r} olan dairenin alani: {round(alan)}\\'dir.')"
   ]
  },
  {
   "cell_type": "code",
   "execution_count": 104,
   "metadata": {},
   "outputs": [
    {
     "name": "stdout",
     "output_type": "stream",
     "text": [
      "The area of ​​the circle with radius 2 is: 13'\n"
     ]
    }
   ],
   "source": [
    "# Improvement of the above answer.\n",
    "\n",
    "import math\n",
    "r = int (input ('Please enter the radius of the circle whose area you want to calculate:'))\n",
    "area = math.pi * pow (r, 2)\n",
    "print (f'The area of ​​the circle with radius {r} is: {round(area)}\\'')"
   ]
  },
  {
   "cell_type": "markdown",
   "metadata": {},
   "source": [
    "**String and Its Definition**"
   ]
  },
  {
   "cell_type": "markdown",
   "metadata": {},
   "source": [
    "String is a data type that represents text in Python and is called a sequence of characters. Strings can be defined with single quotes ('), double quotes (\"), or triple quotes (''' or \"\"\")."
   ]
  },
  {
   "cell_type": "code",
   "execution_count": 105,
   "metadata": {},
   "outputs": [],
   "source": [
    "# Single quote string\n",
    "text1 = 'Hello'\n",
    "\n",
    "# Double quote string\n",
    "text2 = \"World\"\n",
    "\n",
    "# Triple quote multi-line string\n",
    "text3 = '''This\n",
    "is\n",
    "a\n",
    "multi-line\n",
    "string.'''"
   ]
  },
  {
   "cell_type": "markdown",
   "metadata": {},
   "source": [
    "Note:\n",
    "\n",
    "- There is no functional difference between single and double quotes. It can be chosen according to need.\n",
    "- Triple quotes are generally used for multi-line texts or long descriptions (docstrings)."
   ]
  },
  {
   "cell_type": "markdown",
   "metadata": {},
   "source": [
    "**String Indexing**\n",
    "Since strings are a sequence of characters, each character has an index (position number). In Python, indexes start at zero (0)."
   ]
  },
  {
   "cell_type": "markdown",
   "metadata": {},
   "source": [
    "- +------------------+---+---+---+---+---+---+---+\n",
    "- | Character | P | y | t | h | o | n | \n",
    "- +------------------+---+---+---+---+---+---+---+\n",
    "- | Positive Index | 0 | 1 | 2 | 3 | 4 | 5 | \n",
    "- | Negative Index |-6 |-5 |-4 |-3 |-2 |-1 |\n",
    "- +------------------+---+---+---+---+---+---+---+"
   ]
  },
  {
   "cell_type": "markdown",
   "metadata": {},
   "source": [
    "Usage:\n",
    "\n",
    "- Positive index is sorted from left to right (0 is the first character).\n",
    "- Negative index is sorted from right to left (-1 is the last character).\n",
    "Examples:"
   ]
  },
  {
   "cell_type": "code",
   "execution_count": 106,
   "metadata": {},
   "outputs": [
    {
     "name": "stdout",
     "output_type": "stream",
     "text": [
      "H\n",
      "o\n",
      "o\n",
      "l\n"
     ]
    }
   ],
   "source": [
    "text = \"Hello\"\n",
    "\n",
    "print(text[0]) # Output: 'M' -> First character\n",
    "print(text[4]) # Output: 'a' -> Fifth character\n",
    "print(text[-1]) # Output: 'a' -> Last character\n",
    "print(text[-3]) # Output: 'b' -> Third character from the end\n"
   ]
  },
  {
   "cell_type": "markdown",
   "metadata": {},
   "source": [
    "**String Slicing**\n",
    "\n",
    "- Slicing is used to get a specific section of a string. Slicing in Python is done as follows:\n",
    "string[start:end:step]\n",
    "\n",
    "- start: Index to start fetching (inclusive).\n",
    "- end: End index to fetch (exclusive).\n",
    "- step: Frequency between characters to be fetched."
   ]
  },
  {
   "cell_type": "code",
   "execution_count": 107,
   "metadata": {},
   "outputs": [
    {
     "data": {
      "text/plain": [
       "'Com'"
      ]
     },
     "execution_count": 107,
     "metadata": {},
     "output_type": "execute_result"
    }
   ],
   "source": [
    "# [Start point : End point] Start point is included but end point is not included.\n",
    "# Syntax in mathematics: [2,3)\n",
    "\n",
    "'Computer'[0:3]"
   ]
  },
  {
   "cell_type": "code",
   "execution_count": 108,
   "metadata": {},
   "outputs": [
    {
     "name": "stdout",
     "output_type": "stream",
     "text": [
      "Hello W\n",
      "Hello W\n",
      "rld\n",
      "HloWrd\n",
      "dlroW olleH\n"
     ]
    }
   ],
   "source": [
    "text = \"Hello World\"\n",
    "\n",
    "print(text[0:7]) # Output: 'Hello' -> 0 to 7 (excluding 7)\n",
    "print(text[:7]) # Output: 'Hello' -> If no start is specified, 0 is assumed\n",
    "print(text[8:]) # Output: 'World' -> 8 to end\n",
    "print(text[::2]) # Output: 'MraaDny' -> Take every 2 characters\n",
    "print(text[::-1]) # Output: 'aynüD abahreM' -> Reverse the string"
   ]
  },
  {
   "cell_type": "markdown",
   "metadata": {},
   "source": [
    "**Detailed Slicing Explanation:**\n",
    "\n",
    "- text[2:5] → Start from 2, take up to 5 (excluding 5).\n",
    "- text[:5] → Start from the beginning, take up to 5.\n",
    "- text[5:] → Start from 5, take up to the end.\n",
    "- text[::3] → Start from the beginning, take characters in 3 steps.\n",
    "- text[::-1] → Take the entire string in reverse.\n"
   ]
  },
  {
   "cell_type": "code",
   "execution_count": 109,
   "metadata": {},
   "outputs": [
    {
     "name": "stdout",
     "output_type": "stream",
     "text": [
      "ter\n",
      "Compu\n",
      "Computer\n"
     ]
    }
   ],
   "source": [
    "# If the end index is not specified, by default it goes as far as it can go, that is, to the very end. If we do not specify the starting point, this time it starts from the very beginning by default.\n",
    "\n",
    "print ('Computer'[5:])\n",
    "\n",
    "print ('Computer'[:5])\n",
    "\n",
    "print ('Computer'[:])"
   ]
  },
  {
   "cell_type": "code",
   "execution_count": 110,
   "metadata": {},
   "outputs": [
    {
     "data": {
      "text/plain": [
       "'HlWl'"
      ]
     },
     "execution_count": 110,
     "metadata": {},
     "output_type": "execute_result"
    }
   ],
   "source": [
    "# Text [Start : End : Step] The number of steps is 1 by default. In this example, we set the number of steps to 3.\n",
    "\n",
    "'Hello World'[0:12:3]"
   ]
  },
  {
   "cell_type": "code",
   "execution_count": 111,
   "metadata": {},
   "outputs": [
    {
     "data": {
      "text/plain": [
       "''"
      ]
     },
     "execution_count": 111,
     "metadata": {},
     "output_type": "execute_result"
    }
   ],
   "source": [
    "# It ends before it starts, because it sees the finish line first.\n",
    "\n",
    "'Dilara'[0:6:-1]"
   ]
  },
  {
   "cell_type": "markdown",
   "metadata": {},
   "source": [
    "**String Reversal and Stepping Techniques**\n",
    "\n",
    "String Reversal:\n",
    "Slicing is used to reverse the entire string:"
   ]
  },
  {
   "cell_type": "code",
   "execution_count": 112,
   "metadata": {},
   "outputs": [
    {
     "name": "stdout",
     "output_type": "stream",
     "text": [
      "nohtyP\n"
     ]
    }
   ],
   "source": [
    "text = \"Python\"\n",
    "reverse = text[::-1]\n",
    "print(reverse) # Output: 'nohtyP'"
   ]
  },
  {
   "cell_type": "markdown",
   "metadata": {},
   "source": [
    "**Step Techniques:**\n",
    "The step parameter is used to select characters at specific intervals:"
   ]
  },
  {
   "cell_type": "code",
   "execution_count": 114,
   "metadata": {},
   "outputs": [
    {
     "name": "stdout",
     "output_type": "stream",
     "text": [
      "HloWrd\n",
      "eood\n"
     ]
    }
   ],
   "source": [
    "text = \"Hello World\"\n",
    "\n",
    "print(text[::2]) # Output: 'HloWrd' -> Take every 2 characters\n",
    "print(text[1::3]) # Output: 'eood' -> Start from 1, take characters in 3 steps"
   ]
  },
  {
   "cell_type": "markdown",
   "metadata": {},
   "source": [
    "**Reverse and Step Access:**\n",
    "Both reverse and step access are possible:"
   ]
  },
  {
   "cell_type": "code",
   "execution_count": 115,
   "metadata": {},
   "outputs": [
    {
     "name": "stdout",
     "output_type": "stream",
     "text": [
      "nhy\n"
     ]
    }
   ],
   "source": [
    "text = \"Python\"\n",
    "print(text[::-2]) # Output: 'nhy' -> Reverse and step by 2"
   ]
  },
  {
   "cell_type": "markdown",
   "metadata": {},
   "source": [
    "**Summary:**\n",
    "- What is a String?: They are character sequences and are defined with ', \", '''.\n",
    "- Indexing: Used to access a specific character.\n",
    "- Slicing: Used to get a specific section of the String.\n",
    "- Reversing and Stepping: Slicing is done to reverse the String or access characters at specific intervals.\n",
    "- With this basic information, you can easily perform many different operations on strings."
   ]
  },
  {
   "cell_type": "code",
   "execution_count": 116,
   "metadata": {},
   "outputs": [
    {
     "data": {
      "text/plain": [
       "'N'"
      ]
     },
     "execution_count": 116,
     "metadata": {},
     "output_type": "execute_result"
    }
   ],
   "source": [
    "# Indexes start from 0 from left to right. and [] -> square brackets are used when indexing.\n",
    "\n",
    "'Nice lesson' [0]"
   ]
  },
  {
   "cell_type": "code",
   "execution_count": 117,
   "metadata": {},
   "outputs": [
    {
     "data": {
      "text/plain": [
       "'n'"
      ]
     },
     "execution_count": 117,
     "metadata": {},
     "output_type": "execute_result"
    }
   ],
   "source": [
    "# -1 returns the last character.\n",
    "\n",
    "'Nice lesson' [-1]"
   ]
  },
  {
   "cell_type": "code",
   "execution_count": 118,
   "metadata": {},
   "outputs": [
    {
     "data": {
      "text/plain": [
       "' '"
      ]
     },
     "execution_count": 118,
     "metadata": {},
     "output_type": "execute_result"
    }
   ],
   "source": [
    "# Space is also a character.\n",
    "\n",
    "'Nice lesson' [4]"
   ]
  },
  {
   "cell_type": "code",
   "execution_count": 120,
   "metadata": {},
   "outputs": [
    {
     "ename": "IndexError",
     "evalue": "string index out of range",
     "output_type": "error",
     "traceback": [
      "\u001b[1;31m---------------------------------------------------------------------------\u001b[0m",
      "\u001b[1;31mIndexError\u001b[0m                                Traceback (most recent call last)",
      "Cell \u001b[1;32mIn[120], line 1\u001b[0m\n\u001b[1;32m----> 1\u001b[0m \u001b[38;5;124;43m'\u001b[39;49m\u001b[38;5;124;43mNice lesson\u001b[39;49m\u001b[38;5;124;43m'\u001b[39;49m\u001b[43m \u001b[49m\u001b[43m[\u001b[49m\u001b[38;5;241;43m40\u001b[39;49m\u001b[43m]\u001b[49m \u001b[38;5;66;03m# IndexError: String index out of range\u001b[39;00m\n",
      "\u001b[1;31mIndexError\u001b[0m: string index out of range"
     ]
    }
   ],
   "source": [
    "'Nice lesson' [40] # IndexError: String index out of range"
   ]
  },
  {
   "cell_type": "code",
   "execution_count": 121,
   "metadata": {},
   "outputs": [
    {
     "ename": "TypeError",
     "evalue": "'str' object does not support item assignment",
     "output_type": "error",
     "traceback": [
      "\u001b[1;31m---------------------------------------------------------------------------\u001b[0m",
      "\u001b[1;31mTypeError\u001b[0m                                 Traceback (most recent call last)",
      "Cell \u001b[1;32mIn[121], line 4\u001b[0m\n\u001b[0;32m      1\u001b[0m \u001b[38;5;66;03m# Strings are immutable, meaning they cannot be changed unless reassigned.\u001b[39;00m\n\u001b[0;32m      3\u001b[0m name \u001b[38;5;241m=\u001b[39m \u001b[38;5;124m'\u001b[39m\u001b[38;5;124mHello World\u001b[39m\u001b[38;5;124m'\u001b[39m\n\u001b[1;32m----> 4\u001b[0m \u001b[43mname\u001b[49m\u001b[43m[\u001b[49m\u001b[38;5;241;43m5\u001b[39;49m\u001b[43m]\u001b[49m \u001b[38;5;241m=\u001b[39m name[\u001b[38;5;241m-\u001b[39m\u001b[38;5;241m1\u001b[39m]\n",
      "\u001b[1;31mTypeError\u001b[0m: 'str' object does not support item assignment"
     ]
    }
   ],
   "source": [
    "# Strings are immutable, meaning they cannot be changed unless reassigned.\n",
    "\n",
    "name = 'Hello World'\n",
    "name[5] = name[-1]"
   ]
  },
  {
   "cell_type": "code",
   "execution_count": 122,
   "metadata": {},
   "outputs": [
    {
     "data": {
      "text/plain": [
       "False"
      ]
     },
     "execution_count": 122,
     "metadata": {},
     "output_type": "execute_result"
    }
   ],
   "source": [
    "name[6] == name[-11]"
   ]
  },
  {
   "cell_type": "markdown",
   "metadata": {},
   "source": [
    "**Concatenation** is the process of combining two or more arrays (string, list, etc.) in Python. It is usually used for text (string) concatenation."
   ]
  },
  {
   "cell_type": "markdown",
   "metadata": {},
   "source": [
    "**String Concatenation**\n",
    "\n",
    "Text concatenation is done using the + operator. For example, to concatenate two strings, it is written as:"
   ]
  },
  {
   "cell_type": "code",
   "execution_count": 123,
   "metadata": {},
   "outputs": [
    {
     "name": "stdout",
     "output_type": "stream",
     "text": [
      "Hello World\n"
     ]
    }
   ],
   "source": [
    "string1 = \"Hello\"\n",
    "string2 = \"World\"\n",
    "result = string1 + \" \" + string2 # Add a space\n",
    "print(result)"
   ]
  },
  {
   "cell_type": "code",
   "execution_count": null,
   "metadata": {},
   "outputs": [
    {
     "ename": "TypeError",
     "evalue": "unsupported operand type(s) for -: 'str' and 'str'",
     "output_type": "error",
     "traceback": [
      "\u001b[1;31m---------------------------------------------------------------------------\u001b[0m",
      "\u001b[1;31mTypeError\u001b[0m                                 Traceback (most recent call last)",
      "Cell \u001b[1;32mIn[124], line 3\u001b[0m\n\u001b[0;32m      1\u001b[0m \u001b[38;5;66;03m# Strings cannot be divided or subtracted.\u001b[39;00m\n\u001b[1;32m----> 3\u001b[0m \u001b[38;5;124;43m'\u001b[39;49m\u001b[38;5;124;43mHelloWorld\u001b[39;49m\u001b[38;5;124;43m'\u001b[39;49m\u001b[43m \u001b[49m\u001b[38;5;241;43m-\u001b[39;49m\u001b[43m \u001b[49m\u001b[38;5;124;43m'\u001b[39;49m\u001b[38;5;124;43mWorld\u001b[39;49m\u001b[38;5;124;43m'\u001b[39;49m\n",
      "\u001b[1;31mTypeError\u001b[0m: unsupported operand type(s) for -: 'str' and 'str'"
     ]
    }
   ],
   "source": [
    "# Strings cannot be divided or subtracted.\n",
    "\n",
    "'HelloWorld' - 'World'"
   ]
  },
  {
   "cell_type": "markdown",
   "metadata": {},
   "source": [
    "#### Escape Sequences\n",
    "\n",
    "Used to insert special characters in text."
   ]
  },
  {
   "cell_type": "markdown",
   "metadata": {},
   "source": [
    "Escape Sequence\t       |    Anlamı\n",
    "-     \\n\t   |    New line\n",
    "-     \\t\t   |     Tab space\n",
    "-     \\\\\t   |     Backslash (\\)\n",
    "-     \\'\t   |     Single quote (')\n",
    "-     \\\"\t   |     Double quote (\")"
   ]
  },
  {
   "cell_type": "code",
   "execution_count": 125,
   "metadata": {},
   "outputs": [
    {
     "name": "stdout",
     "output_type": "stream",
     "text": [
      "This is a backslash: \\\n"
     ]
    }
   ],
   "source": [
    "# \\\\ : Backslash\n",
    "# Used to print a backslash (\\) to the screen.\n",
    "\n",
    "print(\"This is a backslash: \\\\\")"
   ]
  },
  {
   "cell_type": "code",
   "execution_count": 126,
   "metadata": {},
   "outputs": [
    {
     "name": "stdout",
     "output_type": "stream",
     "text": [
      "This is a single quote: '\n"
     ]
    }
   ],
   "source": [
    "# \\' : Single Quote\n",
    "# To use single quotes inside a single quoted string.\n",
    "\n",
    "print('This is a single quote: \\'')"
   ]
  },
  {
   "cell_type": "code",
   "execution_count": 127,
   "metadata": {},
   "outputs": [
    {
     "name": "stdout",
     "output_type": "stream",
     "text": [
      "This is a double quote: \"\n"
     ]
    }
   ],
   "source": [
    "# \\\" : Double Quote\n",
    "# To use double quotes inside a double quoted string.\n",
    "\n",
    "print(\"This is a double quote: \\\"\")"
   ]
  },
  {
   "cell_type": "code",
   "execution_count": 128,
   "metadata": {},
   "outputs": [
    {
     "name": "stdout",
     "output_type": "stream",
     "text": [
      "First line\n",
      "Second line\n"
     ]
    }
   ],
   "source": [
    "# \\n : New Line\n",
    "# Used to create a new line.\n",
    "\n",
    "print(\"First line\\nSecond line\")"
   ]
  },
  {
   "cell_type": "code",
   "execution_count": 129,
   "metadata": {},
   "outputs": [
    {
     "name": "stdout",
     "output_type": "stream",
     "text": [
      "Python\tProgramming\n"
     ]
    }
   ],
   "source": [
    "# \\t : Tab Space\n",
    "# To insert a tab space (usually 4-8 characters wide).\n",
    "\n",
    "print(\"Python\\tProgramming\")"
   ]
  },
  {
   "cell_type": "code",
   "execution_count": 130,
   "metadata": {},
   "outputs": [
    {
     "name": "stdout",
     "output_type": "stream",
     "text": [
      "Pytho!\n"
     ]
    }
   ],
   "source": [
    "# \\b : Backspace\n",
    "# Used to delete a character.\n",
    "\n",
    "print(\"Python\\b!\")"
   ]
  },
  {
   "cell_type": "code",
   "execution_count": 131,
   "metadata": {},
   "outputs": [
    {
     "name": "stdout",
     "output_type": "stream",
     "text": [
      "PythonWorld\n"
     ]
    }
   ],
   "source": [
    "# \\r : Carriage Return\n",
    "# Returns to the beginning of the line and overwrites the current line from the beginning.\n",
    "\n",
    "print(\"Hello World\\rPython\")"
   ]
  },
  {
   "cell_type": "code",
   "execution_count": 135,
   "metadata": {},
   "outputs": [
    {
     "name": "stdout",
     "output_type": "stream",
     "text": [
      "First Page\fSecond Page\n"
     ]
    }
   ],
   "source": [
    "# \\f : Page Feed (Form Feed)\n",
    "# Adds a page feed. Usually used for older printers, it may appear as a new line on the screen.\n",
    "\n",
    "print(\"First Page\\fSecond Page\")"
   ]
  },
  {
   "cell_type": "code",
   "execution_count": 136,
   "metadata": {},
   "outputs": [
    {
     "name": "stdout",
     "output_type": "stream",
     "text": [
      "Python\n",
      "Programming\n"
     ]
    }
   ],
   "source": [
    "# \\n : Vertical Tab\n",
    "# Adds a vertical space.\n",
    "\n",
    "print(\"Python\\nProgramming\")"
   ]
  },
  {
   "cell_type": "code",
   "execution_count": 139,
   "metadata": {},
   "outputs": [
    {
     "name": "stdout",
     "output_type": "stream",
     "text": [
      "\u0007\n"
     ]
    }
   ],
   "source": [
    "# \\a : Warning (Bell)\n",
    "# Makes a warning sound (on systems that support it).\n",
    "\n",
    "print(\"\\a\")\n",
    "# Output: (Warning sound if the computer supports it)"
   ]
  },
  {
   "cell_type": "code",
   "execution_count": 140,
   "metadata": {},
   "outputs": [
    {
     "name": "stdout",
     "output_type": "stream",
     "text": [
      "Null character: After \u0000\n"
     ]
    }
   ],
   "source": [
    "# \\0 : Null Character\n",
    "# Inserts a null character. In most cases, it has no visible effect, but can be used during text processing.\n",
    "\n",
    "print(\"Null character: After \\0\")\n",
    "# Output: Null character: After"
   ]
  },
  {
   "cell_type": "code",
   "execution_count": 141,
   "metadata": {},
   "outputs": [
    {
     "name": "stdout",
     "output_type": "stream",
     "text": [
      "©\n"
     ]
    }
   ],
   "source": [
    "# \\N{name} : Unicode Character Name\n",
    "# Specifies the Unicode character by name.\n",
    "\n",
    "print(\"\\N{COPYRIGHT SIGN}\")\n",
    "# Output: ©"
   ]
  },
  {
   "cell_type": "code",
   "execution_count": 142,
   "metadata": {},
   "outputs": [
    {
     "name": "stdout",
     "output_type": "stream",
     "text": [
      "©\n"
     ]
    }
   ],
   "source": [
    "# \\uXXXX : 16-Bit Unicode\n",
    "# Adds the specified 16-bit Unicode character.\n",
    "\n",
    "print(\"\\u00A9\")\n",
    "# Output: ©"
   ]
  },
  {
   "cell_type": "code",
   "execution_count": 143,
   "metadata": {},
   "outputs": [
    {
     "name": "stdout",
     "output_type": "stream",
     "text": [
      "😀\n"
     ]
    }
   ],
   "source": [
    "# \\UXXXXXXXX : 32-Bit Unicode\n",
    "# Adds the specified 32-bit Unicode character.\n",
    "\n",
    "print(\"\\U0001F600\")\n",
    "# Output: 😀"
   ]
  },
  {
   "cell_type": "code",
   "execution_count": 144,
   "metadata": {},
   "outputs": [
    {
     "name": "stdout",
     "output_type": "stream",
     "text": [
      "Hello\n"
     ]
    }
   ],
   "source": [
    "# \\xXX : Hexadecimal Character\n",
    "# Adds the specified hexadecimal Unicode character.\n",
    "\n",
    "print(\"\\x48\\x65\\x6C\\x6C\\x6F\")\n",
    "# Output: Hello"
   ]
  },
  {
   "cell_type": "code",
   "execution_count": 145,
   "metadata": {},
   "outputs": [
    {
     "name": "stdout",
     "output_type": "stream",
     "text": [
      "Escape Sequence Examples:\n",
      "\n",
      "New line:\n",
      "This line is on a new line\n",
      "Tab space:\tSeparated by Tab\n",
      "Backslash (\\): this is an example\n",
      "Single quote (' and '): 'Python'\n",
      "Double quote (\"): \"Python\"\n"
     ]
    }
   ],
   "source": [
    "print(\"Escape Sequence Examples:\\n\")\n",
    "print(\"New line:\\nThis line is on a new line\")\n",
    "print(\"Tab space:\\tSeparated by Tab\")\n",
    "print(\"Backslash (\\\\): this is an example\")\n",
    "print(\"Single quote (\\' and \\'): 'Python'\")\n",
    "print(\"Double quote (\\\"): \\\"Python\\\"\")\n"
   ]
  },
  {
   "cell_type": "markdown",
   "metadata": {},
   "source": [
    "**ASCII and ord(), chr()**\n",
    "\n",
    "- ord(): Returns the ASCII (Unicode) value of a character.\n",
    "- chr(): Returns the character corresponding to an ASCII value."
   ]
  },
  {
   "cell_type": "code",
   "execution_count": 146,
   "metadata": {},
   "outputs": [
    {
     "name": "stdout",
     "output_type": "stream",
     "text": [
      "65\n",
      "A\n"
     ]
    }
   ],
   "source": [
    "print(ord('A')) # Output: 65\n",
    "print(chr(65)) # Output: A"
   ]
  },
  {
   "cell_type": "markdown",
   "metadata": {},
   "source": [
    "**Looping with ASCII Table:**"
   ]
  },
  {
   "cell_type": "code",
   "execution_count": 147,
   "metadata": {},
   "outputs": [
    {
     "name": "stdout",
     "output_type": "stream",
     "text": [
      "65 -> A\n",
      "66 -> B\n",
      "67 -> C\n",
      "68 -> D\n",
      "69 -> E\n",
      "70 -> F\n",
      "71 -> G\n",
      "72 -> H\n",
      "73 -> I\n",
      "74 -> J\n",
      "75 -> K\n",
      "76 -> L\n",
      "77 -> M\n",
      "78 -> N\n",
      "79 -> O\n",
      "80 -> P\n",
      "81 -> Q\n",
      "82 -> R\n",
      "83 -> S\n",
      "84 -> T\n",
      "85 -> U\n",
      "86 -> V\n",
      "87 -> W\n",
      "88 -> X\n",
      "89 -> Y\n",
      "90 -> Z\n"
     ]
    }
   ],
   "source": [
    "for i in range(65, 91): # Capital letters\n",
    "    print(f\"{i} -> {chr(i)}\")\n",
    "# Output:\n",
    "# 65 -> A\n",
    "# 66 -> B\n",
    "# ...\n",
    "# 90 -> Z"
   ]
  },
  {
   "cell_type": "markdown",
   "metadata": {},
   "source": [
    "**Summary and Complete Example**\n",
    "The following example shows all topics together:"
   ]
  },
  {
   "cell_type": "code",
   "execution_count": 149,
   "metadata": {},
   "outputs": [
    {
     "name": "stdout",
     "output_type": "stream",
     "text": [
      "Hello, Alice! You are 22 years old.\n",
      "ASCII value of the first letter of your name: 65\n",
      "Escape example: New line\n",
      "and tab\tspace!\n"
     ]
    }
   ],
   "source": [
    "name = input(\"Enter your name: \")\n",
    "age = int(input(\"Enter your age: \"))\n",
    "ascii_val = ord(name[0]) # ASCII value of the first letter of the name\n",
    "\n",
    "print(f\"Hello, {name}! You are {age} years old.\")\n",
    "print(\"ASCII value of the first letter of your name: {}\".format(ascii_val))\n",
    "print(\"Escape example: New line\\nand tab\\tspace!\")"
   ]
  },
  {
   "cell_type": "code",
   "execution_count": 150,
   "metadata": {},
   "outputs": [
    {
     "name": "stdout",
     "output_type": "stream",
     "text": [
      "20 10\n"
     ]
    }
   ],
   "source": [
    "# a=10, b=20.\n",
    "# To swap a and b values ​​and get a=20 and b=10?\n",
    "\n",
    "a = 10\n",
    "b = 20\n",
    "a, b = b, a\n",
    "print (a, b)"
   ]
  },
  {
   "cell_type": "code",
   "execution_count": 151,
   "metadata": {},
   "outputs": [
    {
     "name": "stdout",
     "output_type": "stream",
     "text": [
      "The 50 seconds you entered = 0 hours, 0 minutes and 50 seconds.\n"
     ]
    }
   ],
   "source": [
    "# Ask the user to enter a second value. Print the entered seconds in hours, minutes and seconds.\n",
    "\n",
    "entered_second = int (input (\"Please enter the seconds you want calculated: \"))\n",
    "hour = entered_second // 3600\n",
    "minute = (entered_second % 3600) // 60\n",
    "second = entered_second % 60\n",
    "print (f\"The {entered_second} seconds you entered = {hour} hours, {minute} minutes and {second} seconds.\")"
   ]
  },
  {
   "cell_type": "code",
   "execution_count": 152,
   "metadata": {},
   "outputs": [
    {
     "name": "stdout",
     "output_type": "stream",
     "text": [
      "The 50 seconds you entered = 0 hours, 0 minutes and 50 seconds.\n"
     ]
    }
   ],
   "source": [
    "# Improved version of the answer to the question above.\n",
    "\n",
    "entered_second = int(input(\"Please enter the seconds you want to calculate:\"))\n",
    "\n",
    "if entered_second < 0:\n",
    "    print(\"Please enter a positive seconds value.\")\n",
    "else:\n",
    "    hour = entered_second // 3600\n",
    "    minute = (entered_second % 3600) // 60\n",
    "    second = entered_second % 60\n",
    "    print(f\"The {entered_second} seconds you entered = {hour} hours, {minute} minutes and {second} seconds.\")"
   ]
  },
  {
   "cell_type": "markdown",
   "metadata": {},
   "source": [
    "**Conditions - if, else, elif**\n",
    "\n",
    "Condition structures in Python allow the code to follow different paths according to certain conditions. They are used to control the program flow. The if, elif and else keywords are the basis of these structures."
   ]
  },
  {
   "cell_type": "markdown",
   "metadata": {},
   "source": [
    "**if Structure**\n",
    "\n",
    "- The if keyword checks if a condition is true.\n",
    "- If the condition is true, the code block inside it is executed."
   ]
  },
  {
   "cell_type": "code",
   "execution_count": 153,
   "metadata": {},
   "outputs": [
    {
     "name": "stdout",
     "output_type": "stream",
     "text": [
      "Number is greater than 10.\n"
     ]
    }
   ],
   "source": [
    "number = 15\n",
    "\n",
    "if number > 10: # If number is greater than 10\n",
    "    print(\"Number is greater than 10.\")\n"
   ]
  },
  {
   "cell_type": "code",
   "execution_count": 154,
   "metadata": {},
   "outputs": [
    {
     "name": "stdout",
     "output_type": "stream",
     "text": [
      "Number is greater than 5.\n"
     ]
    }
   ],
   "source": [
    "number = 10\n",
    "\n",
    "if number > 5:\n",
    "    print(\"Number is greater than 5.\") # Output: Number is greater than 5."
   ]
  },
  {
   "cell_type": "markdown",
   "metadata": {},
   "source": [
    "**else Structure**\n",
    "\n",
    "- else is executed when the if condition is false.\n",
    "- used with if and no condition is required."
   ]
  },
  {
   "cell_type": "code",
   "execution_count": 155,
   "metadata": {},
   "outputs": [
    {
     "name": "stdout",
     "output_type": "stream",
     "text": [
      "Number is less than or equal to 10.\n"
     ]
    }
   ],
   "source": [
    "number = 5\n",
    "\n",
    "if number > 10: # If number is greater than 10\n",
    "    print(\"Number is greater than 10.\")\n",
    "else: # If the above condition is not true\n",
    "    print(\"Number is less than or equal to 10.\")"
   ]
  },
  {
   "cell_type": "markdown",
   "metadata": {},
   "source": [
    "**elif Structure**\n",
    "\n",
    "elif is used when more than one condition needs to be checked. When an if condition is not true, other conditions are checked with elif."
   ]
  },
  {
   "cell_type": "code",
   "execution_count": 156,
   "metadata": {},
   "outputs": [
    {
     "name": "stdout",
     "output_type": "stream",
     "text": [
      "Number is equal to 10.\n"
     ]
    }
   ],
   "source": [
    "number = 10\n",
    "\n",
    "if number > 10: # If number is greater than 10\n",
    "    print(\"Number is greater than 10.\")\n",
    "elif number == 10: # If number is equal to 10\n",
    "    print(\"Number is equal to 10.\")\n",
    "else: # If none of the above conditions are true\n",
    "    print(\"Number is less than 10.\")"
   ]
  },
  {
   "cell_type": "markdown",
   "metadata": {},
   "source": [
    "**Difference between elif and else:**\n",
    "- elif must be written with a condition, it can be used as many times as desired.\n",
    "- else cannot be written with a condition, it should only be used once and at the end."
   ]
  },
  {
   "cell_type": "markdown",
   "metadata": {},
   "source": [
    "**Combination of Conditions**\n",
    "Multiple conditions can be combined with logical operators such as and, or."
   ]
  },
  {
   "cell_type": "code",
   "execution_count": 157,
   "metadata": {},
   "outputs": [
    {
     "name": "stdout",
     "output_type": "stream",
     "text": [
      "Number is between 5 and 10.\n"
     ]
    }
   ],
   "source": [
    "number = 8\n",
    "\n",
    "if number > 5 and number < 10: # number is both greater than 5 and less than 10\n",
    "    print(\"Number is between 5 and 10.\")\n",
    "else:\n",
    "    print(\"Number is not between 5 and 10.\")\n"
   ]
  },
  {
   "cell_type": "markdown",
   "metadata": {},
   "source": [
    "**Condition Control by Receiving Data from the User**\n",
    "A condition control can be performed by receiving data from the user and using this data."
   ]
  },
  {
   "cell_type": "code",
   "execution_count": 158,
   "metadata": {},
   "outputs": [
    {
     "name": "stdout",
     "output_type": "stream",
     "text": [
      "You are an adult.\n"
     ]
    }
   ],
   "source": [
    "age = int(input(\"Enter your age: \"))\n",
    "\n",
    "if age < 18:\n",
    "    print(\"You are not a minor.\")\n",
    "elif age == 18:\n",
    "    print(\"You are just in the limit.\")\n",
    "else:\n",
    "    print(\"You are an adult.\")\n"
   ]
  },
  {
   "cell_type": "markdown",
   "metadata": {},
   "source": [
    "**Let's Use All Structures Together**\n",
    "A program that evaluates a student based on their grades:"
   ]
  },
  {
   "cell_type": "code",
   "execution_count": 159,
   "metadata": {},
   "outputs": [
    {
     "name": "stdout",
     "output_type": "stream",
     "text": [
      "Congratulations, you are very successful!\n"
     ]
    }
   ],
   "source": [
    "grade = int(input(\"Enter the student's grade: \"))\n",
    "\n",
    "if grade >= 85:\n",
    "    print(\"Congratulations, you are very successful!\")\n",
    "elif grade >= 70:\n",
    "    print(\"You got a good grade.\")\n",
    "elif grade >= 50:\n",
    "    print(\"You passed.\")\n",
    "else:\n",
    "    print(\"Unfortunately, you failed.\") "
   ]
  },
  {
   "cell_type": "markdown",
   "metadata": {},
   "source": [
    "**Short Writing (Ternary)**\n",
    "In some cases, conditional structures can be written in a shorter form."
   ]
  },
  {
   "cell_type": "code",
   "execution_count": 160,
   "metadata": {},
   "outputs": [
    {
     "name": "stdout",
     "output_type": "stream",
     "text": [
      "Odd\n"
     ]
    }
   ],
   "source": [
    "number = 7\n",
    "result = \"Odd\" if number % 2 != 0 else \"Even\"\n",
    "print(result)\n"
   ]
  },
  {
   "cell_type": "markdown",
   "metadata": {},
   "source": [
    "**Summary:**\n",
    "- if: Executes if a condition is true.\n",
    "- elif: Checks alternative conditions.\n",
    "- else: Executes if all other conditions are false.\n",
    "- Logical operators: Combine conditions (and, or, not)."
   ]
  },
  {
   "cell_type": "code",
   "execution_count": 161,
   "metadata": {},
   "outputs": [
    {
     "name": "stdout",
     "output_type": "stream",
     "text": [
      "Hello\n",
      "merhaba\n",
      "hello\n"
     ]
    }
   ],
   "source": [
    "# if syntax;\n",
    "# if condition1:\n",
    "# statement1 (Must contain 4 spaces on the left, pep 8 rule, must.)\n",
    "\n",
    "# if True it prints, if False it doesn't print. It deals with true and false values, looks at boolean value.\n",
    "if 8 > 5:\n",
    "    print ('Hello')\n",
    "if 8 < 5:\n",
    "    print ('hello')\n",
    "if 6:\n",
    "    print ('merhaba')\n",
    "if '':\n",
    "    print('hi')\n",
    "if 'melisa' and 1:\n",
    "    print ('hello')"
   ]
  },
  {
   "cell_type": "code",
   "execution_count": 162,
   "metadata": {},
   "outputs": [
    {
     "name": "stdout",
     "output_type": "stream",
     "text": [
      "5\n"
     ]
    }
   ],
   "source": [
    "# If a variable is defined inside the if, it can be accessed outside the if, but only if it is True.\n",
    "\n",
    "if True:\n",
    "    y = 0\n",
    "    y += 5\n",
    "\n",
    "print (y)"
   ]
  },
  {
   "cell_type": "code",
   "execution_count": 163,
   "metadata": {},
   "outputs": [
    {
     "name": "stdout",
     "output_type": "stream",
     "text": [
      "10 is greater than 5\n"
     ]
    }
   ],
   "source": [
    "# if, else syntax;\n",
    "# if condition1:\n",
    "# statement1 (There is a gap!)\n",
    "# else:\n",
    "# statement2 (There is a gap!)\n",
    "\n",
    "# If condition 1 is true then statement 1 is executed, otherwise statement 2 is executed.\n",
    "\n",
    "if 10 > 5:\n",
    "    print(\"10 is greater than 5\")\n",
    "else:\n",
    "    print('hello')"
   ]
  },
  {
   "cell_type": "code",
   "execution_count": 164,
   "metadata": {},
   "outputs": [
    {
     "name": "stdout",
     "output_type": "stream",
     "text": [
      "hello\n"
     ]
    }
   ],
   "source": [
    "if 10 < 5:\n",
    "    print(\"10 is greater than 5\")\n",
    "else:\n",
    "    print('hello')"
   ]
  },
  {
   "cell_type": "code",
   "execution_count": 167,
   "metadata": {},
   "outputs": [
    {
     "name": "stdout",
     "output_type": "stream",
     "text": [
      "Successful\n"
     ]
    }
   ],
   "source": [
    "\n",
    "# Get the status code from the user, if the status code is 200 then Successful, if 400 then Bad Request, if 500 then Server Error, write a program that prints it.\n",
    "\n",
    "status_code = input (\"Enter the status code:\")\n",
    "if status_code.isnumeric():\n",
    "    status_code = int(status_code)\n",
    "    if status_code == 200:\n",
    "        print ('Successful')\n",
    "    elif status_code == 400:\n",
    "        print ('Bad Request')\n",
    "    elif status_code == 500:\n",
    "        print ('Server Error')\n",
    "    else:\n",
    "        print ('Enter one of the numbers 200, 400 or 500.')\n",
    "else:\n",
    "    print ('Please enter a number')"
   ]
  },
  {
   "cell_type": "code",
   "execution_count": 168,
   "metadata": {},
   "outputs": [
    {
     "name": "stdout",
     "output_type": "stream",
     "text": [
      "The total amount you need to pay, including the service fee, is 159.6 TL\n"
     ]
    }
   ],
   "source": [
    "# A restaurant charges its customers a service fee based on the total amount of the food they order.\n",
    "# If the order amount is between 100 TL and 199 TL, a 5% service fee is applied.\n",
    "# If the order amount is between 50 TL and 99 TL, a 10% service fee is applied.\n",
    "# If the order amount is under 50 TL, a 15% service fee is applied.\n",
    "# Write a program that takes the order amount as input, calculates the service fee to be applied, and prints the total amount to be paid.\n",
    "\n",
    "total_order_amount = input(\"Please enter the total order amount\")\n",
    "\n",
    "service_fee = 0.05\n",
    "service_fee_2 = 0.1\n",
    "service_fee_3 = 0.15\n",
    "if total_order_amount.isnumeric():\n",
    "\n",
    "    total_order_amount = float(total_order_amount)\n",
    "    if (total_order_amount >= 200):\n",
    "        print(f\"The total amount you need to pay, including the service fee (Exempt from), is {total_order_amount} ₺.\")\n",
    "    elif (100 <= total_order_amount):\n",
    "        print(f\"The total amount you need to pay, including the service fee, is {(total_order_amount * service_fee) + (total_order_amount)} TL\")\n",
    "    elif (50 <= total_order_amount):\n",
    "        print(f\"The total amount you need to pay, including the service fee, is {(total_order_amount * service_fee_2) + (total_order_amount)} TL\")\n",
    "    elif (0 <= total_order_amount):\n",
    "        print(f\"The total amount you need to pay, including the service fee, is {(total_order_amount * service_fee_3) + (total_order_amount)} TL\")\n",
    "    else:\n",
    "        print(\"Please input a correct price.\")\n",
    "else:\n",
    "    print(\"Please enter the price you want to verify, correctly and in numerical format.\")"
   ]
  },
  {
   "cell_type": "markdown",
   "metadata": {},
   "source": [
    "## Data Structures and Methods"
   ]
  },
  {
   "cell_type": "markdown",
   "metadata": {},
   "source": [
    "Data structures in Python are the basic tools used to store and manage different types of data. In this chapter, we will cover data structures such as Strings, Lists, Tuples, Dictionaries, and Sets and their basic methods."
   ]
  },
  {
   "cell_type": "markdown",
   "metadata": {},
   "source": [
    "**String Methods**\n",
    "\n",
    "The string data type in Python is used to store and manipulate text data. Some common methods of strings are:"
   ]
  },
  {
   "cell_type": "code",
   "execution_count": 169,
   "metadata": {},
   "outputs": [
    {
     "name": "stdout",
     "output_type": "stream",
     "text": [
      "18\n",
      "PYTHON PROGRAMMING\n",
      "python programming\n",
      "Hello\n",
      "Java Programming\n",
      "['Python', 'Programming']\n",
      "7\n",
      "True\n",
      "False\n"
     ]
    }
   ],
   "source": [
    "text = \"Python Programming\"\n",
    "\n",
    "# 1. len() - Returns the length of the string\n",
    "print(len(text)) # Output: 19\n",
    "\n",
    "# 2. upper() and lower() - Convert upper/lower case\n",
    "print(text.upper()) # Output: PYTHON PROGRAMMING\n",
    "print(text.lower()) # Output: python programming\n",
    "\n",
    "# 3. strip() - Removes leading and trailing spaces\n",
    "bosluklu = \" Hello \"\n",
    "print(bosluklu.strip()) # Output: Hello\n",
    "\n",
    "# 4. replace() - Replaces characters\n",
    "print(text.replace(\"Python\", \"Java\")) # Output: Java Programming\n",
    "\n",
    "# 5. split() - Splits the string according to a specified separator\n",
    "print(text.split()) # Output: ['Python', 'Programming']\n",
    "\n",
    "# 6. find() - First index of the substring returns\n",
    "print(text.find(\"Pro\")) # Output: 7\n",
    "\n",
    "# 7. startswith() and endswith() - Controls the start/end\n",
    "print(text.startswith(\"Python\")) # Output: True\n",
    "print(text.endswith(\"lama\")) # Output: True"
   ]
  },
  {
   "cell_type": "markdown",
   "metadata": {},
   "source": [
    "**capitalize()**"
   ]
  },
  {
   "cell_type": "code",
   "execution_count": 170,
   "metadata": {},
   "outputs": [
    {
     "data": {
      "text/plain": [
       "'Computer'"
      ]
     },
     "execution_count": 170,
     "metadata": {},
     "output_type": "execute_result"
    }
   ],
   "source": [
    "# The first letter should be written in uppercase and the other letters in lowercase.\n",
    "\n",
    "'ComPUter'.capitalize()"
   ]
  },
  {
   "cell_type": "code",
   "execution_count": 171,
   "metadata": {},
   "outputs": [
    {
     "name": "stdout",
     "output_type": "stream",
     "text": [
      "Help on method_descriptor:\n",
      "\n",
      "replace(self, old, new, /, count=-1) unbound builtins.str method\n",
      "    Return a copy with all occurrences of substring old replaced by new.\n",
      "\n",
      "      count\n",
      "        Maximum number of occurrences to replace.\n",
      "        -1 (the default value) means replace all occurrences.\n",
      "\n",
      "    If the optional argument count is given, only the first count occurrences are\n",
      "    replaced.\n",
      "\n"
     ]
    }
   ],
   "source": [
    "help(str.replace)"
   ]
  },
  {
   "cell_type": "markdown",
   "metadata": {},
   "source": [
    "**Lists: Definition, Operations, and Methods**\n",
    "\n",
    "A list is a collection that is ordered, modifiable, and can hold different types of data."
   ]
  },
  {
   "cell_type": "markdown",
   "metadata": {},
   "source": [
    "**isalpha()**\n",
    "Checks if a string consists of only letters. Returns True or False.\n"
   ]
  },
  {
   "cell_type": "code",
   "execution_count": 173,
   "metadata": {},
   "outputs": [
    {
     "name": "stdout",
     "output_type": "stream",
     "text": [
      "True\n",
      "False\n"
     ]
    }
   ],
   "source": [
    "print(\"Hello\".isalpha()) \n",
    "print(\"Hello123\".isalpha())"
   ]
  },
  {
   "cell_type": "markdown",
   "metadata": {},
   "source": [
    "**isupper()**\n",
    "Checks if a string is in uppercase."
   ]
  },
  {
   "cell_type": "code",
   "execution_count": 174,
   "metadata": {},
   "outputs": [
    {
     "name": "stdout",
     "output_type": "stream",
     "text": [
      "True\n",
      "False\n"
     ]
    }
   ],
   "source": [
    "print(\"HELLO\".isupper()) \n",
    "print(\"Hello\".isupper()) "
   ]
  },
  {
   "cell_type": "markdown",
   "metadata": {},
   "source": [
    "**islower()**\n",
    "Checks if all letters in a string are lowercase."
   ]
  },
  {
   "cell_type": "code",
   "execution_count": 175,
   "metadata": {},
   "outputs": [
    {
     "name": "stdout",
     "output_type": "stream",
     "text": [
      "True\n",
      "False\n"
     ]
    }
   ],
   "source": [
    "print(\"hello\".islower()) \n",
    "print(\"Hello\".islower()) "
   ]
  },
  {
   "cell_type": "markdown",
   "metadata": {},
   "source": [
    "**isnumeric()**\n",
    "Checks if a string consists of only numbers."
   ]
  },
  {
   "cell_type": "code",
   "execution_count": 176,
   "metadata": {},
   "outputs": [
    {
     "name": "stdout",
     "output_type": "stream",
     "text": [
      "True\n",
      "False\n"
     ]
    }
   ],
   "source": [
    "print(\"12345\".isnumeric())\n",
    "print(\"123abc\".isnumeric()) "
   ]
  },
  {
   "cell_type": "markdown",
   "metadata": {},
   "source": [
    "**istit()**\n",
    "Checks if a string conforms to the title format. In the title format, the first letter of each word is capitalized.\n"
   ]
  },
  {
   "cell_type": "code",
   "execution_count": 177,
   "metadata": {},
   "outputs": [
    {
     "name": "stdout",
     "output_type": "stream",
     "text": [
      "True\n",
      "False\n"
     ]
    }
   ],
   "source": [
    "print(\"Python Programming\".istitle())\n",
    "print(\"python Programming\".istitle())"
   ]
  },
  {
   "cell_type": "markdown",
   "metadata": {},
   "source": [
    "**swapcase()**\n",
    "Converts uppercase letters in a string to lowercase and lowercase letters to uppercase."
   ]
  },
  {
   "cell_type": "code",
   "execution_count": 178,
   "metadata": {},
   "outputs": [
    {
     "name": "stdout",
     "output_type": "stream",
     "text": [
      "hELLO wORLD\n"
     ]
    }
   ],
   "source": [
    "print(\"Hello World\".swapcase()) "
   ]
  },
  {
   "cell_type": "markdown",
   "metadata": {},
   "source": [
    "**count(substring)**\n",
    "Finds the number of times a substring occurs within the main string."
   ]
  },
  {
   "cell_type": "code",
   "execution_count": 179,
   "metadata": {},
   "outputs": [
    {
     "name": "stdout",
     "output_type": "stream",
     "text": [
      "2\n"
     ]
    }
   ],
   "source": [
    "text = \"Python Programming Python\"\n",
    "print(text.count(\"Python\")) "
   ]
  },
  {
   "cell_type": "markdown",
   "metadata": {},
   "source": [
    "**Lists: Definition, Operations, and Methods**\n",
    "\n",
    "A list is a collection that is ordered, modifiable, and can hold different types of data."
   ]
  },
  {
   "cell_type": "markdown",
   "metadata": {},
   "source": [
    "- Collection - They can hold multiple data.\n",
    "- Mutable -> They can be changed without assignment.\n",
    "- Iterable -> We can access the elements one by one.\n",
    "- They can be indexed.\n",
    "- Flexible - Flexible\n",
    "- A list can be created in two different ways: [], list()"
   ]
  },
  {
   "cell_type": "markdown",
   "metadata": {},
   "source": [
    "**List Definition**"
   ]
  },
  {
   "cell_type": "code",
   "execution_count": 195,
   "metadata": {},
   "outputs": [],
   "source": [
    "my_list = [1, 2, 3, \"Python\", True]"
   ]
  },
  {
   "cell_type": "code",
   "execution_count": 192,
   "metadata": {},
   "outputs": [
    {
     "name": "stdout",
     "output_type": "stream",
     "text": [
      "['Istanbul', False, 0.0, 5, 0, '', 'Hello World', 90]\n",
      "Istanbul\n",
      "90\n",
      "5\n",
      "n\n",
      "8\n"
     ]
    }
   ],
   "source": [
    "list_1 = ['Istanbul', False, 0.0, 5, 0, '', 'Hello World', 90]\n",
    "print (list_1)\n",
    "print (list_1[0])\n",
    "print (list_1[-1])\n",
    "print (list_1[3])\n",
    "print (list_1[0][4])\n",
    "print (len(list_1))"
   ]
  },
  {
   "cell_type": "code",
   "execution_count": 182,
   "metadata": {},
   "outputs": [
    {
     "ename": "TypeError",
     "evalue": "'list' object is not callable",
     "output_type": "error",
     "traceback": [
      "\u001b[1;31m---------------------------------------------------------------------------\u001b[0m",
      "\u001b[1;31mTypeError\u001b[0m                                 Traceback (most recent call last)",
      "Cell \u001b[1;32mIn[182], line 4\u001b[0m\n\u001b[0;32m      1\u001b[0m \u001b[38;5;66;03m# 2. As method list()\u001b[39;00m\n\u001b[0;32m      2\u001b[0m \u001b[38;5;66;03m# The data we put in the List method must be iterable.\u001b[39;00m\n\u001b[1;32m----> 4\u001b[0m list1 \u001b[38;5;241m=\u001b[39m \u001b[38;5;28;43mlist\u001b[39;49m\u001b[43m \u001b[49m\u001b[43m(\u001b[49m\u001b[38;5;241;43m12345\u001b[39;49m\u001b[43m)\u001b[49m\n",
      "\u001b[1;31mTypeError\u001b[0m: 'list' object is not callable"
     ]
    }
   ],
   "source": [
    "# 2. As method list()\n",
    "# The data we put in the List method must be iterable.\n",
    "\n",
    "list1 = list (12345)"
   ]
  },
  {
   "cell_type": "markdown",
   "metadata": {},
   "source": [
    "**List Operations**"
   ]
  },
  {
   "cell_type": "code",
   "execution_count": 199,
   "metadata": {},
   "outputs": [
    {
     "name": "stdout",
     "output_type": "stream",
     "text": [
      "[]\n"
     ]
    }
   ],
   "source": [
    "my_empty_list = []\n",
    "print(my_empty_list) "
   ]
  },
  {
   "cell_type": "code",
   "execution_count": 200,
   "metadata": {},
   "outputs": [
    {
     "name": "stdout",
     "output_type": "stream",
     "text": [
      "[1, 2, 3, 4, 5]\n",
      "[10, 'hello', 3.14, True]\n"
     ]
    }
   ],
   "source": [
    "my_numbers = [1, 2, 3, 4, 5]\n",
    "print(my_numbers) \n",
    "\n",
    "my_mixed_list = [10, \"hello\", 3.14, True]\n",
    "print(my_mixed_list) "
   ]
  },
  {
   "cell_type": "code",
   "execution_count": 205,
   "metadata": {},
   "outputs": [],
   "source": [
    "# Repeated data of a listen can be placed.\n",
    "\n",
    "list_2 = [6, 'Melisa', 6, 6, 'Melisa', 6]"
   ]
  },
  {
   "cell_type": "code",
   "execution_count": 206,
   "metadata": {},
   "outputs": [
    {
     "data": {
      "text/plain": [
       "[[4, 9, 2, 'Bursa'], 'Burak', 'Adana', 0.0, 0, True, False, 6]"
      ]
     },
     "execution_count": 206,
     "metadata": {},
     "output_type": "execute_result"
    }
   ],
   "source": [
    "# Slicing can be done on lists, just like on strings.\n",
    "\n",
    "list_3 = [6, False, True, 0, 0.0, 'Adana', 'Burak', [4,9,2,'Bursa']]\n",
    "list_3[::-1]"
   ]
  },
  {
   "cell_type": "code",
   "execution_count": 207,
   "metadata": {},
   "outputs": [
    {
     "data": {
      "text/plain": [
       "[6, False, True, 0, 0.0, 'Adana', 'Burak', [4, 9, 2, 'Bursa']]"
      ]
     },
     "execution_count": 207,
     "metadata": {},
     "output_type": "execute_result"
    }
   ],
   "source": [
    "# This change is not permanent.\n",
    "\n",
    "list_3"
   ]
  },
  {
   "cell_type": "code",
   "execution_count": 208,
   "metadata": {},
   "outputs": [
    {
     "data": {
      "text/plain": [
       "[0, 0.0, 'Adana']"
      ]
     },
     "execution_count": 208,
     "metadata": {},
     "output_type": "execute_result"
    }
   ],
   "source": [
    "list_3[3:6]"
   ]
  },
  {
   "cell_type": "code",
   "execution_count": 209,
   "metadata": {},
   "outputs": [
    {
     "data": {
      "text/plain": [
       "[6, False, True, 0, 0.0, 'Istanbul', 'Burak', [4, 9, 2, 'Bursa']]"
      ]
     },
     "execution_count": 209,
     "metadata": {},
     "output_type": "execute_result"
    }
   ],
   "source": [
    "# Lists are mutable, we changed it permanently.\n",
    "\n",
    "list_3[5] = 'Istanbul'\n",
    "list_3"
   ]
  },
  {
   "cell_type": "code",
   "execution_count": 210,
   "metadata": {},
   "outputs": [
    {
     "data": {
      "text/plain": [
       "[6, False, True, 0, 0.0, 'Istanbul', 'Burak', [4, 9, 2, 'Bursa']]"
      ]
     },
     "execution_count": 210,
     "metadata": {},
     "output_type": "execute_result"
    }
   ],
   "source": [
    "list_3"
   ]
  },
  {
   "cell_type": "code",
   "execution_count": 212,
   "metadata": {},
   "outputs": [
    {
     "ename": "TypeError",
     "evalue": "'str' object does not support item assignment",
     "output_type": "error",
     "traceback": [
      "\u001b[1;31m---------------------------------------------------------------------------\u001b[0m",
      "\u001b[1;31mTypeError\u001b[0m                                 Traceback (most recent call last)",
      "Cell \u001b[1;32mIn[212], line 3\u001b[0m\n\u001b[0;32m      1\u001b[0m \u001b[38;5;66;03m# Strings are immutable, they cannot be changed.\u001b[39;00m\n\u001b[1;32m----> 3\u001b[0m \u001b[43mlist_3\u001b[49m\u001b[43m \u001b[49m\u001b[43m[\u001b[49m\u001b[38;5;241;43m5\u001b[39;49m\u001b[43m]\u001b[49m\u001b[43m[\u001b[49m\u001b[38;5;241;43m0\u001b[39;49m\u001b[43m]\u001b[49m \u001b[38;5;241m=\u001b[39m \u001b[38;5;124m'\u001b[39m\u001b[38;5;124mA\u001b[39m\u001b[38;5;124m'\u001b[39m\n",
      "\u001b[1;31mTypeError\u001b[0m: 'str' object does not support item assignment"
     ]
    }
   ],
   "source": [
    "# Strings are immutable, they cannot be changed.\n",
    "\n",
    "list_3 [5][0] = 'A'"
   ]
  },
  {
   "cell_type": "code",
   "execution_count": 213,
   "metadata": {},
   "outputs": [],
   "source": [
    "list = [1, 2, 3, 'Python', True]"
   ]
  },
  {
   "cell_type": "code",
   "execution_count": 214,
   "metadata": {},
   "outputs": [
    {
     "name": "stdout",
     "output_type": "stream",
     "text": [
      "[1, 2, 3, 'Python', True, 4]\n",
      "[1, 2, 'New', 3, 'Python', True, 4]\n",
      "[1, 2, 'New', 3, True, 4]\n",
      "[1, 2, 'New', 3, True]\n",
      "[1, 2, 5, 9]\n",
      "[1, 2, 'New', 3, True, 'a', 'b', 'c']\n"
     ]
    }
   ],
   "source": [
    "# Adding an element\n",
    "list.append(4)\n",
    "print(list) # Output: [1, 2, 3, 'Python', True, 4]\n",
    "\n",
    "# Inserting at a specific location\n",
    "list.insert(2, \"New\")\n",
    "print(list) # Output: [1, 2, 'New', 3, 'Python', True, 4]\n",
    "\n",
    "# Removing an element\n",
    "list.remove(\"Python\")\n",
    "print(list) # Output: [1, 2, 'New', 3, True, 4]\n",
    "\n",
    "# Removing the last element\n",
    "list.pop()\n",
    "print(list) # Output: [1, 2, 'New', 3, True]\n",
    "\n",
    "# Sorting\n",
    "numbers = [5, 2, 9, 1]\n",
    "numbers.sort()\n",
    "print(numbers) # Output: [1, 2, 5, 9]\n",
    "\n",
    "# List concatenation\n",
    "list2 = [\"a\", \"b\", \"c\"]\n",
    "concatenation = list + list2\n",
    "print(concatenation) # Output: [1, 2, 'New', 3, True, 'a', 'b', 'c']\n"
   ]
  },
  {
   "cell_type": "code",
   "execution_count": 215,
   "metadata": {},
   "outputs": [
    {
     "name": "stdout",
     "output_type": "stream",
     "text": [
      "[1, 2, 99, 3, 4, 5]\n",
      "[1, 2, 3, 4, 5]\n",
      "3\n",
      "[]\n"
     ]
    }
   ],
   "source": [
    "# List definition\n",
    "my_list = [1, 2, 3, 4, 5]\n",
    "\n",
    "# insert() - Insert an element at a specified position\n",
    "my_list.insert(2, 99)\n",
    "print(my_list) # [1, 2, 99, 3, 4, 5, 6, 7, 8]\n",
    "\n",
    "# remove() - Delete an element\n",
    "my_list.remove(99)\n",
    "print(my_list) # [1, 2, 3, 4, 5, 6, 7, 8]\n",
    "\n",
    "# index() - Returns the index of an element\n",
    "print(my_list.index(4)) # 3\n",
    "\n",
    "# clear() - Deletes all elements\n",
    "my_list.clear()\n",
    "print(my_list) # []\n"
   ]
  },
  {
   "cell_type": "code",
   "execution_count": 216,
   "metadata": {},
   "outputs": [
    {
     "data": {
      "text/plain": [
       "3"
      ]
     },
     "execution_count": 216,
     "metadata": {},
     "output_type": "execute_result"
    }
   ],
   "source": [
    "# count()\n",
    "# Checks how many characters are in the list. Returns an integer.\n",
    "\n",
    "listx = [3, 6, 9, 'a', 'b', 'c', 3, 3, 6]\n",
    "listx.count(3)"
   ]
  },
  {
   "cell_type": "code",
   "execution_count": 217,
   "metadata": {},
   "outputs": [
    {
     "data": {
      "text/plain": [
       "3"
      ]
     },
     "execution_count": 217,
     "metadata": {},
     "output_type": "execute_result"
    }
   ],
   "source": [
    "# Attention! It counted not only False values ​​but also those other than False whose mathematical value is equal to 0.\n",
    "\n",
    "listy = [0, False, True, 89, 'kemal','elena','True', 1, True, 0.0,'']\n",
    "listy.count (False)"
   ]
  },
  {
   "cell_type": "markdown",
   "metadata": {},
   "source": [
    "!!! False 0, True 1 is the basic logic, it works like this in all operations."
   ]
  },
  {
   "cell_type": "code",
   "execution_count": 218,
   "metadata": {},
   "outputs": [
    {
     "data": {
      "text/plain": [
       "3"
      ]
     },
     "execution_count": 218,
     "metadata": {},
     "output_type": "execute_result"
    }
   ],
   "source": [
    "listy.count (True)"
   ]
  },
  {
   "cell_type": "markdown",
   "metadata": {},
   "source": [
    "**Tuples: Immutable Collections**\n",
    "\n",
    "A tuple is an ordered but immutable collection of data."
   ]
  },
  {
   "cell_type": "markdown",
   "metadata": {},
   "source": [
    "Bunch Definition"
   ]
  },
  {
   "cell_type": "code",
   "execution_count": 219,
   "metadata": {},
   "outputs": [],
   "source": [
    "tuple = (1, 2, 3, \"Python\")"
   ]
  },
  {
   "cell_type": "markdown",
   "metadata": {},
   "source": [
    "**Tuple Properties**\n",
    "\n",
    "- Cannot be changed: You will get an error when elements are added or deleted.\n",
    "- Indexable: Accessible by index."
   ]
  },
  {
   "cell_type": "code",
   "execution_count": 220,
   "metadata": {},
   "outputs": [
    {
     "name": "stdout",
     "output_type": "stream",
     "text": [
      "1\n"
     ]
    }
   ],
   "source": [
    "print(tuple[0]) "
   ]
  },
  {
   "cell_type": "markdown",
   "metadata": {},
   "source": [
    "**Bunch Methods**"
   ]
  },
  {
   "cell_type": "code",
   "execution_count": 221,
   "metadata": {},
   "outputs": [
    {
     "name": "stdout",
     "output_type": "stream",
     "text": [
      "4\n",
      "True\n"
     ]
    }
   ],
   "source": [
    "# Number of elements\n",
    "print(len(tuple)) \n",
    "\n",
    "# Existence of an element\n",
    "print(\"Python\" in tuple)"
   ]
  },
  {
   "cell_type": "code",
   "execution_count": 222,
   "metadata": {},
   "outputs": [
    {
     "name": "stdout",
     "output_type": "stream",
     "text": [
      "1\n",
      "2\n"
     ]
    }
   ],
   "source": [
    "# Tuple definition\n",
    "my_tuple = (1, 2, 3, 4, 5)\n",
    "\n",
    "# count() - Returns the number of times an element occurs in the tuple\n",
    "print(my_tuple.count(2))\n",
    "\n",
    "# index() - Returns the index of an element\n",
    "print(my_tuple.index(3)) "
   ]
  },
  {
   "cell_type": "markdown",
   "metadata": {},
   "source": [
    "**Dictionaries (dict): Key-Value Pairs**\n",
    "\n",
    "A dictionary is a collection of data consisting of key and value pairs."
   ]
  },
  {
   "cell_type": "markdown",
   "metadata": {},
   "source": [
    "- Mutable -> changeable.\n",
    "- Elements are in the form key: value.\n",
    "- Keys must be unique, if you define more than one, it will overwrite.\n",
    "- Values ​​do not have to be unique, repeated data can be used.\n",
    "- Unordered is not indexed as 0, 1, we can call values ​​using their keys.\n",
    "- {}, dict() -> We can create a dictionary."
   ]
  },
  {
   "cell_type": "markdown",
   "metadata": {},
   "source": [
    "**Dictionary Definition**"
   ]
  },
  {
   "cell_type": "code",
   "execution_count": 223,
   "metadata": {},
   "outputs": [],
   "source": [
    "dictionary = {\"name\": \"Alice\", \"age\": 25, \"occupation\": \"Engineer\"}"
   ]
  },
  {
   "cell_type": "markdown",
   "metadata": {},
   "source": [
    "**Sözlük İşlemleri**"
   ]
  },
  {
   "cell_type": "code",
   "execution_count": 225,
   "metadata": {},
   "outputs": [
    {
     "name": "stdout",
     "output_type": "stream",
     "text": [
      "Alice\n",
      "{'name': 'Alice', 'age': 25, 'occupation': 'Engineer', 'city': 'Istanbul'}\n",
      "{'name': 'Alice', 'occupation': 'Engineer', 'city': 'Istanbul'}\n",
      "dict_keys(['name', 'occupation', 'city'])\n",
      "dict_values(['Alice', 'Engineer', 'Istanbul'])\n"
     ]
    }
   ],
   "source": [
    "# Access the value\n",
    "print(dictionary[\"name\"]) \n",
    "\n",
    "# Add new key-value\n",
    "dictionary[\"city\"] = \"Istanbul\"\n",
    "print(dictionary) \n",
    "\n",
    "# Delete key or value\n",
    "dictionary.pop(\"age\")\n",
    "print(dictionary) \n",
    "\n",
    "# Get all keys or values\n",
    "print(dictionary.keys()) \n",
    "print(dictionary.values()) "
   ]
  },
  {
   "cell_type": "code",
   "execution_count": 226,
   "metadata": {},
   "outputs": [
    {
     "name": "stdout",
     "output_type": "stream",
     "text": [
      "dict_keys(['name', 'age', 'city'])\n",
      "dict_values(['Alice', 25, 'New York'])\n",
      "dict_items([('name', 'Alice'), ('age', 25), ('city', 'New York')])\n",
      "Alice\n",
      "{'name': 'Alice', 'age': 26, 'city': 'New York', 'country': 'USA'}\n",
      "New York\n",
      "{'name': 'Alice', 'age': 26, 'country': 'USA'}\n",
      "('country', 'USA')\n",
      "{}\n"
     ]
    }
   ],
   "source": [
    "# Define a dictionary\n",
    "my_dict = {'name': 'Alice', 'age': 25, 'city': 'New York'}\n",
    "\n",
    "# keys() - Returns the keys\n",
    "print(my_dict.keys()) # dict_keys(['name', 'age', 'city'])\n",
    "\n",
    "# values() - Returns the values\n",
    "print(my_dict.values()) # dict_values(['Alice', 25, 'New York'])\n",
    "\n",
    "# items() - Returns key-value pairs\n",
    "print(my_dict.items()) # dict_items([('name', 'Alice'), ('age', 25), ('city', 'New York')])\n",
    "\n",
    "# get() - Returns the value of a specific key\n",
    "print(my_dict.get('name')) # Alice\n",
    "\n",
    "# update() - Compare the dictionary with another dictionary updates\n",
    "my_dict.update({'age': 26, 'country': 'USA'})\n",
    "print(my_dict) # {'name': 'Alice', 'age': 26, 'city': 'New York', 'country': 'USA'}\n",
    "\n",
    "# pop() - Deletes the specified key and returns its value\n",
    "removed = my_dict.pop('city')\n",
    "print(removed) # New York\n",
    "print(my_dict) # {'name': 'Alice', 'age': 26, 'country': 'USA'}\n",
    "\n",
    "# popitem() - Deletes the last added key-value pair\n",
    "print(my_dict.popitem()) # ('country', 'USA')\n",
    "\n",
    "# clear() - Deletes all elements\n",
    "my_dict.clear()\n",
    "print(my_dict) # {}\n"
   ]
  },
  {
   "cell_type": "code",
   "execution_count": 227,
   "metadata": {},
   "outputs": [
    {
     "name": "stdout",
     "output_type": "stream",
     "text": [
      "dict_keys(['father', 'mother', 'sibling'])\n",
      "dict_values([{'name': 'Jason', 'age': 50, 'job': 'Retired'}, {'name': 'Anna', 'age': 45, 'job': 'Teacher'}, {'name': 'Jennifer', 'age': 20, 'job': 'ML Engineer'}])\n"
     ]
    }
   ],
   "source": [
    "# Nested dicts\n",
    "my_family = {'father' : {'name':'Jason', 'age':50, 'job':'Retired'}, \n",
    "             'mother' : {'name':'Anna', 'age':45, 'job':'Teacher'},\n",
    "             'sibling' :{'name':'Jennifer', 'age':20, 'job':'ML Engineer'}}\n",
    "\n",
    "print (my_family.keys())\n",
    "print (my_family.values())"
   ]
  },
  {
   "cell_type": "markdown",
   "metadata": {},
   "source": [
    "**Sets (set and frozenset): Unique Collections**\n",
    "\n",
    "Sets are composed of unordered and unique elements. A set is mutable, while a frozenset is immutable."
   ]
  },
  {
   "cell_type": "markdown",
   "metadata": {},
   "source": [
    "- Corresponds to the subject of sets in mathematics.\n",
    "- Its elements are unique.\n",
    "- Unordered -> There is no specific order.\n",
    "- It cannot be indexed\n",
    "- It is iterable -> Elements can be accessed one by one\n",
    "- Mutable -> Can be changed without assignment\n",
    "- {}, set()\n",
    "- The elements of a set must be hashable, that is, it cannot contain elements that can be changed like lists or other sets."
   ]
  },
  {
   "cell_type": "markdown",
   "metadata": {},
   "source": [
    "**Cluster Definition**"
   ]
  },
  {
   "cell_type": "code",
   "execution_count": 228,
   "metadata": {},
   "outputs": [
    {
     "name": "stdout",
     "output_type": "stream",
     "text": [
      "{1, 2, 3, 4}\n"
     ]
    }
   ],
   "source": [
    "string = {1, 2, 3, 3, 4}\n",
    "print(string) "
   ]
  },
  {
   "cell_type": "code",
   "execution_count": 229,
   "metadata": {},
   "outputs": [
    {
     "name": "stdout",
     "output_type": "stream",
     "text": [
      "{1, 2, 3, 4, 5}\n",
      "{3}\n",
      "{1, 2}\n"
     ]
    }
   ],
   "source": [
    "kit1 = {1, 2, 3}\n",
    "kit2 = {3, 4, 5}\n",
    "\n",
    "# Union\n",
    "print(kit1 | kit2) \n",
    "\n",
    "# Intersection\n",
    "print(kit1 & kit2) \n",
    "# Difference\n",
    "print(kit1 - kit2) "
   ]
  },
  {
   "cell_type": "code",
   "execution_count": 230,
   "metadata": {},
   "outputs": [
    {
     "name": "stdout",
     "output_type": "stream",
     "text": [
      "{1, 2, 3, 4, 5, 6}\n",
      "{1, 2, 4, 5, 6}\n",
      "1\n",
      "{2, 4, 5, 6}\n",
      "{2, 4, 5, 6, 7}\n",
      "{4, 5, 6}\n",
      "{2}\n",
      "False\n",
      "set()\n",
      "frozenset({1, 2, 3})\n"
     ]
    }
   ],
   "source": [
    "# Define a set\n",
    "my_set = {1, 2, 3, 4, 5}\n",
    "\n",
    "# add() - Adds an element\n",
    "my_set.add(6)\n",
    "print(my_set) # {1, 2, 3, 4, 5, 6}\n",
    "\n",
    "# remove() - Deletes an element (If there is no element, it gives an error)\n",
    "my_set.remove(3)\n",
    "print(my_set) # {1, 2, 4, 5, 6}\n",
    "\n",
    "# discard() - Deletes an element (If there is no element, it does not give an error)\n",
    "my_set.discard(10)\n",
    "\n",
    "# pop() - Deletes a random element and returns\n",
    "print(my_set.pop()) # Example: 1\n",
    "print(my_set) # Remaining set\n",
    "\n",
    "# union() - Union (same as set1 | set2)\n",
    "set2 = {4, 5, 6, 7}\n",
    "print(my_set.union(set2)) # {2, 4, 5, 6, 7}\n",
    "\n",
    "# intersection() - Intersection (same as set1 & set2)\n",
    "print(my_set.intersection(set2)) # {4, 5, 6}\n",
    "\n",
    "# difference() - Difference (same as set1 - set2)\n",
    "print(my_set.difference(set2)) # {2}\n",
    "\n",
    "# issubset() - Subset check\n",
    "print({1, 2}.issubset(my_set)) # True or False\n",
    "\n",
    "# clear() - Clears all elements\n",
    "my_set.clear()\n",
    "print(my_set) # set()\n",
    "\n",
    "# frozenset - Unchangeable set\n",
    "my_frozen_set = frozenset([1, 2, 3])\n",
    "print(my_frozen_set) # frozenset({1, 2, 3})"
   ]
  },
  {
   "cell_type": "code",
   "execution_count": 231,
   "metadata": {},
   "outputs": [
    {
     "name": "stdout",
     "output_type": "stream",
     "text": [
      "{'A', 'l', 'c', 'i', 'e'}\n",
      "{'k', 'a', 'e', 'J'}\n"
     ]
    }
   ],
   "source": [
    "# update\n",
    "set1 = set('Alice')\n",
    "set2 = set('Jake')\n",
    "print (set1)\n",
    "print(set2)"
   ]
  },
  {
   "cell_type": "code",
   "execution_count": 232,
   "metadata": {},
   "outputs": [
    {
     "data": {
      "text/plain": [
       "{'A', 'J', 'a', 'c', 'e', 'i', 'k', 'l'}"
      ]
     },
     "execution_count": 232,
     "metadata": {},
     "output_type": "execute_result"
    }
   ],
   "source": [
    "# Update and something new happened, added set2 to set1.\n",
    "\n",
    "set1.update(set2)\n",
    "set1"
   ]
  },
  {
   "cell_type": "markdown",
   "metadata": {},
   "source": [
    "**Summary**\n",
    "\n",
    "These data structures are one of Python's powerful features, and each is designed for different purposes:\n",
    "\n",
    "- String: Text processing.\n",
    "- List: Dynamic, ordered data collection.\n",
    "- Tuple: Immutable, ordered data collection.\n",
    "- Dict: Key-value mapping.\n",
    "- Set: Unique, unordered data collection.\n",
    "\n",
    "You can write efficient and organized code using each data structure according to your needs."
   ]
  },
  {
   "cell_type": "markdown",
   "metadata": {},
   "source": [
    "### Union, Intersection, Difference "
   ]
  },
  {
   "cell_type": "markdown",
   "metadata": {},
   "source": [
    "**Union**\n",
    "Definition:\n",
    "\n",
    "Union combines the elements of two or more sets and creates a new set in which each element appears only once.\n",
    "\n",
    "Usage:\n",
    "set1.union(set2) or set1 | set2"
   ]
  },
  {
   "cell_type": "code",
   "execution_count": 233,
   "metadata": {},
   "outputs": [
    {
     "name": "stdout",
     "output_type": "stream",
     "text": [
      "{1, 2, 3, 4, 5}\n",
      "{1, 2, 3, 4, 5}\n"
     ]
    }
   ],
   "source": [
    "set1 = {1, 2, 3}\n",
    "set2 = {3, 4, 5}\n",
    "\n",
    "# Union\n",
    "union_set = set1.union(set2)\n",
    "print(union_set) \n",
    "\n",
    "# Alternatively\n",
    "print(set1 | set2) "
   ]
  },
  {
   "cell_type": "markdown",
   "metadata": {},
   "source": [
    "**Intersection**\n",
    "\n",
    "Definition:\n",
    "Intersection finds the common elements of two sets and returns a new set consisting of these elements.\n",
    "\n",
    "Usage:\n",
    "set1.intersection(set2) or set1 & set2"
   ]
  },
  {
   "cell_type": "code",
   "execution_count": 234,
   "metadata": {},
   "outputs": [
    {
     "name": "stdout",
     "output_type": "stream",
     "text": [
      "Your message: Hi!\n",
      "Total Word Count: 1, Total Sentence Count: 1, Character Count: 3\n"
     ]
    }
   ],
   "source": [
    "# Analyze the text message provided by the user and provide the following information:\n",
    "\n",
    "# Total number of words\n",
    "# Total number of sentences\n",
    "# Total number of characters\n",
    "\n",
    "message = input(\"Please enter your message:\")\n",
    "\n",
    "word_count = len(message.split())\n",
    "\n",
    "sentence_count = message.count(\"!\") + message.count(\"?\") + message.count(\".\")\n",
    "\n",
    "char_count = len(message)\n",
    "\n",
    "print(f\"Your message: {message}\")\n",
    "print(f\"Total Word Count: {word_count}, Total Sentence Count: {sentence_count}, Character Count: {char_count}\")"
   ]
  },
  {
   "cell_type": "markdown",
   "metadata": {},
   "source": [
    "**Difference**\n",
    "\n",
    "Definition:\n",
    "Difference returns elements that are in one set but not in the other.\n",
    "\n",
    "Usage:\n",
    "set1.difference(set2) or set1 - set2"
   ]
  },
  {
   "cell_type": "code",
   "execution_count": 235,
   "metadata": {},
   "outputs": [
    {
     "name": "stdout",
     "output_type": "stream",
     "text": [
      "{1, 2}\n",
      "{1, 2}\n"
     ]
    }
   ],
   "source": [
    "set1 = {1, 2, 3}\n",
    "set2 = {3, 4, 5}\n",
    "\n",
    "# Difference (Difference)\n",
    "difference_set = set1.difference(set2)\n",
    "print(difference_set) # {1, 2} (elements in set1 but not in set2)\n",
    "\n",
    "# Alternatively\n",
    "print(set1 - set2) # {1, 2}"
   ]
  },
  {
   "cell_type": "code",
   "execution_count": 236,
   "metadata": {},
   "outputs": [
    {
     "name": "stdout",
     "output_type": "stream",
     "text": [
      "{1, 2, 3, 4, 5, 6, 7}\n",
      "set()\n",
      "{1, 2}\n"
     ]
    }
   ],
   "source": [
    "set1 = {1, 2, 3}\n",
    "set2 = {3, 4, 5}\n",
    "set3 = {5, 6, 7}\n",
    "\n",
    "# Union\n",
    "print(set1.union(set2, set3)) # {1, 2, 3, 4, 5, 6, 7}\n",
    "\n",
    "# Intersection\n",
    "print(set1.intersection(set2, set3)) # {} (None in common)\n",
    "\n",
    "# Difference\n",
    "print(set1.difference(set2, set3)) # {1, 2}\n"
   ]
  },
  {
   "cell_type": "code",
   "execution_count": 239,
   "metadata": {},
   "outputs": [
    {
     "name": "stdout",
     "output_type": "stream",
     "text": [
      "'level' is a palindrome.\n"
     ]
    }
   ],
   "source": [
    "# Creating a palindrome query\n",
    "\n",
    "entry = input(\"Please enter a word or sentence:\")\n",
    "\n",
    "clean_entry = entry.lower().replace(\" \", \"\")\n",
    "\n",
    "reverse_entry = clean_entry[::-1]\n",
    "\n",
    "if clean_entry == reverse_entry:\n",
    "    print(f\"'{entry}' is a palindrome.\")\n",
    "else:\n",
    "    print(f\"'{entry}' is not a palindrome.\")"
   ]
  },
  {
   "cell_type": "code",
   "execution_count": 240,
   "metadata": {},
   "outputs": [
    {
     "name": "stdout",
     "output_type": "stream",
     "text": [
      "Exam and Homework List:\n",
      "Task 1: Math Exam, Deadline: 2024-10-15, Completed: False\n",
      "Task 2: Physics Homework, Deadline: 2024-10-25, Completed: False\n",
      "Task 3: Chemistry Project, Deadline: 2024-10-20, Completed: False\n",
      "Updated Exam and Homework List:\n",
      "Task 1: Math Exam, Deadline: 2024-10-15, Completed: False\n",
      "Task 2: Physics Homework, Deadline: 2024-10-25, Completed: True\n",
      "Task 3: Chemistry Project, Deadline: 2024-10-20, Completed: False\n"
     ]
    }
   ],
   "source": [
    "# An application that allows students to list and track their exam dates, homework, and projects\n",
    "\n",
    "task = []\n",
    "\n",
    "task.append([\"Math Exam\", \"2024-10-15\", False])\n",
    "task.append([\"Physics Homework\", \"2024-10-25\", False])\n",
    "task.append([\"Chemistry Project\", \"2024-10-20\", False])\n",
    "\n",
    "print(\"Exam and Homework List:\")\n",
    "print(f\"Task 1: {task[0][0]}, Deadline: {task[0][1]}, Completed: {task[0][2]}\")\n",
    "print(f\"Task 2: {task[1][0]}, Deadline: {task[1][1]}, Completed: {task[1][2]}\")\n",
    "print(f\"Task 3: {task[2][0]}, Deadline: {task[2][1]}, Completed: {task[2][2]}\")\n",
    "\n",
    "task[1][2] = True\n",
    "\n",
    "print(\"Updated Exam and Homework List:\")\n",
    "print(f\"Task 1: {task[0][0]}, Deadline: {task[0][1]}, Completed: {task[0][2]}\")\n",
    "print(f\"Task 2: {task[1][0]}, Deadline: {task[1][1]}, Completed: {task[1][2]}\")\n",
    "print(f\"Task 3: {task[2][0]}, Deadline: {task[2][1]}, Completed: {task[2][2]}\")"
   ]
  }
 ],
 "metadata": {
  "kernelspec": {
   "display_name": "Python 3",
   "language": "python",
   "name": "python3"
  },
  "language_info": {
   "codemirror_mode": {
    "name": "ipython",
    "version": 3
   },
   "file_extension": ".py",
   "mimetype": "text/x-python",
   "name": "python",
   "nbconvert_exporter": "python",
   "pygments_lexer": "ipython3",
   "version": "3.13.3"
  }
 },
 "nbformat": 4,
 "nbformat_minor": 2
}
